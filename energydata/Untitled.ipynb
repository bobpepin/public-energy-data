{
 "cells": [
  {
   "cell_type": "code",
   "execution_count": 111,
   "id": "40fa75dd",
   "metadata": {},
   "outputs": [],
   "source": [
    "from itertools import islice\n",
    "\n",
    "import importlib\n",
    "import energinet\n",
    "energinet = importlib.reload(energinet)"
   ]
  },
  {
   "cell_type": "code",
   "execution_count": 112,
   "id": "534bd1fc",
   "metadata": {},
   "outputs": [],
   "source": [
    "resource_id = \"productionmunicipalityhour\"\n",
    "descriptor = {\n",
    "    \"resource_id\": resource_id\n",
    "}"
   ]
  },
  {
   "cell_type": "code",
   "execution_count": 113,
   "id": "c131aa39",
   "metadata": {},
   "outputs": [],
   "source": [
    "session = energinet.EnergiDataServiceDk(descriptor)"
   ]
  },
  {
   "cell_type": "code",
   "execution_count": 114,
   "id": "acc5c287",
   "metadata": {},
   "outputs": [
    {
     "data": {
      "text/plain": [
       "{'field_names': ['datetime_start',\n",
       "  'datetime_end',\n",
       "  'region_code',\n",
       "  '_id',\n",
       "  'HourUTC',\n",
       "  'HourDK',\n",
       "  'MunicipalityNo',\n",
       "  'SolarMWh',\n",
       "  'OffshoreWindLt100MW_MWh',\n",
       "  'OffshoreWindGe100MW_MWh',\n",
       "  'OnshoreWindMWh',\n",
       "  'ThermalPowerMWh'],\n",
       " 'count': 1327440}"
      ]
     },
     "execution_count": 114,
     "metadata": {},
     "output_type": "execute_result"
    }
   ],
   "source": [
    "session.fetch_metadata()"
   ]
  },
  {
   "cell_type": "code",
   "execution_count": 115,
   "id": "853ffe5e",
   "metadata": {},
   "outputs": [
    {
     "data": {
      "text/plain": [
       "1024"
      ]
     },
     "execution_count": 115,
     "metadata": {},
     "output_type": "execute_result"
    }
   ],
   "source": [
    "it = iter(energinet.fetch(descriptor))\n",
    "records = list(islice(it, 1024))\n",
    "len(records)"
   ]
  },
  {
   "cell_type": "code",
   "execution_count": 117,
   "id": "98b69e05",
   "metadata": {},
   "outputs": [
    {
     "data": {
      "text/plain": [
       "[{'_id': 2921,\n",
       "  'HourUTC': '2022-01-01T07:00:00',\n",
       "  'HourDK': '2022-01-01T08:00:00',\n",
       "  'MunicipalityNo': '201',\n",
       "  'SolarMWh': 0.001,\n",
       "  'OffshoreWindLt100MW_MWh': 0,\n",
       "  'OffshoreWindGe100MW_MWh': 0,\n",
       "  'OnshoreWindMWh': 0.001356,\n",
       "  'ThermalPowerMWh': 0,\n",
       "  'datetime_start': '2022-01-01T07:00:00',\n",
       "  'datetime_end': '2022-01-01T08:00:00',\n",
       "  'region_code': 'DK-mun-201'},\n",
       " {'_id': 4094,\n",
       "  'HourUTC': '2022-01-01T07:00:00',\n",
       "  'HourDK': '2022-01-01T08:00:00',\n",
       "  'MunicipalityNo': '630',\n",
       "  'SolarMWh': 0.004,\n",
       "  'OffshoreWindLt100MW_MWh': 0,\n",
       "  'OffshoreWindGe100MW_MWh': 0,\n",
       "  'OnshoreWindMWh': 5.020909,\n",
       "  'ThermalPowerMWh': 1.287424,\n",
       "  'datetime_start': '2022-01-01T07:00:00',\n",
       "  'datetime_end': '2022-01-01T08:00:00',\n",
       "  'region_code': 'DK-mun-630'},\n",
       " {'_id': 4462,\n",
       "  'HourUTC': '2022-01-01T07:00:00',\n",
       "  'HourDK': '2022-01-01T08:00:00',\n",
       "  'MunicipalityNo': '766',\n",
       "  'SolarMWh': 0.001,\n",
       "  'OffshoreWindLt100MW_MWh': 0,\n",
       "  'OffshoreWindGe100MW_MWh': 0,\n",
       "  'OnshoreWindMWh': 2.960144,\n",
       "  'ThermalPowerMWh': 0.00042,\n",
       "  'datetime_start': '2022-01-01T07:00:00',\n",
       "  'datetime_end': '2022-01-01T08:00:00',\n",
       "  'region_code': 'DK-mun-766'},\n",
       " {'_id': 3335,\n",
       "  'HourUTC': '2022-01-01T07:00:00',\n",
       "  'HourDK': '2022-01-01T08:00:00',\n",
       "  'MunicipalityNo': '329',\n",
       "  'SolarMWh': 0.003,\n",
       "  'OffshoreWindLt100MW_MWh': 0,\n",
       "  'OffshoreWindGe100MW_MWh': 0,\n",
       "  'OnshoreWindMWh': 0.554798,\n",
       "  'ThermalPowerMWh': 0,\n",
       "  'datetime_start': '2022-01-01T07:00:00',\n",
       "  'datetime_end': '2022-01-01T08:00:00',\n",
       "  'region_code': 'DK-mun-329'},\n",
       " {'_id': 4301,\n",
       "  'HourUTC': '2022-01-01T07:00:00',\n",
       "  'HourDK': '2022-01-01T08:00:00',\n",
       "  'MunicipalityNo': '730',\n",
       "  'SolarMWh': 0.003,\n",
       "  'OffshoreWindLt100MW_MWh': 0,\n",
       "  'OffshoreWindGe100MW_MWh': 0,\n",
       "  'OnshoreWindMWh': 2.47493,\n",
       "  'ThermalPowerMWh': 31.71121,\n",
       "  'datetime_start': '2022-01-01T07:00:00',\n",
       "  'datetime_end': '2022-01-01T08:00:00',\n",
       "  'region_code': 'DK-mun-730'}]"
      ]
     },
     "execution_count": 117,
     "metadata": {},
     "output_type": "execute_result"
    }
   ],
   "source": [
    "records[-5:]"
   ]
  }
 ],
 "metadata": {
  "kernelspec": {
   "display_name": "Python 3 (ipykernel)",
   "language": "python",
   "name": "python3"
  },
  "language_info": {
   "codemirror_mode": {
    "name": "ipython",
    "version": 3
   },
   "file_extension": ".py",
   "mimetype": "text/x-python",
   "name": "python",
   "nbconvert_exporter": "python",
   "pygments_lexer": "ipython3",
   "version": "3.9.7"
  }
 },
 "nbformat": 4,
 "nbformat_minor": 5
}
