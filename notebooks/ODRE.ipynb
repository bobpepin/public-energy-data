{
 "cells": [
  {
   "cell_type": "code",
   "execution_count": 1,
   "id": "e6943513",
   "metadata": {},
   "outputs": [],
   "source": [
    "import sys\n",
    "if \"..\" not in sys.path:\n",
    "    sys.path.append(\"..\")\n",
    "\n",
    "import energydata.odre\n",
    "\n",
    "from tqdm.notebook import tqdm"
   ]
  },
  {
   "cell_type": "code",
   "execution_count": 2,
   "id": "6cdb7136",
   "metadata": {},
   "outputs": [],
   "source": [
    "descriptor = {\n",
    "    \"dataset\": \"consommation-quotidienne-brute-regionale\",\n",
    "    \"start_datetime\": \"2018-03-01\",\n",
    "    \"end_datetime\": \"2018-03-07\"\n",
    "}"
   ]
  },
  {
   "cell_type": "code",
   "execution_count": 3,
   "id": "4d1e599c",
   "metadata": {},
   "outputs": [],
   "source": [
    "# descriptor = {\n",
    "#     \"dataset\": \"eco2mix-regional-cons-def\",\n",
    "#     \"start_datetime\": \"2018-03-01\",\n",
    "#     \"end_datetime\": \"2018-04-01\"\n",
    "# }"
   ]
  },
  {
   "cell_type": "code",
   "execution_count": 4,
   "id": "4d52f597",
   "metadata": {},
   "outputs": [],
   "source": [
    "# descriptor = {\n",
    "#     \"dataset\": \"extremas-quotidiens-flux-commerciaux\",\n",
    "#     \"start_datetime\": \"2018-03-01\",\n",
    "#     \"end_datetime\": \"2018-04-01\"\n",
    "# }"
   ]
  },
  {
   "cell_type": "code",
   "execution_count": 5,
   "id": "f0b56d20",
   "metadata": {},
   "outputs": [],
   "source": [
    "dataset = energydata.odre.ODREDataset(descriptor)"
   ]
  },
  {
   "cell_type": "code",
   "execution_count": 6,
   "id": "7d3b56e9",
   "metadata": {},
   "outputs": [
    {
     "data": {
      "text/plain": [
       "{'fields': ['date_heure',\n",
       "  'date',\n",
       "  'heure',\n",
       "  'code_insee_region',\n",
       "  'region',\n",
       "  'consommation_brute_gaz_grtgaz',\n",
       "  'statut_grtgaz',\n",
       "  'consommation_brute_gaz_terega',\n",
       "  'statut_terega',\n",
       "  'consommation_brute_gaz_totale',\n",
       "  'consommation_brute_electricite_rte',\n",
       "  'statut_rte',\n",
       "  'consommation_brute_totale',\n",
       "  'consumption_electricity',\n",
       "  'consumption_gaz',\n",
       "  'region_code',\n",
       "  'start_datetime',\n",
       "  'end_datetime'],\n",
       " 'records_total': 2103552}"
      ]
     },
     "execution_count": 6,
     "metadata": {},
     "output_type": "execute_result"
    }
   ],
   "source": [
    "metadata = dataset.fetch_metadata()\n",
    "metadata"
   ]
  },
  {
   "cell_type": "code",
   "execution_count": 6,
   "id": "1782139c",
   "metadata": {
    "scrolled": true
   },
   "outputs": [
    {
     "data": {
      "application/vnd.jupyter.widget-view+json": {
       "model_id": "3f3684d9a69746a087899345cd4b7976",
       "version_major": 2,
       "version_minor": 0
      },
      "text/plain": [
       "0it [00:00, ?it/s]"
      ]
     },
     "metadata": {},
     "output_type": "display_data"
    },
    {
     "name": "stdout",
     "output_type": "stream",
     "text": [
      "CPU times: user 1.16 s, sys: 136 ms, total: 1.3 s\n",
      "Wall time: 10 s\n"
     ]
    }
   ],
   "source": [
    "%%time\n",
    "record_iter = dataset.fetch_records()\n",
    "records = list(tqdm(record_iter))"
   ]
  },
  {
   "cell_type": "code",
   "execution_count": 7,
   "id": "507dff69",
   "metadata": {},
   "outputs": [],
   "source": [
    "# import pdb\n",
    "# pdb.pm()"
   ]
  },
  {
   "cell_type": "code",
   "execution_count": 9,
   "id": "89fb4b92",
   "metadata": {},
   "outputs": [
    {
     "data": {
      "text/plain": [
       "{'date': '2018-01-03',\n",
       " 'heure': '01:00',\n",
       " 'consommation_brute_electricite_rte': 7200,\n",
       " 'region': 'Grand Est',\n",
       " 'date_heure': '2018-03-01T00:00:00Z',\n",
       " 'statut_grtgaz': 'Définitif',\n",
       " 'consommation_brute_gaz_grtgaz': 15962,\n",
       " 'statut_rte': 'Définitif',\n",
       " 'consommation_brute_gaz_totale': 15962,\n",
       " 'code_insee_region': '44',\n",
       " 'consommation_brute_totale': 23162,\n",
       " 'recordid': '13fbda6d32d6bae6fbdd797be31058958c374ec5',\n",
       " 'record_timestamp': '2019-09-19T20:26:19.584Z',\n",
       " 'start_datetime': '2018-03-01T01:00:00+01:00',\n",
       " 'end_datetime': '2018-03-01T01:30:00+01:00',\n",
       " 'region_code': 'fr_reg_44',\n",
       " 'consumption_electricity': 7200,\n",
       " 'consumption_gaz': 15962}"
      ]
     },
     "execution_count": 9,
     "metadata": {},
     "output_type": "execute_result"
    }
   ],
   "source": [
    "record = records[1]\n",
    "record"
   ]
  },
  {
   "cell_type": "code",
   "execution_count": null,
   "id": "bd1aa510",
   "metadata": {},
   "outputs": [],
   "source": []
  }
 ],
 "metadata": {
  "kernelspec": {
   "display_name": "Python 3 (ipykernel)",
   "language": "python",
   "name": "python3"
  },
  "language_info": {
   "codemirror_mode": {
    "name": "ipython",
    "version": 3
   },
   "file_extension": ".py",
   "mimetype": "text/x-python",
   "name": "python",
   "nbconvert_exporter": "python",
   "pygments_lexer": "ipython3",
   "version": "3.9.14"
  }
 },
 "nbformat": 4,
 "nbformat_minor": 5
}
