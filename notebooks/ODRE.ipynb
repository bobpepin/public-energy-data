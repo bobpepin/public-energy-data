{
 "cells": [
  {
   "cell_type": "code",
   "execution_count": 1,
   "id": "e6943513",
   "metadata": {},
   "outputs": [],
   "source": [
    "import sys\n",
    "if \"..\" not in sys.path:\n",
    "    sys.path.append(\"..\")\n",
    "\n",
    "import energydata.odre\n",
    "\n",
    "from tqdm.notebook import tqdm"
   ]
  },
  {
   "cell_type": "code",
   "execution_count": 2,
   "id": "6cdb7136",
   "metadata": {},
   "outputs": [],
   "source": [
    "# descriptor = {\n",
    "#     \"dataset\": \"consommation-quotidienne-brute-regionale\",\n",
    "#     \"start_datetime\": \"2018-03-01\",\n",
    "#     \"end_datetime\": \"2018-04-01\"\n",
    "# }"
   ]
  },
  {
   "cell_type": "code",
   "execution_count": 3,
   "id": "4d1e599c",
   "metadata": {},
   "outputs": [],
   "source": [
    "# descriptor = {\n",
    "#     \"dataset\": \"eco2mix-regional-cons-def\",\n",
    "#     \"start_datetime\": \"2018-03-01\",\n",
    "#     \"end_datetime\": \"2018-04-01\"\n",
    "# }"
   ]
  },
  {
   "cell_type": "code",
   "execution_count": 4,
   "id": "4d52f597",
   "metadata": {},
   "outputs": [],
   "source": [
    "descriptor = {\n",
    "    \"dataset\": \"extremas-quotidiens-flux-commerciaux\",\n",
    "    \"start_datetime\": \"2018-03-01\",\n",
    "    \"end_datetime\": \"2018-04-01\"\n",
    "}"
   ]
  },
  {
   "cell_type": "code",
   "execution_count": 5,
   "id": "f0b56d20",
   "metadata": {},
   "outputs": [],
   "source": [
    "dataset = energydata.odre.ODREDataset(descriptor)\n",
    "record_iter = dataset.fetch_records()"
   ]
  },
  {
   "cell_type": "code",
   "execution_count": 6,
   "id": "1782139c",
   "metadata": {
    "scrolled": true
   },
   "outputs": [
    {
     "data": {
      "application/vnd.jupyter.widget-view+json": {
       "model_id": "2ef8b37e2ff0496a9bc343edb566e9c1",
       "version_major": 2,
       "version_minor": 0
      },
      "text/plain": [
       "0it [00:00, ?it/s]"
      ]
     },
     "metadata": {},
     "output_type": "display_data"
    },
    {
     "name": "stdout",
     "output_type": "stream",
     "text": [
      "CPU times: user 372 ms, sys: 86.4 ms, total: 458 ms\n",
      "Wall time: 1.9 s\n"
     ]
    }
   ],
   "source": [
    "%%time\n",
    "records = list(tqdm(record_iter))"
   ]
  },
  {
   "cell_type": "code",
   "execution_count": 7,
   "id": "7d3b56e9",
   "metadata": {},
   "outputs": [
    {
     "data": {
      "text/plain": [
       "{'fields': [{'name': 'date',\n",
       "   'annotations': [{'args': ['day'], 'name': 'timeserie_precision'},\n",
       "    {'args': ['-alphanum'], 'name': 'facetsort'},\n",
       "    {'name': 'timerangeFilter'},\n",
       "    {'name': 'facet'}],\n",
       "   'label': 'Date',\n",
       "   'type': 'date'},\n",
       "  {'name': 'solde_min',\n",
       "   'description': \"Bilan sur l'ensemble des frontières.\\nBalance at all borders\\nMin Balance (MW)\",\n",
       "   'annotations': [{'args': ['-count'], 'name': 'facetsort'}],\n",
       "   'label': 'Solde min (MW)',\n",
       "   'type': 'double'},\n",
       "  {'name': 'solde_max',\n",
       "   'description': \"Bilan sur l'ensemble des frontières.\\nBalance at all borders\\nax Balance (MW)\",\n",
       "   'annotations': [{'args': ['-count'], 'name': 'facetsort'}],\n",
       "   'label': 'Solde max (MW)',\n",
       "   'type': 'double'},\n",
       "  {'name': 'temperature_moy',\n",
       "   'description': 'Mean temperature (°C)',\n",
       "   'annotations': [{'args': [1], 'name': 'decimals'}],\n",
       "   'label': 'Temperature moy (°C)',\n",
       "   'type': 'double'}],\n",
       " 'dataset_records_count': 3803}"
      ]
     },
     "execution_count": 7,
     "metadata": {},
     "output_type": "execute_result"
    }
   ],
   "source": [
    "metadata = dataset.fetch_metadata()\n",
    "metadata"
   ]
  },
  {
   "cell_type": "code",
   "execution_count": 8,
   "id": "89fb4b92",
   "metadata": {},
   "outputs": [
    {
     "data": {
      "text/plain": [
       "{'solde_min': 5699.0,\n",
       " 'date': '2012-01-05',\n",
       " 'solde_max': 9921.0,\n",
       " 'temperature_moy': 9.2,\n",
       " 'recordid': '5cc2486c101e85cc1ba0b43cf44ba5663690e15f',\n",
       " 'record_timestamp': '2020-04-01T19:30:02.444Z',\n",
       " 'start_datetime': '2012-01-05T00:00:00+01:00',\n",
       " 'end_datetime': '2012-01-06T00:00:00+01:00'}"
      ]
     },
     "execution_count": 8,
     "metadata": {},
     "output_type": "execute_result"
    }
   ],
   "source": [
    "record = records[1]\n",
    "record"
   ]
  },
  {
   "cell_type": "code",
   "execution_count": null,
   "id": "bd1aa510",
   "metadata": {},
   "outputs": [],
   "source": []
  }
 ],
 "metadata": {
  "kernelspec": {
   "display_name": "Python 3 (ipykernel)",
   "language": "python",
   "name": "python3"
  },
  "language_info": {
   "codemirror_mode": {
    "name": "ipython",
    "version": 3
   },
   "file_extension": ".py",
   "mimetype": "text/x-python",
   "name": "python",
   "nbconvert_exporter": "python",
   "pygments_lexer": "ipython3",
   "version": "3.9.13"
  }
 },
 "nbformat": 4,
 "nbformat_minor": 5
}
