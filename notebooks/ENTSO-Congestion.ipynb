{
 "cells": [
  {
   "cell_type": "code",
   "execution_count": 1,
   "id": "76a7c50b",
   "metadata": {},
   "outputs": [],
   "source": [
    "import json\n",
    "import urllib.request\n",
    "import urllib.parse"
   ]
  },
  {
   "cell_type": "code",
   "execution_count": 2,
   "id": "97044527",
   "metadata": {},
   "outputs": [],
   "source": [
    "url = \"https://transparency.entsoe.eu/congestion-management/r2/countertrading/getDataTableData/\""
   ]
  },
  {
   "cell_type": "code",
   "execution_count": 3,
   "id": "c1363431",
   "metadata": {},
   "outputs": [],
   "source": [
    "# original_query_str = \"name=&defaultValue=false&viewType=TABLE&areaType=BORDER_BZN&atch=false&dateTime.dateTime=01.01.2023+00:00|UTC|DAY&dateTime.endDateTime=24.05.2023+00:00|UTC|DAY&biddingZone.values=CTY|10Y1001A1001A65H!BZN_BZN|10YDK-1--------W_BZN_BZN|10Y1001A1001A82H&dv-datatable_length=25\""
   ]
  },
  {
   "cell_type": "code",
   "execution_count": 4,
   "id": "e59be324",
   "metadata": {},
   "outputs": [],
   "source": [
    "query_parameters = {\n",
    "    \"name\": \"\",\n",
    "    'defaultValue': 'false',\n",
    " 'viewType': 'TABLE',\n",
    " 'areaType': 'BORDER_BZN',\n",
    " 'atch': 'false',\n",
    " 'dateTime.dateTime': '01.01.2023 00:00|UTC|DAY',\n",
    " 'dateTime.endDateTime': '24.05.2023 00:00|UTC|DAY',\n",
    " 'biddingZone.values': 'CTY|10Y1001A1001A65H!BZN_BZN|10YDK-1--------W_BZN_BZN|10Y1001A1001A82H',\n",
    " 'dv-datatable_length': '100'}\n",
    "query_str = urllib.parse.urlencode(query_parameters, safe=\"|:!\")"
   ]
  },
  {
   "cell_type": "code",
   "execution_count": 5,
   "id": "50640c4c",
   "metadata": {},
   "outputs": [],
   "source": [
    "payload = {\n",
    "  \"sEcho\": 4,\n",
    "  \"iColumns\": 6,\n",
    "  \"sColumns\": \"timeInterval,action,direction,countertrading,reason,\",\n",
    "  \"iDisplayStart\": 0,\n",
    "  \"iDisplayLength\": 100,\n",
    "  \"amDataProp\": [\n",
    "    0,\n",
    "    1,\n",
    "    2,\n",
    "    3,\n",
    "    4,\n",
    "    5\n",
    "  ]\n",
    "}\n",
    "payload_data = json.dumps(payload).encode(\"utf-8\")"
   ]
  },
  {
   "cell_type": "code",
   "execution_count": 6,
   "id": "88d3099a",
   "metadata": {},
   "outputs": [],
   "source": [
    "headers = {\"Content-Type\": \"application/json;charset=UTF-8\"}\n",
    "request = urllib.request.Request(f\"{url}?{query_str}\", headers=headers, method=\"POST\", data=payload_data)"
   ]
  },
  {
   "cell_type": "code",
   "execution_count": 7,
   "id": "aa27ec02",
   "metadata": {},
   "outputs": [
    {
     "data": {
      "text/plain": [
       "294"
      ]
     },
     "execution_count": 7,
     "metadata": {},
     "output_type": "execute_result"
    }
   ],
   "source": [
    "response = urllib.request.urlopen(request)\n",
    "data = json.load(response)\n",
    "aaData = data[\"aaData\"]\n",
    "count = len(data[\"aaData\"])\n",
    "total = data[\"iTotalRecords\"]\n",
    "while count < total:\n",
    "    payload[\"iDisplayStart\"] = count\n",
    "    payload_data = json.dumps(payload).encode(\"utf-8\")\n",
    "    request = urllib.request.Request(f\"{url}?{query_str}\", headers=headers, method=\"POST\", data=payload_data)\n",
    "    response = urllib.request.urlopen(request)\n",
    "    data = json.load(response)\n",
    "    count += len(data[\"aaData\"])\n",
    "    aaData += data[\"aaData\"]\n",
    "len(aaData)"
   ]
  },
  {
   "cell_type": "code",
   "execution_count": null,
   "id": "37e19613",
   "metadata": {},
   "outputs": [],
   "source": []
  }
 ],
 "metadata": {
  "kernelspec": {
   "display_name": "Python 3 (ipykernel)",
   "language": "python",
   "name": "python3"
  },
  "language_info": {
   "codemirror_mode": {
    "name": "ipython",
    "version": 3
   },
   "file_extension": ".py",
   "mimetype": "text/x-python",
   "name": "python",
   "nbconvert_exporter": "python",
   "pygments_lexer": "ipython3",
   "version": "3.10.9"
  }
 },
 "nbformat": 4,
 "nbformat_minor": 5
}
