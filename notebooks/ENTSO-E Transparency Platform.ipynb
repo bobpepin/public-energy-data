{
 "cells": [
  {
   "cell_type": "code",
   "execution_count": 21,
   "id": "be720511",
   "metadata": {},
   "outputs": [],
   "source": [
    "import urllib.request\n",
    "import urllib.parse\n",
    "import http.cookiejar\n",
    "import openpyxl\n",
    "import json\n",
    "import datetime\n",
    "import io\n",
    "from bs4 import BeautifulSoup"
   ]
  },
  {
   "cell_type": "code",
   "execution_count": 22,
   "id": "86c02776",
   "metadata": {},
   "outputs": [],
   "source": [
    "cookie_handler = urllib.request.HTTPCookieProcessor()\n",
    "opener = urllib.request.build_opener(cookie_handler)\n",
    "response = opener.open(\"https://keycloak-transparency.entsoe.eu/realms/tp/protocol/openid-connect/auth?response_type=code&client_id=tp-web&redirect_uri=https%3A%2F%2Ftransparency.entsoe.eu%2Fsso%2Flogin&state=706544b9-1294-4824-acaa-12d5935d17a8&login=true&scope=openid\")\n",
    "response_html = BeautifulSoup(response, \"html.parser\")"
   ]
  },
  {
   "cell_type": "code",
   "execution_count": 24,
   "id": "5625c18a",
   "metadata": {},
   "outputs": [],
   "source": [
    "login_url = response_html.find(\"form\")[\"action\"]\n",
    "with open(\"entso-credentials.json\") as fh:\n",
    "    credentials = json.load(fh)\n",
    "\n",
    "form_fields = {\n",
    "    \"username\": credentials[\"username\"],\n",
    "    \"password\": credentials[\"password\"],\n",
    "    \"credentialId\": \"\"\n",
    "}\n",
    "form_data = urllib.parse.urlencode(form_fields).encode(\"utf-8\")\n",
    "headers = {\n",
    "    \"Content-Type\": \"application/x-www-form-urlencoded\",\n",
    "}\n",
    "login_request = urllib.request.Request(login_url, method=\"POST\", data=form_data, headers=headers)"
   ]
  },
  {
   "cell_type": "code",
   "execution_count": 25,
   "id": "86cfbadc",
   "metadata": {},
   "outputs": [],
   "source": [
    "try:\n",
    "    response = opener.open(login_request)\n",
    "except urllib.request.HTTPError as error:\n",
    "    if not error.url.startswith(\"https://transparency.entsoe.eu/sso/login\"):\n",
    "        raise"
   ]
  },
  {
   "cell_type": "code",
   "execution_count": 26,
   "id": "36bfb194",
   "metadata": {},
   "outputs": [],
   "source": [
    "def download_date(opener, dt):\n",
    "    date_str = dt.strftime(\"%d.%m.%Y\")\n",
    "    xlsx_url = f\"https://transparency.entsoe.eu/generation/r2/dayAheadGenerationForecastWindAndSolar/export?name=&defaultValue=true&viewType=TABLE&areaType=BZN&atch=false&dateTime.dateTime={date_str}+00%3A00%7CCET%7CDAYTIMERANGE&dateTime.endDateTime={date_str}+00%3A00%7CCET%7CDAYTIMERANGE&area.values=CTY%7C10YES-REE------0!BZN%7C10YES-REE------0&productionType.values=B16&productionType.values=B18&productionType.values=B19&processType.values=A18&processType.values=A01&processType.values=A40&dateTime.timezone=CET_CEST&dateTime.timezone_input=CET+(UTC%2B1)+%2F+CEST+(UTC%2B2)&dataItem=ALL&timeRange=DEFAULT&exportType=XLSX\"\n",
    "    with opener.open(xlsx_url) as fh:\n",
    "        byte_data = fh.read()\n",
    "    buf = io.BytesIO(byte_data)\n",
    "    wb = openpyxl.open(buf)\n",
    "    return wb"
   ]
  },
  {
   "cell_type": "code",
   "execution_count": 27,
   "id": "3ca2e641",
   "metadata": {},
   "outputs": [
    {
     "data": {
      "text/plain": [
       "<openpyxl.workbook.workbook.Workbook at 0x1ee439abf40>"
      ]
     },
     "execution_count": 27,
     "metadata": {},
     "output_type": "execute_result"
    }
   ],
   "source": [
    "download_date(opener, dt)"
   ]
  },
  {
   "cell_type": "code",
   "execution_count": 29,
   "id": "7850b122",
   "metadata": {},
   "outputs": [
    {
     "data": {
      "text/plain": [
       "[('Generation Forecasts - Day Ahead for Wind and Solar',\n",
       "  None,\n",
       "  None,\n",
       "  None,\n",
       "  None,\n",
       "  None,\n",
       "  None,\n",
       "  None,\n",
       "  None,\n",
       "  None),\n",
       " ('Day-ahead Generation Forecasts for Wind and Solar [14.1.D]',\n",
       "  None,\n",
       "  None,\n",
       "  None,\n",
       "  None,\n",
       "  None,\n",
       "  None,\n",
       "  None,\n",
       "  None,\n",
       "  None),\n",
       " ('BZN|ES 01.06.2022 00:00 - 02.06.2022 00:00 (CET/CEST)',\n",
       "  None,\n",
       "  None,\n",
       "  None,\n",
       "  None,\n",
       "  None,\n",
       "  None,\n",
       "  None,\n",
       "  None,\n",
       "  None),\n",
       " (None, None, None, None, None, None, None, None, None, None),\n",
       " ('MTU', 'BZN|ES', None, None, 'BZN|ES', None, None, 'BZN|ES', None, None),\n",
       " (None,\n",
       "  'Generation Forecast',\n",
       "  None,\n",
       "  None,\n",
       "  'Generation Forecast',\n",
       "  None,\n",
       "  None,\n",
       "  'Generation Forecast',\n",
       "  None,\n",
       "  None),\n",
       " (None,\n",
       "  'Solar',\n",
       "  None,\n",
       "  None,\n",
       "  'Wind Offshore',\n",
       "  None,\n",
       "  None,\n",
       "  'Wind Onshore',\n",
       "  None,\n",
       "  None),\n",
       " (None,\n",
       "  'Day Ahead',\n",
       "  'Intraday',\n",
       "  'Current',\n",
       "  'Day Ahead',\n",
       "  'Intraday',\n",
       "  'Current',\n",
       "  'Day Ahead',\n",
       "  'Intraday',\n",
       "  'Current'),\n",
       " ('00:00 - 00:15',\n",
       "  '443',\n",
       "  '633',\n",
       "  '633',\n",
       "  'n/e',\n",
       "  'n/e',\n",
       "  'n/e',\n",
       "  '3504',\n",
       "  '3051',\n",
       "  '3051'),\n",
       " ('00:15 - 00:30',\n",
       "  '400',\n",
       "  '631',\n",
       "  '631',\n",
       "  'n/e',\n",
       "  'n/e',\n",
       "  'n/e',\n",
       "  '3503',\n",
       "  '3031',\n",
       "  '3031')]"
      ]
     },
     "execution_count": 29,
     "metadata": {},
     "output_type": "execute_result"
    }
   ],
   "source": [
    "list(wb.active.values)[:10]"
   ]
  }
 ],
 "metadata": {
  "kernelspec": {
   "display_name": "Python 3 (ipykernel)",
   "language": "python",
   "name": "python3"
  },
  "language_info": {
   "codemirror_mode": {
    "name": "ipython",
    "version": 3
   },
   "file_extension": ".py",
   "mimetype": "text/x-python",
   "name": "python",
   "nbconvert_exporter": "python",
   "pygments_lexer": "ipython3",
   "version": "3.10.9"
  }
 },
 "nbformat": 4,
 "nbformat_minor": 5
}
