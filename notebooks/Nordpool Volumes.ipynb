{
 "cells": [
  {
   "cell_type": "code",
   "execution_count": 3,
   "id": "30645841",
   "metadata": {},
   "outputs": [],
   "source": [
    "import urllib.request\n",
    "import json\n",
    "import re\n",
    "import datetime\n",
    "from sys import intern\n",
    "import pytz\n",
    "\n",
    "# def fetch_date(page, date, entity):\n",
    "def fetch_date(page, date):\n",
    "    date_str = datetime.datetime.fromisoformat(date).strftime(\"%d-%m-%Y\")\n",
    "    url = f\"https://www.nordpoolgroup.com/api/marketdata/page/{page}?currency=,EUR,EUR,EUR&endDate={date_str}\"\n",
    "    response = urllib.request.urlopen(url)\n",
    "    data = json.load(response)\n",
    "    return data\n",
    "\n",
    "def extract_rows(data):\n",
    "    rows = []\n",
    "    for row in data[\"data\"][\"Rows\"]:\n",
    "        if row[\"IsExtraRow\"] or row[\"Parent\"] is not None:\n",
    "            continue\n",
    "        row_dict = {}\n",
    "        for column in row[\"Columns\"]:\n",
    "            if column[\"Name\"] == \"\":\n",
    "                continue\n",
    "            row_dict[column[\"Name\"]] = column[\"Value\"]\n",
    "        if len(row_dict) > 0:\n",
    "            rows.append(row_dict)    \n",
    "    return rows\n",
    "\n",
    "def extract_dates(product_str):\n",
    "    tz = pytz.timezone(\"Europe/Copenhagen\")\n",
    "    date_match = re.match(r\"PH-(\\d{8})-(\\d{2})(X?)\", product_str)\n",
    "    date_str, hour_str, dst_flag = date_match.groups()\n",
    "    is_dst = (dst_flag != \"X\")\n",
    "    date = datetime.datetime.strptime(date_str, \"%Y%m%d\")\n",
    "    start_time = datetime.time(hour=int(hour_str)-1)\n",
    "    dt = datetime.datetime.combine(date, start_time)\n",
    "    start_loc = tz.localize(dt, is_dst=is_dst) # is_dst is ignored unless there is ambiguity\n",
    "    end_loc = (start_loc.astimezone(datetime.timezone.utc) + datetime.timedelta(hours=1)).astimezone(tz)\n",
    "    return start_loc.isoformat(), end_loc.isoformat()\n",
    "\n",
    "numerical_columns = [\"High\", \"Low\", \"Last\", \"Avg\", \"Volume\"]\n",
    "\n",
    "def format_row(row):\n",
    "    record = {}\n",
    "    dt_start, dt_end = extract_dates(row[\"Product\"])\n",
    "    record[\"datetime_start\"] = dt_start\n",
    "    record[\"datetime_end\"] = dt_end\n",
    "    for col, val in row.items():\n",
    "        if col in numerical_columns:\n",
    "            val = float(val.replace(\",\", \".\"))\n",
    "        record[intern(col)] = val\n",
    "    return record\n",
    "\n",
    "class NordpoolSpot:\n",
    "    def __init__(self, descriptor):\n",
    "        self.descriptor = descriptor\n",
    "        if descriptor.get(\"dataset\") != \"intraday\":\n",
    "            raise ValueError('descriptor[\"dataset\"] needs to have value \"intraday\"')\n",
    "        step = datetime.timedelta(days=1)\n",
    "        start_date = datetime.datetime.fromisoformat(descriptor[\"start_datetime\"])\n",
    "        end_date = datetime.datetime.fromisoformat(descriptor[\"end_datetime\"])\n",
    "        dates = [start_date + i*step for i in range(int((end_date - start_date)/step)+1)]\n",
    "        self.request_dates = [date.isoformat() for date in dates]\n",
    "        self.zone = descriptor[\"zone\"]\n",
    "        \n",
    "    def fetch_metadata(self):\n",
    "        return {\n",
    "            \"fields\": [\"datetime_start\", \"datetime_end\", \"Product\"] + numerical_columns\n",
    "        }\n",
    "    \n",
    "    def fetch_data(self):\n",
    "        for request_date in self.request_dates:\n",
    "            data = fetch_date(request_date, self.zone)\n",
    "            rows = extract_rows(data)\n",
    "            for row in rows:\n",
    "                record = format_row(row)\n",
    "                record[\"zone\"] = self.zone\n",
    "                yield record"
   ]
  },
  {
   "cell_type": "code",
   "execution_count": 29,
   "id": "45e46e0f",
   "metadata": {},
   "outputs": [],
   "source": [
    "def extract_volume_rows(data):\n",
    "    tz = pytz.timezone(\"Europe/Copenhagen\")\n",
    "    rows = []\n",
    "    for row in data[\"data\"][\"Rows\"]:\n",
    "        if row[\"IsExtraRow\"] or row[\"Parent\"] is not None:\n",
    "            continue\n",
    "        dt_start = datetime.datetime.fromisoformat(row[\"StartTime\"])\n",
    "        dt_end = datetime.datetime.fromisoformat(row[\"EndTime\"])\n",
    "        row_dict = {\n",
    "            \"datetime_start\": tz.localize(dt_start).isoformat(), \n",
    "            \"datetime_end\": tz.localize(dt_end).isoformat()\n",
    "        }\n",
    "        for column in row[\"Columns\"]:\n",
    "            if column[\"Name\"] == \"\":\n",
    "                continue\n",
    "            row_dict[column[\"Name\"]] = column[\"Value\"]\n",
    "        if len(row_dict) > 0:\n",
    "            rows.append(row_dict)\n",
    "    return rows\n"
   ]
  },
  {
   "cell_type": "code",
   "execution_count": 26,
   "id": "7be27712",
   "metadata": {},
   "outputs": [],
   "source": [
    "data = fetch_date(66, \"2022-12-14\")"
   ]
  },
  {
   "cell_type": "code",
   "execution_count": null,
   "id": "ffdb496c",
   "metadata": {},
   "outputs": [],
   "source": [
    "data"
   ]
  },
  {
   "cell_type": "code",
   "execution_count": null,
   "id": "6602e50f",
   "metadata": {},
   "outputs": [],
   "source": [
    "rows = extract_volume_rows(data)\n",
    "rows"
   ]
  },
  {
   "cell_type": "code",
   "execution_count": 34,
   "id": "ba4f6d07",
   "metadata": {},
   "outputs": [],
   "source": [
    "def format_volume_row(row):\n",
    "    record = {k: float(v.replace(\",\", \".\").replace(\" \", \"\")) if not k.startswith(\"datetime_\") else v for k, v in row.items()}\n",
    "    return record"
   ]
  },
  {
   "cell_type": "code",
   "execution_count": 36,
   "id": "6e86c71d",
   "metadata": {},
   "outputs": [],
   "source": [
    "combined_rows = [format_volume_row(row) for row in rows]"
   ]
  },
  {
   "cell_type": "code",
   "execution_count": 40,
   "id": "9a0907e9",
   "metadata": {},
   "outputs": [],
   "source": [
    "def explode_row(row):\n",
    "    tmpl = {\"datetime_start\": row[\"datetime_start\"], \"datetime_end\": row[\"datetime_end\"]}\n",
    "    for k, v in row.items():\n",
    "        m = re.match(r\"(.*) (Buy|Sell)\", k)\n",
    "        if m:\n",
    "            yield {**tmpl, \"transaction\": m.group(2), \"bidding_zone\": m.group(1)}"
   ]
  },
  {
   "cell_type": "code",
   "execution_count": 43,
   "id": "9e56f998",
   "metadata": {},
   "outputs": [],
   "source": [
    "transaction_volumes = [r1 for row in combined_rows for r1 in explode_row(row)]"
   ]
  },
  {
   "cell_type": "code",
   "execution_count": 45,
   "id": "06ccb4d9",
   "metadata": {},
   "outputs": [
    {
     "data": {
      "text/plain": [
       "[{'datetime_start': '2022-12-14T00:00:00+01:00',\n",
       "  'datetime_end': '2022-12-14T01:00:00+01:00',\n",
       "  'transaction': 'Buy',\n",
       "  'bidding_zone': 'NO1'},\n",
       " {'datetime_start': '2022-12-14T00:00:00+01:00',\n",
       "  'datetime_end': '2022-12-14T01:00:00+01:00',\n",
       "  'transaction': 'Sell',\n",
       "  'bidding_zone': 'NO1'},\n",
       " {'datetime_start': '2022-12-14T00:00:00+01:00',\n",
       "  'datetime_end': '2022-12-14T01:00:00+01:00',\n",
       "  'transaction': 'Buy',\n",
       "  'bidding_zone': 'NO2'},\n",
       " {'datetime_start': '2022-12-14T00:00:00+01:00',\n",
       "  'datetime_end': '2022-12-14T01:00:00+01:00',\n",
       "  'transaction': 'Sell',\n",
       "  'bidding_zone': 'NO2'},\n",
       " {'datetime_start': '2022-12-14T00:00:00+01:00',\n",
       "  'datetime_end': '2022-12-14T01:00:00+01:00',\n",
       "  'transaction': 'Buy',\n",
       "  'bidding_zone': 'NO3'}]"
      ]
     },
     "execution_count": 45,
     "metadata": {},
     "output_type": "execute_result"
    }
   ],
   "source": [
    "transaction_volumes[:5]"
   ]
  }
 ],
 "metadata": {
  "kernelspec": {
   "display_name": "Python 3 (ipykernel)",
   "language": "python",
   "name": "python3"
  },
  "language_info": {
   "codemirror_mode": {
    "name": "ipython",
    "version": 3
   },
   "file_extension": ".py",
   "mimetype": "text/x-python",
   "name": "python",
   "nbconvert_exporter": "python",
   "pygments_lexer": "ipython3",
   "version": "3.10.9"
  }
 },
 "nbformat": 4,
 "nbformat_minor": 5
}
