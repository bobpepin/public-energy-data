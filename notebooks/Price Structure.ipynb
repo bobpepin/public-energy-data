{
 "cells": [
  {
   "cell_type": "code",
   "execution_count": 20,
   "id": "14a24009",
   "metadata": {},
   "outputs": [],
   "source": [
    "import urllib.request\n",
    "import urllib.parse\n",
    "import json\n",
    "import re\n",
    "import datetime\n",
    "from collections import namedtuple\n",
    "from sys import intern\n",
    "import pytz\n",
    "import sqltables\n",
    "import plotly.graph_objs as go\n",
    "from tqdm.notebook import tqdm\n",
    "import numpy as np"
   ]
  },
  {
   "cell_type": "code",
   "execution_count": 2,
   "id": "506a71cb",
   "metadata": {},
   "outputs": [],
   "source": [
    "import sys\n",
    "sys.path.append(\"..\")\n",
    "import energydata.esett\n",
    "import energydata.energinet\n",
    "import energydata.nordpoolspot"
   ]
  },
  {
   "cell_type": "code",
   "execution_count": 3,
   "id": "84f24169",
   "metadata": {},
   "outputs": [],
   "source": [
    "db = sqltables.Database()\n",
    "\n",
    "def create_table_from_dicts(db, dicts):\n",
    "    column_types = {}\n",
    "    for k, v in dicts[0].items():\n",
    "        column_types[k] = \"float\" if type(v) in {float, int} else \"text\"\n",
    "    column_names = list(column_types.keys())\n",
    "    rows = []\n",
    "    for d in dicts:\n",
    "        row = [d[k] for k in column_names]\n",
    "        rows.append(row)\n",
    "    return db.create_table(rows=rows, column_names=column_names, column_types=column_types)\n",
    "\n",
    "def extract_columns(table):\n",
    "    it = iter(table)\n",
    "    return dict(zip(it.column_names, zip(*it)))"
   ]
  },
  {
   "cell_type": "code",
   "execution_count": 4,
   "id": "98a3d068",
   "metadata": {},
   "outputs": [],
   "source": [
    "start_datetime = \"2023-05-01T00:00:00\"\n",
    "end_datetime = \"2023-05-31T23:00:00\"\n",
    "price_areas = [\"DK1\", \"DK2\"]"
   ]
  },
  {
   "cell_type": "code",
   "execution_count": 5,
   "id": "60e8c4cd",
   "metadata": {},
   "outputs": [
    {
     "data": {
      "text/markdown": [
       "|datetime\\_start|datetime\\_end|balancing\\_price|price\\_area|imbalance\\_direction|\n",
       "|-|-|-|-|-|\n",
       "|\\'2023\\-05\\-01T00\\:00\\:00\\+02\\:00\\'|\\'2023\\-05\\-01T01\\:00\\:00\\+02\\:00\\'|96\\.0|\\'DK1\\'|\\-1\\.0|\n",
       "|\\'2023\\-05\\-01T01\\:00\\:00\\+02\\:00\\'|\\'2023\\-05\\-01T02\\:00\\:00\\+02\\:00\\'|96\\.0|\\'DK1\\'|\\-1\\.0|\n",
       "|\\'2023\\-05\\-01T02\\:00\\:00\\+02\\:00\\'|\\'2023\\-05\\-01T03\\:00\\:00\\+02\\:00\\'|95\\.49|\\'DK1\\'|0\\.0|\n",
       "|\\'2023\\-05\\-01T03\\:00\\:00\\+02\\:00\\'|\\'2023\\-05\\-01T04\\:00\\:00\\+02\\:00\\'|89\\.98|\\'DK1\\'|0\\.0|\n",
       "|\\'2023\\-05\\-01T04\\:00\\:00\\+02\\:00\\'|\\'2023\\-05\\-01T05\\:00\\:00\\+02\\:00\\'|87\\.29|\\'DK1\\'|0\\.0|\n",
       "|\\'2023\\-05\\-01T05\\:00\\:00\\+02\\:00\\'|\\'2023\\-05\\-01T06\\:00\\:00\\+02\\:00\\'|88\\.0|\\'DK1\\'|0\\.0|\n",
       "|\\'2023\\-05\\-01T06\\:00\\:00\\+02\\:00\\'|\\'2023\\-05\\-01T07\\:00\\:00\\+02\\:00\\'|95\\.0|\\'DK1\\'|1\\.0|\n",
       "|\\'2023\\-05\\-01T07\\:00\\:00\\+02\\:00\\'|\\'2023\\-05\\-01T08\\:00\\:00\\+02\\:00\\'|109\\.5|\\'DK1\\'|1\\.0|\n",
       "|\\'2023\\-05\\-01T08\\:00\\:00\\+02\\:00\\'|\\'2023\\-05\\-01T09\\:00\\:00\\+02\\:00\\'|105\\.0|\\'DK1\\'|1\\.0|\n",
       "|\\'2023\\-05\\-01T09\\:00\\:00\\+02\\:00\\'|\\'2023\\-05\\-01T10\\:00\\:00\\+02\\:00\\'|73\\.0|\\'DK1\\'|\\-1\\.0|\n",
       "|\\'2023\\-05\\-01T10\\:00\\:00\\+02\\:00\\'|\\'2023\\-05\\-01T11\\:00\\:00\\+02\\:00\\'|74\\.29|\\'DK1\\'|0\\.0|\n",
       "|\\'2023\\-05\\-01T11\\:00\\:00\\+02\\:00\\'|\\'2023\\-05\\-01T12\\:00\\:00\\+02\\:00\\'|28\\.18|\\'DK1\\'|\\-1\\.0|\n",
       "|\\'2023\\-05\\-01T12\\:00\\:00\\+02\\:00\\'|\\'2023\\-05\\-01T13\\:00\\:00\\+02\\:00\\'|18\\.0|\\'DK1\\'|\\-1\\.0|\n",
       "|\\'2023\\-05\\-01T13\\:00\\:00\\+02\\:00\\'|\\'2023\\-05\\-01T14\\:00\\:00\\+02\\:00\\'|23\\.0|\\'DK1\\'|\\-1\\.0|\n",
       "|\\'2023\\-05\\-01T14\\:00\\:00\\+02\\:00\\'|\\'2023\\-05\\-01T15\\:00\\:00\\+02\\:00\\'|29\\.99|\\'DK1\\'|0\\.0|\n",
       "|\\'2023\\-05\\-01T15\\:00\\:00\\+02\\:00\\'|\\'2023\\-05\\-01T16\\:00\\:00\\+02\\:00\\'|80\\.0|\\'DK1\\'|1\\.0|\n",
       "|...|...|...|...|...|\n"
      ],
      "text/plain": [
       "<sqltables.sqltables.Table at 0x2836ecc9300>"
      ]
     },
     "execution_count": 5,
     "metadata": {},
     "output_type": "execute_result"
    }
   ],
   "source": [
    "esett_datasets = []\n",
    "\n",
    "for price_area in price_areas:\n",
    "    esett_descriptor = {\n",
    "        \"start_datetime\": start_datetime,\n",
    "        \"end_datetime\": end_datetime,\n",
    "        \"MBA\": price_area,\n",
    "        \"dataset\": \"Prices\"\n",
    "    }\n",
    "\n",
    "    esett_dataset = energydata.esett.ESett(esett_descriptor)\n",
    "    esett_datasets.append(esett_dataset)\n",
    "\n",
    "esett_data = [row for dataset in esett_datasets for row in dataset.fetch_data()]\n",
    "\n",
    "balancing_price_data = create_table_from_dicts(db, esett_data)\n",
    "balancing_prices = balancing_price_data.view(\"\"\"\n",
    "select datetime_start, datetime_end, \"imblSalesPrice\" as balancing_price, mba as price_area, \"mainDirRegPowerPerMBA\" as imbalance_direction from _\n",
    "\"\"\")\n",
    "balancing_prices"
   ]
  },
  {
   "cell_type": "code",
   "execution_count": 6,
   "id": "c09f4fe1",
   "metadata": {},
   "outputs": [
    {
     "data": {
      "text/markdown": [
       "|timestamp|mba|imblSalesPrice|imblPurchasePrice|upRegPrice|downRegPrice|mainDirRegPowerPerMBA|valueOfAvoidedActivation|incentivisingComponent|datetime\\_start|datetime\\_end|\n",
       "|-|-|-|-|-|-|-|-|-|-|-|\n",
       "|\\'2023\\-05\\-01T00\\:00\\:00\\'|\\'DK1\\'|96\\.0|96\\.0|109\\.9|96\\.0|\\-1\\.0|None|None|\\'2023\\-05\\-01T00\\:00\\:00\\+02\\:00\\'|\\'2023\\-05\\-01T01\\:00\\:00\\+02\\:00\\'|\n",
       "|\\'2023\\-05\\-01T00\\:00\\:00\\'|\\'DK2\\'|96\\.0|96\\.0|109\\.9|96\\.0|\\-1\\.0|None|None|\\'2023\\-05\\-01T00\\:00\\:00\\+02\\:00\\'|\\'2023\\-05\\-01T01\\:00\\:00\\+02\\:00\\'|\n",
       "|\\'2023\\-05\\-01T01\\:00\\:00\\'|\\'DK1\\'|96\\.0|96\\.0|99\\.9|96\\.0|\\-1\\.0|None|None|\\'2023\\-05\\-01T01\\:00\\:00\\+02\\:00\\'|\\'2023\\-05\\-01T02\\:00\\:00\\+02\\:00\\'|\n",
       "|\\'2023\\-05\\-01T01\\:00\\:00\\'|\\'DK2\\'|79\\.09|79\\.09|79\\.09|79\\.09|0\\.0|None|None|\\'2023\\-05\\-01T01\\:00\\:00\\+02\\:00\\'|\\'2023\\-05\\-01T02\\:00\\:00\\+02\\:00\\'|\n",
       "|\\'2023\\-05\\-01T02\\:00\\:00\\'|\\'DK1\\'|95\\.49|95\\.49|95\\.49|95\\.49|0\\.0|\\'101\\.95\\'|\\'\\-6\\.46\\'|\\'2023\\-05\\-01T02\\:00\\:00\\+02\\:00\\'|\\'2023\\-05\\-01T03\\:00\\:00\\+02\\:00\\'|\n",
       "|\\'2023\\-05\\-01T02\\:00\\:00\\'|\\'DK2\\'|77\\.94|77\\.94|77\\.94|77\\.94|0\\.0|\\'76\\.0\\'|\\'1\\.94\\'|\\'2023\\-05\\-01T02\\:00\\:00\\+02\\:00\\'|\\'2023\\-05\\-01T03\\:00\\:00\\+02\\:00\\'|\n",
       "|\\'2023\\-05\\-01T03\\:00\\:00\\'|\\'DK1\\'|89\\.98|89\\.98|89\\.98|89\\.98|0\\.0|None|None|\\'2023\\-05\\-01T03\\:00\\:00\\+02\\:00\\'|\\'2023\\-05\\-01T04\\:00\\:00\\+02\\:00\\'|\n",
       "|\\'2023\\-05\\-01T03\\:00\\:00\\'|\\'DK2\\'|75\\.11|75\\.11|75\\.11|75\\.11|0\\.0|None|None|\\'2023\\-05\\-01T03\\:00\\:00\\+02\\:00\\'|\\'2023\\-05\\-01T04\\:00\\:00\\+02\\:00\\'|\n",
       "|\\'2023\\-05\\-01T04\\:00\\:00\\'|\\'DK1\\'|87\\.29|87\\.29|87\\.29|87\\.29|0\\.0|None|None|\\'2023\\-05\\-01T04\\:00\\:00\\+02\\:00\\'|\\'2023\\-05\\-01T05\\:00\\:00\\+02\\:00\\'|\n",
       "|\\'2023\\-05\\-01T04\\:00\\:00\\'|\\'DK2\\'|75\\.03|75\\.03|75\\.03|75\\.03|0\\.0|None|None|\\'2023\\-05\\-01T04\\:00\\:00\\+02\\:00\\'|\\'2023\\-05\\-01T05\\:00\\:00\\+02\\:00\\'|\n",
       "|\\'2023\\-05\\-01T05\\:00\\:00\\'|\\'DK1\\'|88\\.0|88\\.0|88\\.0|88\\.0|0\\.0|\\'91\\.23\\'|\\'\\-3\\.23\\'|\\'2023\\-05\\-01T05\\:00\\:00\\+02\\:00\\'|\\'2023\\-05\\-01T06\\:00\\:00\\+02\\:00\\'|\n",
       "|\\'2023\\-05\\-01T05\\:00\\:00\\'|\\'DK2\\'|79\\.02|79\\.02|79\\.02|79\\.02|0\\.0|\\'76\\.54\\'|\\'2\\.48\\'|\\'2023\\-05\\-01T05\\:00\\:00\\+02\\:00\\'|\\'2023\\-05\\-01T06\\:00\\:00\\+02\\:00\\'|\n",
       "|\\'2023\\-05\\-01T06\\:00\\:00\\'|\\'DK1\\'|95\\.0|95\\.0|95\\.0|87\\.16|1\\.0|\\'0\\.0\\'|\\'0\\.0\\'|\\'2023\\-05\\-01T06\\:00\\:00\\+02\\:00\\'|\\'2023\\-05\\-01T07\\:00\\:00\\+02\\:00\\'|\n",
       "|\\'2023\\-05\\-01T06\\:00\\:00\\'|\\'DK2\\'|95\\.0|95\\.0|95\\.0|69\\.74|1\\.0|\\'0\\.0\\'|\\'0\\.0\\'|\\'2023\\-05\\-01T06\\:00\\:00\\+02\\:00\\'|\\'2023\\-05\\-01T07\\:00\\:00\\+02\\:00\\'|\n",
       "|\\'2023\\-05\\-01T07\\:00\\:00\\'|\\'DK1\\'|109\\.5|109\\.5|109\\.5|84\\.2|1\\.0|None|None|\\'2023\\-05\\-01T07\\:00\\:00\\+02\\:00\\'|\\'2023\\-05\\-01T08\\:00\\:00\\+02\\:00\\'|\n",
       "|\\'2023\\-05\\-01T07\\:00\\:00\\'|\\'DK2\\'|109\\.5|109\\.5|109\\.5|69\\.74|1\\.0|None|None|\\'2023\\-05\\-01T07\\:00\\:00\\+02\\:00\\'|\\'2023\\-05\\-01T08\\:00\\:00\\+02\\:00\\'|\n",
       "|...|...|...|...|...|...|...|...|...|...|...|\n"
      ],
      "text/plain": [
       "<sqltables.sqltables.Table at 0x2836eccb700>"
      ]
     },
     "execution_count": 6,
     "metadata": {},
     "output_type": "execute_result"
    }
   ],
   "source": [
    "balancing_price_data.view(\"\"\"\n",
    "select * from _ order by datetime_start\n",
    "\"\"\")"
   ]
  },
  {
   "cell_type": "code",
   "execution_count": 7,
   "id": "60f771ca",
   "metadata": {},
   "outputs": [
    {
     "data": {
      "text/markdown": [
       "|datetime\\_start|datetime\\_end|spot\\_price|price\\_area|\n",
       "|-|-|-|-|\n",
       "|\\'2023\\-05\\-31T22\\:00\\:00\\+02\\:00\\'|\\'2023\\-05\\-31T23\\:00\\:00\\+02\\:00\\'|56\\.900002|\\'DK1\\'|\n",
       "|\\'2023\\-05\\-31T22\\:00\\:00\\+02\\:00\\'|\\'2023\\-05\\-31T23\\:00\\:00\\+02\\:00\\'|56\\.900002|\\'DK2\\'|\n",
       "|\\'2023\\-05\\-31T22\\:00\\:00\\+02\\:00\\'|\\'2023\\-05\\-31T23\\:00\\:00\\+02\\:00\\'|56\\.900002|\\'NO2\\'|\n",
       "|\\'2023\\-05\\-31T22\\:00\\:00\\+02\\:00\\'|\\'2023\\-05\\-31T23\\:00\\:00\\+02\\:00\\'|56\\.900002|\\'SE3\\'|\n",
       "|\\'2023\\-05\\-31T22\\:00\\:00\\+02\\:00\\'|\\'2023\\-05\\-31T23\\:00\\:00\\+02\\:00\\'|56\\.900002|\\'SE4\\'|\n",
       "|\\'2023\\-05\\-31T22\\:00\\:00\\+02\\:00\\'|\\'2023\\-05\\-31T23\\:00\\:00\\+02\\:00\\'|8\\.47|\\'SYSTEM\\'|\n",
       "|\\'2023\\-05\\-31T21\\:00\\:00\\+02\\:00\\'|\\'2023\\-05\\-31T22\\:00\\:00\\+02\\:00\\'|58\\.790001|\\'DK1\\'|\n",
       "|\\'2023\\-05\\-31T21\\:00\\:00\\+02\\:00\\'|\\'2023\\-05\\-31T22\\:00\\:00\\+02\\:00\\'|58\\.790001|\\'DK2\\'|\n",
       "|\\'2023\\-05\\-31T21\\:00\\:00\\+02\\:00\\'|\\'2023\\-05\\-31T22\\:00\\:00\\+02\\:00\\'|58\\.790001|\\'NO2\\'|\n",
       "|\\'2023\\-05\\-31T21\\:00\\:00\\+02\\:00\\'|\\'2023\\-05\\-31T22\\:00\\:00\\+02\\:00\\'|58\\.790001|\\'SE3\\'|\n",
       "|\\'2023\\-05\\-31T21\\:00\\:00\\+02\\:00\\'|\\'2023\\-05\\-31T22\\:00\\:00\\+02\\:00\\'|58\\.790001|\\'SE4\\'|\n",
       "|\\'2023\\-05\\-31T21\\:00\\:00\\+02\\:00\\'|\\'2023\\-05\\-31T22\\:00\\:00\\+02\\:00\\'|9\\.75|\\'SYSTEM\\'|\n",
       "|\\'2023\\-05\\-31T20\\:00\\:00\\+02\\:00\\'|\\'2023\\-05\\-31T21\\:00\\:00\\+02\\:00\\'|68\\.07|\\'DK1\\'|\n",
       "|\\'2023\\-05\\-31T20\\:00\\:00\\+02\\:00\\'|\\'2023\\-05\\-31T21\\:00\\:00\\+02\\:00\\'|68\\.07|\\'DK2\\'|\n",
       "|\\'2023\\-05\\-31T20\\:00\\:00\\+02\\:00\\'|\\'2023\\-05\\-31T21\\:00\\:00\\+02\\:00\\'|66\\.099998|\\'NO2\\'|\n",
       "|\\'2023\\-05\\-31T20\\:00\\:00\\+02\\:00\\'|\\'2023\\-05\\-31T21\\:00\\:00\\+02\\:00\\'|68\\.07|\\'SE3\\'|\n",
       "|...|...|...|...|\n"
      ],
      "text/plain": [
       "<sqltables.sqltables.Table at 0x2836ba1b070>"
      ]
     },
     "execution_count": 7,
     "metadata": {},
     "output_type": "execute_result"
    }
   ],
   "source": [
    "energinet_descriptor = {\n",
    "    \"start_datetime\": start_datetime,\n",
    "    \"end_datetime\": end_datetime,\n",
    "    \"dataset\": \"Elspotprices\"\n",
    "}\n",
    "\n",
    "energinet_dataset = energydata.energinet.EnergiDataServiceDk(energinet_descriptor)\n",
    "\n",
    "spot_price_data = create_table_from_dicts(db, list(energinet_dataset.fetch_data()))\n",
    "spot_prices = spot_price_data.view(\"\"\"\n",
    "select datetime_start, datetime_end, \"SpotPriceEUR\" as spot_price, \"PriceArea\" as price_area\n",
    "from _\n",
    "\"\"\")\n",
    "spot_prices"
   ]
  },
  {
   "cell_type": "code",
   "execution_count": 8,
   "id": "6bb1dd69",
   "metadata": {},
   "outputs": [
    {
     "data": {
      "application/json": {
       "ascii": false,
       "bar_format": null,
       "colour": null,
       "elapsed": 0.016119003295898438,
       "initial": 0,
       "n": 0,
       "ncols": null,
       "nrows": 29,
       "postfix": null,
       "prefix": "",
       "rate": null,
       "total": null,
       "unit": "it",
       "unit_divisor": 1000,
       "unit_scale": false
      },
      "application/vnd.jupyter.widget-view+json": {
       "model_id": "46931338a3a146e7b31d1e6c24024793",
       "version_major": 2,
       "version_minor": 0
      },
      "text/plain": [
       "0it [00:00, ?it/s]"
      ]
     },
     "metadata": {},
     "output_type": "display_data"
    }
   ],
   "source": [
    "nordpool_datasets = []\n",
    "\n",
    "for price_area in price_areas:\n",
    "    nordpool_descriptor = {\n",
    "        \"start_datetime\": start_datetime,\n",
    "        \"end_datetime\": end_datetime,\n",
    "        \"zone\": price_area,\n",
    "        \"dataset\": \"intraday\"\n",
    "    }\n",
    "\n",
    "    nordpool_dataset = energydata.nordpoolspot.NordpoolSpot(nordpool_descriptor)\n",
    "    nordpool_datasets.append(nordpool_dataset)\n",
    "\n",
    "nordpool_data = list(tqdm(row for dataset in nordpool_datasets for row in dataset.fetch_data()))\n",
    "\n",
    "intraday_price_data = create_table_from_dicts(db, nordpool_data)\n",
    "intraday_prices = intraday_price_data.view(\"\"\"select *, zone as price_area from _\"\"\")\n"
   ]
  },
  {
   "cell_type": "code",
   "execution_count": 9,
   "id": "b756f6c4",
   "metadata": {},
   "outputs": [
    {
     "data": {
      "text/markdown": [
       "|datetime\\_start|datetime\\_end|Product|High|Low|Last|Avg|Volume|zone|price\\_area|\n",
       "|-|-|-|-|-|-|-|-|-|-|\n",
       "|\\'2023\\-05\\-01T00\\:00\\:00\\+02\\:00\\'|\\'2023\\-05\\-01T01\\:00\\:00\\+02\\:00\\'|\\'PH\\-20230501\\-01 \\(X\\)\\'|108\\.17|89\\.2|100\\.56|99\\.75|159\\.9|\\'DK1\\'|\\'DK1\\'|\n",
       "|\\'2023\\-05\\-01T00\\:00\\:00\\+02\\:00\\'|\\'2023\\-05\\-01T01\\:00\\:00\\+02\\:00\\'|\\'PH\\-20230501\\-01 \\(X\\)\\'|103\\.2|40\\.0|40\\.0|75\\.95|62\\.5|\\'DK2\\'|\\'DK2\\'|\n",
       "|\\'2023\\-05\\-01T01\\:00\\:00\\+02\\:00\\'|\\'2023\\-05\\-01T02\\:00\\:00\\+02\\:00\\'|\\'PH\\-20230501\\-02 \\(X\\)\\'|98\\.0|66\\.75|92\\.8|87\\.1|257\\.6|\\'DK1\\'|\\'DK1\\'|\n",
       "|\\'2023\\-05\\-01T01\\:00\\:00\\+02\\:00\\'|\\'2023\\-05\\-01T02\\:00\\:00\\+02\\:00\\'|\\'PH\\-20230501\\-02 \\(X\\)\\'|88\\.99|20\\.9|20\\.9|49\\.6|90\\.0|\\'DK2\\'|\\'DK2\\'|\n",
       "|\\'2023\\-05\\-01T02\\:00\\:00\\+02\\:00\\'|\\'2023\\-05\\-01T03\\:00\\:00\\+02\\:00\\'|\\'PH\\-20230501\\-03 \\(X\\)\\'|92\\.76|57\\.75|85\\.99|83\\.46|257\\.5|\\'DK1\\'|\\'DK1\\'|\n",
       "|\\'2023\\-05\\-01T02\\:00\\:00\\+02\\:00\\'|\\'2023\\-05\\-01T03\\:00\\:00\\+02\\:00\\'|\\'PH\\-20230501\\-03 \\(X\\)\\'|72\\.0|20\\.6|20\\.6|41\\.83|100\\.0|\\'DK2\\'|\\'DK2\\'|\n",
       "|\\'2023\\-05\\-01T03\\:00\\:00\\+02\\:00\\'|\\'2023\\-05\\-01T04\\:00\\:00\\+02\\:00\\'|\\'PH\\-20230501\\-04 \\(X\\)\\'|88\\.13|70\\.0|73\\.04|79\\.43|431\\.2|\\'DK1\\'|\\'DK1\\'|\n",
       "|\\'2023\\-05\\-01T03\\:00\\:00\\+02\\:00\\'|\\'2023\\-05\\-01T04\\:00\\:00\\+02\\:00\\'|\\'PH\\-20230501\\-04 \\(X\\)\\'|86\\.53|39\\.89|45\\.8|54\\.22|92\\.4|\\'DK2\\'|\\'DK2\\'|\n",
       "|\\'2023\\-05\\-01T04\\:00\\:00\\+02\\:00\\'|\\'2023\\-05\\-01T05\\:00\\:00\\+02\\:00\\'|\\'PH\\-20230501\\-05 \\(X\\)\\'|87\\.39|69\\.1|71\\.0|77\\.08|537\\.9|\\'DK1\\'|\\'DK1\\'|\n",
       "|\\'2023\\-05\\-01T04\\:00\\:00\\+02\\:00\\'|\\'2023\\-05\\-01T05\\:00\\:00\\+02\\:00\\'|\\'PH\\-20230501\\-05 \\(X\\)\\'|86\\.3|48\\.24|48\\.24|60\\.54|56\\.1|\\'DK2\\'|\\'DK2\\'|\n",
       "|\\'2023\\-05\\-01T05\\:00\\:00\\+02\\:00\\'|\\'2023\\-05\\-01T06\\:00\\:00\\+02\\:00\\'|\\'PH\\-20230501\\-06 \\(X\\)\\'|88\\.05|63\\.2|80\\.73|74\\.06|363\\.0|\\'DK1\\'|\\'DK1\\'|\n",
       "|\\'2023\\-05\\-01T05\\:00\\:00\\+02\\:00\\'|\\'2023\\-05\\-01T06\\:00\\:00\\+02\\:00\\'|\\'PH\\-20230501\\-06 \\(X\\)\\'|76\\.56|48\\.0|76\\.56|60\\.01|69\\.5|\\'DK2\\'|\\'DK2\\'|\n",
       "|\\'2023\\-05\\-01T06\\:00\\:00\\+02\\:00\\'|\\'2023\\-05\\-01T07\\:00\\:00\\+02\\:00\\'|\\'PH\\-20230501\\-07 \\(X\\)\\'|87\\.75|67\\.69|75\\.53|76\\.55|527\\.8|\\'DK1\\'|\\'DK1\\'|\n",
       "|\\'2023\\-05\\-01T06\\:00\\:00\\+02\\:00\\'|\\'2023\\-05\\-01T07\\:00\\:00\\+02\\:00\\'|\\'PH\\-20230501\\-07 \\(X\\)\\'|84\\.31|48\\.58|75\\.99|57\\.4|122\\.4|\\'DK2\\'|\\'DK2\\'|\n",
       "|\\'2023\\-05\\-01T07\\:00\\:00\\+02\\:00\\'|\\'2023\\-05\\-01T08\\:00\\:00\\+02\\:00\\'|\\'PH\\-20230501\\-08 \\(X\\)\\'|87\\.98|71\\.35|84\\.1|81\\.6|550\\.9|\\'DK1\\'|\\'DK1\\'|\n",
       "|\\'2023\\-05\\-01T07\\:00\\:00\\+02\\:00\\'|\\'2023\\-05\\-01T08\\:00\\:00\\+02\\:00\\'|\\'PH\\-20230501\\-08 \\(X\\)\\'|84\\.11|57\\.95|71\\.4|66\\.67|100\\.0|\\'DK2\\'|\\'DK2\\'|\n",
       "|...|...|...|...|...|...|...|...|...|...|\n"
      ],
      "text/plain": [
       "<sqltables.sqltables.Table at 0x2836eccabc0>"
      ]
     },
     "execution_count": 9,
     "metadata": {},
     "output_type": "execute_result"
    }
   ],
   "source": [
    "intraday_prices.view(\"\"\"select * from _ order by datetime_start\"\"\")"
   ]
  },
  {
   "cell_type": "code",
   "execution_count": 17,
   "id": "2a304da0",
   "metadata": {},
   "outputs": [
    {
     "data": {
      "text/markdown": [
       "|datetime\\_start|datetime\\_end|spot\\_price|price\\_area|date|balancing\\_price|imbalance\\_direction|intraday\\_price|\n",
       "|-|-|-|-|-|-|-|-|\n",
       "|\\'2023\\-05\\-01T00\\:00\\:00\\+02\\:00\\'|\\'2023\\-05\\-01T01\\:00\\:00\\+02\\:00\\'|109\\.900002|\\'DK1\\'|\\'2023\\-05\\-01\\'|96\\.0|\\-1\\.0|99\\.75|\n",
       "|\\'2023\\-05\\-01T01\\:00\\:00\\+02\\:00\\'|\\'2023\\-05\\-01T02\\:00\\:00\\+02\\:00\\'|99\\.900002|\\'DK1\\'|\\'2023\\-05\\-01\\'|96\\.0|\\-1\\.0|87\\.1|\n",
       "|\\'2023\\-05\\-01T02\\:00\\:00\\+02\\:00\\'|\\'2023\\-05\\-01T03\\:00\\:00\\+02\\:00\\'|95\\.489998|\\'DK1\\'|\\'2023\\-05\\-01\\'|95\\.49|0\\.0|83\\.46|\n",
       "|\\'2023\\-05\\-01T03\\:00\\:00\\+02\\:00\\'|\\'2023\\-05\\-01T04\\:00\\:00\\+02\\:00\\'|89\\.980003|\\'DK1\\'|\\'2023\\-05\\-01\\'|89\\.98|0\\.0|79\\.43|\n",
       "|\\'2023\\-05\\-01T04\\:00\\:00\\+02\\:00\\'|\\'2023\\-05\\-01T05\\:00\\:00\\+02\\:00\\'|87\\.290001|\\'DK1\\'|\\'2023\\-05\\-01\\'|87\\.29|0\\.0|77\\.08|\n",
       "|\\'2023\\-05\\-01T05\\:00\\:00\\+02\\:00\\'|\\'2023\\-05\\-01T06\\:00\\:00\\+02\\:00\\'|88\\.0|\\'DK1\\'|\\'2023\\-05\\-01\\'|88\\.0|0\\.0|74\\.06|\n",
       "|\\'2023\\-05\\-01T06\\:00\\:00\\+02\\:00\\'|\\'2023\\-05\\-01T07\\:00\\:00\\+02\\:00\\'|87\\.160004|\\'DK1\\'|\\'2023\\-05\\-01\\'|95\\.0|1\\.0|76\\.55|\n",
       "|\\'2023\\-05\\-01T07\\:00\\:00\\+02\\:00\\'|\\'2023\\-05\\-01T08\\:00\\:00\\+02\\:00\\'|84\\.199997|\\'DK1\\'|\\'2023\\-05\\-01\\'|109\\.5|1\\.0|81\\.6|\n",
       "|\\'2023\\-05\\-01T08\\:00\\:00\\+02\\:00\\'|\\'2023\\-05\\-01T09\\:00\\:00\\+02\\:00\\'|83\\.139999|\\'DK1\\'|\\'2023\\-05\\-01\\'|105\\.0|1\\.0|79\\.31|\n",
       "|\\'2023\\-05\\-01T09\\:00\\:00\\+02\\:00\\'|\\'2023\\-05\\-01T10\\:00\\:00\\+02\\:00\\'|84\\.040001|\\'DK1\\'|\\'2023\\-05\\-01\\'|73\\.0|\\-1\\.0|74\\.5|\n",
       "|\\'2023\\-05\\-01T10\\:00\\:00\\+02\\:00\\'|\\'2023\\-05\\-01T11\\:00\\:00\\+02\\:00\\'|74\\.290001|\\'DK1\\'|\\'2023\\-05\\-01\\'|74\\.29|0\\.0|60\\.91|\n",
       "|\\'2023\\-05\\-01T11\\:00\\:00\\+02\\:00\\'|\\'2023\\-05\\-01T12\\:00\\:00\\+02\\:00\\'|67\\.989998|\\'DK1\\'|\\'2023\\-05\\-01\\'|28\\.18|\\-1\\.0|42\\.4|\n",
       "|\\'2023\\-05\\-01T12\\:00\\:00\\+02\\:00\\'|\\'2023\\-05\\-01T13\\:00\\:00\\+02\\:00\\'|54\\.630001|\\'DK1\\'|\\'2023\\-05\\-01\\'|18\\.0|\\-1\\.0|32\\.21|\n",
       "|\\'2023\\-05\\-01T13\\:00\\:00\\+02\\:00\\'|\\'2023\\-05\\-01T14\\:00\\:00\\+02\\:00\\'|34\\.689999|\\'DK1\\'|\\'2023\\-05\\-01\\'|23\\.0|\\-1\\.0|22\\.57|\n",
       "|\\'2023\\-05\\-01T14\\:00\\:00\\+02\\:00\\'|\\'2023\\-05\\-01T15\\:00\\:00\\+02\\:00\\'|29\\.99|\\'DK1\\'|\\'2023\\-05\\-01\\'|29\\.99|0\\.0|13\\.77|\n",
       "|\\'2023\\-05\\-01T15\\:00\\:00\\+02\\:00\\'|\\'2023\\-05\\-01T16\\:00\\:00\\+02\\:00\\'|41\\.189999|\\'DK1\\'|\\'2023\\-05\\-01\\'|80\\.0|1\\.0|34\\.98|\n",
       "|...|...|...|...|...|...|...|...|\n"
      ],
      "text/plain": [
       "<sqltables.sqltables.Table at 0x2836fe834f0>"
      ]
     },
     "execution_count": 17,
     "metadata": {},
     "output_type": "execute_result"
    }
   ],
   "source": [
    "prices = db.query(\"\"\"\n",
    "select \n",
    "    spot.*,\n",
    "    substr(spot.datetime_start, 0, 11) as date,\n",
    "    balancing_price, \n",
    "    imbalance_direction,\n",
    "    intraday.\"Avg\" as intraday_price\n",
    "from spot \n",
    "join balancing using (price_area, datetime_start, datetime_end)\n",
    "join intraday using (price_area, datetime_start, datetime_end)\n",
    "where price_area = 'DK1'\n",
    "\"\"\", bindings={\"balancing\": balancing_prices, \"spot\": spot_prices, \"intraday\": intraday_prices})\n",
    "prices.view(\"\"\"select * from _ order by datetime_start\"\"\")"
   ]
  },
  {
   "cell_type": "code",
   "execution_count": 33,
   "id": "35b62f9b",
   "metadata": {},
   "outputs": [],
   "source": [
    "[price_dates] = zip(*prices.view(\"\"\"select distinct date from _ order by date\"\"\"))"
   ]
  },
  {
   "cell_type": "code",
   "execution_count": 34,
   "id": "e2dd58b6",
   "metadata": {},
   "outputs": [
    {
     "data": {
      "text/plain": [
       "{'2023-05-01': 0,\n",
       " '2023-05-02': 1,\n",
       " '2023-05-03': 2,\n",
       " '2023-05-04': 3,\n",
       " '2023-05-05': 4,\n",
       " '2023-05-06': 5,\n",
       " '2023-05-07': 6,\n",
       " '2023-05-08': 7,\n",
       " '2023-05-09': 8,\n",
       " '2023-05-10': 9,\n",
       " '2023-05-11': 10,\n",
       " '2023-05-12': 11,\n",
       " '2023-05-13': 12,\n",
       " '2023-05-14': 13,\n",
       " '2023-05-15': 14,\n",
       " '2023-05-16': 15,\n",
       " '2023-05-17': 16,\n",
       " '2023-05-18': 17,\n",
       " '2023-05-19': 18,\n",
       " '2023-05-20': 19,\n",
       " '2023-05-21': 20,\n",
       " '2023-05-22': 21,\n",
       " '2023-05-23': 22,\n",
       " '2023-05-24': 23,\n",
       " '2023-05-25': 24}"
      ]
     },
     "execution_count": 34,
     "metadata": {},
     "output_type": "execute_result"
    }
   ],
   "source": [
    "date_indices = {k: i for i, k in enumerate(price_dates)}\n",
    "date_indices"
   ]
  },
  {
   "cell_type": "code",
   "execution_count": 31,
   "id": "ca0a370d",
   "metadata": {},
   "outputs": [],
   "source": [
    "price_columns = [\"spot_price\", \"balancing_price\", \"intraday_price\"]\n",
    "column_indices = {k: i for i, k in enumerate(price_columns)}\n",
    "N = len(price_dates)\n",
    "M = len(price_columns)\n",
    "price_curves = np.nan * np.ones((N, M, 24))"
   ]
  },
  {
   "cell_type": "code",
   "execution_count": 40,
   "id": "0dc410e1",
   "metadata": {},
   "outputs": [],
   "source": [
    "for row in prices:\n",
    "    i = date_indices[row.date]\n",
    "    k = datetime.datetime.fromisoformat(row.datetime_start).hour\n",
    "    for j, col in enumerate(price_columns):\n",
    "        price_curves[i, j, k] = getattr(row, col)"
   ]
  },
  {
   "cell_type": "code",
   "execution_count": 43,
   "id": "c92cec71",
   "metadata": {},
   "outputs": [
    {
     "data": {
      "text/plain": [
       "array([[[109.900002,  99.900002,  95.489998, ..., 121.720001,\n",
       "         117.900002, 101.629997],\n",
       "        [ 96.      ,  96.      ,  95.49    , ..., 121.72    ,\n",
       "         117.9     , 101.63    ],\n",
       "        [ 99.75    ,  87.1     ,  83.46    , ..., 115.39    ,\n",
       "         107.93    ,  85.87    ]],\n",
       "\n",
       "       [[ 98.480003,  85.599998,  83.300003, ..., 133.690002,\n",
       "         124.019997, 113.800003],\n",
       "        [ 69.      ,  69.      ,  50.      , ..., 194.56    ,\n",
       "         214.67    , 120.5     ],\n",
       "        [ 93.19    ,  82.93    ,  82.18    , ..., 124.5     ,\n",
       "         118.13    , 112.32    ]],\n",
       "\n",
       "       [[107.43    , 102.419998, 100.970001, ..., 132.25    ,\n",
       "         120.949997, 114.730003],\n",
       "        [114.      , 114.      , 111.      , ..., 143.5     ,\n",
       "         201.25    , 115.      ],\n",
       "        [ 98.      , 103.02    ,  99.57    , ..., 129.98    ,\n",
       "         113.93    , 105.17    ]],\n",
       "\n",
       "       ...,\n",
       "\n",
       "       [[ 70.540001,  65.709999,  65.510002, ...,  70.660004,\n",
       "          70.790001,  65.730003],\n",
       "        [422.97    , 402.82    ,  50.      , ...,  82.      ,\n",
       "          89.5     ,  89.5     ],\n",
       "        [ 78.      ,  72.9     ,  66.58    , ...,  65.91    ,\n",
       "          65.99    ,  74.21    ]],\n",
       "\n",
       "       [[ 66.300003,  66.010002,  66.860001, ..., 148.399994,\n",
       "         114.639999,  84.730003],\n",
       "        [ 66.3     ,  66.01    ,  66.86    , ..., 148.4     ,\n",
       "         114.64    ,  84.73    ],\n",
       "        [ 74.66    ,  69.28    ,  71.7     , ..., 185.54    ,\n",
       "         112.68    ,  97.66    ]],\n",
       "\n",
       "       [[ 65.779999,  61.540001,  56.669998, ..., 106.080002,\n",
       "          65.410004,  59.32    ],\n",
       "        [ 57.      ,  57.      ,  56.67    , ..., 106.08    ,\n",
       "         264.45    , 201.34    ],\n",
       "        [ 64.87    ,  56.81    ,  48.59    , ...,  96.76    ,\n",
       "          67.89    ,  73.03    ]]])"
      ]
     },
     "execution_count": 43,
     "metadata": {},
     "output_type": "execute_result"
    }
   ],
   "source": [
    "price_curves"
   ]
  },
  {
   "cell_type": "code",
   "execution_count": 49,
   "id": "2b40e602",
   "metadata": {},
   "outputs": [],
   "source": [
    "col_curves = {}\n",
    "for i, col in enumerate(price_columns):\n",
    "    col_curves[col] = price_curves[:, i, :]"
   ]
  },
  {
   "cell_type": "code",
   "execution_count": 99,
   "id": "d9e0b911",
   "metadata": {},
   "outputs": [],
   "source": [
    "analysis_price = \"intraday_price\""
   ]
  },
  {
   "cell_type": "code",
   "execution_count": 122,
   "id": "e95febc6",
   "metadata": {},
   "outputs": [],
   "source": [
    "from sklearn.decomposition import PCA\n",
    "pca = PCA(3)"
   ]
  },
  {
   "cell_type": "code",
   "execution_count": 107,
   "id": "e20739b1",
   "metadata": {},
   "outputs": [
    {
     "data": {
      "text/html": [
       "<style>#sk-container-id-8 {color: black;background-color: white;}#sk-container-id-8 pre{padding: 0;}#sk-container-id-8 div.sk-toggleable {background-color: white;}#sk-container-id-8 label.sk-toggleable__label {cursor: pointer;display: block;width: 100%;margin-bottom: 0;padding: 0.3em;box-sizing: border-box;text-align: center;}#sk-container-id-8 label.sk-toggleable__label-arrow:before {content: \"▸\";float: left;margin-right: 0.25em;color: #696969;}#sk-container-id-8 label.sk-toggleable__label-arrow:hover:before {color: black;}#sk-container-id-8 div.sk-estimator:hover label.sk-toggleable__label-arrow:before {color: black;}#sk-container-id-8 div.sk-toggleable__content {max-height: 0;max-width: 0;overflow: hidden;text-align: left;background-color: #f0f8ff;}#sk-container-id-8 div.sk-toggleable__content pre {margin: 0.2em;color: black;border-radius: 0.25em;background-color: #f0f8ff;}#sk-container-id-8 input.sk-toggleable__control:checked~div.sk-toggleable__content {max-height: 200px;max-width: 100%;overflow: auto;}#sk-container-id-8 input.sk-toggleable__control:checked~label.sk-toggleable__label-arrow:before {content: \"▾\";}#sk-container-id-8 div.sk-estimator input.sk-toggleable__control:checked~label.sk-toggleable__label {background-color: #d4ebff;}#sk-container-id-8 div.sk-label input.sk-toggleable__control:checked~label.sk-toggleable__label {background-color: #d4ebff;}#sk-container-id-8 input.sk-hidden--visually {border: 0;clip: rect(1px 1px 1px 1px);clip: rect(1px, 1px, 1px, 1px);height: 1px;margin: -1px;overflow: hidden;padding: 0;position: absolute;width: 1px;}#sk-container-id-8 div.sk-estimator {font-family: monospace;background-color: #f0f8ff;border: 1px dotted black;border-radius: 0.25em;box-sizing: border-box;margin-bottom: 0.5em;}#sk-container-id-8 div.sk-estimator:hover {background-color: #d4ebff;}#sk-container-id-8 div.sk-parallel-item::after {content: \"\";width: 100%;border-bottom: 1px solid gray;flex-grow: 1;}#sk-container-id-8 div.sk-label:hover label.sk-toggleable__label {background-color: #d4ebff;}#sk-container-id-8 div.sk-serial::before {content: \"\";position: absolute;border-left: 1px solid gray;box-sizing: border-box;top: 0;bottom: 0;left: 50%;z-index: 0;}#sk-container-id-8 div.sk-serial {display: flex;flex-direction: column;align-items: center;background-color: white;padding-right: 0.2em;padding-left: 0.2em;position: relative;}#sk-container-id-8 div.sk-item {position: relative;z-index: 1;}#sk-container-id-8 div.sk-parallel {display: flex;align-items: stretch;justify-content: center;background-color: white;position: relative;}#sk-container-id-8 div.sk-item::before, #sk-container-id-8 div.sk-parallel-item::before {content: \"\";position: absolute;border-left: 1px solid gray;box-sizing: border-box;top: 0;bottom: 0;left: 50%;z-index: -1;}#sk-container-id-8 div.sk-parallel-item {display: flex;flex-direction: column;z-index: 1;position: relative;background-color: white;}#sk-container-id-8 div.sk-parallel-item:first-child::after {align-self: flex-end;width: 50%;}#sk-container-id-8 div.sk-parallel-item:last-child::after {align-self: flex-start;width: 50%;}#sk-container-id-8 div.sk-parallel-item:only-child::after {width: 0;}#sk-container-id-8 div.sk-dashed-wrapped {border: 1px dashed gray;margin: 0 0.4em 0.5em 0.4em;box-sizing: border-box;padding-bottom: 0.4em;background-color: white;}#sk-container-id-8 div.sk-label label {font-family: monospace;font-weight: bold;display: inline-block;line-height: 1.2em;}#sk-container-id-8 div.sk-label-container {text-align: center;}#sk-container-id-8 div.sk-container {/* jupyter's `normalize.less` sets `[hidden] { display: none; }` but bootstrap.min.css set `[hidden] { display: none !important; }` so we also need the `!important` here to be able to override the default hidden behavior on the sphinx rendered scikit-learn.org. See: https://github.com/scikit-learn/scikit-learn/issues/21755 */display: inline-block !important;position: relative;}#sk-container-id-8 div.sk-text-repr-fallback {display: none;}</style><div id=\"sk-container-id-8\" class=\"sk-top-container\"><div class=\"sk-text-repr-fallback\"><pre>PCA(n_components=3)</pre><b>In a Jupyter environment, please rerun this cell to show the HTML representation or trust the notebook. <br />On GitHub, the HTML representation is unable to render, please try loading this page with nbviewer.org.</b></div><div class=\"sk-container\" hidden><div class=\"sk-item\"><div class=\"sk-estimator sk-toggleable\"><input class=\"sk-toggleable__control sk-hidden--visually\" id=\"sk-estimator-id-8\" type=\"checkbox\" checked><label for=\"sk-estimator-id-8\" class=\"sk-toggleable__label sk-toggleable__label-arrow\">PCA</label><div class=\"sk-toggleable__content\"><pre>PCA(n_components=3)</pre></div></div></div></div></div>"
      ],
      "text/plain": [
       "PCA(n_components=3)"
      ]
     },
     "execution_count": 107,
     "metadata": {},
     "output_type": "execute_result"
    }
   ],
   "source": [
    "pca.fit(col_curves[analysis_price])"
   ]
  },
  {
   "cell_type": "code",
   "execution_count": 108,
   "id": "17707578",
   "metadata": {},
   "outputs": [
    {
     "data": {
      "text/plain": [
       "array([[-0.08336418, -0.08357126, -0.08881637, -0.09512196, -0.10286392,\n",
       "        -0.12509851, -0.15557409, -0.20044986, -0.22815717, -0.22449697,\n",
       "        -0.23649153, -0.26230932, -0.28579927, -0.27943001, -0.29195074,\n",
       "        -0.27798933, -0.24816447, -0.21373074, -0.20642813, -0.23555021,\n",
       "        -0.25561271, -0.17883444, -0.12420973, -0.10459643],\n",
       "       [-0.30915183, -0.30083498, -0.28496407, -0.28458509, -0.29135262,\n",
       "        -0.2575203 , -0.23541507, -0.22736069, -0.21603901, -0.09397183,\n",
       "        -0.03163619,  0.04832537,  0.05482825,  0.05842135,  0.08376099,\n",
       "         0.0763136 ,  0.04404138, -0.02459453,  0.01515693,  0.20996543,\n",
       "         0.37589686,  0.32749331,  0.12591976,  0.06363655],\n",
       "       [-0.17729767, -0.18231799, -0.17667443, -0.185595  , -0.18029318,\n",
       "        -0.1625751 , -0.02987098,  0.028034  ,  0.11414481,  0.12599684,\n",
       "         0.19887884,  0.23026773,  0.23056395,  0.28941832,  0.21687708,\n",
       "         0.15076282,  0.04910385, -0.06141623, -0.18133125, -0.3184497 ,\n",
       "        -0.35536923, -0.25824846, -0.26946988, -0.27352486]])"
      ]
     },
     "execution_count": 108,
     "metadata": {},
     "output_type": "execute_result"
    }
   ],
   "source": [
    "pca.components_"
   ]
  },
  {
   "cell_type": "code",
   "execution_count": 109,
   "id": "7fd6ebb2",
   "metadata": {},
   "outputs": [
    {
     "data": {
      "text/plain": [
       "array([0.70337764, 0.11900692, 0.09100742])"
      ]
     },
     "execution_count": 109,
     "metadata": {},
     "output_type": "execute_result"
    }
   ],
   "source": [
    "pca.explained_variance_ratio_"
   ]
  },
  {
   "cell_type": "code",
   "execution_count": 110,
   "id": "43fb4ebd",
   "metadata": {},
   "outputs": [],
   "source": [
    "projected_curves = pca.inverse_transform(pca.transform(col_curves[analysis_price]))"
   ]
  },
  {
   "cell_type": "code",
   "execution_count": 111,
   "id": "7a0e43cb",
   "metadata": {},
   "outputs": [
    {
     "data": {
      "application/vnd.plotly.v1+json": {
       "config": {
        "plotlyServerURL": "https://plot.ly"
       },
       "data": [
        {
         "name": "2023-05-01",
         "type": "scatter",
         "x": [
          0,
          1,
          2,
          3,
          4,
          5,
          6,
          7,
          8,
          9,
          10,
          11,
          12,
          13,
          14,
          15,
          16,
          17,
          18,
          19,
          20,
          21,
          22,
          23
         ],
         "y": [
          99.75,
          87.1,
          83.46,
          79.43,
          77.08,
          74.06,
          76.55,
          81.6,
          79.31,
          74.5,
          60.91,
          42.4,
          32.21,
          22.57,
          13.77,
          34.98,
          58.75,
          89.34,
          109.95,
          118.92,
          121.12,
          115.39,
          107.93,
          85.87
         ]
        },
        {
         "name": "2023-05-01 (Proj)",
         "type": "scatter",
         "x": [
          0,
          1,
          2,
          3,
          4,
          5,
          6,
          7,
          8,
          9,
          10,
          11,
          12,
          13,
          14,
          15,
          16,
          17,
          18,
          19,
          20,
          21,
          22,
          23
         ],
         "y": [
          86.37879836099764,
          81.96468393000666,
          79.62564933899478,
          78.79822649138823,
          78.90413408836616,
          83.70107040704048,
          90.76583232045635,
          95.48116246636695,
          88.17548559466012,
          72.57169641206089,
          56.08212571067652,
          43.21977805941076,
          33.8747241468505,
          22.49392602247496,
          22.51760631875453,
          28.099892689172332,
          45.27387725898215,
          73.86346815747764,
          95.9950147880063,
          117.2020721647057,
          128.86258591968655,
          118.372087043585,
          107.27770751838202,
          98.33561898853343
         ]
        },
        {
         "name": "2023-05-02",
         "type": "scatter",
         "x": [
          0,
          1,
          2,
          3,
          4,
          5,
          6,
          7,
          8,
          9,
          10,
          11,
          12,
          13,
          14,
          15,
          16,
          17,
          18,
          19,
          20,
          21,
          22,
          23
         ],
         "y": [
          93.19,
          82.93,
          82.18,
          80.34,
          76.91,
          86.61,
          105.18,
          122.09,
          128.21,
          116.01,
          101.52,
          89.16,
          76.86,
          78.5,
          70.22,
          67.7,
          68.27,
          89.54,
          108.22,
          118.85,
          126.76,
          124.5,
          118.13,
          112.32
         ]
        },
        {
         "name": "2023-05-02 (Proj)",
         "type": "scatter",
         "x": [
          0,
          1,
          2,
          3,
          4,
          5,
          6,
          7,
          8,
          9,
          10,
          11,
          12,
          13,
          14,
          15,
          16,
          17,
          18,
          19,
          20,
          21,
          22,
          23
         ],
         "y": [
          88.05440874981021,
          83.29832790235032,
          81.79581012925591,
          81.17818921851433,
          82.57393804750942,
          90.80690169716462,
          109.27832750623529,
          122.73003058055255,
          123.79087070660864,
          107.50654416289501,
          96.32510605897103,
          87.78251155073599,
          81.19124669797372,
          72.55870328978209,
          69.51560612741355,
          69.53198987006029,
          77.31944234704304,
          95.72912808858305,
          109.4857233192435,
          124.39071356307605,
          134.9142147487338,
          121.52256205112771,
          104.85489913037424,
          93.83096631868347
         ]
        },
        {
         "name": "2023-05-03",
         "type": "scatter",
         "x": [
          0,
          1,
          2,
          3,
          4,
          5,
          6,
          7,
          8,
          9,
          10,
          11,
          12,
          13,
          14,
          15,
          16,
          17,
          18,
          19,
          20,
          21,
          22,
          23
         ],
         "y": [
          98,
          103.02,
          99.57,
          95.5,
          94.43,
          104.79,
          119.78,
          132.93,
          131.46,
          112.84,
          93.5,
          91.34,
          94.92,
          80.64,
          69.47,
          62.57,
          72.16,
          103.96,
          119.77,
          139.66,
          163.54,
          129.98,
          113.93,
          105.17
         ]
        },
        {
         "name": "2023-05-03 (Proj)",
         "type": "scatter",
         "x": [
          0,
          1,
          2,
          3,
          4,
          5,
          6,
          7,
          8,
          9,
          10,
          11,
          12,
          13,
          14,
          15,
          16,
          17,
          18,
          19,
          20,
          21,
          22,
          23
         ],
         "y": [
          101.26568005840338,
          96.58453617704754,
          94.87493044781111,
          94.7946728204097,
          96.37869629709613,
          104.3799829671805,
          119.08021131292905,
          132.07055997695005,
          131.01551476914761,
          112.61294701375802,
          98.53927614568343,
          88.82824697693113,
          83.00861750835804,
          72.05069922874506,
          71.66258516922117,
          73.55692615291167,
          84.19206153389112,
          106.05558287786332,
          123.19667138932678,
          141.42965059891858,
          151.83852273004757,
          132.86701728878893,
          117.17144685363925,
          106.36749833209268
         ]
        },
        {
         "name": "2023-05-04",
         "type": "scatter",
         "x": [
          0,
          1,
          2,
          3,
          4,
          5,
          6,
          7,
          8,
          9,
          10,
          11,
          12,
          13,
          14,
          15,
          16,
          17,
          18,
          19,
          20,
          21,
          22,
          23
         ],
         "y": [
          95.45,
          90.15,
          88.32,
          89.66,
          89.08,
          99.22,
          115.76,
          128.97,
          119.3,
          103.52,
          85.72,
          71.63,
          62.39,
          44.56,
          44.15,
          55.48,
          70.88,
          96.82,
          108.59,
          114.6,
          115.74,
          112.98,
          101.76,
          89.43
         ]
        },
        {
         "name": "2023-05-04 (Proj)",
         "type": "scatter",
         "x": [
          0,
          1,
          2,
          3,
          4,
          5,
          6,
          7,
          8,
          9,
          10,
          11,
          12,
          13,
          14,
          15,
          16,
          17,
          18,
          19,
          20,
          21,
          22,
          23
         ],
         "y": [
          98.9959036458105,
          94.05656854226532,
          91.7047286413015,
          91.02182870798711,
          92.24279982173928,
          98.12975073283562,
          111.94772917281094,
          122.23049055014356,
          120.07402152812287,
          99.57437714889221,
          84.32740428663553,
          71.46723194686638,
          63.764343596023885,
          54.027554507861616,
          51.16763629858271,
          53.336319745956985,
          65.44920391562202,
          89.76602467348243,
          104.9542235570814,
          115.05661367561646,
          120.0076154507074,
          109.12321230993903,
          101.53287067115252,
          93.42915563893968
         ]
        },
        {
         "name": "2023-05-05",
         "type": "scatter",
         "x": [
          0,
          1,
          2,
          3,
          4,
          5,
          6,
          7,
          8,
          9,
          10,
          11,
          12,
          13,
          14,
          15,
          16,
          17,
          18,
          19,
          20,
          21,
          22,
          23
         ],
         "y": [
          82.66,
          77.53,
          78.16,
          78.24,
          81.19,
          88.66,
          89.71,
          103.77,
          87.4,
          53.53,
          35.9,
          8.01,
          7.28,
          8.31,
          6.53,
          7.33,
          16.96,
          67.42,
          71.02,
          70.61,
          70.32,
          68.92,
          67.54,
          60.87
         ]
        },
        {
         "name": "2023-05-05 (Proj)",
         "type": "scatter",
         "x": [
          0,
          1,
          2,
          3,
          4,
          5,
          6,
          7,
          8,
          9,
          10,
          11,
          12,
          13,
          14,
          15,
          16,
          17,
          18,
          19,
          20,
          21,
          22,
          23
         ],
         "y": [
          89.92253342833648,
          84.76303544656933,
          81.17963729683248,
          79.34476808606543,
          79.34793368248627,
          80.66995872763577,
          89.05829269552872,
          91.41233249585831,
          84.38906715125174,
          62.11057597475807,
          43.70827613093127,
          24.760136584170922,
          12.767442190366268,
          4.2691196693599025,
          -1.5451199575348298,
          3.0403419795596207,
          20.769474482268595,
          52.22506228973177,
          67.53082158174928,
          68.11760909813644,
          66.05192424686987,
          70.04223708904402,
          76.15826720367286,
          72.77210030902204
         ]
        },
        {
         "name": "2023-05-06",
         "type": "scatter",
         "x": [
          0,
          1,
          2,
          3,
          4,
          5,
          6,
          7,
          8,
          9,
          10,
          11,
          12,
          13,
          14,
          15,
          16,
          17,
          18,
          19,
          20,
          21,
          22,
          23
         ],
         "y": [
          60.04,
          55.57,
          54.77,
          57.49,
          55.31,
          65.3,
          60.12,
          69.58,
          75.59,
          83.13,
          77.71,
          69.46,
          51.48,
          40.1,
          38.98,
          47.33,
          66.78,
          74.17,
          79.4,
          85.78,
          94.7,
          94.94,
          91.46,
          63.8
         ]
        },
        {
         "name": "2023-05-06 (Proj)",
         "type": "scatter",
         "x": [
          0,
          1,
          2,
          3,
          4,
          5,
          6,
          7,
          8,
          9,
          10,
          11,
          12,
          13,
          14,
          15,
          16,
          17,
          18,
          19,
          20,
          21,
          22,
          23
         ],
         "y": [
          58.43879561766299,
          53.787601933307855,
          52.39813911999785,
          50.617605343255164,
          50.91075279608796,
          58.111069759329496,
          78.25532546296412,
          88.13517993228854,
          89.10044517487988,
          78.42545224782465,
          70.72354464070966,
          62.94178082310361,
          53.456114014513304,
          47.99794940083246,
          41.555997005661524,
          40.71154428828468,
          47.49971711638673,
          63.806938499312885,
          75.6234562109521,
          89.00198383473156,
          101.82254478303717,
          100.48631422571346,
          83.01288089471427,
          72.0855065648643
         ]
        },
        {
         "name": "2023-05-07",
         "type": "scatter",
         "x": [
          0,
          1,
          2,
          3,
          4,
          5,
          6,
          7,
          8,
          9,
          10,
          11,
          12,
          13,
          14,
          15,
          16,
          17,
          18,
          19,
          20,
          21,
          22,
          23
         ],
         "y": [
          71.48,
          69.79,
          67.88,
          67.41,
          65.98,
          68.59,
          73.16,
          71.61,
          68.61,
          54.13,
          13.61,
          -5.93,
          -3.77,
          -10.53,
          -6.73,
          -5.04,
          36.96,
          63.29,
          78.08,
          86.2,
          83.47,
          88.37,
          83.93,
          83.11
         ]
        },
        {
         "name": "2023-05-07 (Proj)",
         "type": "scatter",
         "x": [
          0,
          1,
          2,
          3,
          4,
          5,
          6,
          7,
          8,
          9,
          10,
          11,
          12,
          13,
          14,
          15,
          16,
          17,
          18,
          19,
          20,
          21,
          22,
          23
         ],
         "y": [
          77.92811916510743,
          73.37109567633495,
          70.28563986339698,
          68.62352551812539,
          67.89614100621881,
          69.80492505327486,
          73.95745129680147,
          73.59035353335005,
          63.46279350483772,
          47.21436970238678,
          29.216171153393482,
          12.689045469922767,
          0.436680496853306,
          -9.765856596158315,
          -12.047495097367225,
          -5.196761307668808,
          15.141252665899742,
          47.73767886289206,
          69.47242588457146,
          84.24420771438656,
          91.59664665252126,
          91.60562265102399,
          88.99098901332188,
          82.9960851955126
         ]
        },
        {
         "name": "2023-05-08",
         "type": "scatter",
         "x": [
          0,
          1,
          2,
          3,
          4,
          5,
          6,
          7,
          8,
          9,
          10,
          11,
          12,
          13,
          14,
          15,
          16,
          17,
          18,
          19,
          20,
          21,
          22,
          23
         ],
         "y": [
          79.42,
          84.46,
          84.18,
          81.14,
          74.64,
          78.94,
          98.19,
          109.88,
          109.35,
          96.4,
          85.31,
          78.58,
          69.52,
          61.86,
          54.23,
          52.59,
          59.69,
          79.94,
          93.7,
          88.97,
          98.13,
          99.39,
          93.46,
          82.89
         ]
        },
        {
         "name": "2023-05-08 (Proj)",
         "type": "scatter",
         "x": [
          0,
          1,
          2,
          3,
          4,
          5,
          6,
          7,
          8,
          9,
          10,
          11,
          12,
          13,
          14,
          15,
          16,
          17,
          18,
          19,
          20,
          21,
          22,
          23
         ],
         "y": [
          83.74115664615233,
          78.69499783880717,
          76.67647801244877,
          75.40239759690189,
          76.52117663276107,
          83.03429614526802,
          102.23374681335598,
          113.86653707674728,
          114.91160195272387,
          96.90941521738375,
          85.52497437516031,
          74.49623261909599,
          66.18069031616562,
          59.34984330045195,
          53.21526376955341,
          52.719203526386025,
          60.67696749140592,
          80.03001163275954,
          90.63630735313846,
          96.6070091434656,
          101.78830138369219,
          96.9199343643421,
          87.45353298182647,
          78.82799593749341
         ]
        },
        {
         "name": "2023-05-09",
         "type": "scatter",
         "x": [
          0,
          1,
          2,
          3,
          4,
          5,
          6,
          7,
          8,
          9,
          10,
          11,
          12,
          13,
          14,
          15,
          16,
          17,
          18,
          19,
          20,
          21,
          22,
          23
         ],
         "y": [
          70.97,
          64.64,
          62.55,
          64.72,
          63.59,
          73.8,
          73.4,
          79.09,
          73.49,
          69.44,
          71.15,
          58.33,
          45.74,
          40,
          37.7,
          47.08,
          54.8,
          69.95,
          72.78,
          82.86,
          82.36,
          86.93,
          85.08,
          75.76
         ]
        },
        {
         "name": "2023-05-09 (Proj)",
         "type": "scatter",
         "x": [
          0,
          1,
          2,
          3,
          4,
          5,
          6,
          7,
          8,
          9,
          10,
          11,
          12,
          13,
          14,
          15,
          16,
          17,
          18,
          19,
          20,
          21,
          22,
          23
         ],
         "y": [
          67.87181905528992,
          63.038251964555485,
          61.09226580336947,
          59.32041464518982,
          59.660610813965874,
          65.49264505440372,
          83.33881754721915,
          91.90458569329002,
          91.37321674548109,
          77.23220122999989,
          66.92862469452018,
          56.31993227697447,
          46.386380092023366,
          40.30521343641696,
          33.752488778219806,
          33.94025891831089,
          42.98747386867346,
          62.70430822857651,
          74.71220658097602,
          83.74310289315564,
          92.10639882239896,
          91.9958495463403,
          80.84452425784042,
          71.90731803952039
         ]
        },
        {
         "name": "2023-05-10",
         "type": "scatter",
         "x": [
          0,
          1,
          2,
          3,
          4,
          5,
          6,
          7,
          8,
          9,
          10,
          11,
          12,
          13,
          14,
          15,
          16,
          17,
          18,
          19,
          20,
          21,
          22,
          23
         ],
         "y": [
          67.58,
          64.53,
          60.28,
          58.88,
          61.33,
          74.01,
          84.82,
          90.7,
          85.73,
          91.66,
          93.58,
          94.32,
          90.45,
          88.3,
          85.59,
          86.9,
          85.62,
          95.09,
          122.54,
          149.58,
          191.51,
          153.41,
          129.03,
          113.95
         ]
        },
        {
         "name": "2023-05-10 (Proj)",
         "type": "scatter",
         "x": [
          0,
          1,
          2,
          3,
          4,
          5,
          6,
          7,
          8,
          9,
          10,
          11,
          12,
          13,
          14,
          15,
          16,
          17,
          18,
          19,
          20,
          21,
          22,
          23
         ],
         "y": [
          61.29248339917642,
          57.51444051049153,
          57.64494724688228,
          57.38097196679081,
          58.10815984042084,
          69.91436468144849,
          88.42462493604943,
          102.34014603850773,
          103.26534234634782,
          99.36611016553525,
          93.34089643839042,
          92.9505165204541,
          87.48570416855036,
          77.83792436027169,
          79.23657194347109,
          79.62859994375233,
          85.66342237509885,
          98.63506014543714,
          118.96849050747073,
          157.67319618831857,
          186.65859301782024,
          164.6483662123746,
          126.17230650076046,
          108.3694896540085
         ]
        },
        {
         "name": "2023-05-11",
         "type": "scatter",
         "x": [
          0,
          1,
          2,
          3,
          4,
          5,
          6,
          7,
          8,
          9,
          10,
          11,
          12,
          13,
          14,
          15,
          16,
          17,
          18,
          19,
          20,
          21,
          22,
          23
         ],
         "y": [
          103.1,
          98.21,
          96.99,
          99.18,
          97.97,
          104.9,
          119.7,
          145.67,
          170.12,
          129.89,
          119.78,
          112.68,
          103.95,
          96.44,
          102.38,
          106.25,
          107.77,
          114.16,
          124.83,
          138.44,
          136.11,
          118.13,
          110.91,
          98.67
         ]
        },
        {
         "name": "2023-05-11 (Proj)",
         "type": "scatter",
         "x": [
          0,
          1,
          2,
          3,
          4,
          5,
          6,
          7,
          8,
          9,
          10,
          11,
          12,
          13,
          14,
          15,
          16,
          17,
          18,
          19,
          20,
          21,
          22,
          23
         ],
         "y": [
          103.10652731743225,
          98.00342156022025,
          96.56877303652055,
          96.37707673915524,
          98.82605410053364,
          108.3517373222422,
          131.332441138375,
          149.79559573474995,
          154.63450512482143,
          134.1435497066871,
          123.31550305911324,
          115.1097877682428,
          110.53169470969277,
          102.22277932539528,
          98.23039365333827,
          95.99702675183488,
          100.22800582133881,
          115.69978730869482,
          125.3064709844104,
          134.03451916311823,
          140.26801997006112,
          122.94601760968808,
          107.62736925924092,
          96.75076598849228
         ]
        },
        {
         "name": "2023-05-12",
         "type": "scatter",
         "x": [
          0,
          1,
          2,
          3,
          4,
          5,
          6,
          7,
          8,
          9,
          10,
          11,
          12,
          13,
          14,
          15,
          16,
          17,
          18,
          19,
          20,
          21,
          22,
          23
         ],
         "y": [
          94.24,
          86.05,
          83,
          80.78,
          84.15,
          88.37,
          112.25,
          125,
          145.1,
          112.27,
          85.07,
          66.65,
          48.63,
          43.88,
          41.01,
          36.63,
          44.59,
          83.28,
          103.42,
          113.43,
          113.69,
          108.34,
          99.03,
          102.67
         ]
        },
        {
         "name": "2023-05-12 (Proj)",
         "type": "scatter",
         "x": [
          0,
          1,
          2,
          3,
          4,
          5,
          6,
          7,
          8,
          9,
          10,
          11,
          12,
          13,
          14,
          15,
          16,
          17,
          18,
          19,
          20,
          21,
          22,
          23
         ],
         "y": [
          97.12278393278812,
          92.165770403327,
          89.71350957261018,
          88.88725693658714,
          89.96739343589459,
          95.43122685116057,
          108.89327315293164,
          118.39225021188051,
          115.84811461355203,
          95.39075319270293,
          80.02061025164579,
          66.67242792350507,
          58.49921841799528,
          49.00352431637616,
          45.74023047119596,
          48.06032262658087,
          60.581739844271496,
          85.39756713325434,
          100.47779923042526,
          109.64408656289582,
          114.04937107431259,
          104.90720126767603,
          98.47227037825195,
          90.77889939854703
         ]
        },
        {
         "name": "2023-05-13",
         "type": "scatter",
         "x": [
          0,
          1,
          2,
          3,
          4,
          5,
          6,
          7,
          8,
          9,
          10,
          11,
          12,
          13,
          14,
          15,
          16,
          17,
          18,
          19,
          20,
          21,
          22,
          23
         ],
         "y": [
          96.25,
          92.5,
          89.88,
          92.51,
          87.24,
          96.17,
          103.69,
          104.65,
          95.85,
          74.74,
          62.48,
          26.76,
          6.07,
          -0.68,
          3.56,
          11.64,
          31.99,
          64.16,
          87.3,
          98.67,
          109.04,
          91.69,
          104.5,
          103.66
         ]
        },
        {
         "name": "2023-05-13 (Proj)",
         "type": "scatter",
         "x": [
          0,
          1,
          2,
          3,
          4,
          5,
          6,
          7,
          8,
          9,
          10,
          11,
          12,
          13,
          14,
          15,
          16,
          17,
          18,
          19,
          20,
          21,
          22,
          23
         ],
         "y": [
          101.8938170010299,
          97.09257062081075,
          93.6553665014765,
          92.68850374928347,
          92.80933491928104,
          94.79764340112715,
          97.98435565324215,
          99.95270296148496,
          90.0045337832775,
          67.92402081763049,
          46.817147481748,
          28.40809007723877,
          17.867694053363703,
          5.813218137352777,
          4.922130842857094,
          12.203572514083252,
          33.394448792853325,
          68.2005128229996,
          89.94307719763408,
          101.44326634518501,
          104.03906110451841,
          97.70497067809647,
          99.39310413386686,
          94.50640280617588
         ]
        },
        {
         "name": "2023-05-14",
         "type": "scatter",
         "x": [
          0,
          1,
          2,
          3,
          4,
          5,
          6,
          7,
          8,
          9,
          10,
          11,
          12,
          13,
          14,
          15,
          16,
          17,
          18,
          19,
          20,
          21,
          22,
          23
         ],
         "y": [
          107.96,
          105.59,
          98.49,
          98.54,
          98.78,
          105.16,
          100.07,
          86.3,
          64.05,
          62.47,
          61.4,
          47.7,
          40.75,
          24.64,
          22.88,
          48.58,
          68.34,
          98.01,
          115.82,
          122.12,
          132.62,
          132.66,
          123.8,
          114.17
         ]
        },
        {
         "name": "2023-05-14 (Proj)",
         "type": "scatter",
         "x": [
          0,
          1,
          2,
          3,
          4,
          5,
          6,
          7,
          8,
          9,
          10,
          11,
          12,
          13,
          14,
          15,
          16,
          17,
          18,
          19,
          20,
          21,
          22,
          23
         ],
         "y": [
          101.63930007941892,
          97.28596635054716,
          94.65946602739352,
          94.41006344243394,
          94.72049123634555,
          99.10551670658555,
          101.82967396496467,
          105.87942118209779,
          96.11017834861556,
          77.83997169527828,
          57.935099697997984,
          43.48714307206051,
          34.914132493030344,
          20.956984463475557,
          23.829186251902822,
          31.56003418283227,
          52.07270070334589,
          84.78432984870327,
          110.5955460990694,
          134.90389315426185,
          145.94062200258492,
          129.5984594058968,
          120.2764324603309,
          111.80061156068712
         ]
        },
        {
         "name": "2023-05-15",
         "type": "scatter",
         "x": [
          0,
          1,
          2,
          3,
          4,
          5,
          6,
          7,
          8,
          9,
          10,
          11,
          12,
          13,
          14,
          15,
          16,
          17,
          18,
          19,
          20,
          21,
          22,
          23
         ],
         "y": [
          107.45,
          99.94,
          99.41,
          98.98,
          110.76,
          108.47,
          131.61,
          156.23,
          139.38,
          122.15,
          110.25,
          97.54,
          88.67,
          83.91,
          80.33,
          77.8,
          77.22,
          84.64,
          97.47,
          98.56,
          106.48,
          105.52,
          99.6,
          86.98
         ]
        },
        {
         "name": "2023-05-15 (Proj)",
         "type": "scatter",
         "x": [
          0,
          1,
          2,
          3,
          4,
          5,
          6,
          7,
          8,
          9,
          10,
          11,
          12,
          13,
          14,
          15,
          16,
          17,
          18,
          19,
          20,
          21,
          22,
          23
         ],
         "y": [
          107.46194463003617,
          101.99154927861142,
          99.6202219750426,
          98.89240435245286,
          101.07867228049552,
          107.85280182722894,
          128.7930732001956,
          144.1479290507587,
          147.20493558634737,
          122.44771884204664,
          108.94177464745457,
          96.08288495424722,
          89.56626004543118,
          82.02203875041491,
          75.6237219506281,
          74.18384390328302,
          81.02574443666224,
          100.75057761326462,
          108.48102038848425,
          106.70848874864333,
          104.93881130187269,
          95.71558595333057,
          91.88148699403075,
          84.74635398658695
         ]
        },
        {
         "name": "2023-05-16",
         "type": "scatter",
         "x": [
          0,
          1,
          2,
          3,
          4,
          5,
          6,
          7,
          8,
          9,
          10,
          11,
          12,
          13,
          14,
          15,
          16,
          17,
          18,
          19,
          20,
          21,
          22,
          23
         ],
         "y": [
          67.63,
          62.12,
          57.99,
          49.36,
          50.07,
          57.31,
          76.27,
          67.9,
          68.3,
          65.07,
          64.02,
          58.9,
          57.09,
          48.5,
          30.81,
          30.16,
          50.39,
          64.33,
          67.13,
          67.9,
          65.5,
          56.81,
          34.58,
          27.72
         ]
        },
        {
         "name": "2023-05-16 (Proj)",
         "type": "scatter",
         "x": [
          0,
          1,
          2,
          3,
          4,
          5,
          6,
          7,
          8,
          9,
          10,
          11,
          12,
          13,
          14,
          15,
          16,
          17,
          18,
          19,
          20,
          21,
          22,
          23
         ],
         "y": [
          58.04850480119592,
          52.84707135917226,
          50.83239219339106,
          48.31612927578763,
          48.70248730856315,
          54.25149200654034,
          77.86586440408487,
          87.68984182024928,
          90.61238746288258,
          76.001362475603,
          68.53775312168429,
          57.768492326661224,
          46.83518952264751,
          44.179513848434134,
          32.90799995195144,
          30.1357660173573,
          35.184583355139175,
          50.98286751403161,
          56.343150490158585,
          54.71377642261041,
          58.5387934270393,
          67.31932297562898,
          59.848892019614354,
          52.127466277323535
         ]
        },
        {
         "name": "2023-05-17",
         "type": "scatter",
         "x": [
          0,
          1,
          2,
          3,
          4,
          5,
          6,
          7,
          8,
          9,
          10,
          11,
          12,
          13,
          14,
          15,
          16,
          17,
          18,
          19,
          20,
          21,
          22,
          23
         ],
         "y": [
          21.03,
          21.51,
          22.97,
          25.2,
          24.06,
          28.96,
          40.59,
          59.42,
          56.98,
          52.12,
          42.02,
          29.31,
          3.04,
          -1.16,
          -1.29,
          3.33,
          3.64,
          48.96,
          63.43,
          69.83,
          100.51,
          123.42,
          105.37,
          99.26
         ]
        },
        {
         "name": "2023-05-17 (Proj)",
         "type": "scatter",
         "x": [
          0,
          1,
          2,
          3,
          4,
          5,
          6,
          7,
          8,
          9,
          10,
          11,
          12,
          13,
          14,
          15,
          16,
          17,
          18,
          19,
          20,
          21,
          22,
          23
         ],
         "y": [
          33.96797894769432,
          30.078616737576148,
          28.938804929168747,
          26.78841859358529,
          25.45915868261632,
          31.628490765905582,
          44.245847986621044,
          46.9258527396885,
          41.83980554190019,
          39.67051555714117,
          31.920903945361786,
          25.349900894935725,
          13.47774619696241,
          6.64203507954068,
          3.419800286129952,
          6.427796048786796,
          18.68847233538406,
          38.83797215238813,
          59.200373682501464,
          88.29465751824519,
          111.82044316381503,
          112.38962010488574,
          87.83905351627081,
          75.07836987524195
         ]
        },
        {
         "name": "2023-05-18",
         "type": "scatter",
         "x": [
          0,
          1,
          2,
          3,
          4,
          5,
          6,
          7,
          8,
          9,
          10,
          11,
          12,
          13,
          14,
          15,
          16,
          17,
          18,
          19,
          20,
          21,
          22,
          23
         ],
         "y": [
          92.74,
          85.79,
          83.99,
          81.06,
          86.15,
          87.49,
          90.94,
          87.94,
          80.45,
          62.33,
          46.28,
          41.28,
          22.8,
          -6.65,
          -6.74,
          -4.08,
          21.35,
          60.68,
          90.49,
          105.52,
          112.32,
          107.08,
          101.74,
          95.96
         ]
        },
        {
         "name": "2023-05-18 (Proj)",
         "type": "scatter",
         "x": [
          0,
          1,
          2,
          3,
          4,
          5,
          6,
          7,
          8,
          9,
          10,
          11,
          12,
          13,
          14,
          15,
          16,
          17,
          18,
          19,
          20,
          21,
          22,
          23
         ],
         "y": [
          92.4686573113499,
          87.92032327920442,
          84.80869579665428,
          83.77756346208807,
          83.54273441312677,
          85.99772563329464,
          88.65301944689368,
          89.76832624732901,
          79.24548003000116,
          60.61423270703959,
          40.714909688989856,
          23.943988597843486,
          13.156547166371993,
          1.054530589433888,
          0.9746815529393515,
          8.598940688908172,
          29.883441439324898,
          63.88361652339489,
          87.41814037699216,
          104.487262096914,
          111.55351044907974,
          104.82121547316447,
          101.8832280326652,
          95.61969199755721
         ]
        },
        {
         "name": "2023-05-19",
         "type": "scatter",
         "x": [
          0,
          1,
          2,
          3,
          4,
          5,
          6,
          7,
          8,
          9,
          10,
          11,
          12,
          13,
          14,
          15,
          16,
          17,
          18,
          19,
          20,
          21,
          22,
          23
         ],
         "y": [
          82.52,
          76.28,
          74.78,
          76.45,
          81.02,
          90.33,
          99.97,
          101.96,
          102.77,
          82.42,
          65.78,
          50.8,
          44.65,
          36.64,
          36.41,
          28.84,
          43.4,
          67.78,
          81.7,
          89.53,
          90.31,
          85.03,
          83.61,
          75
         ]
        },
        {
         "name": "2023-05-19 (Proj)",
         "type": "scatter",
         "x": [
          0,
          1,
          2,
          3,
          4,
          5,
          6,
          7,
          8,
          9,
          10,
          11,
          12,
          13,
          14,
          15,
          16,
          17,
          18,
          19,
          20,
          21,
          22,
          23
         ],
         "y": [
          86.01204457345263,
          80.95430732653729,
          78.32541802493598,
          76.85143964419585,
          77.488449391341,
          81.93500127237365,
          96.44038301624448,
          104.17939314673765,
          101.74612572298382,
          82.27322116540019,
          67.99381194442526,
          53.86719147949415,
          44.08150739759985,
          36.416791102000296,
          30.68020920930278,
          32.408227725165354,
          44.52687248006199,
          68.92113789953672,
          81.86397972904652,
          86.51763085046129,
          89.27308263340197,
          87.58754601532641,
          83.96628711287612,
          77.31995602251189
         ]
        },
        {
         "name": "2023-05-20",
         "type": "scatter",
         "x": [
          0,
          1,
          2,
          3,
          4,
          5,
          6,
          7,
          8,
          9,
          10,
          11,
          12,
          13,
          14,
          15,
          16,
          17,
          18,
          19,
          20,
          21,
          22,
          23
         ],
         "y": [
          71.72,
          70.24,
          66.68,
          62.64,
          57.66,
          55.22,
          52.82,
          52.14,
          40.59,
          21.27,
          -1.57,
          -12.96,
          -24.24,
          -24.26,
          -19.8,
          -19.52,
          -11.61,
          4.4,
          36.01,
          59.5,
          69.5,
          64.72,
          67.87,
          59.13
         ]
        },
        {
         "name": "2023-05-20 (Proj)",
         "type": "scatter",
         "x": [
          0,
          1,
          2,
          3,
          4,
          5,
          6,
          7,
          8,
          9,
          10,
          11,
          12,
          13,
          14,
          15,
          16,
          17,
          18,
          19,
          20,
          21,
          22,
          23
         ],
         "y": [
          66.98492492537635,
          62.30081558216404,
          58.77317066350939,
          56.32410760914621,
          54.94131744294357,
          54.92030545532714,
          58.45893687555227,
          54.708532066937096,
          43.40465476854476,
          27.521493713267994,
          9.566659138120045,
          -9.074040864207134,
          -23.651913256769333,
          -32.15224259326993,
          -37.04520394660158,
          -30.015507439791392,
          -8.540614739800695,
          25.54888821639487,
          45.73562965006017,
          54.77572815321579,
          59.17953588447288,
          68.63628505007377,
          71.56252371594509,
          67.53896740439392
         ]
        },
        {
         "name": "2023-05-21",
         "type": "scatter",
         "x": [
          0,
          1,
          2,
          3,
          4,
          5,
          6,
          7,
          8,
          9,
          10,
          11,
          12,
          13,
          14,
          15,
          16,
          17,
          18,
          19,
          20,
          21,
          22,
          23
         ],
         "y": [
          67.96,
          60.83,
          58.38,
          52.06,
          53.02,
          48.31,
          48.82,
          54.86,
          48.97,
          28.52,
          21.07,
          15.21,
          -0.31,
          -11.55,
          -22.05,
          -14.66,
          0.41,
          4.43,
          34.61,
          79.25,
          84.13,
          80.57,
          79.75,
          63.37
         ]
        },
        {
         "name": "2023-05-21 (Proj)",
         "type": "scatter",
         "x": [
          0,
          1,
          2,
          3,
          4,
          5,
          6,
          7,
          8,
          9,
          10,
          11,
          12,
          13,
          14,
          15,
          16,
          17,
          18,
          19,
          20,
          21,
          22,
          23
         ],
         "y": [
          58.8772605427971,
          54.39735741081851,
          51.61831738370229,
          49.32673836532787,
          48.09949374570001,
          50.16836045339079,
          57.046341973569355,
          55.9347996437163,
          47.01511481049823,
          34.823361099827025,
          20.039925833134596,
          5.18018592264491,
          -8.282216680448343,
          -16.264429721657244,
          -20.711375836952946,
          -15.1896557351049,
          3.0096174739526305,
          32.442314557694296,
          52.21091563413516,
          66.76156833630978,
          76.56632432768902,
          82.64922879612254,
          77.20983862427795,
          70.48832961961703
         ]
        },
        {
         "name": "2023-05-22",
         "type": "scatter",
         "x": [
          0,
          1,
          2,
          3,
          4,
          5,
          6,
          7,
          8,
          9,
          10,
          11,
          12,
          13,
          14,
          15,
          16,
          17,
          18,
          19,
          20,
          21,
          22,
          23
         ],
         "y": [
          44.44,
          38.01,
          41.4,
          41.15,
          45.96,
          57.1,
          97.56,
          110.01,
          108.95,
          94.41,
          72.1,
          48.24,
          52.74,
          48.07,
          51.17,
          51.32,
          56.12,
          71.63,
          90.67,
          116.21,
          137.44,
          123.57,
          103.62,
          87.25
         ]
        },
        {
         "name": "2023-05-22 (Proj)",
         "type": "scatter",
         "x": [
          0,
          1,
          2,
          3,
          4,
          5,
          6,
          7,
          8,
          9,
          10,
          11,
          12,
          13,
          14,
          15,
          16,
          17,
          18,
          19,
          20,
          21,
          22,
          23
         ],
         "y": [
          56.33325315954083,
          52.08851742569214,
          51.30525188498851,
          50.03206121282688,
          50.306300505413354,
          59.13526738417989,
          78.01626135239049,
          88.65856094630027,
          89.04816580796883,
          81.91842550374881,
          74.96193257358397,
          70.1344137690089,
          61.87037142298984,
          54.78843268857907,
          51.52504419346123,
          51.479607416800626,
          58.45282575945295,
          73.77523931030872,
          89.56507735893652,
          114.00036151137185,
          134.04400878240705,
          125.38218112291338,
          99.22233785939939,
          85.50733602661921
         ]
        },
        {
         "name": "2023-05-23",
         "type": "scatter",
         "x": [
          0,
          1,
          2,
          3,
          4,
          5,
          6,
          7,
          8,
          9,
          10,
          11,
          12,
          13,
          14,
          15,
          16,
          17,
          18,
          19,
          20,
          21,
          22,
          23
         ],
         "y": [
          78,
          72.9,
          66.58,
          65.63,
          69.44,
          64.81,
          93.43,
          97.41,
          91.26,
          69.65,
          39.96,
          35.59,
          24.95,
          15.29,
          -4.42,
          -9.74,
          7.05,
          49.06,
          59.69,
          66.12,
          70.02,
          65.91,
          65.99,
          74.21
         ]
        },
        {
         "name": "2023-05-23 (Proj)",
         "type": "scatter",
         "x": [
          0,
          1,
          2,
          3,
          4,
          5,
          6,
          7,
          8,
          9,
          10,
          11,
          12,
          13,
          14,
          15,
          16,
          17,
          18,
          19,
          20,
          21,
          22,
          23
         ],
         "y": [
          80.11963113694722,
          74.97272942267954,
          71.75770699195732,
          69.67848758117563,
          69.65881791459334,
          71.84549244008444,
          83.65919228596404,
          87.31355274934263,
          82.42135703400768,
          62.44342275862837,
          46.76711863089598,
          29.75005210927806,
          17.745495145082973,
          10.770944885016249,
          3.5396646833057197,
          6.47027941696355,
          21.359515017056953,
          49.19063735092706,
          62.26833894259971,
          62.545969396775654,
          62.18451439017206,
          68.15560185619287,
          70.99913793348384,
          66.60210897789135
         ]
        },
        {
         "name": "2023-05-24",
         "type": "scatter",
         "x": [
          0,
          1,
          2,
          3,
          4,
          5,
          6,
          7,
          8,
          9,
          10,
          11,
          12,
          13,
          14,
          15,
          16,
          17,
          18,
          19,
          20,
          21,
          22,
          23
         ],
         "y": [
          74.66,
          69.28,
          71.7,
          71.24,
          74.69,
          84.92,
          110.68,
          127.23,
          120.98,
          99.05,
          85.7,
          97.11,
          98.94,
          81.9,
          89.45,
          75.01,
          92.26,
          103.15,
          123.11,
          201.81,
          221.8,
          185.54,
          112.68,
          97.66
         ]
        },
        {
         "name": "2023-05-24 (Proj)",
         "type": "scatter",
         "x": [
          0,
          1,
          2,
          3,
          4,
          5,
          6,
          7,
          8,
          9,
          10,
          11,
          12,
          13,
          14,
          15,
          16,
          17,
          18,
          19,
          20,
          21,
          22,
          23
         ],
         "y": [
          74.62433437324704,
          70.94541094147972,
          70.98476232283399,
          71.33711206177915,
          72.33615171704042,
          84.30388021910318,
          99.56113179632258,
          113.64687610451878,
          112.88679789880015,
          107.17554740800304,
          98.62439567975932,
          97.6431013375114,
          93.27361522770086,
          81.2543582135241,
          85.5104260341129,
          87.54828711311129,
          95.90592497404091,
          111.63892226466646,
          135.32183182581915,
          178.22736769001256,
          207.81575975050725,
          179.13408149790303,
          140.34044459882193,
          122.32334780416998
         ]
        },
        {
         "name": "2023-05-25",
         "type": "scatter",
         "x": [
          0,
          1,
          2,
          3,
          4,
          5,
          6,
          7,
          8,
          9,
          10,
          11,
          12,
          13,
          14,
          15,
          16,
          17,
          18,
          19,
          20,
          21,
          22,
          23
         ],
         "y": [
          64.87,
          56.81,
          48.59,
          43.6,
          40.79,
          47.32,
          95.6,
          90.94,
          84.5,
          53.39,
          58.08,
          45.69,
          29.92,
          19.69,
          3.62,
          4.57,
          11.36,
          38.41,
          53.18,
          54.75,
          68.24,
          96.76,
          67.89,
          73.03
         ]
        },
        {
         "name": "2023-05-25 (Proj)",
         "type": "scatter",
         "x": [
          0,
          1,
          2,
          3,
          4,
          5,
          6,
          7,
          8,
          9,
          10,
          11,
          12,
          13,
          14,
          15,
          16,
          17,
          18,
          19,
          20,
          21,
          22,
          23
         ],
         "y": [
          60.559339140946236,
          55.662032379422925,
          53.33991679552422,
          51.02003657954693,
          50.81879987946019,
          55.05009303587422,
          71.54984468829676,
          77.12498705015403,
          75.11948399173727,
          61.1987140815008,
          50.45605467101355,
          38.02096780386846,
          26.292714910670774,
          21.136444295345648,
          13.051950346453157,
          13.813142962462898,
          24.40382925164365,
          45.99236602762494,
          57.603307237210984,
          63.1452651754677,
          69.5007939825511,
          76.0294794108221,
          69.1981683352389,
          61.79965727551446
         ]
        }
       ],
       "layout": {
        "template": {
         "data": {
          "bar": [
           {
            "error_x": {
             "color": "#2a3f5f"
            },
            "error_y": {
             "color": "#2a3f5f"
            },
            "marker": {
             "line": {
              "color": "#E5ECF6",
              "width": 0.5
             },
             "pattern": {
              "fillmode": "overlay",
              "size": 10,
              "solidity": 0.2
             }
            },
            "type": "bar"
           }
          ],
          "barpolar": [
           {
            "marker": {
             "line": {
              "color": "#E5ECF6",
              "width": 0.5
             },
             "pattern": {
              "fillmode": "overlay",
              "size": 10,
              "solidity": 0.2
             }
            },
            "type": "barpolar"
           }
          ],
          "carpet": [
           {
            "aaxis": {
             "endlinecolor": "#2a3f5f",
             "gridcolor": "white",
             "linecolor": "white",
             "minorgridcolor": "white",
             "startlinecolor": "#2a3f5f"
            },
            "baxis": {
             "endlinecolor": "#2a3f5f",
             "gridcolor": "white",
             "linecolor": "white",
             "minorgridcolor": "white",
             "startlinecolor": "#2a3f5f"
            },
            "type": "carpet"
           }
          ],
          "choropleth": [
           {
            "colorbar": {
             "outlinewidth": 0,
             "ticks": ""
            },
            "type": "choropleth"
           }
          ],
          "contour": [
           {
            "colorbar": {
             "outlinewidth": 0,
             "ticks": ""
            },
            "colorscale": [
             [
              0,
              "#0d0887"
             ],
             [
              0.1111111111111111,
              "#46039f"
             ],
             [
              0.2222222222222222,
              "#7201a8"
             ],
             [
              0.3333333333333333,
              "#9c179e"
             ],
             [
              0.4444444444444444,
              "#bd3786"
             ],
             [
              0.5555555555555556,
              "#d8576b"
             ],
             [
              0.6666666666666666,
              "#ed7953"
             ],
             [
              0.7777777777777778,
              "#fb9f3a"
             ],
             [
              0.8888888888888888,
              "#fdca26"
             ],
             [
              1,
              "#f0f921"
             ]
            ],
            "type": "contour"
           }
          ],
          "contourcarpet": [
           {
            "colorbar": {
             "outlinewidth": 0,
             "ticks": ""
            },
            "type": "contourcarpet"
           }
          ],
          "heatmap": [
           {
            "colorbar": {
             "outlinewidth": 0,
             "ticks": ""
            },
            "colorscale": [
             [
              0,
              "#0d0887"
             ],
             [
              0.1111111111111111,
              "#46039f"
             ],
             [
              0.2222222222222222,
              "#7201a8"
             ],
             [
              0.3333333333333333,
              "#9c179e"
             ],
             [
              0.4444444444444444,
              "#bd3786"
             ],
             [
              0.5555555555555556,
              "#d8576b"
             ],
             [
              0.6666666666666666,
              "#ed7953"
             ],
             [
              0.7777777777777778,
              "#fb9f3a"
             ],
             [
              0.8888888888888888,
              "#fdca26"
             ],
             [
              1,
              "#f0f921"
             ]
            ],
            "type": "heatmap"
           }
          ],
          "heatmapgl": [
           {
            "colorbar": {
             "outlinewidth": 0,
             "ticks": ""
            },
            "colorscale": [
             [
              0,
              "#0d0887"
             ],
             [
              0.1111111111111111,
              "#46039f"
             ],
             [
              0.2222222222222222,
              "#7201a8"
             ],
             [
              0.3333333333333333,
              "#9c179e"
             ],
             [
              0.4444444444444444,
              "#bd3786"
             ],
             [
              0.5555555555555556,
              "#d8576b"
             ],
             [
              0.6666666666666666,
              "#ed7953"
             ],
             [
              0.7777777777777778,
              "#fb9f3a"
             ],
             [
              0.8888888888888888,
              "#fdca26"
             ],
             [
              1,
              "#f0f921"
             ]
            ],
            "type": "heatmapgl"
           }
          ],
          "histogram": [
           {
            "marker": {
             "pattern": {
              "fillmode": "overlay",
              "size": 10,
              "solidity": 0.2
             }
            },
            "type": "histogram"
           }
          ],
          "histogram2d": [
           {
            "colorbar": {
             "outlinewidth": 0,
             "ticks": ""
            },
            "colorscale": [
             [
              0,
              "#0d0887"
             ],
             [
              0.1111111111111111,
              "#46039f"
             ],
             [
              0.2222222222222222,
              "#7201a8"
             ],
             [
              0.3333333333333333,
              "#9c179e"
             ],
             [
              0.4444444444444444,
              "#bd3786"
             ],
             [
              0.5555555555555556,
              "#d8576b"
             ],
             [
              0.6666666666666666,
              "#ed7953"
             ],
             [
              0.7777777777777778,
              "#fb9f3a"
             ],
             [
              0.8888888888888888,
              "#fdca26"
             ],
             [
              1,
              "#f0f921"
             ]
            ],
            "type": "histogram2d"
           }
          ],
          "histogram2dcontour": [
           {
            "colorbar": {
             "outlinewidth": 0,
             "ticks": ""
            },
            "colorscale": [
             [
              0,
              "#0d0887"
             ],
             [
              0.1111111111111111,
              "#46039f"
             ],
             [
              0.2222222222222222,
              "#7201a8"
             ],
             [
              0.3333333333333333,
              "#9c179e"
             ],
             [
              0.4444444444444444,
              "#bd3786"
             ],
             [
              0.5555555555555556,
              "#d8576b"
             ],
             [
              0.6666666666666666,
              "#ed7953"
             ],
             [
              0.7777777777777778,
              "#fb9f3a"
             ],
             [
              0.8888888888888888,
              "#fdca26"
             ],
             [
              1,
              "#f0f921"
             ]
            ],
            "type": "histogram2dcontour"
           }
          ],
          "mesh3d": [
           {
            "colorbar": {
             "outlinewidth": 0,
             "ticks": ""
            },
            "type": "mesh3d"
           }
          ],
          "parcoords": [
           {
            "line": {
             "colorbar": {
              "outlinewidth": 0,
              "ticks": ""
             }
            },
            "type": "parcoords"
           }
          ],
          "pie": [
           {
            "automargin": true,
            "type": "pie"
           }
          ],
          "scatter": [
           {
            "fillpattern": {
             "fillmode": "overlay",
             "size": 10,
             "solidity": 0.2
            },
            "type": "scatter"
           }
          ],
          "scatter3d": [
           {
            "line": {
             "colorbar": {
              "outlinewidth": 0,
              "ticks": ""
             }
            },
            "marker": {
             "colorbar": {
              "outlinewidth": 0,
              "ticks": ""
             }
            },
            "type": "scatter3d"
           }
          ],
          "scattercarpet": [
           {
            "marker": {
             "colorbar": {
              "outlinewidth": 0,
              "ticks": ""
             }
            },
            "type": "scattercarpet"
           }
          ],
          "scattergeo": [
           {
            "marker": {
             "colorbar": {
              "outlinewidth": 0,
              "ticks": ""
             }
            },
            "type": "scattergeo"
           }
          ],
          "scattergl": [
           {
            "marker": {
             "colorbar": {
              "outlinewidth": 0,
              "ticks": ""
             }
            },
            "type": "scattergl"
           }
          ],
          "scattermapbox": [
           {
            "marker": {
             "colorbar": {
              "outlinewidth": 0,
              "ticks": ""
             }
            },
            "type": "scattermapbox"
           }
          ],
          "scatterpolar": [
           {
            "marker": {
             "colorbar": {
              "outlinewidth": 0,
              "ticks": ""
             }
            },
            "type": "scatterpolar"
           }
          ],
          "scatterpolargl": [
           {
            "marker": {
             "colorbar": {
              "outlinewidth": 0,
              "ticks": ""
             }
            },
            "type": "scatterpolargl"
           }
          ],
          "scatterternary": [
           {
            "marker": {
             "colorbar": {
              "outlinewidth": 0,
              "ticks": ""
             }
            },
            "type": "scatterternary"
           }
          ],
          "surface": [
           {
            "colorbar": {
             "outlinewidth": 0,
             "ticks": ""
            },
            "colorscale": [
             [
              0,
              "#0d0887"
             ],
             [
              0.1111111111111111,
              "#46039f"
             ],
             [
              0.2222222222222222,
              "#7201a8"
             ],
             [
              0.3333333333333333,
              "#9c179e"
             ],
             [
              0.4444444444444444,
              "#bd3786"
             ],
             [
              0.5555555555555556,
              "#d8576b"
             ],
             [
              0.6666666666666666,
              "#ed7953"
             ],
             [
              0.7777777777777778,
              "#fb9f3a"
             ],
             [
              0.8888888888888888,
              "#fdca26"
             ],
             [
              1,
              "#f0f921"
             ]
            ],
            "type": "surface"
           }
          ],
          "table": [
           {
            "cells": {
             "fill": {
              "color": "#EBF0F8"
             },
             "line": {
              "color": "white"
             }
            },
            "header": {
             "fill": {
              "color": "#C8D4E3"
             },
             "line": {
              "color": "white"
             }
            },
            "type": "table"
           }
          ]
         },
         "layout": {
          "annotationdefaults": {
           "arrowcolor": "#2a3f5f",
           "arrowhead": 0,
           "arrowwidth": 1
          },
          "autotypenumbers": "strict",
          "coloraxis": {
           "colorbar": {
            "outlinewidth": 0,
            "ticks": ""
           }
          },
          "colorscale": {
           "diverging": [
            [
             0,
             "#8e0152"
            ],
            [
             0.1,
             "#c51b7d"
            ],
            [
             0.2,
             "#de77ae"
            ],
            [
             0.3,
             "#f1b6da"
            ],
            [
             0.4,
             "#fde0ef"
            ],
            [
             0.5,
             "#f7f7f7"
            ],
            [
             0.6,
             "#e6f5d0"
            ],
            [
             0.7,
             "#b8e186"
            ],
            [
             0.8,
             "#7fbc41"
            ],
            [
             0.9,
             "#4d9221"
            ],
            [
             1,
             "#276419"
            ]
           ],
           "sequential": [
            [
             0,
             "#0d0887"
            ],
            [
             0.1111111111111111,
             "#46039f"
            ],
            [
             0.2222222222222222,
             "#7201a8"
            ],
            [
             0.3333333333333333,
             "#9c179e"
            ],
            [
             0.4444444444444444,
             "#bd3786"
            ],
            [
             0.5555555555555556,
             "#d8576b"
            ],
            [
             0.6666666666666666,
             "#ed7953"
            ],
            [
             0.7777777777777778,
             "#fb9f3a"
            ],
            [
             0.8888888888888888,
             "#fdca26"
            ],
            [
             1,
             "#f0f921"
            ]
           ],
           "sequentialminus": [
            [
             0,
             "#0d0887"
            ],
            [
             0.1111111111111111,
             "#46039f"
            ],
            [
             0.2222222222222222,
             "#7201a8"
            ],
            [
             0.3333333333333333,
             "#9c179e"
            ],
            [
             0.4444444444444444,
             "#bd3786"
            ],
            [
             0.5555555555555556,
             "#d8576b"
            ],
            [
             0.6666666666666666,
             "#ed7953"
            ],
            [
             0.7777777777777778,
             "#fb9f3a"
            ],
            [
             0.8888888888888888,
             "#fdca26"
            ],
            [
             1,
             "#f0f921"
            ]
           ]
          },
          "colorway": [
           "#636efa",
           "#EF553B",
           "#00cc96",
           "#ab63fa",
           "#FFA15A",
           "#19d3f3",
           "#FF6692",
           "#B6E880",
           "#FF97FF",
           "#FECB52"
          ],
          "font": {
           "color": "#2a3f5f"
          },
          "geo": {
           "bgcolor": "white",
           "lakecolor": "white",
           "landcolor": "#E5ECF6",
           "showlakes": true,
           "showland": true,
           "subunitcolor": "white"
          },
          "hoverlabel": {
           "align": "left"
          },
          "hovermode": "closest",
          "mapbox": {
           "style": "light"
          },
          "paper_bgcolor": "white",
          "plot_bgcolor": "#E5ECF6",
          "polar": {
           "angularaxis": {
            "gridcolor": "white",
            "linecolor": "white",
            "ticks": ""
           },
           "bgcolor": "#E5ECF6",
           "radialaxis": {
            "gridcolor": "white",
            "linecolor": "white",
            "ticks": ""
           }
          },
          "scene": {
           "xaxis": {
            "backgroundcolor": "#E5ECF6",
            "gridcolor": "white",
            "gridwidth": 2,
            "linecolor": "white",
            "showbackground": true,
            "ticks": "",
            "zerolinecolor": "white"
           },
           "yaxis": {
            "backgroundcolor": "#E5ECF6",
            "gridcolor": "white",
            "gridwidth": 2,
            "linecolor": "white",
            "showbackground": true,
            "ticks": "",
            "zerolinecolor": "white"
           },
           "zaxis": {
            "backgroundcolor": "#E5ECF6",
            "gridcolor": "white",
            "gridwidth": 2,
            "linecolor": "white",
            "showbackground": true,
            "ticks": "",
            "zerolinecolor": "white"
           }
          },
          "shapedefaults": {
           "line": {
            "color": "#2a3f5f"
           }
          },
          "ternary": {
           "aaxis": {
            "gridcolor": "white",
            "linecolor": "white",
            "ticks": ""
           },
           "baxis": {
            "gridcolor": "white",
            "linecolor": "white",
            "ticks": ""
           },
           "bgcolor": "#E5ECF6",
           "caxis": {
            "gridcolor": "white",
            "linecolor": "white",
            "ticks": ""
           }
          },
          "title": {
           "x": 0.05
          },
          "xaxis": {
           "automargin": true,
           "gridcolor": "white",
           "linecolor": "white",
           "ticks": "",
           "title": {
            "standoff": 15
           },
           "zerolinecolor": "white",
           "zerolinewidth": 2
          },
          "yaxis": {
           "automargin": true,
           "gridcolor": "white",
           "linecolor": "white",
           "ticks": "",
           "title": {
            "standoff": 15
           },
           "zerolinecolor": "white",
           "zerolinewidth": 2
          }
         }
        }
       }
      },
      "text/html": [
       "<div>                            <div id=\"e3e48963-8bfe-4f56-993d-b3289f722b11\" class=\"plotly-graph-div\" style=\"height:525px; width:100%;\"></div>            <script type=\"text/javascript\">                require([\"plotly\"], function(Plotly) {                    window.PLOTLYENV=window.PLOTLYENV || {};                                    if (document.getElementById(\"e3e48963-8bfe-4f56-993d-b3289f722b11\")) {                    Plotly.newPlot(                        \"e3e48963-8bfe-4f56-993d-b3289f722b11\",                        [{\"name\":\"2023-05-01\",\"x\":[0,1,2,3,4,5,6,7,8,9,10,11,12,13,14,15,16,17,18,19,20,21,22,23],\"y\":[99.75,87.1,83.46,79.43,77.08,74.06,76.55,81.6,79.31,74.5,60.91,42.4,32.21,22.57,13.77,34.98,58.75,89.34,109.95,118.92,121.12,115.39,107.93,85.87],\"type\":\"scatter\"},{\"name\":\"2023-05-01 (Proj)\",\"x\":[0,1,2,3,4,5,6,7,8,9,10,11,12,13,14,15,16,17,18,19,20,21,22,23],\"y\":[86.37879836099764,81.96468393000666,79.62564933899478,78.79822649138823,78.90413408836616,83.70107040704048,90.76583232045635,95.48116246636695,88.17548559466012,72.57169641206089,56.08212571067652,43.21977805941076,33.8747241468505,22.49392602247496,22.51760631875453,28.099892689172332,45.27387725898215,73.86346815747764,95.9950147880063,117.2020721647057,128.86258591968655,118.372087043585,107.27770751838202,98.33561898853343],\"type\":\"scatter\"},{\"name\":\"2023-05-02\",\"x\":[0,1,2,3,4,5,6,7,8,9,10,11,12,13,14,15,16,17,18,19,20,21,22,23],\"y\":[93.19,82.93,82.18,80.34,76.91,86.61,105.18,122.09,128.21,116.01,101.52,89.16,76.86,78.5,70.22,67.7,68.27,89.54,108.22,118.85,126.76,124.5,118.13,112.32],\"type\":\"scatter\"},{\"name\":\"2023-05-02 (Proj)\",\"x\":[0,1,2,3,4,5,6,7,8,9,10,11,12,13,14,15,16,17,18,19,20,21,22,23],\"y\":[88.05440874981021,83.29832790235032,81.79581012925591,81.17818921851433,82.57393804750942,90.80690169716462,109.27832750623529,122.73003058055255,123.79087070660864,107.50654416289501,96.32510605897103,87.78251155073599,81.19124669797372,72.55870328978209,69.51560612741355,69.53198987006029,77.31944234704304,95.72912808858305,109.4857233192435,124.39071356307605,134.9142147487338,121.52256205112771,104.85489913037424,93.83096631868347],\"type\":\"scatter\"},{\"name\":\"2023-05-03\",\"x\":[0,1,2,3,4,5,6,7,8,9,10,11,12,13,14,15,16,17,18,19,20,21,22,23],\"y\":[98.0,103.02,99.57,95.5,94.43,104.79,119.78,132.93,131.46,112.84,93.5,91.34,94.92,80.64,69.47,62.57,72.16,103.96,119.77,139.66,163.54,129.98,113.93,105.17],\"type\":\"scatter\"},{\"name\":\"2023-05-03 (Proj)\",\"x\":[0,1,2,3,4,5,6,7,8,9,10,11,12,13,14,15,16,17,18,19,20,21,22,23],\"y\":[101.26568005840338,96.58453617704754,94.87493044781111,94.7946728204097,96.37869629709613,104.3799829671805,119.08021131292905,132.07055997695005,131.01551476914761,112.61294701375802,98.53927614568343,88.82824697693113,83.00861750835804,72.05069922874506,71.66258516922117,73.55692615291167,84.19206153389112,106.05558287786332,123.19667138932678,141.42965059891858,151.83852273004757,132.86701728878893,117.17144685363925,106.36749833209268],\"type\":\"scatter\"},{\"name\":\"2023-05-04\",\"x\":[0,1,2,3,4,5,6,7,8,9,10,11,12,13,14,15,16,17,18,19,20,21,22,23],\"y\":[95.45,90.15,88.32,89.66,89.08,99.22,115.76,128.97,119.3,103.52,85.72,71.63,62.39,44.56,44.15,55.48,70.88,96.82,108.59,114.6,115.74,112.98,101.76,89.43],\"type\":\"scatter\"},{\"name\":\"2023-05-04 (Proj)\",\"x\":[0,1,2,3,4,5,6,7,8,9,10,11,12,13,14,15,16,17,18,19,20,21,22,23],\"y\":[98.9959036458105,94.05656854226532,91.7047286413015,91.02182870798711,92.24279982173928,98.12975073283562,111.94772917281094,122.23049055014356,120.07402152812287,99.57437714889221,84.32740428663553,71.46723194686638,63.764343596023885,54.027554507861616,51.16763629858271,53.336319745956985,65.44920391562202,89.76602467348243,104.9542235570814,115.05661367561646,120.0076154507074,109.12321230993903,101.53287067115252,93.42915563893968],\"type\":\"scatter\"},{\"name\":\"2023-05-05\",\"x\":[0,1,2,3,4,5,6,7,8,9,10,11,12,13,14,15,16,17,18,19,20,21,22,23],\"y\":[82.66,77.53,78.16,78.24,81.19,88.66,89.71,103.77,87.4,53.53,35.9,8.01,7.28,8.31,6.53,7.33,16.96,67.42,71.02,70.61,70.32,68.92,67.54,60.87],\"type\":\"scatter\"},{\"name\":\"2023-05-05 (Proj)\",\"x\":[0,1,2,3,4,5,6,7,8,9,10,11,12,13,14,15,16,17,18,19,20,21,22,23],\"y\":[89.92253342833648,84.76303544656933,81.17963729683248,79.34476808606543,79.34793368248627,80.66995872763577,89.05829269552872,91.41233249585831,84.38906715125174,62.11057597475807,43.70827613093127,24.760136584170922,12.767442190366268,4.2691196693599025,-1.5451199575348298,3.0403419795596207,20.769474482268595,52.22506228973177,67.53082158174928,68.11760909813644,66.05192424686987,70.04223708904402,76.15826720367286,72.77210030902204],\"type\":\"scatter\"},{\"name\":\"2023-05-06\",\"x\":[0,1,2,3,4,5,6,7,8,9,10,11,12,13,14,15,16,17,18,19,20,21,22,23],\"y\":[60.04,55.57,54.77,57.49,55.31,65.3,60.12,69.58,75.59,83.13,77.71,69.46,51.48,40.1,38.98,47.33,66.78,74.17,79.4,85.78,94.7,94.94,91.46,63.8],\"type\":\"scatter\"},{\"name\":\"2023-05-06 (Proj)\",\"x\":[0,1,2,3,4,5,6,7,8,9,10,11,12,13,14,15,16,17,18,19,20,21,22,23],\"y\":[58.43879561766299,53.787601933307855,52.39813911999785,50.617605343255164,50.91075279608796,58.111069759329496,78.25532546296412,88.13517993228854,89.10044517487988,78.42545224782465,70.72354464070966,62.94178082310361,53.456114014513304,47.99794940083246,41.555997005661524,40.71154428828468,47.49971711638673,63.806938499312885,75.6234562109521,89.00198383473156,101.82254478303717,100.48631422571346,83.01288089471427,72.0855065648643],\"type\":\"scatter\"},{\"name\":\"2023-05-07\",\"x\":[0,1,2,3,4,5,6,7,8,9,10,11,12,13,14,15,16,17,18,19,20,21,22,23],\"y\":[71.48,69.79,67.88,67.41,65.98,68.59,73.16,71.61,68.61,54.13,13.61,-5.93,-3.77,-10.53,-6.73,-5.04,36.96,63.29,78.08,86.2,83.47,88.37,83.93,83.11],\"type\":\"scatter\"},{\"name\":\"2023-05-07 (Proj)\",\"x\":[0,1,2,3,4,5,6,7,8,9,10,11,12,13,14,15,16,17,18,19,20,21,22,23],\"y\":[77.92811916510743,73.37109567633495,70.28563986339698,68.62352551812539,67.89614100621881,69.80492505327486,73.95745129680147,73.59035353335005,63.46279350483772,47.21436970238678,29.216171153393482,12.689045469922767,0.436680496853306,-9.765856596158315,-12.047495097367225,-5.196761307668808,15.141252665899742,47.73767886289206,69.47242588457146,84.24420771438656,91.59664665252126,91.60562265102399,88.99098901332188,82.9960851955126],\"type\":\"scatter\"},{\"name\":\"2023-05-08\",\"x\":[0,1,2,3,4,5,6,7,8,9,10,11,12,13,14,15,16,17,18,19,20,21,22,23],\"y\":[79.42,84.46,84.18,81.14,74.64,78.94,98.19,109.88,109.35,96.4,85.31,78.58,69.52,61.86,54.23,52.59,59.69,79.94,93.7,88.97,98.13,99.39,93.46,82.89],\"type\":\"scatter\"},{\"name\":\"2023-05-08 (Proj)\",\"x\":[0,1,2,3,4,5,6,7,8,9,10,11,12,13,14,15,16,17,18,19,20,21,22,23],\"y\":[83.74115664615233,78.69499783880717,76.67647801244877,75.40239759690189,76.52117663276107,83.03429614526802,102.23374681335598,113.86653707674728,114.91160195272387,96.90941521738375,85.52497437516031,74.49623261909599,66.18069031616562,59.34984330045195,53.21526376955341,52.719203526386025,60.67696749140592,80.03001163275954,90.63630735313846,96.6070091434656,101.78830138369219,96.9199343643421,87.45353298182647,78.82799593749341],\"type\":\"scatter\"},{\"name\":\"2023-05-09\",\"x\":[0,1,2,3,4,5,6,7,8,9,10,11,12,13,14,15,16,17,18,19,20,21,22,23],\"y\":[70.97,64.64,62.55,64.72,63.59,73.8,73.4,79.09,73.49,69.44,71.15,58.33,45.74,40.0,37.7,47.08,54.8,69.95,72.78,82.86,82.36,86.93,85.08,75.76],\"type\":\"scatter\"},{\"name\":\"2023-05-09 (Proj)\",\"x\":[0,1,2,3,4,5,6,7,8,9,10,11,12,13,14,15,16,17,18,19,20,21,22,23],\"y\":[67.87181905528992,63.038251964555485,61.09226580336947,59.32041464518982,59.660610813965874,65.49264505440372,83.33881754721915,91.90458569329002,91.37321674548109,77.23220122999989,66.92862469452018,56.31993227697447,46.386380092023366,40.30521343641696,33.752488778219806,33.94025891831089,42.98747386867346,62.70430822857651,74.71220658097602,83.74310289315564,92.10639882239896,91.9958495463403,80.84452425784042,71.90731803952039],\"type\":\"scatter\"},{\"name\":\"2023-05-10\",\"x\":[0,1,2,3,4,5,6,7,8,9,10,11,12,13,14,15,16,17,18,19,20,21,22,23],\"y\":[67.58,64.53,60.28,58.88,61.33,74.01,84.82,90.7,85.73,91.66,93.58,94.32,90.45,88.3,85.59,86.9,85.62,95.09,122.54,149.58,191.51,153.41,129.03,113.95],\"type\":\"scatter\"},{\"name\":\"2023-05-10 (Proj)\",\"x\":[0,1,2,3,4,5,6,7,8,9,10,11,12,13,14,15,16,17,18,19,20,21,22,23],\"y\":[61.29248339917642,57.51444051049153,57.64494724688228,57.38097196679081,58.10815984042084,69.91436468144849,88.42462493604943,102.34014603850773,103.26534234634782,99.36611016553525,93.34089643839042,92.9505165204541,87.48570416855036,77.83792436027169,79.23657194347109,79.62859994375233,85.66342237509885,98.63506014543714,118.96849050747073,157.67319618831857,186.65859301782024,164.6483662123746,126.17230650076046,108.3694896540085],\"type\":\"scatter\"},{\"name\":\"2023-05-11\",\"x\":[0,1,2,3,4,5,6,7,8,9,10,11,12,13,14,15,16,17,18,19,20,21,22,23],\"y\":[103.1,98.21,96.99,99.18,97.97,104.9,119.7,145.67,170.12,129.89,119.78,112.68,103.95,96.44,102.38,106.25,107.77,114.16,124.83,138.44,136.11,118.13,110.91,98.67],\"type\":\"scatter\"},{\"name\":\"2023-05-11 (Proj)\",\"x\":[0,1,2,3,4,5,6,7,8,9,10,11,12,13,14,15,16,17,18,19,20,21,22,23],\"y\":[103.10652731743225,98.00342156022025,96.56877303652055,96.37707673915524,98.82605410053364,108.3517373222422,131.332441138375,149.79559573474995,154.63450512482143,134.1435497066871,123.31550305911324,115.1097877682428,110.53169470969277,102.22277932539528,98.23039365333827,95.99702675183488,100.22800582133881,115.69978730869482,125.3064709844104,134.03451916311823,140.26801997006112,122.94601760968808,107.62736925924092,96.75076598849228],\"type\":\"scatter\"},{\"name\":\"2023-05-12\",\"x\":[0,1,2,3,4,5,6,7,8,9,10,11,12,13,14,15,16,17,18,19,20,21,22,23],\"y\":[94.24,86.05,83.0,80.78,84.15,88.37,112.25,125.0,145.1,112.27,85.07,66.65,48.63,43.88,41.01,36.63,44.59,83.28,103.42,113.43,113.69,108.34,99.03,102.67],\"type\":\"scatter\"},{\"name\":\"2023-05-12 (Proj)\",\"x\":[0,1,2,3,4,5,6,7,8,9,10,11,12,13,14,15,16,17,18,19,20,21,22,23],\"y\":[97.12278393278812,92.165770403327,89.71350957261018,88.88725693658714,89.96739343589459,95.43122685116057,108.89327315293164,118.39225021188051,115.84811461355203,95.39075319270293,80.02061025164579,66.67242792350507,58.49921841799528,49.00352431637616,45.74023047119596,48.06032262658087,60.581739844271496,85.39756713325434,100.47779923042526,109.64408656289582,114.04937107431259,104.90720126767603,98.47227037825195,90.77889939854703],\"type\":\"scatter\"},{\"name\":\"2023-05-13\",\"x\":[0,1,2,3,4,5,6,7,8,9,10,11,12,13,14,15,16,17,18,19,20,21,22,23],\"y\":[96.25,92.5,89.88,92.51,87.24,96.17,103.69,104.65,95.85,74.74,62.48,26.76,6.07,-0.68,3.56,11.64,31.99,64.16,87.3,98.67,109.04,91.69,104.5,103.66],\"type\":\"scatter\"},{\"name\":\"2023-05-13 (Proj)\",\"x\":[0,1,2,3,4,5,6,7,8,9,10,11,12,13,14,15,16,17,18,19,20,21,22,23],\"y\":[101.8938170010299,97.09257062081075,93.6553665014765,92.68850374928347,92.80933491928104,94.79764340112715,97.98435565324215,99.95270296148496,90.0045337832775,67.92402081763049,46.817147481748,28.40809007723877,17.867694053363703,5.813218137352777,4.922130842857094,12.203572514083252,33.394448792853325,68.2005128229996,89.94307719763408,101.44326634518501,104.03906110451841,97.70497067809647,99.39310413386686,94.50640280617588],\"type\":\"scatter\"},{\"name\":\"2023-05-14\",\"x\":[0,1,2,3,4,5,6,7,8,9,10,11,12,13,14,15,16,17,18,19,20,21,22,23],\"y\":[107.96,105.59,98.49,98.54,98.78,105.16,100.07,86.3,64.05,62.47,61.4,47.7,40.75,24.64,22.88,48.58,68.34,98.01,115.82,122.12,132.62,132.66,123.8,114.17],\"type\":\"scatter\"},{\"name\":\"2023-05-14 (Proj)\",\"x\":[0,1,2,3,4,5,6,7,8,9,10,11,12,13,14,15,16,17,18,19,20,21,22,23],\"y\":[101.63930007941892,97.28596635054716,94.65946602739352,94.41006344243394,94.72049123634555,99.10551670658555,101.82967396496467,105.87942118209779,96.11017834861556,77.83997169527828,57.935099697997984,43.48714307206051,34.914132493030344,20.956984463475557,23.829186251902822,31.56003418283227,52.07270070334589,84.78432984870327,110.5955460990694,134.90389315426185,145.94062200258492,129.5984594058968,120.2764324603309,111.80061156068712],\"type\":\"scatter\"},{\"name\":\"2023-05-15\",\"x\":[0,1,2,3,4,5,6,7,8,9,10,11,12,13,14,15,16,17,18,19,20,21,22,23],\"y\":[107.45,99.94,99.41,98.98,110.76,108.47,131.61,156.23,139.38,122.15,110.25,97.54,88.67,83.91,80.33,77.8,77.22,84.64,97.47,98.56,106.48,105.52,99.6,86.98],\"type\":\"scatter\"},{\"name\":\"2023-05-15 (Proj)\",\"x\":[0,1,2,3,4,5,6,7,8,9,10,11,12,13,14,15,16,17,18,19,20,21,22,23],\"y\":[107.46194463003617,101.99154927861142,99.6202219750426,98.89240435245286,101.07867228049552,107.85280182722894,128.7930732001956,144.1479290507587,147.20493558634737,122.44771884204664,108.94177464745457,96.08288495424722,89.56626004543118,82.02203875041491,75.6237219506281,74.18384390328302,81.02574443666224,100.75057761326462,108.48102038848425,106.70848874864333,104.93881130187269,95.71558595333057,91.88148699403075,84.74635398658695],\"type\":\"scatter\"},{\"name\":\"2023-05-16\",\"x\":[0,1,2,3,4,5,6,7,8,9,10,11,12,13,14,15,16,17,18,19,20,21,22,23],\"y\":[67.63,62.12,57.99,49.36,50.07,57.31,76.27,67.9,68.3,65.07,64.02,58.9,57.09,48.5,30.81,30.16,50.39,64.33,67.13,67.9,65.5,56.81,34.58,27.72],\"type\":\"scatter\"},{\"name\":\"2023-05-16 (Proj)\",\"x\":[0,1,2,3,4,5,6,7,8,9,10,11,12,13,14,15,16,17,18,19,20,21,22,23],\"y\":[58.04850480119592,52.84707135917226,50.83239219339106,48.31612927578763,48.70248730856315,54.25149200654034,77.86586440408487,87.68984182024928,90.61238746288258,76.001362475603,68.53775312168429,57.768492326661224,46.83518952264751,44.179513848434134,32.90799995195144,30.1357660173573,35.184583355139175,50.98286751403161,56.343150490158585,54.71377642261041,58.5387934270393,67.31932297562898,59.848892019614354,52.127466277323535],\"type\":\"scatter\"},{\"name\":\"2023-05-17\",\"x\":[0,1,2,3,4,5,6,7,8,9,10,11,12,13,14,15,16,17,18,19,20,21,22,23],\"y\":[21.03,21.51,22.97,25.2,24.06,28.96,40.59,59.42,56.98,52.12,42.02,29.31,3.04,-1.16,-1.29,3.33,3.64,48.96,63.43,69.83,100.51,123.42,105.37,99.26],\"type\":\"scatter\"},{\"name\":\"2023-05-17 (Proj)\",\"x\":[0,1,2,3,4,5,6,7,8,9,10,11,12,13,14,15,16,17,18,19,20,21,22,23],\"y\":[33.96797894769432,30.078616737576148,28.938804929168747,26.78841859358529,25.45915868261632,31.628490765905582,44.245847986621044,46.9258527396885,41.83980554190019,39.67051555714117,31.920903945361786,25.349900894935725,13.47774619696241,6.64203507954068,3.419800286129952,6.427796048786796,18.68847233538406,38.83797215238813,59.200373682501464,88.29465751824519,111.82044316381503,112.38962010488574,87.83905351627081,75.07836987524195],\"type\":\"scatter\"},{\"name\":\"2023-05-18\",\"x\":[0,1,2,3,4,5,6,7,8,9,10,11,12,13,14,15,16,17,18,19,20,21,22,23],\"y\":[92.74,85.79,83.99,81.06,86.15,87.49,90.94,87.94,80.45,62.33,46.28,41.28,22.8,-6.65,-6.74,-4.08,21.35,60.68,90.49,105.52,112.32,107.08,101.74,95.96],\"type\":\"scatter\"},{\"name\":\"2023-05-18 (Proj)\",\"x\":[0,1,2,3,4,5,6,7,8,9,10,11,12,13,14,15,16,17,18,19,20,21,22,23],\"y\":[92.4686573113499,87.92032327920442,84.80869579665428,83.77756346208807,83.54273441312677,85.99772563329464,88.65301944689368,89.76832624732901,79.24548003000116,60.61423270703959,40.714909688989856,23.943988597843486,13.156547166371993,1.054530589433888,0.9746815529393515,8.598940688908172,29.883441439324898,63.88361652339489,87.41814037699216,104.487262096914,111.55351044907974,104.82121547316447,101.8832280326652,95.61969199755721],\"type\":\"scatter\"},{\"name\":\"2023-05-19\",\"x\":[0,1,2,3,4,5,6,7,8,9,10,11,12,13,14,15,16,17,18,19,20,21,22,23],\"y\":[82.52,76.28,74.78,76.45,81.02,90.33,99.97,101.96,102.77,82.42,65.78,50.8,44.65,36.64,36.41,28.84,43.4,67.78,81.7,89.53,90.31,85.03,83.61,75.0],\"type\":\"scatter\"},{\"name\":\"2023-05-19 (Proj)\",\"x\":[0,1,2,3,4,5,6,7,8,9,10,11,12,13,14,15,16,17,18,19,20,21,22,23],\"y\":[86.01204457345263,80.95430732653729,78.32541802493598,76.85143964419585,77.488449391341,81.93500127237365,96.44038301624448,104.17939314673765,101.74612572298382,82.27322116540019,67.99381194442526,53.86719147949415,44.08150739759985,36.416791102000296,30.68020920930278,32.408227725165354,44.52687248006199,68.92113789953672,81.86397972904652,86.51763085046129,89.27308263340197,87.58754601532641,83.96628711287612,77.31995602251189],\"type\":\"scatter\"},{\"name\":\"2023-05-20\",\"x\":[0,1,2,3,4,5,6,7,8,9,10,11,12,13,14,15,16,17,18,19,20,21,22,23],\"y\":[71.72,70.24,66.68,62.64,57.66,55.22,52.82,52.14,40.59,21.27,-1.57,-12.96,-24.24,-24.26,-19.8,-19.52,-11.61,4.4,36.01,59.5,69.5,64.72,67.87,59.13],\"type\":\"scatter\"},{\"name\":\"2023-05-20 (Proj)\",\"x\":[0,1,2,3,4,5,6,7,8,9,10,11,12,13,14,15,16,17,18,19,20,21,22,23],\"y\":[66.98492492537635,62.30081558216404,58.77317066350939,56.32410760914621,54.94131744294357,54.92030545532714,58.45893687555227,54.708532066937096,43.40465476854476,27.521493713267994,9.566659138120045,-9.074040864207134,-23.651913256769333,-32.15224259326993,-37.04520394660158,-30.015507439791392,-8.540614739800695,25.54888821639487,45.73562965006017,54.77572815321579,59.17953588447288,68.63628505007377,71.56252371594509,67.53896740439392],\"type\":\"scatter\"},{\"name\":\"2023-05-21\",\"x\":[0,1,2,3,4,5,6,7,8,9,10,11,12,13,14,15,16,17,18,19,20,21,22,23],\"y\":[67.96,60.83,58.38,52.06,53.02,48.31,48.82,54.86,48.97,28.52,21.07,15.21,-0.31,-11.55,-22.05,-14.66,0.41,4.43,34.61,79.25,84.13,80.57,79.75,63.37],\"type\":\"scatter\"},{\"name\":\"2023-05-21 (Proj)\",\"x\":[0,1,2,3,4,5,6,7,8,9,10,11,12,13,14,15,16,17,18,19,20,21,22,23],\"y\":[58.8772605427971,54.39735741081851,51.61831738370229,49.32673836532787,48.09949374570001,50.16836045339079,57.046341973569355,55.9347996437163,47.01511481049823,34.823361099827025,20.039925833134596,5.18018592264491,-8.282216680448343,-16.264429721657244,-20.711375836952946,-15.1896557351049,3.0096174739526305,32.442314557694296,52.21091563413516,66.76156833630978,76.56632432768902,82.64922879612254,77.20983862427795,70.48832961961703],\"type\":\"scatter\"},{\"name\":\"2023-05-22\",\"x\":[0,1,2,3,4,5,6,7,8,9,10,11,12,13,14,15,16,17,18,19,20,21,22,23],\"y\":[44.44,38.01,41.4,41.15,45.96,57.1,97.56,110.01,108.95,94.41,72.1,48.24,52.74,48.07,51.17,51.32,56.12,71.63,90.67,116.21,137.44,123.57,103.62,87.25],\"type\":\"scatter\"},{\"name\":\"2023-05-22 (Proj)\",\"x\":[0,1,2,3,4,5,6,7,8,9,10,11,12,13,14,15,16,17,18,19,20,21,22,23],\"y\":[56.33325315954083,52.08851742569214,51.30525188498851,50.03206121282688,50.306300505413354,59.13526738417989,78.01626135239049,88.65856094630027,89.04816580796883,81.91842550374881,74.96193257358397,70.1344137690089,61.87037142298984,54.78843268857907,51.52504419346123,51.479607416800626,58.45282575945295,73.77523931030872,89.56507735893652,114.00036151137185,134.04400878240705,125.38218112291338,99.22233785939939,85.50733602661921],\"type\":\"scatter\"},{\"name\":\"2023-05-23\",\"x\":[0,1,2,3,4,5,6,7,8,9,10,11,12,13,14,15,16,17,18,19,20,21,22,23],\"y\":[78.0,72.9,66.58,65.63,69.44,64.81,93.43,97.41,91.26,69.65,39.96,35.59,24.95,15.29,-4.42,-9.74,7.05,49.06,59.69,66.12,70.02,65.91,65.99,74.21],\"type\":\"scatter\"},{\"name\":\"2023-05-23 (Proj)\",\"x\":[0,1,2,3,4,5,6,7,8,9,10,11,12,13,14,15,16,17,18,19,20,21,22,23],\"y\":[80.11963113694722,74.97272942267954,71.75770699195732,69.67848758117563,69.65881791459334,71.84549244008444,83.65919228596404,87.31355274934263,82.42135703400768,62.44342275862837,46.76711863089598,29.75005210927806,17.745495145082973,10.770944885016249,3.5396646833057197,6.47027941696355,21.359515017056953,49.19063735092706,62.26833894259971,62.545969396775654,62.18451439017206,68.15560185619287,70.99913793348384,66.60210897789135],\"type\":\"scatter\"},{\"name\":\"2023-05-24\",\"x\":[0,1,2,3,4,5,6,7,8,9,10,11,12,13,14,15,16,17,18,19,20,21,22,23],\"y\":[74.66,69.28,71.7,71.24,74.69,84.92,110.68,127.23,120.98,99.05,85.7,97.11,98.94,81.9,89.45,75.01,92.26,103.15,123.11,201.81,221.8,185.54,112.68,97.66],\"type\":\"scatter\"},{\"name\":\"2023-05-24 (Proj)\",\"x\":[0,1,2,3,4,5,6,7,8,9,10,11,12,13,14,15,16,17,18,19,20,21,22,23],\"y\":[74.62433437324704,70.94541094147972,70.98476232283399,71.33711206177915,72.33615171704042,84.30388021910318,99.56113179632258,113.64687610451878,112.88679789880015,107.17554740800304,98.62439567975932,97.6431013375114,93.27361522770086,81.2543582135241,85.5104260341129,87.54828711311129,95.90592497404091,111.63892226466646,135.32183182581915,178.22736769001256,207.81575975050725,179.13408149790303,140.34044459882193,122.32334780416998],\"type\":\"scatter\"},{\"name\":\"2023-05-25\",\"x\":[0,1,2,3,4,5,6,7,8,9,10,11,12,13,14,15,16,17,18,19,20,21,22,23],\"y\":[64.87,56.81,48.59,43.6,40.79,47.32,95.6,90.94,84.5,53.39,58.08,45.69,29.92,19.69,3.62,4.57,11.36,38.41,53.18,54.75,68.24,96.76,67.89,73.03],\"type\":\"scatter\"},{\"name\":\"2023-05-25 (Proj)\",\"x\":[0,1,2,3,4,5,6,7,8,9,10,11,12,13,14,15,16,17,18,19,20,21,22,23],\"y\":[60.559339140946236,55.662032379422925,53.33991679552422,51.02003657954693,50.81879987946019,55.05009303587422,71.54984468829676,77.12498705015403,75.11948399173727,61.1987140815008,50.45605467101355,38.02096780386846,26.292714910670774,21.136444295345648,13.051950346453157,13.813142962462898,24.40382925164365,45.99236602762494,57.603307237210984,63.1452651754677,69.5007939825511,76.0294794108221,69.1981683352389,61.79965727551446],\"type\":\"scatter\"}],                        {\"template\":{\"data\":{\"histogram2dcontour\":[{\"type\":\"histogram2dcontour\",\"colorbar\":{\"outlinewidth\":0,\"ticks\":\"\"},\"colorscale\":[[0.0,\"#0d0887\"],[0.1111111111111111,\"#46039f\"],[0.2222222222222222,\"#7201a8\"],[0.3333333333333333,\"#9c179e\"],[0.4444444444444444,\"#bd3786\"],[0.5555555555555556,\"#d8576b\"],[0.6666666666666666,\"#ed7953\"],[0.7777777777777778,\"#fb9f3a\"],[0.8888888888888888,\"#fdca26\"],[1.0,\"#f0f921\"]]}],\"choropleth\":[{\"type\":\"choropleth\",\"colorbar\":{\"outlinewidth\":0,\"ticks\":\"\"}}],\"histogram2d\":[{\"type\":\"histogram2d\",\"colorbar\":{\"outlinewidth\":0,\"ticks\":\"\"},\"colorscale\":[[0.0,\"#0d0887\"],[0.1111111111111111,\"#46039f\"],[0.2222222222222222,\"#7201a8\"],[0.3333333333333333,\"#9c179e\"],[0.4444444444444444,\"#bd3786\"],[0.5555555555555556,\"#d8576b\"],[0.6666666666666666,\"#ed7953\"],[0.7777777777777778,\"#fb9f3a\"],[0.8888888888888888,\"#fdca26\"],[1.0,\"#f0f921\"]]}],\"heatmap\":[{\"type\":\"heatmap\",\"colorbar\":{\"outlinewidth\":0,\"ticks\":\"\"},\"colorscale\":[[0.0,\"#0d0887\"],[0.1111111111111111,\"#46039f\"],[0.2222222222222222,\"#7201a8\"],[0.3333333333333333,\"#9c179e\"],[0.4444444444444444,\"#bd3786\"],[0.5555555555555556,\"#d8576b\"],[0.6666666666666666,\"#ed7953\"],[0.7777777777777778,\"#fb9f3a\"],[0.8888888888888888,\"#fdca26\"],[1.0,\"#f0f921\"]]}],\"heatmapgl\":[{\"type\":\"heatmapgl\",\"colorbar\":{\"outlinewidth\":0,\"ticks\":\"\"},\"colorscale\":[[0.0,\"#0d0887\"],[0.1111111111111111,\"#46039f\"],[0.2222222222222222,\"#7201a8\"],[0.3333333333333333,\"#9c179e\"],[0.4444444444444444,\"#bd3786\"],[0.5555555555555556,\"#d8576b\"],[0.6666666666666666,\"#ed7953\"],[0.7777777777777778,\"#fb9f3a\"],[0.8888888888888888,\"#fdca26\"],[1.0,\"#f0f921\"]]}],\"contourcarpet\":[{\"type\":\"contourcarpet\",\"colorbar\":{\"outlinewidth\":0,\"ticks\":\"\"}}],\"contour\":[{\"type\":\"contour\",\"colorbar\":{\"outlinewidth\":0,\"ticks\":\"\"},\"colorscale\":[[0.0,\"#0d0887\"],[0.1111111111111111,\"#46039f\"],[0.2222222222222222,\"#7201a8\"],[0.3333333333333333,\"#9c179e\"],[0.4444444444444444,\"#bd3786\"],[0.5555555555555556,\"#d8576b\"],[0.6666666666666666,\"#ed7953\"],[0.7777777777777778,\"#fb9f3a\"],[0.8888888888888888,\"#fdca26\"],[1.0,\"#f0f921\"]]}],\"surface\":[{\"type\":\"surface\",\"colorbar\":{\"outlinewidth\":0,\"ticks\":\"\"},\"colorscale\":[[0.0,\"#0d0887\"],[0.1111111111111111,\"#46039f\"],[0.2222222222222222,\"#7201a8\"],[0.3333333333333333,\"#9c179e\"],[0.4444444444444444,\"#bd3786\"],[0.5555555555555556,\"#d8576b\"],[0.6666666666666666,\"#ed7953\"],[0.7777777777777778,\"#fb9f3a\"],[0.8888888888888888,\"#fdca26\"],[1.0,\"#f0f921\"]]}],\"mesh3d\":[{\"type\":\"mesh3d\",\"colorbar\":{\"outlinewidth\":0,\"ticks\":\"\"}}],\"scatter\":[{\"fillpattern\":{\"fillmode\":\"overlay\",\"size\":10,\"solidity\":0.2},\"type\":\"scatter\"}],\"parcoords\":[{\"type\":\"parcoords\",\"line\":{\"colorbar\":{\"outlinewidth\":0,\"ticks\":\"\"}}}],\"scatterpolargl\":[{\"type\":\"scatterpolargl\",\"marker\":{\"colorbar\":{\"outlinewidth\":0,\"ticks\":\"\"}}}],\"bar\":[{\"error_x\":{\"color\":\"#2a3f5f\"},\"error_y\":{\"color\":\"#2a3f5f\"},\"marker\":{\"line\":{\"color\":\"#E5ECF6\",\"width\":0.5},\"pattern\":{\"fillmode\":\"overlay\",\"size\":10,\"solidity\":0.2}},\"type\":\"bar\"}],\"scattergeo\":[{\"type\":\"scattergeo\",\"marker\":{\"colorbar\":{\"outlinewidth\":0,\"ticks\":\"\"}}}],\"scatterpolar\":[{\"type\":\"scatterpolar\",\"marker\":{\"colorbar\":{\"outlinewidth\":0,\"ticks\":\"\"}}}],\"histogram\":[{\"marker\":{\"pattern\":{\"fillmode\":\"overlay\",\"size\":10,\"solidity\":0.2}},\"type\":\"histogram\"}],\"scattergl\":[{\"type\":\"scattergl\",\"marker\":{\"colorbar\":{\"outlinewidth\":0,\"ticks\":\"\"}}}],\"scatter3d\":[{\"type\":\"scatter3d\",\"line\":{\"colorbar\":{\"outlinewidth\":0,\"ticks\":\"\"}},\"marker\":{\"colorbar\":{\"outlinewidth\":0,\"ticks\":\"\"}}}],\"scattermapbox\":[{\"type\":\"scattermapbox\",\"marker\":{\"colorbar\":{\"outlinewidth\":0,\"ticks\":\"\"}}}],\"scatterternary\":[{\"type\":\"scatterternary\",\"marker\":{\"colorbar\":{\"outlinewidth\":0,\"ticks\":\"\"}}}],\"scattercarpet\":[{\"type\":\"scattercarpet\",\"marker\":{\"colorbar\":{\"outlinewidth\":0,\"ticks\":\"\"}}}],\"carpet\":[{\"aaxis\":{\"endlinecolor\":\"#2a3f5f\",\"gridcolor\":\"white\",\"linecolor\":\"white\",\"minorgridcolor\":\"white\",\"startlinecolor\":\"#2a3f5f\"},\"baxis\":{\"endlinecolor\":\"#2a3f5f\",\"gridcolor\":\"white\",\"linecolor\":\"white\",\"minorgridcolor\":\"white\",\"startlinecolor\":\"#2a3f5f\"},\"type\":\"carpet\"}],\"table\":[{\"cells\":{\"fill\":{\"color\":\"#EBF0F8\"},\"line\":{\"color\":\"white\"}},\"header\":{\"fill\":{\"color\":\"#C8D4E3\"},\"line\":{\"color\":\"white\"}},\"type\":\"table\"}],\"barpolar\":[{\"marker\":{\"line\":{\"color\":\"#E5ECF6\",\"width\":0.5},\"pattern\":{\"fillmode\":\"overlay\",\"size\":10,\"solidity\":0.2}},\"type\":\"barpolar\"}],\"pie\":[{\"automargin\":true,\"type\":\"pie\"}]},\"layout\":{\"autotypenumbers\":\"strict\",\"colorway\":[\"#636efa\",\"#EF553B\",\"#00cc96\",\"#ab63fa\",\"#FFA15A\",\"#19d3f3\",\"#FF6692\",\"#B6E880\",\"#FF97FF\",\"#FECB52\"],\"font\":{\"color\":\"#2a3f5f\"},\"hovermode\":\"closest\",\"hoverlabel\":{\"align\":\"left\"},\"paper_bgcolor\":\"white\",\"plot_bgcolor\":\"#E5ECF6\",\"polar\":{\"bgcolor\":\"#E5ECF6\",\"angularaxis\":{\"gridcolor\":\"white\",\"linecolor\":\"white\",\"ticks\":\"\"},\"radialaxis\":{\"gridcolor\":\"white\",\"linecolor\":\"white\",\"ticks\":\"\"}},\"ternary\":{\"bgcolor\":\"#E5ECF6\",\"aaxis\":{\"gridcolor\":\"white\",\"linecolor\":\"white\",\"ticks\":\"\"},\"baxis\":{\"gridcolor\":\"white\",\"linecolor\":\"white\",\"ticks\":\"\"},\"caxis\":{\"gridcolor\":\"white\",\"linecolor\":\"white\",\"ticks\":\"\"}},\"coloraxis\":{\"colorbar\":{\"outlinewidth\":0,\"ticks\":\"\"}},\"colorscale\":{\"sequential\":[[0.0,\"#0d0887\"],[0.1111111111111111,\"#46039f\"],[0.2222222222222222,\"#7201a8\"],[0.3333333333333333,\"#9c179e\"],[0.4444444444444444,\"#bd3786\"],[0.5555555555555556,\"#d8576b\"],[0.6666666666666666,\"#ed7953\"],[0.7777777777777778,\"#fb9f3a\"],[0.8888888888888888,\"#fdca26\"],[1.0,\"#f0f921\"]],\"sequentialminus\":[[0.0,\"#0d0887\"],[0.1111111111111111,\"#46039f\"],[0.2222222222222222,\"#7201a8\"],[0.3333333333333333,\"#9c179e\"],[0.4444444444444444,\"#bd3786\"],[0.5555555555555556,\"#d8576b\"],[0.6666666666666666,\"#ed7953\"],[0.7777777777777778,\"#fb9f3a\"],[0.8888888888888888,\"#fdca26\"],[1.0,\"#f0f921\"]],\"diverging\":[[0,\"#8e0152\"],[0.1,\"#c51b7d\"],[0.2,\"#de77ae\"],[0.3,\"#f1b6da\"],[0.4,\"#fde0ef\"],[0.5,\"#f7f7f7\"],[0.6,\"#e6f5d0\"],[0.7,\"#b8e186\"],[0.8,\"#7fbc41\"],[0.9,\"#4d9221\"],[1,\"#276419\"]]},\"xaxis\":{\"gridcolor\":\"white\",\"linecolor\":\"white\",\"ticks\":\"\",\"title\":{\"standoff\":15},\"zerolinecolor\":\"white\",\"automargin\":true,\"zerolinewidth\":2},\"yaxis\":{\"gridcolor\":\"white\",\"linecolor\":\"white\",\"ticks\":\"\",\"title\":{\"standoff\":15},\"zerolinecolor\":\"white\",\"automargin\":true,\"zerolinewidth\":2},\"scene\":{\"xaxis\":{\"backgroundcolor\":\"#E5ECF6\",\"gridcolor\":\"white\",\"linecolor\":\"white\",\"showbackground\":true,\"ticks\":\"\",\"zerolinecolor\":\"white\",\"gridwidth\":2},\"yaxis\":{\"backgroundcolor\":\"#E5ECF6\",\"gridcolor\":\"white\",\"linecolor\":\"white\",\"showbackground\":true,\"ticks\":\"\",\"zerolinecolor\":\"white\",\"gridwidth\":2},\"zaxis\":{\"backgroundcolor\":\"#E5ECF6\",\"gridcolor\":\"white\",\"linecolor\":\"white\",\"showbackground\":true,\"ticks\":\"\",\"zerolinecolor\":\"white\",\"gridwidth\":2}},\"shapedefaults\":{\"line\":{\"color\":\"#2a3f5f\"}},\"annotationdefaults\":{\"arrowcolor\":\"#2a3f5f\",\"arrowhead\":0,\"arrowwidth\":1},\"geo\":{\"bgcolor\":\"white\",\"landcolor\":\"#E5ECF6\",\"subunitcolor\":\"white\",\"showland\":true,\"showlakes\":true,\"lakecolor\":\"white\"},\"title\":{\"x\":0.05},\"mapbox\":{\"style\":\"light\"}}}},                        {\"responsive\": true}                    ).then(function(){\n",
       "                            \n",
       "var gd = document.getElementById('e3e48963-8bfe-4f56-993d-b3289f722b11');\n",
       "var x = new MutationObserver(function (mutations, observer) {{\n",
       "        var display = window.getComputedStyle(gd).display;\n",
       "        if (!display || display === 'none') {{\n",
       "            console.log([gd, 'removed!']);\n",
       "            Plotly.purge(gd);\n",
       "            observer.disconnect();\n",
       "        }}\n",
       "}});\n",
       "\n",
       "// Listen for the removal of the full notebook cells\n",
       "var notebookContainer = gd.closest('#notebook-container');\n",
       "if (notebookContainer) {{\n",
       "    x.observe(notebookContainer, {childList: true});\n",
       "}}\n",
       "\n",
       "// Listen for the clearing of the current output cell\n",
       "var outputEl = gd.closest('.output');\n",
       "if (outputEl) {{\n",
       "    x.observe(outputEl, {childList: true});\n",
       "}}\n",
       "\n",
       "                        })                };                });            </script>        </div>"
      ]
     },
     "metadata": {},
     "output_type": "display_data"
    }
   ],
   "source": [
    "traces = []\n",
    "template_trace = {\"x\": np.arange(24).tolist()}\n",
    "for i in range(N):\n",
    "    y = col_curves[analysis_price][i].tolist()\n",
    "    y_hat = projected_curves[i].tolist()\n",
    "    trace = {**template_trace, \"y\": y, \"name\": price_dates[i]}\n",
    "    traces.append(trace)\n",
    "    trace = {**template_trace, \"y\": y_hat, \"name\": f\"{price_dates[i]} (Proj)\"}\n",
    "    traces.append(trace)    \n",
    "go.Figure(data=traces)"
   ]
  },
  {
   "cell_type": "code",
   "execution_count": 112,
   "id": "e194eaa4",
   "metadata": {},
   "outputs": [
    {
     "data": {
      "application/vnd.plotly.v1+json": {
       "config": {
        "plotlyServerURL": "https://plot.ly"
       },
       "data": [
        {
         "name": "PCA 0",
         "type": "scatter",
         "x": [
          0,
          1,
          2,
          3,
          4,
          5,
          6,
          7,
          8,
          9,
          10,
          11,
          12,
          13,
          14,
          15,
          16,
          17,
          18,
          19,
          20,
          21,
          22,
          23
         ],
         "y": [
          -0.08336418014889854,
          -0.08357125801792352,
          -0.08881637127564153,
          -0.09512195745658614,
          -0.10286392141298582,
          -0.1250985143994389,
          -0.15557409279849244,
          -0.20044986007252216,
          -0.22815716886483733,
          -0.22449696894764984,
          -0.23649152689032862,
          -0.26230931558453,
          -0.28579926675205225,
          -0.2794300124480287,
          -0.2919507399421897,
          -0.2779893311838314,
          -0.24816447295796742,
          -0.213730740521716,
          -0.20642813036455696,
          -0.23555021337087714,
          -0.2556127058190934,
          -0.17883444455175007,
          -0.12420973377294497,
          -0.10459643239769478
         ]
        },
        {
         "name": "PCA 1",
         "type": "scatter",
         "x": [
          0,
          1,
          2,
          3,
          4,
          5,
          6,
          7,
          8,
          9,
          10,
          11,
          12,
          13,
          14,
          15,
          16,
          17,
          18,
          19,
          20,
          21,
          22,
          23
         ],
         "y": [
          -0.30915183328018647,
          -0.3008349821865499,
          -0.28496406695729315,
          -0.28458508786123576,
          -0.2913526232486849,
          -0.2575202987491749,
          -0.23541506839215237,
          -0.22736069464897238,
          -0.2160390056620064,
          -0.09397183393735926,
          -0.03163619121438486,
          0.048325367382721335,
          0.054828254422054336,
          0.05842135058910255,
          0.08376099314045153,
          0.07631359791621023,
          0.04404137744249847,
          -0.024594530830696733,
          0.015156932102488498,
          0.20996542945536317,
          0.3758968642105108,
          0.32749330662808207,
          0.12591975887061638,
          0.06363654825879948
         ]
        },
        {
         "name": "PCA 2",
         "type": "scatter",
         "x": [
          0,
          1,
          2,
          3,
          4,
          5,
          6,
          7,
          8,
          9,
          10,
          11,
          12,
          13,
          14,
          15,
          16,
          17,
          18,
          19,
          20,
          21,
          22,
          23
         ],
         "y": [
          -0.177297670548752,
          -0.1823179901183593,
          -0.17667443002637642,
          -0.18559500483630212,
          -0.18029317618358448,
          -0.16257509517823848,
          -0.02987097899141564,
          0.0280340009483075,
          0.11414481173752761,
          0.12599683530672795,
          0.19887884066720563,
          0.23026772808832366,
          0.23056395118353767,
          0.2894183236581517,
          0.2168770848509431,
          0.15076282302302965,
          0.04910385315200989,
          -0.061416227925894615,
          -0.18133124702167944,
          -0.3184497031888343,
          -0.3553692286353043,
          -0.2582484583609997,
          -0.26946987867652167,
          -0.2735248574065854
         ]
        }
       ],
       "layout": {
        "template": {
         "data": {
          "bar": [
           {
            "error_x": {
             "color": "#2a3f5f"
            },
            "error_y": {
             "color": "#2a3f5f"
            },
            "marker": {
             "line": {
              "color": "#E5ECF6",
              "width": 0.5
             },
             "pattern": {
              "fillmode": "overlay",
              "size": 10,
              "solidity": 0.2
             }
            },
            "type": "bar"
           }
          ],
          "barpolar": [
           {
            "marker": {
             "line": {
              "color": "#E5ECF6",
              "width": 0.5
             },
             "pattern": {
              "fillmode": "overlay",
              "size": 10,
              "solidity": 0.2
             }
            },
            "type": "barpolar"
           }
          ],
          "carpet": [
           {
            "aaxis": {
             "endlinecolor": "#2a3f5f",
             "gridcolor": "white",
             "linecolor": "white",
             "minorgridcolor": "white",
             "startlinecolor": "#2a3f5f"
            },
            "baxis": {
             "endlinecolor": "#2a3f5f",
             "gridcolor": "white",
             "linecolor": "white",
             "minorgridcolor": "white",
             "startlinecolor": "#2a3f5f"
            },
            "type": "carpet"
           }
          ],
          "choropleth": [
           {
            "colorbar": {
             "outlinewidth": 0,
             "ticks": ""
            },
            "type": "choropleth"
           }
          ],
          "contour": [
           {
            "colorbar": {
             "outlinewidth": 0,
             "ticks": ""
            },
            "colorscale": [
             [
              0,
              "#0d0887"
             ],
             [
              0.1111111111111111,
              "#46039f"
             ],
             [
              0.2222222222222222,
              "#7201a8"
             ],
             [
              0.3333333333333333,
              "#9c179e"
             ],
             [
              0.4444444444444444,
              "#bd3786"
             ],
             [
              0.5555555555555556,
              "#d8576b"
             ],
             [
              0.6666666666666666,
              "#ed7953"
             ],
             [
              0.7777777777777778,
              "#fb9f3a"
             ],
             [
              0.8888888888888888,
              "#fdca26"
             ],
             [
              1,
              "#f0f921"
             ]
            ],
            "type": "contour"
           }
          ],
          "contourcarpet": [
           {
            "colorbar": {
             "outlinewidth": 0,
             "ticks": ""
            },
            "type": "contourcarpet"
           }
          ],
          "heatmap": [
           {
            "colorbar": {
             "outlinewidth": 0,
             "ticks": ""
            },
            "colorscale": [
             [
              0,
              "#0d0887"
             ],
             [
              0.1111111111111111,
              "#46039f"
             ],
             [
              0.2222222222222222,
              "#7201a8"
             ],
             [
              0.3333333333333333,
              "#9c179e"
             ],
             [
              0.4444444444444444,
              "#bd3786"
             ],
             [
              0.5555555555555556,
              "#d8576b"
             ],
             [
              0.6666666666666666,
              "#ed7953"
             ],
             [
              0.7777777777777778,
              "#fb9f3a"
             ],
             [
              0.8888888888888888,
              "#fdca26"
             ],
             [
              1,
              "#f0f921"
             ]
            ],
            "type": "heatmap"
           }
          ],
          "heatmapgl": [
           {
            "colorbar": {
             "outlinewidth": 0,
             "ticks": ""
            },
            "colorscale": [
             [
              0,
              "#0d0887"
             ],
             [
              0.1111111111111111,
              "#46039f"
             ],
             [
              0.2222222222222222,
              "#7201a8"
             ],
             [
              0.3333333333333333,
              "#9c179e"
             ],
             [
              0.4444444444444444,
              "#bd3786"
             ],
             [
              0.5555555555555556,
              "#d8576b"
             ],
             [
              0.6666666666666666,
              "#ed7953"
             ],
             [
              0.7777777777777778,
              "#fb9f3a"
             ],
             [
              0.8888888888888888,
              "#fdca26"
             ],
             [
              1,
              "#f0f921"
             ]
            ],
            "type": "heatmapgl"
           }
          ],
          "histogram": [
           {
            "marker": {
             "pattern": {
              "fillmode": "overlay",
              "size": 10,
              "solidity": 0.2
             }
            },
            "type": "histogram"
           }
          ],
          "histogram2d": [
           {
            "colorbar": {
             "outlinewidth": 0,
             "ticks": ""
            },
            "colorscale": [
             [
              0,
              "#0d0887"
             ],
             [
              0.1111111111111111,
              "#46039f"
             ],
             [
              0.2222222222222222,
              "#7201a8"
             ],
             [
              0.3333333333333333,
              "#9c179e"
             ],
             [
              0.4444444444444444,
              "#bd3786"
             ],
             [
              0.5555555555555556,
              "#d8576b"
             ],
             [
              0.6666666666666666,
              "#ed7953"
             ],
             [
              0.7777777777777778,
              "#fb9f3a"
             ],
             [
              0.8888888888888888,
              "#fdca26"
             ],
             [
              1,
              "#f0f921"
             ]
            ],
            "type": "histogram2d"
           }
          ],
          "histogram2dcontour": [
           {
            "colorbar": {
             "outlinewidth": 0,
             "ticks": ""
            },
            "colorscale": [
             [
              0,
              "#0d0887"
             ],
             [
              0.1111111111111111,
              "#46039f"
             ],
             [
              0.2222222222222222,
              "#7201a8"
             ],
             [
              0.3333333333333333,
              "#9c179e"
             ],
             [
              0.4444444444444444,
              "#bd3786"
             ],
             [
              0.5555555555555556,
              "#d8576b"
             ],
             [
              0.6666666666666666,
              "#ed7953"
             ],
             [
              0.7777777777777778,
              "#fb9f3a"
             ],
             [
              0.8888888888888888,
              "#fdca26"
             ],
             [
              1,
              "#f0f921"
             ]
            ],
            "type": "histogram2dcontour"
           }
          ],
          "mesh3d": [
           {
            "colorbar": {
             "outlinewidth": 0,
             "ticks": ""
            },
            "type": "mesh3d"
           }
          ],
          "parcoords": [
           {
            "line": {
             "colorbar": {
              "outlinewidth": 0,
              "ticks": ""
             }
            },
            "type": "parcoords"
           }
          ],
          "pie": [
           {
            "automargin": true,
            "type": "pie"
           }
          ],
          "scatter": [
           {
            "fillpattern": {
             "fillmode": "overlay",
             "size": 10,
             "solidity": 0.2
            },
            "type": "scatter"
           }
          ],
          "scatter3d": [
           {
            "line": {
             "colorbar": {
              "outlinewidth": 0,
              "ticks": ""
             }
            },
            "marker": {
             "colorbar": {
              "outlinewidth": 0,
              "ticks": ""
             }
            },
            "type": "scatter3d"
           }
          ],
          "scattercarpet": [
           {
            "marker": {
             "colorbar": {
              "outlinewidth": 0,
              "ticks": ""
             }
            },
            "type": "scattercarpet"
           }
          ],
          "scattergeo": [
           {
            "marker": {
             "colorbar": {
              "outlinewidth": 0,
              "ticks": ""
             }
            },
            "type": "scattergeo"
           }
          ],
          "scattergl": [
           {
            "marker": {
             "colorbar": {
              "outlinewidth": 0,
              "ticks": ""
             }
            },
            "type": "scattergl"
           }
          ],
          "scattermapbox": [
           {
            "marker": {
             "colorbar": {
              "outlinewidth": 0,
              "ticks": ""
             }
            },
            "type": "scattermapbox"
           }
          ],
          "scatterpolar": [
           {
            "marker": {
             "colorbar": {
              "outlinewidth": 0,
              "ticks": ""
             }
            },
            "type": "scatterpolar"
           }
          ],
          "scatterpolargl": [
           {
            "marker": {
             "colorbar": {
              "outlinewidth": 0,
              "ticks": ""
             }
            },
            "type": "scatterpolargl"
           }
          ],
          "scatterternary": [
           {
            "marker": {
             "colorbar": {
              "outlinewidth": 0,
              "ticks": ""
             }
            },
            "type": "scatterternary"
           }
          ],
          "surface": [
           {
            "colorbar": {
             "outlinewidth": 0,
             "ticks": ""
            },
            "colorscale": [
             [
              0,
              "#0d0887"
             ],
             [
              0.1111111111111111,
              "#46039f"
             ],
             [
              0.2222222222222222,
              "#7201a8"
             ],
             [
              0.3333333333333333,
              "#9c179e"
             ],
             [
              0.4444444444444444,
              "#bd3786"
             ],
             [
              0.5555555555555556,
              "#d8576b"
             ],
             [
              0.6666666666666666,
              "#ed7953"
             ],
             [
              0.7777777777777778,
              "#fb9f3a"
             ],
             [
              0.8888888888888888,
              "#fdca26"
             ],
             [
              1,
              "#f0f921"
             ]
            ],
            "type": "surface"
           }
          ],
          "table": [
           {
            "cells": {
             "fill": {
              "color": "#EBF0F8"
             },
             "line": {
              "color": "white"
             }
            },
            "header": {
             "fill": {
              "color": "#C8D4E3"
             },
             "line": {
              "color": "white"
             }
            },
            "type": "table"
           }
          ]
         },
         "layout": {
          "annotationdefaults": {
           "arrowcolor": "#2a3f5f",
           "arrowhead": 0,
           "arrowwidth": 1
          },
          "autotypenumbers": "strict",
          "coloraxis": {
           "colorbar": {
            "outlinewidth": 0,
            "ticks": ""
           }
          },
          "colorscale": {
           "diverging": [
            [
             0,
             "#8e0152"
            ],
            [
             0.1,
             "#c51b7d"
            ],
            [
             0.2,
             "#de77ae"
            ],
            [
             0.3,
             "#f1b6da"
            ],
            [
             0.4,
             "#fde0ef"
            ],
            [
             0.5,
             "#f7f7f7"
            ],
            [
             0.6,
             "#e6f5d0"
            ],
            [
             0.7,
             "#b8e186"
            ],
            [
             0.8,
             "#7fbc41"
            ],
            [
             0.9,
             "#4d9221"
            ],
            [
             1,
             "#276419"
            ]
           ],
           "sequential": [
            [
             0,
             "#0d0887"
            ],
            [
             0.1111111111111111,
             "#46039f"
            ],
            [
             0.2222222222222222,
             "#7201a8"
            ],
            [
             0.3333333333333333,
             "#9c179e"
            ],
            [
             0.4444444444444444,
             "#bd3786"
            ],
            [
             0.5555555555555556,
             "#d8576b"
            ],
            [
             0.6666666666666666,
             "#ed7953"
            ],
            [
             0.7777777777777778,
             "#fb9f3a"
            ],
            [
             0.8888888888888888,
             "#fdca26"
            ],
            [
             1,
             "#f0f921"
            ]
           ],
           "sequentialminus": [
            [
             0,
             "#0d0887"
            ],
            [
             0.1111111111111111,
             "#46039f"
            ],
            [
             0.2222222222222222,
             "#7201a8"
            ],
            [
             0.3333333333333333,
             "#9c179e"
            ],
            [
             0.4444444444444444,
             "#bd3786"
            ],
            [
             0.5555555555555556,
             "#d8576b"
            ],
            [
             0.6666666666666666,
             "#ed7953"
            ],
            [
             0.7777777777777778,
             "#fb9f3a"
            ],
            [
             0.8888888888888888,
             "#fdca26"
            ],
            [
             1,
             "#f0f921"
            ]
           ]
          },
          "colorway": [
           "#636efa",
           "#EF553B",
           "#00cc96",
           "#ab63fa",
           "#FFA15A",
           "#19d3f3",
           "#FF6692",
           "#B6E880",
           "#FF97FF",
           "#FECB52"
          ],
          "font": {
           "color": "#2a3f5f"
          },
          "geo": {
           "bgcolor": "white",
           "lakecolor": "white",
           "landcolor": "#E5ECF6",
           "showlakes": true,
           "showland": true,
           "subunitcolor": "white"
          },
          "hoverlabel": {
           "align": "left"
          },
          "hovermode": "closest",
          "mapbox": {
           "style": "light"
          },
          "paper_bgcolor": "white",
          "plot_bgcolor": "#E5ECF6",
          "polar": {
           "angularaxis": {
            "gridcolor": "white",
            "linecolor": "white",
            "ticks": ""
           },
           "bgcolor": "#E5ECF6",
           "radialaxis": {
            "gridcolor": "white",
            "linecolor": "white",
            "ticks": ""
           }
          },
          "scene": {
           "xaxis": {
            "backgroundcolor": "#E5ECF6",
            "gridcolor": "white",
            "gridwidth": 2,
            "linecolor": "white",
            "showbackground": true,
            "ticks": "",
            "zerolinecolor": "white"
           },
           "yaxis": {
            "backgroundcolor": "#E5ECF6",
            "gridcolor": "white",
            "gridwidth": 2,
            "linecolor": "white",
            "showbackground": true,
            "ticks": "",
            "zerolinecolor": "white"
           },
           "zaxis": {
            "backgroundcolor": "#E5ECF6",
            "gridcolor": "white",
            "gridwidth": 2,
            "linecolor": "white",
            "showbackground": true,
            "ticks": "",
            "zerolinecolor": "white"
           }
          },
          "shapedefaults": {
           "line": {
            "color": "#2a3f5f"
           }
          },
          "ternary": {
           "aaxis": {
            "gridcolor": "white",
            "linecolor": "white",
            "ticks": ""
           },
           "baxis": {
            "gridcolor": "white",
            "linecolor": "white",
            "ticks": ""
           },
           "bgcolor": "#E5ECF6",
           "caxis": {
            "gridcolor": "white",
            "linecolor": "white",
            "ticks": ""
           }
          },
          "title": {
           "x": 0.05
          },
          "xaxis": {
           "automargin": true,
           "gridcolor": "white",
           "linecolor": "white",
           "ticks": "",
           "title": {
            "standoff": 15
           },
           "zerolinecolor": "white",
           "zerolinewidth": 2
          },
          "yaxis": {
           "automargin": true,
           "gridcolor": "white",
           "linecolor": "white",
           "ticks": "",
           "title": {
            "standoff": 15
           },
           "zerolinecolor": "white",
           "zerolinewidth": 2
          }
         }
        }
       }
      },
      "text/html": [
       "<div>                            <div id=\"59e9acb1-f34b-4ed6-a728-c62be07fb64d\" class=\"plotly-graph-div\" style=\"height:525px; width:100%;\"></div>            <script type=\"text/javascript\">                require([\"plotly\"], function(Plotly) {                    window.PLOTLYENV=window.PLOTLYENV || {};                                    if (document.getElementById(\"59e9acb1-f34b-4ed6-a728-c62be07fb64d\")) {                    Plotly.newPlot(                        \"59e9acb1-f34b-4ed6-a728-c62be07fb64d\",                        [{\"name\":\"PCA 0\",\"x\":[0,1,2,3,4,5,6,7,8,9,10,11,12,13,14,15,16,17,18,19,20,21,22,23],\"y\":[-0.08336418014889854,-0.08357125801792352,-0.08881637127564153,-0.09512195745658614,-0.10286392141298582,-0.1250985143994389,-0.15557409279849244,-0.20044986007252216,-0.22815716886483733,-0.22449696894764984,-0.23649152689032862,-0.26230931558453,-0.28579926675205225,-0.2794300124480287,-0.2919507399421897,-0.2779893311838314,-0.24816447295796742,-0.213730740521716,-0.20642813036455696,-0.23555021337087714,-0.2556127058190934,-0.17883444455175007,-0.12420973377294497,-0.10459643239769478],\"type\":\"scatter\"},{\"name\":\"PCA 1\",\"x\":[0,1,2,3,4,5,6,7,8,9,10,11,12,13,14,15,16,17,18,19,20,21,22,23],\"y\":[-0.30915183328018647,-0.3008349821865499,-0.28496406695729315,-0.28458508786123576,-0.2913526232486849,-0.2575202987491749,-0.23541506839215237,-0.22736069464897238,-0.2160390056620064,-0.09397183393735926,-0.03163619121438486,0.048325367382721335,0.054828254422054336,0.05842135058910255,0.08376099314045153,0.07631359791621023,0.04404137744249847,-0.024594530830696733,0.015156932102488498,0.20996542945536317,0.3758968642105108,0.32749330662808207,0.12591975887061638,0.06363654825879948],\"type\":\"scatter\"},{\"name\":\"PCA 2\",\"x\":[0,1,2,3,4,5,6,7,8,9,10,11,12,13,14,15,16,17,18,19,20,21,22,23],\"y\":[-0.177297670548752,-0.1823179901183593,-0.17667443002637642,-0.18559500483630212,-0.18029317618358448,-0.16257509517823848,-0.02987097899141564,0.0280340009483075,0.11414481173752761,0.12599683530672795,0.19887884066720563,0.23026772808832366,0.23056395118353767,0.2894183236581517,0.2168770848509431,0.15076282302302965,0.04910385315200989,-0.061416227925894615,-0.18133124702167944,-0.3184497031888343,-0.3553692286353043,-0.2582484583609997,-0.26946987867652167,-0.2735248574065854],\"type\":\"scatter\"}],                        {\"template\":{\"data\":{\"histogram2dcontour\":[{\"type\":\"histogram2dcontour\",\"colorbar\":{\"outlinewidth\":0,\"ticks\":\"\"},\"colorscale\":[[0.0,\"#0d0887\"],[0.1111111111111111,\"#46039f\"],[0.2222222222222222,\"#7201a8\"],[0.3333333333333333,\"#9c179e\"],[0.4444444444444444,\"#bd3786\"],[0.5555555555555556,\"#d8576b\"],[0.6666666666666666,\"#ed7953\"],[0.7777777777777778,\"#fb9f3a\"],[0.8888888888888888,\"#fdca26\"],[1.0,\"#f0f921\"]]}],\"choropleth\":[{\"type\":\"choropleth\",\"colorbar\":{\"outlinewidth\":0,\"ticks\":\"\"}}],\"histogram2d\":[{\"type\":\"histogram2d\",\"colorbar\":{\"outlinewidth\":0,\"ticks\":\"\"},\"colorscale\":[[0.0,\"#0d0887\"],[0.1111111111111111,\"#46039f\"],[0.2222222222222222,\"#7201a8\"],[0.3333333333333333,\"#9c179e\"],[0.4444444444444444,\"#bd3786\"],[0.5555555555555556,\"#d8576b\"],[0.6666666666666666,\"#ed7953\"],[0.7777777777777778,\"#fb9f3a\"],[0.8888888888888888,\"#fdca26\"],[1.0,\"#f0f921\"]]}],\"heatmap\":[{\"type\":\"heatmap\",\"colorbar\":{\"outlinewidth\":0,\"ticks\":\"\"},\"colorscale\":[[0.0,\"#0d0887\"],[0.1111111111111111,\"#46039f\"],[0.2222222222222222,\"#7201a8\"],[0.3333333333333333,\"#9c179e\"],[0.4444444444444444,\"#bd3786\"],[0.5555555555555556,\"#d8576b\"],[0.6666666666666666,\"#ed7953\"],[0.7777777777777778,\"#fb9f3a\"],[0.8888888888888888,\"#fdca26\"],[1.0,\"#f0f921\"]]}],\"heatmapgl\":[{\"type\":\"heatmapgl\",\"colorbar\":{\"outlinewidth\":0,\"ticks\":\"\"},\"colorscale\":[[0.0,\"#0d0887\"],[0.1111111111111111,\"#46039f\"],[0.2222222222222222,\"#7201a8\"],[0.3333333333333333,\"#9c179e\"],[0.4444444444444444,\"#bd3786\"],[0.5555555555555556,\"#d8576b\"],[0.6666666666666666,\"#ed7953\"],[0.7777777777777778,\"#fb9f3a\"],[0.8888888888888888,\"#fdca26\"],[1.0,\"#f0f921\"]]}],\"contourcarpet\":[{\"type\":\"contourcarpet\",\"colorbar\":{\"outlinewidth\":0,\"ticks\":\"\"}}],\"contour\":[{\"type\":\"contour\",\"colorbar\":{\"outlinewidth\":0,\"ticks\":\"\"},\"colorscale\":[[0.0,\"#0d0887\"],[0.1111111111111111,\"#46039f\"],[0.2222222222222222,\"#7201a8\"],[0.3333333333333333,\"#9c179e\"],[0.4444444444444444,\"#bd3786\"],[0.5555555555555556,\"#d8576b\"],[0.6666666666666666,\"#ed7953\"],[0.7777777777777778,\"#fb9f3a\"],[0.8888888888888888,\"#fdca26\"],[1.0,\"#f0f921\"]]}],\"surface\":[{\"type\":\"surface\",\"colorbar\":{\"outlinewidth\":0,\"ticks\":\"\"},\"colorscale\":[[0.0,\"#0d0887\"],[0.1111111111111111,\"#46039f\"],[0.2222222222222222,\"#7201a8\"],[0.3333333333333333,\"#9c179e\"],[0.4444444444444444,\"#bd3786\"],[0.5555555555555556,\"#d8576b\"],[0.6666666666666666,\"#ed7953\"],[0.7777777777777778,\"#fb9f3a\"],[0.8888888888888888,\"#fdca26\"],[1.0,\"#f0f921\"]]}],\"mesh3d\":[{\"type\":\"mesh3d\",\"colorbar\":{\"outlinewidth\":0,\"ticks\":\"\"}}],\"scatter\":[{\"fillpattern\":{\"fillmode\":\"overlay\",\"size\":10,\"solidity\":0.2},\"type\":\"scatter\"}],\"parcoords\":[{\"type\":\"parcoords\",\"line\":{\"colorbar\":{\"outlinewidth\":0,\"ticks\":\"\"}}}],\"scatterpolargl\":[{\"type\":\"scatterpolargl\",\"marker\":{\"colorbar\":{\"outlinewidth\":0,\"ticks\":\"\"}}}],\"bar\":[{\"error_x\":{\"color\":\"#2a3f5f\"},\"error_y\":{\"color\":\"#2a3f5f\"},\"marker\":{\"line\":{\"color\":\"#E5ECF6\",\"width\":0.5},\"pattern\":{\"fillmode\":\"overlay\",\"size\":10,\"solidity\":0.2}},\"type\":\"bar\"}],\"scattergeo\":[{\"type\":\"scattergeo\",\"marker\":{\"colorbar\":{\"outlinewidth\":0,\"ticks\":\"\"}}}],\"scatterpolar\":[{\"type\":\"scatterpolar\",\"marker\":{\"colorbar\":{\"outlinewidth\":0,\"ticks\":\"\"}}}],\"histogram\":[{\"marker\":{\"pattern\":{\"fillmode\":\"overlay\",\"size\":10,\"solidity\":0.2}},\"type\":\"histogram\"}],\"scattergl\":[{\"type\":\"scattergl\",\"marker\":{\"colorbar\":{\"outlinewidth\":0,\"ticks\":\"\"}}}],\"scatter3d\":[{\"type\":\"scatter3d\",\"line\":{\"colorbar\":{\"outlinewidth\":0,\"ticks\":\"\"}},\"marker\":{\"colorbar\":{\"outlinewidth\":0,\"ticks\":\"\"}}}],\"scattermapbox\":[{\"type\":\"scattermapbox\",\"marker\":{\"colorbar\":{\"outlinewidth\":0,\"ticks\":\"\"}}}],\"scatterternary\":[{\"type\":\"scatterternary\",\"marker\":{\"colorbar\":{\"outlinewidth\":0,\"ticks\":\"\"}}}],\"scattercarpet\":[{\"type\":\"scattercarpet\",\"marker\":{\"colorbar\":{\"outlinewidth\":0,\"ticks\":\"\"}}}],\"carpet\":[{\"aaxis\":{\"endlinecolor\":\"#2a3f5f\",\"gridcolor\":\"white\",\"linecolor\":\"white\",\"minorgridcolor\":\"white\",\"startlinecolor\":\"#2a3f5f\"},\"baxis\":{\"endlinecolor\":\"#2a3f5f\",\"gridcolor\":\"white\",\"linecolor\":\"white\",\"minorgridcolor\":\"white\",\"startlinecolor\":\"#2a3f5f\"},\"type\":\"carpet\"}],\"table\":[{\"cells\":{\"fill\":{\"color\":\"#EBF0F8\"},\"line\":{\"color\":\"white\"}},\"header\":{\"fill\":{\"color\":\"#C8D4E3\"},\"line\":{\"color\":\"white\"}},\"type\":\"table\"}],\"barpolar\":[{\"marker\":{\"line\":{\"color\":\"#E5ECF6\",\"width\":0.5},\"pattern\":{\"fillmode\":\"overlay\",\"size\":10,\"solidity\":0.2}},\"type\":\"barpolar\"}],\"pie\":[{\"automargin\":true,\"type\":\"pie\"}]},\"layout\":{\"autotypenumbers\":\"strict\",\"colorway\":[\"#636efa\",\"#EF553B\",\"#00cc96\",\"#ab63fa\",\"#FFA15A\",\"#19d3f3\",\"#FF6692\",\"#B6E880\",\"#FF97FF\",\"#FECB52\"],\"font\":{\"color\":\"#2a3f5f\"},\"hovermode\":\"closest\",\"hoverlabel\":{\"align\":\"left\"},\"paper_bgcolor\":\"white\",\"plot_bgcolor\":\"#E5ECF6\",\"polar\":{\"bgcolor\":\"#E5ECF6\",\"angularaxis\":{\"gridcolor\":\"white\",\"linecolor\":\"white\",\"ticks\":\"\"},\"radialaxis\":{\"gridcolor\":\"white\",\"linecolor\":\"white\",\"ticks\":\"\"}},\"ternary\":{\"bgcolor\":\"#E5ECF6\",\"aaxis\":{\"gridcolor\":\"white\",\"linecolor\":\"white\",\"ticks\":\"\"},\"baxis\":{\"gridcolor\":\"white\",\"linecolor\":\"white\",\"ticks\":\"\"},\"caxis\":{\"gridcolor\":\"white\",\"linecolor\":\"white\",\"ticks\":\"\"}},\"coloraxis\":{\"colorbar\":{\"outlinewidth\":0,\"ticks\":\"\"}},\"colorscale\":{\"sequential\":[[0.0,\"#0d0887\"],[0.1111111111111111,\"#46039f\"],[0.2222222222222222,\"#7201a8\"],[0.3333333333333333,\"#9c179e\"],[0.4444444444444444,\"#bd3786\"],[0.5555555555555556,\"#d8576b\"],[0.6666666666666666,\"#ed7953\"],[0.7777777777777778,\"#fb9f3a\"],[0.8888888888888888,\"#fdca26\"],[1.0,\"#f0f921\"]],\"sequentialminus\":[[0.0,\"#0d0887\"],[0.1111111111111111,\"#46039f\"],[0.2222222222222222,\"#7201a8\"],[0.3333333333333333,\"#9c179e\"],[0.4444444444444444,\"#bd3786\"],[0.5555555555555556,\"#d8576b\"],[0.6666666666666666,\"#ed7953\"],[0.7777777777777778,\"#fb9f3a\"],[0.8888888888888888,\"#fdca26\"],[1.0,\"#f0f921\"]],\"diverging\":[[0,\"#8e0152\"],[0.1,\"#c51b7d\"],[0.2,\"#de77ae\"],[0.3,\"#f1b6da\"],[0.4,\"#fde0ef\"],[0.5,\"#f7f7f7\"],[0.6,\"#e6f5d0\"],[0.7,\"#b8e186\"],[0.8,\"#7fbc41\"],[0.9,\"#4d9221\"],[1,\"#276419\"]]},\"xaxis\":{\"gridcolor\":\"white\",\"linecolor\":\"white\",\"ticks\":\"\",\"title\":{\"standoff\":15},\"zerolinecolor\":\"white\",\"automargin\":true,\"zerolinewidth\":2},\"yaxis\":{\"gridcolor\":\"white\",\"linecolor\":\"white\",\"ticks\":\"\",\"title\":{\"standoff\":15},\"zerolinecolor\":\"white\",\"automargin\":true,\"zerolinewidth\":2},\"scene\":{\"xaxis\":{\"backgroundcolor\":\"#E5ECF6\",\"gridcolor\":\"white\",\"linecolor\":\"white\",\"showbackground\":true,\"ticks\":\"\",\"zerolinecolor\":\"white\",\"gridwidth\":2},\"yaxis\":{\"backgroundcolor\":\"#E5ECF6\",\"gridcolor\":\"white\",\"linecolor\":\"white\",\"showbackground\":true,\"ticks\":\"\",\"zerolinecolor\":\"white\",\"gridwidth\":2},\"zaxis\":{\"backgroundcolor\":\"#E5ECF6\",\"gridcolor\":\"white\",\"linecolor\":\"white\",\"showbackground\":true,\"ticks\":\"\",\"zerolinecolor\":\"white\",\"gridwidth\":2}},\"shapedefaults\":{\"line\":{\"color\":\"#2a3f5f\"}},\"annotationdefaults\":{\"arrowcolor\":\"#2a3f5f\",\"arrowhead\":0,\"arrowwidth\":1},\"geo\":{\"bgcolor\":\"white\",\"landcolor\":\"#E5ECF6\",\"subunitcolor\":\"white\",\"showland\":true,\"showlakes\":true,\"lakecolor\":\"white\"},\"title\":{\"x\":0.05},\"mapbox\":{\"style\":\"light\"}}}},                        {\"responsive\": true}                    ).then(function(){\n",
       "                            \n",
       "var gd = document.getElementById('59e9acb1-f34b-4ed6-a728-c62be07fb64d');\n",
       "var x = new MutationObserver(function (mutations, observer) {{\n",
       "        var display = window.getComputedStyle(gd).display;\n",
       "        if (!display || display === 'none') {{\n",
       "            console.log([gd, 'removed!']);\n",
       "            Plotly.purge(gd);\n",
       "            observer.disconnect();\n",
       "        }}\n",
       "}});\n",
       "\n",
       "// Listen for the removal of the full notebook cells\n",
       "var notebookContainer = gd.closest('#notebook-container');\n",
       "if (notebookContainer) {{\n",
       "    x.observe(notebookContainer, {childList: true});\n",
       "}}\n",
       "\n",
       "// Listen for the clearing of the current output cell\n",
       "var outputEl = gd.closest('.output');\n",
       "if (outputEl) {{\n",
       "    x.observe(outputEl, {childList: true});\n",
       "}}\n",
       "\n",
       "                        })                };                });            </script>        </div>"
      ]
     },
     "metadata": {},
     "output_type": "display_data"
    }
   ],
   "source": [
    "traces = []\n",
    "for i in range(pca.components_.shape[0]):\n",
    "    y = pca.components_[i].tolist()\n",
    "    trace = {**template_trace, \"y\": y, \"name\": f\"PCA {i}\"}\n",
    "    traces.append(trace)\n",
    "go.Figure(traces)"
   ]
  },
  {
   "cell_type": "code",
   "execution_count": 116,
   "id": "f9003437",
   "metadata": {},
   "outputs": [],
   "source": [
    "merge_columns = [\"spot_price\", \"intraday_price\"]\n",
    "merge_arrays = [price_curves[:, column_indices[c], :] for c in merge_columns]"
   ]
  },
  {
   "cell_type": "code",
   "execution_count": 125,
   "id": "05c0b83d",
   "metadata": {},
   "outputs": [
    {
     "data": {
      "text/plain": [
       "array([0.69050954, 0.79567657, 0.88911559, 0.91826071, 0.94341816])"
      ]
     },
     "execution_count": 125,
     "metadata": {},
     "output_type": "execute_result"
    }
   ],
   "source": [
    "merged_curves = np.concatenate(merge_arrays, axis=-1)\n",
    "pca = PCA(5)\n",
    "pca.fit(merged_curves)\n",
    "np.cumsum(pca.explained_variance_ratio_)"
   ]
  },
  {
   "cell_type": "code",
   "execution_count": 126,
   "id": "a395497e",
   "metadata": {},
   "outputs": [],
   "source": [
    "projected_curves = pca.inverse_transform(pca.transform(merged_curves))"
   ]
  },
  {
   "cell_type": "code",
   "execution_count": 135,
   "id": "5690cff3",
   "metadata": {},
   "outputs": [],
   "source": [
    "blanked_curves = merged_curves.copy()\n",
    "blanked_curves[:, 24:] = 0\n",
    "restored_curves = pca.inverse_transform(pca.transform(blanked_curves))"
   ]
  },
  {
   "cell_type": "code",
   "execution_count": 137,
   "id": "fbdfd17c",
   "metadata": {},
   "outputs": [
    {
     "data": {
      "text/plain": [
       "(52.12594807431262, 6.556073124375003)"
      ]
     },
     "execution_count": 137,
     "metadata": {},
     "output_type": "execute_result"
    }
   ],
   "source": [
    "np.sqrt(np.mean((merged_curves-restored_curves)**2)), np.sqrt(np.mean((merged_curves-projected_curves)**2))"
   ]
  },
  {
   "cell_type": "code",
   "execution_count": 139,
   "id": "1e39b4f0",
   "metadata": {},
   "outputs": [
    {
     "data": {
      "application/vnd.plotly.v1+json": {
       "config": {
        "plotlyServerURL": "https://plot.ly"
       },
       "data": [
        {
         "name": "2023-05-01",
         "type": "scatter",
         "x": [
          0,
          1,
          2,
          3,
          4,
          5,
          6,
          7,
          8,
          9,
          10,
          11,
          12,
          13,
          14,
          15,
          16,
          17,
          18,
          19,
          20,
          21,
          22,
          23,
          24,
          25,
          26,
          27,
          28,
          29,
          30,
          31,
          32,
          33,
          34,
          35,
          36,
          37,
          38,
          39,
          40,
          41,
          42,
          43,
          44,
          45,
          46,
          47
         ],
         "y": [
          109.900002,
          99.900002,
          95.489998,
          89.980003,
          87.290001,
          88,
          87.160004,
          84.199997,
          83.139999,
          84.040001,
          74.290001,
          67.989998,
          54.630001,
          34.689999,
          29.99,
          41.189999,
          76.25,
          95.120003,
          113.860001,
          124.639999,
          125.800003,
          121.720001,
          117.900002,
          101.629997,
          99.75,
          87.1,
          83.46,
          79.43,
          77.08,
          74.06,
          76.55,
          81.6,
          79.31,
          74.5,
          60.91,
          42.4,
          32.21,
          22.57,
          13.77,
          34.98,
          58.75,
          89.34,
          109.95,
          118.92,
          121.12,
          115.39,
          107.93,
          85.87
         ]
        },
        {
         "name": "2023-05-01 (Proj)",
         "type": "scatter",
         "x": [
          0,
          1,
          2,
          3,
          4,
          5,
          6,
          7,
          8,
          9,
          10,
          11,
          12,
          13,
          14,
          15,
          16,
          17,
          18,
          19,
          20,
          21,
          22,
          23,
          24,
          25,
          26,
          27,
          28,
          29,
          30,
          31,
          32,
          33,
          34,
          35,
          36,
          37,
          38,
          39,
          40,
          41,
          42,
          43,
          44,
          45,
          46,
          47
         ],
         "y": [
          100.45660797789225,
          94.33673077996183,
          92.13322887291,
          90.77647476845895,
          92.07356656493373,
          96.44818354100866,
          90.24155008566633,
          88.36425288266443,
          86.25074842670769,
          80.14551919675193,
          62.882438753373435,
          50.51429613324541,
          47.2262432115599,
          40.400635250468305,
          40.17955490893391,
          50.96165947309282,
          73.65874480019738,
          95.76087826775779,
          110.87369567567475,
          122.1849150951058,
          129.35024478408576,
          117.46886515766815,
          116.5224920990583,
          107.89149204311428,
          89.18691225274122,
          84.63464348064264,
          82.31786404049582,
          82.26228518938964,
          81.04916373143301,
          87.11018600535654,
          79.75035241870425,
          81.30197700157422,
          75.34797204298513,
          72.03967558114402,
          58.65994994511419,
          43.88524575325945,
          34.674127026315794,
          23.552769147903607,
          25.642442173331624,
          38.25160725549939,
          59.391316749026814,
          82.5186173634751,
          101.90060778994643,
          112.83469258766571,
          120.67477778090685,
          111.3037931226592,
          110.28798077525258,
          94.38307754284077
         ]
        },
        {
         "name": "2023-05-02",
         "type": "scatter",
         "x": [
          0,
          1,
          2,
          3,
          4,
          5,
          6,
          7,
          8,
          9,
          10,
          11,
          12,
          13,
          14,
          15,
          16,
          17,
          18,
          19,
          20,
          21,
          22,
          23,
          24,
          25,
          26,
          27,
          28,
          29,
          30,
          31,
          32,
          33,
          34,
          35,
          36,
          37,
          38,
          39,
          40,
          41,
          42,
          43,
          44,
          45,
          46,
          47
         ],
         "y": [
          98.480003,
          85.599998,
          83.300003,
          80.900002,
          81.220001,
          90.389999,
          111.059998,
          127.419998,
          134.889999,
          122.989998,
          115.690002,
          108.959999,
          98.459999,
          92.760002,
          86.32,
          80.919998,
          84.830002,
          94.43,
          117.379997,
          130,
          142.860001,
          133.690002,
          124.019997,
          113.800003,
          93.19,
          82.93,
          82.18,
          80.34,
          76.91,
          86.61,
          105.18,
          122.09,
          128.21,
          116.01,
          101.52,
          89.16,
          76.86,
          78.5,
          70.22,
          67.7,
          68.27,
          89.54,
          108.22,
          118.85,
          126.76,
          124.5,
          118.13,
          112.32
         ]
        },
        {
         "name": "2023-05-02 (Proj)",
         "type": "scatter",
         "x": [
          0,
          1,
          2,
          3,
          4,
          5,
          6,
          7,
          8,
          9,
          10,
          11,
          12,
          13,
          14,
          15,
          16,
          17,
          18,
          19,
          20,
          21,
          22,
          23,
          24,
          25,
          26,
          27,
          28,
          29,
          30,
          31,
          32,
          33,
          34,
          35,
          36,
          37,
          38,
          39,
          40,
          41,
          42,
          43,
          44,
          45,
          46,
          47
         ],
         "y": [
          90.3255382119956,
          86.02954690110109,
          85.77783710034953,
          87.28437169807084,
          88.8624088710567,
          98.72076795654067,
          119.13598814201242,
          134.36305336966313,
          134.50867129851943,
          120.89705146476425,
          110.94915553050222,
          102.43163209451576,
          91.11579999159385,
          86.04124721503248,
          86.2026503068183,
          88.97327658768513,
          92.89872808501721,
          102.20510754129408,
          115.99642007847204,
          128.08570288911517,
          138.4505810408329,
          130.37359176323534,
          118.07505429092193,
          106.04732317995187,
          80.55316002777217,
          75.28591765333671,
          75.25287287828807,
          75.95229158310651,
          77.68988735880244,
          86.09749679581184,
          108.76870301413626,
          127.48587848273493,
          132.71899551812214,
          114.14349671798968,
          97.7132054530718,
          86.64215192565148,
          76.41282154855296,
          68.89197875568757,
          68.55678912758455,
          65.7416696874367,
          70.28332030734154,
          93.50374466326085,
          109.88114766206994,
          124.94662527305991,
          138.8119632167475,
          128.66561097083365,
          113.55490075958858,
          104.20681176178446
         ]
        },
        {
         "name": "2023-05-03",
         "type": "scatter",
         "x": [
          0,
          1,
          2,
          3,
          4,
          5,
          6,
          7,
          8,
          9,
          10,
          11,
          12,
          13,
          14,
          15,
          16,
          17,
          18,
          19,
          20,
          21,
          22,
          23,
          24,
          25,
          26,
          27,
          28,
          29,
          30,
          31,
          32,
          33,
          34,
          35,
          36,
          37,
          38,
          39,
          40,
          41,
          42,
          43,
          44,
          45,
          46,
          47
         ],
         "y": [
          107.43,
          102.419998,
          100.970001,
          97.800003,
          99.949997,
          107.510002,
          123.279999,
          133.020004,
          125.099998,
          110.099998,
          91.160004,
          84.160004,
          77.830002,
          80.019997,
          75.129997,
          73.5,
          83.860001,
          97.589996,
          121.120003,
          140.080002,
          171.580002,
          132.25,
          120.949997,
          114.730003,
          98,
          103.02,
          99.57,
          95.5,
          94.43,
          104.79,
          119.78,
          132.93,
          131.46,
          112.84,
          93.5,
          91.34,
          94.92,
          80.64,
          69.47,
          62.57,
          72.16,
          103.96,
          119.77,
          139.66,
          163.54,
          129.98,
          113.93,
          105.17
         ]
        },
        {
         "name": "2023-05-03 (Proj)",
         "type": "scatter",
         "x": [
          0,
          1,
          2,
          3,
          4,
          5,
          6,
          7,
          8,
          9,
          10,
          11,
          12,
          13,
          14,
          15,
          16,
          17,
          18,
          19,
          20,
          21,
          22,
          23,
          24,
          25,
          26,
          27,
          28,
          29,
          30,
          31,
          32,
          33,
          34,
          35,
          36,
          37,
          38,
          39,
          40,
          41,
          42,
          43,
          44,
          45,
          46,
          47
         ],
         "y": [
          105.03911720703496,
          98.40553327275148,
          96.55339489465362,
          95.97004522747612,
          97.69115677746034,
          107.89040432375973,
          121.7201104625954,
          133.7540189203993,
          130.5953841222374,
          112.24184498105262,
          95.50672432685656,
          85.1722094700381,
          78.68622258100567,
          73.0507502042188,
          72.31134468566381,
          73.69393692830478,
          85.04990766893353,
          104.00962144894216,
          123.18046359573873,
          140.16331491928014,
          147.14670353240956,
          135.17329559364413,
          122.7898463383109,
          108.97458067119149,
          102.41736994883789,
          98.06581858393874,
          96.21647349764739,
          95.99851170068051,
          97.83500913687752,
          105.58779625443671,
          121.9594384502604,
          134.97104826209664,
          132.04834292793188,
          111.53661314668369,
          96.94363935344228,
          87.44328147345117,
          82.28187120054702,
          70.96816469446725,
          70.66097223302025,
          72.00072145068307,
          82.47518377110669,
          105.46706648124496,
          124.04257487498072,
          145.8467000436255,
          158.06649425026998,
          137.56782440831591,
          119.35628073804897,
          109.51477749283643
         ]
        },
        {
         "name": "2023-05-04",
         "type": "scatter",
         "x": [
          0,
          1,
          2,
          3,
          4,
          5,
          6,
          7,
          8,
          9,
          10,
          11,
          12,
          13,
          14,
          15,
          16,
          17,
          18,
          19,
          20,
          21,
          22,
          23,
          24,
          25,
          26,
          27,
          28,
          29,
          30,
          31,
          32,
          33,
          34,
          35,
          36,
          37,
          38,
          39,
          40,
          41,
          42,
          43,
          44,
          45,
          46,
          47
         ],
         "y": [
          100.129997,
          95.239998,
          94.160004,
          95.260002,
          95.910004,
          106.940002,
          125,
          130,
          119.900002,
          104.419998,
          90,
          79.599998,
          70.059998,
          60.209999,
          56.689999,
          65.279999,
          78.879997,
          99.599998,
          111.690002,
          118.169998,
          120.489998,
          114.739998,
          105.120003,
          93.019997,
          95.45,
          90.15,
          88.32,
          89.66,
          89.08,
          99.22,
          115.76,
          128.97,
          119.3,
          103.52,
          85.72,
          71.63,
          62.39,
          44.56,
          44.15,
          55.48,
          70.88,
          96.82,
          108.59,
          114.6,
          115.74,
          112.98,
          101.76,
          89.43
         ]
        },
        {
         "name": "2023-05-04 (Proj)",
         "type": "scatter",
         "x": [
          0,
          1,
          2,
          3,
          4,
          5,
          6,
          7,
          8,
          9,
          10,
          11,
          12,
          13,
          14,
          15,
          16,
          17,
          18,
          19,
          20,
          21,
          22,
          23,
          24,
          25,
          26,
          27,
          28,
          29,
          30,
          31,
          32,
          33,
          34,
          35,
          36,
          37,
          38,
          39,
          40,
          41,
          42,
          43,
          44,
          45,
          46,
          47
         ],
         "y": [
          104.71599833904207,
          97.45598531632439,
          95.46724742599692,
          95.11817469511317,
          96.3204877211535,
          104.94705770113873,
          118.96590230102734,
          127.81661876740523,
          124.43503682488841,
          107.6096029040706,
          89.61065169274275,
          77.53821869425086,
          70.34086345508864,
          63.811810708563854,
          61.01516043154507,
          63.91665393941543,
          76.26621134034892,
          96.26613473106288,
          109.91099174529128,
          121.11804057517008,
          123.899293045332,
          114.43946167700747,
          106.09349050198603,
          95.3840154640261,
          97.93340465403426,
          92.96010697031821,
          90.78259846320982,
          90.18279805639507,
          91.53942526271247,
          97.5637619156048,
          112.3267300330668,
          122.70259353436005,
          120.5934234847106,
          100.08373096601935,
          83.98772565556497,
          70.57165049398034,
          63.23899712115359,
          53.694405191117994,
          51.088629570188374,
          52.75054733712672,
          65.04861752996283,
          89.64272920727535,
          104.46969804271026,
          114.05551986907766,
          118.91518633072909,
          108.25058204807678,
          100.51236656973504,
          92.59070955874287
         ]
        },
        {
         "name": "2023-05-05",
         "type": "scatter",
         "x": [
          0,
          1,
          2,
          3,
          4,
          5,
          6,
          7,
          8,
          9,
          10,
          11,
          12,
          13,
          14,
          15,
          16,
          17,
          18,
          19,
          20,
          21,
          22,
          23,
          24,
          25,
          26,
          27,
          28,
          29,
          30,
          31,
          32,
          33,
          34,
          35,
          36,
          37,
          38,
          39,
          40,
          41,
          42,
          43,
          44,
          45,
          46,
          47
         ],
         "y": [
          81.889999,
          77.050003,
          76.050003,
          76.970001,
          76.32,
          85.419998,
          94.019997,
          101.940002,
          83.629997,
          65.120003,
          37.349998,
          13.26,
          6.1,
          6,
          6.02,
          6.41,
          21.16,
          77.93,
          79.360001,
          78.580002,
          77.839996,
          81.43,
          78.120003,
          72.650002,
          82.66,
          77.53,
          78.16,
          78.24,
          81.19,
          88.66,
          89.71,
          103.77,
          87.4,
          53.53,
          35.9,
          8.01,
          7.28,
          8.31,
          6.53,
          7.33,
          16.96,
          67.42,
          71.02,
          70.61,
          70.32,
          68.92,
          67.54,
          60.87
         ]
        },
        {
         "name": "2023-05-05 (Proj)",
         "type": "scatter",
         "x": [
          0,
          1,
          2,
          3,
          4,
          5,
          6,
          7,
          8,
          9,
          10,
          11,
          12,
          13,
          14,
          15,
          16,
          17,
          18,
          19,
          20,
          21,
          22,
          23,
          24,
          25,
          26,
          27,
          28,
          29,
          30,
          31,
          32,
          33,
          34,
          35,
          36,
          37,
          38,
          39,
          40,
          41,
          42,
          43,
          44,
          45,
          46,
          47
         ],
         "y": [
          92.22201326364595,
          84.53321360948303,
          80.53868132512328,
          77.64600566877822,
          77.82678181679583,
          82.03615081190097,
          91.81647083580154,
          91.25831308118926,
          84.50940467592217,
          66.72266351614842,
          42.14400177413547,
          25.935074994798107,
          17.17039299936956,
          7.49698958875873,
          -0.5599115896833595,
          2.777705422982571,
          23.30549608082074,
          58.3253962398084,
          72.27682376598015,
          83.23826252296035,
          83.92975774676708,
          84.73431869206391,
          78.08247679683981,
          71.1564294973677,
          90.86870537640098,
          86.17905445244402,
          81.9778071843757,
          79.29600148900339,
          79.6218399866027,
          80.75897706586365,
          92.64680114000639,
          92.99645971591356,
          82.68521285684301,
          58.07522105199527,
          40.84876508032393,
          23.446113688765237,
          14.039363775634737,
          4.950010062003525,
          -2.47557463022671,
          1.1211712201589634,
          19.702682543361707,
          50.73151244456054,
          65.55354731670349,
          70.3367416992403,
          68.81840160501442,
          70.37924074744294,
          70.80690503260928,
          68.82017474878967
         ]
        },
        {
         "name": "2023-05-06",
         "type": "scatter",
         "x": [
          0,
          1,
          2,
          3,
          4,
          5,
          6,
          7,
          8,
          9,
          10,
          11,
          12,
          13,
          14,
          15,
          16,
          17,
          18,
          19,
          20,
          21,
          22,
          23,
          24,
          25,
          26,
          27,
          28,
          29,
          30,
          31,
          32,
          33,
          34,
          35,
          36,
          37,
          38,
          39,
          40,
          41,
          42,
          43,
          44,
          45,
          46,
          47
         ],
         "y": [
          75.150002,
          72.629997,
          77.459999,
          78.330002,
          81.019997,
          81.75,
          82.07,
          88.120003,
          84.599998,
          85.870003,
          79.120003,
          72.629997,
          70.309998,
          55.75,
          50,
          63.16,
          72.849998,
          82.199997,
          86.220001,
          88.610001,
          95.57,
          97.260002,
          95.690002,
          89.419998,
          60.04,
          55.57,
          54.77,
          57.49,
          55.31,
          65.3,
          60.12,
          69.58,
          75.59,
          83.13,
          77.71,
          69.46,
          51.48,
          40.1,
          38.98,
          47.33,
          66.78,
          74.17,
          79.4,
          85.78,
          94.7,
          94.94,
          91.46,
          63.8
         ]
        },
        {
         "name": "2023-05-06 (Proj)",
         "type": "scatter",
         "x": [
          0,
          1,
          2,
          3,
          4,
          5,
          6,
          7,
          8,
          9,
          10,
          11,
          12,
          13,
          14,
          15,
          16,
          17,
          18,
          19,
          20,
          21,
          22,
          23,
          24,
          25,
          26,
          27,
          28,
          29,
          30,
          31,
          32,
          33,
          34,
          35,
          36,
          37,
          38,
          39,
          40,
          41,
          42,
          43,
          44,
          45,
          46,
          47
         ],
         "y": [
          77.52814800442391,
          74.12068418413378,
          74.01900615299948,
          73.1456642591491,
          74.60655102872191,
          78.54519303118762,
          85.04785080479795,
          85.77299255966118,
          86.10207605372509,
          85.03136692718715,
          79.39958586174477,
          73.1115409152658,
          67.61709604422401,
          60.632649716135035,
          57.254142703139784,
          64.93047399955847,
          77.04609870921732,
          86.07382814722484,
          92.66177962772885,
          96.5461607016565,
          100.14098281356253,
          95.05431839671924,
          88.45324943628783,
          78.83851939517118,
          63.38715675556944,
          58.14599393335732,
          56.71840504377309,
          55.523030553412326,
          54.45000986846759,
          62.38351870616647,
          66.27633079321316,
          71.561087626316,
          73.83804544453571,
          75.019765687984,
          69.0705835319158,
          60.26921422078208,
          50.53015599287664,
          43.792916008478656,
          40.12152031007744,
          46.345366201438424,
          59.31383122559694,
          71.81449425155053,
          82.62516386724668,
          88.65458746780517,
          96.61419204274426,
          94.51963607756275,
          86.56179250101792,
          69.07530049967819
         ]
        },
        {
         "name": "2023-05-07",
         "type": "scatter",
         "x": [
          0,
          1,
          2,
          3,
          4,
          5,
          6,
          7,
          8,
          9,
          10,
          11,
          12,
          13,
          14,
          15,
          16,
          17,
          18,
          19,
          20,
          21,
          22,
          23,
          24,
          25,
          26,
          27,
          28,
          29,
          30,
          31,
          32,
          33,
          34,
          35,
          36,
          37,
          38,
          39,
          40,
          41,
          42,
          43,
          44,
          45,
          46,
          47
         ],
         "y": [
          89.779999,
          83.5,
          82.660004,
          83.510002,
          82.940002,
          84.07,
          83.139999,
          81.870003,
          75.870003,
          67.599998,
          33.900002,
          5.09,
          -0.04,
          -0.99,
          -0.03,
          15.44,
          56.619999,
          75.970001,
          94.940002,
          97.760002,
          97.870003,
          97.940002,
          96.089996,
          95.050003,
          71.48,
          69.79,
          67.88,
          67.41,
          65.98,
          68.59,
          73.16,
          71.61,
          68.61,
          54.13,
          13.61,
          -5.93,
          -3.77,
          -10.53,
          -6.73,
          -5.04,
          36.96,
          63.29,
          78.08,
          86.2,
          83.47,
          88.37,
          83.93,
          83.11
         ]
        },
        {
         "name": "2023-05-07 (Proj)",
         "type": "scatter",
         "x": [
          0,
          1,
          2,
          3,
          4,
          5,
          6,
          7,
          8,
          9,
          10,
          11,
          12,
          13,
          14,
          15,
          16,
          17,
          18,
          19,
          20,
          21,
          22,
          23,
          24,
          25,
          26,
          27,
          28,
          29,
          30,
          31,
          32,
          33,
          34,
          35,
          36,
          37,
          38,
          39,
          40,
          41,
          42,
          43,
          44,
          45,
          46,
          47
         ],
         "y": [
          92.16328838563052,
          85.90205266124636,
          82.51057556433331,
          80.6616322680659,
          81.06944125678632,
          83.21946533362204,
          77.70954576094502,
          72.52620041295205,
          68.84368896247325,
          60.676036085000696,
          38.36595809035279,
          21.970326061246674,
          14.595737722720074,
          6.015108007618807,
          3.249853235281215,
          14.599611479051408,
          40.24867656074073,
          71.55922837277694,
          86.54646102489217,
          97.52788429873434,
          105.69401133959991,
          101.43206212557926,
          102.18691784691029,
          97.20948177930143,
          82.49905812249347,
          77.76208737432444,
          74.8173903028367,
          74.15590365527555,
          72.67037021185409,
          74.9688868483156,
          70.0851289720091,
          68.57485737328145,
          59.522593503080316,
          49.00205757014215,
          30.324029265570346,
          9.859478654684082,
          -3.2803899342171334,
          -13.082332756373809,
          -13.27799894670354,
          -1.851587474040457,
          21.226569084696873,
          53.360079401683876,
          73.65354776059539,
          78.74578103059946,
          82.44110923110924,
          84.94003363023344,
          92.62259875052409,
          83.56712577091956
         ]
        },
        {
         "name": "2023-05-08",
         "type": "scatter",
         "x": [
          0,
          1,
          2,
          3,
          4,
          5,
          6,
          7,
          8,
          9,
          10,
          11,
          12,
          13,
          14,
          15,
          16,
          17,
          18,
          19,
          20,
          21,
          22,
          23,
          24,
          25,
          26,
          27,
          28,
          29,
          30,
          31,
          32,
          33,
          34,
          35,
          36,
          37,
          38,
          39,
          40,
          41,
          42,
          43,
          44,
          45,
          46,
          47
         ],
         "y": [
          85.919998,
          83.93,
          83.779999,
          83.129997,
          84.089996,
          88,
          103.290001,
          117.870003,
          110.970001,
          97.610001,
          89.629997,
          79.68,
          75.059998,
          69.480003,
          62.900002,
          60.209999,
          73.540001,
          87.639999,
          92.470001,
          93.980003,
          100.57,
          99.900002,
          92.029999,
          82.059998,
          79.42,
          84.46,
          84.18,
          81.14,
          74.64,
          78.94,
          98.19,
          109.88,
          109.35,
          96.4,
          85.31,
          78.58,
          69.52,
          61.86,
          54.23,
          52.59,
          59.69,
          79.94,
          93.7,
          88.97,
          98.13,
          99.39,
          93.46,
          82.89
         ]
        },
        {
         "name": "2023-05-08 (Proj)",
         "type": "scatter",
         "x": [
          0,
          1,
          2,
          3,
          4,
          5,
          6,
          7,
          8,
          9,
          10,
          11,
          12,
          13,
          14,
          15,
          16,
          17,
          18,
          19,
          20,
          21,
          22,
          23,
          24,
          25,
          26,
          27,
          28,
          29,
          30,
          31,
          32,
          33,
          34,
          35,
          36,
          37,
          38,
          39,
          40,
          41,
          42,
          43,
          44,
          45,
          46,
          47
         ],
         "y": [
          89.86275360315142,
          84.20435945542647,
          83.11929784033275,
          82.36697928473224,
          83.63245253242057,
          91.07740261292064,
          109.23989073883496,
          117.10536696896983,
          114.67624526218265,
          101.68959868303634,
          89.77341148741574,
          81.02338021146996,
          73.43569443614464,
          66.40624853559991,
          61.365854248377474,
          63.06295361780545,
          71.78139045967501,
          86.49616567092659,
          96.01153758675474,
          103.50969261021724,
          104.23004766644209,
          99.28812457735957,
          88.13681376544173,
          77.0158507954454,
          82.50811972372787,
          77.34799997347747,
          75.28581296689346,
          73.69714235793626,
          74.7343749939638,
          81.47288731664943,
          99.52021403740963,
          109.45418328926482,
          110.08641540567908,
          94.06651234532191,
          83.36929250643432,
          73.69919601304906,
          66.37574230550669,
          58.8660748662593,
          52.809147764953664,
          52.549691334550445,
          62.094816197563226,
          80.19608698693432,
          90.68323695724426,
          98.59928236447807,
          103.58905367653273,
          97.04144143100802,
          85.39717015963478,
          75.83695014448955
         ]
        },
        {
         "name": "2023-05-09",
         "type": "scatter",
         "x": [
          0,
          1,
          2,
          3,
          4,
          5,
          6,
          7,
          8,
          9,
          10,
          11,
          12,
          13,
          14,
          15,
          16,
          17,
          18,
          19,
          20,
          21,
          22,
          23,
          24,
          25,
          26,
          27,
          28,
          29,
          30,
          31,
          32,
          33,
          34,
          35,
          36,
          37,
          38,
          39,
          40,
          41,
          42,
          43,
          44,
          45,
          46,
          47
         ],
         "y": [
          82.07,
          79.099998,
          79.220001,
          81.470001,
          82.519997,
          85.940002,
          95.139999,
          93.260002,
          93.419998,
          92.029999,
          83.870003,
          70.949997,
          65.760002,
          61.91,
          68.290001,
          76.019997,
          76.889999,
          92.589996,
          92,
          95.370003,
          92.57,
          92.400002,
          87.650002,
          80.860001,
          70.97,
          64.64,
          62.55,
          64.72,
          63.59,
          73.8,
          73.4,
          79.09,
          73.49,
          69.44,
          71.15,
          58.33,
          45.74,
          40,
          37.7,
          47.08,
          54.8,
          69.95,
          72.78,
          82.86,
          82.36,
          86.93,
          85.08,
          75.76
         ]
        },
        {
         "name": "2023-05-09 (Proj)",
         "type": "scatter",
         "x": [
          0,
          1,
          2,
          3,
          4,
          5,
          6,
          7,
          8,
          9,
          10,
          11,
          12,
          13,
          14,
          15,
          16,
          17,
          18,
          19,
          20,
          21,
          22,
          23,
          24,
          25,
          26,
          27,
          28,
          29,
          30,
          31,
          32,
          33,
          34,
          35,
          36,
          37,
          38,
          39,
          40,
          41,
          42,
          43,
          44,
          45,
          46,
          47
         ],
         "y": [
          86.09136191555405,
          81.47624677454299,
          81.14238085958526,
          80.8822552801571,
          82.12641053005524,
          86.4621708195515,
          93.24962225514412,
          94.21101687890014,
          94.19926484106354,
          91.68485536981566,
          83.35549403476669,
          75.1612227719398,
          69.60411820694485,
          62.65834586361923,
          59.266878672069424,
          67.6411940955089,
          80.30752557923243,
          90.32713960287195,
          95.01032364689019,
          96.81732276083652,
          98.1275261249267,
          91.42255889225879,
          87.74189890991454,
          79.51062615783167,
          69.44337362599643,
          63.84848516417803,
          62.34033990885263,
          61.46324974719933,
          60.5470294906256,
          67.72894385219232,
          71.00049957513055,
          76.45062157310777,
          79.16736759281994,
          77.799993290428,
          68.89912218624367,
          56.87751400401593,
          46.49008220176472,
          39.954454315343206,
          36.401443745797074,
          42.72598949508364,
          56.75597554775169,
          71.9251536307572,
          81.68045316435968,
          81.27683729227797,
          84.88112867290465,
          85.16935869915889,
          83.72406225111662,
          67.84364519274841
         ]
        },
        {
         "name": "2023-05-10",
         "type": "scatter",
         "x": [
          0,
          1,
          2,
          3,
          4,
          5,
          6,
          7,
          8,
          9,
          10,
          11,
          12,
          13,
          14,
          15,
          16,
          17,
          18,
          19,
          20,
          21,
          22,
          23,
          24,
          25,
          26,
          27,
          28,
          29,
          30,
          31,
          32,
          33,
          34,
          35,
          36,
          37,
          38,
          39,
          40,
          41,
          42,
          43,
          44,
          45,
          46,
          47
         ],
         "y": [
          68.800003,
          65.330002,
          64.440002,
          63.810001,
          64.18,
          70.059998,
          78.669998,
          84.57,
          84.919998,
          84.309998,
          79.25,
          79.349998,
          77.620003,
          80.529999,
          81.379997,
          83.919998,
          78.550003,
          100.370003,
          120,
          135.729996,
          147.419998,
          134.289993,
          117.589996,
          109.839996,
          67.58,
          64.53,
          60.28,
          58.88,
          61.33,
          74.01,
          84.82,
          90.7,
          85.73,
          91.66,
          93.58,
          94.32,
          90.45,
          88.3,
          85.59,
          86.9,
          85.62,
          95.09,
          122.54,
          149.58,
          191.51,
          153.41,
          129.03,
          113.95
         ]
        },
        {
         "name": "2023-05-10 (Proj)",
         "type": "scatter",
         "x": [
          0,
          1,
          2,
          3,
          4,
          5,
          6,
          7,
          8,
          9,
          10,
          11,
          12,
          13,
          14,
          15,
          16,
          17,
          18,
          19,
          20,
          21,
          22,
          23,
          24,
          25,
          26,
          27,
          28,
          29,
          30,
          31,
          32,
          33,
          34,
          35,
          36,
          37,
          38,
          39,
          40,
          41,
          42,
          43,
          44,
          45,
          46,
          47
         ],
         "y": [
          67.41441250581411,
          66.65835743038106,
          66.98341028151046,
          64.86275265185554,
          67.54420228921694,
          74.04830630895295,
          80.14166193050858,
          86.851771769679,
          87.84140010372822,
          84.9885469007643,
          84.55349368518667,
          83.63766988681462,
          79.2345798628001,
          73.84527438800436,
          74.3636450166484,
          78.06951515365847,
          87.71260791267332,
          94.39984000285654,
          114.45191841923523,
          132.50704690660623,
          147.34036880917205,
          139.82299979767834,
          121.64427062781425,
          104.41309559458423,
          64.94458126286385,
          61.36451079115516,
          60.626078330117146,
          59.7563782926436,
          59.482057531997235,
          71.43458867078606,
          79.83978842113348,
          90.06302160758796,
          89.86532298333915,
          93.0860270493975,
          93.12289872290759,
          95.53755385540471,
          90.64241010075135,
          80.2046375927849,
          80.76649331617392,
          85.97404055555918,
          94.09420804379047,
          101.10015283198777,
          120.80320250332537,
          158.66969864017784,
          186.24457401857543,
          162.4653788411494,
          126.30904071169508,
          103.81518267359
         ]
        },
        {
         "name": "2023-05-11",
         "type": "scatter",
         "x": [
          0,
          1,
          2,
          3,
          4,
          5,
          6,
          7,
          8,
          9,
          10,
          11,
          12,
          13,
          14,
          15,
          16,
          17,
          18,
          19,
          20,
          21,
          22,
          23,
          24,
          25,
          26,
          27,
          28,
          29,
          30,
          31,
          32,
          33,
          34,
          35,
          36,
          37,
          38,
          39,
          40,
          41,
          42,
          43,
          44,
          45,
          46,
          47
         ],
         "y": [
          100,
          96.940002,
          96,
          97.279999,
          97.900002,
          104.230003,
          121.110001,
          148.330002,
          167.779999,
          135.470001,
          126.709999,
          115.790001,
          104.529999,
          100.010002,
          99.370003,
          109.510002,
          113.540001,
          115.269997,
          123.629997,
          147,
          132.800003,
          118.400002,
          113.989998,
          101.660004,
          103.1,
          98.21,
          96.99,
          99.18,
          97.97,
          104.9,
          119.7,
          145.67,
          170.12,
          129.89,
          119.78,
          112.68,
          103.95,
          96.44,
          102.38,
          106.25,
          107.77,
          114.16,
          124.83,
          138.44,
          136.11,
          118.13,
          110.91,
          98.67
         ]
        },
        {
         "name": "2023-05-11 (Proj)",
         "type": "scatter",
         "x": [
          0,
          1,
          2,
          3,
          4,
          5,
          6,
          7,
          8,
          9,
          10,
          11,
          12,
          13,
          14,
          15,
          16,
          17,
          18,
          19,
          20,
          21,
          22,
          23,
          24,
          25,
          26,
          27,
          28,
          29,
          30,
          31,
          32,
          33,
          34,
          35,
          36,
          37,
          38,
          39,
          40,
          41,
          42,
          43,
          44,
          45,
          46,
          47
         ],
         "y": [
          106.89173491038439,
          100.20673927924298,
          99.88617104765419,
          100.63311644812954,
          102.5955231335714,
          114.59616148320097,
          138.50881331115107,
          155.11080164995548,
          153.4650780845966,
          135.91014247896098,
          124.98663090348893,
          117.88546005709024,
          111.69903791323378,
          106.84358078289804,
          104.91957551067367,
          103.97087115643973,
          107.14929456060361,
          115.02031527760182,
          126.45916661982126,
          136.40983509887218,
          136.92524828407988,
          123.60643357503005,
          109.76628846257265,
          95.0498423172583,
          99.34288067143808,
          94.18338756448502,
          92.99865362948721,
          92.63451968901346,
          95.19423891548172,
          104.90340629629645,
          128.62693886630237,
          146.34877828244944,
          150.67695452441106,
          131.04827969597466,
          119.67472812044161,
          112.74050995109229,
          108.78703974152054,
          99.86469180463422,
          96.56922536280413,
          93.52113382375408,
          98.59115585945635,
          114.14247847239253,
          125.02559854606957,
          138.29987534000327,
          146.41624962118857,
          127.27669325364766,
          108.05554842072759,
          96.93146097751068
         ]
        },
        {
         "name": "2023-05-12",
         "type": "scatter",
         "x": [
          0,
          1,
          2,
          3,
          4,
          5,
          6,
          7,
          8,
          9,
          10,
          11,
          12,
          13,
          14,
          15,
          16,
          17,
          18,
          19,
          20,
          21,
          22,
          23,
          24,
          25,
          26,
          27,
          28,
          29,
          30,
          31,
          32,
          33,
          34,
          35,
          36,
          37,
          38,
          39,
          40,
          41,
          42,
          43,
          44,
          45,
          46,
          47
         ],
         "y": [
          98.529999,
          90.550003,
          89.839996,
          90,
          90.800003,
          98.68,
          116.989998,
          130,
          137.979996,
          113.300003,
          101.599998,
          97.480003,
          74.970001,
          64.099998,
          62.509998,
          69.550003,
          80.620003,
          94.010002,
          106.629997,
          119.620003,
          122.120003,
          115.800003,
          101.18,
          97.82,
          94.24,
          86.05,
          83,
          80.78,
          84.15,
          88.37,
          112.25,
          125,
          145.1,
          112.27,
          85.07,
          66.65,
          48.63,
          43.88,
          41.01,
          36.63,
          44.59,
          83.28,
          103.42,
          113.43,
          113.69,
          108.34,
          99.03,
          102.67
         ]
        },
        {
         "name": "2023-05-12 (Proj)",
         "type": "scatter",
         "x": [
          0,
          1,
          2,
          3,
          4,
          5,
          6,
          7,
          8,
          9,
          10,
          11,
          12,
          13,
          14,
          15,
          16,
          17,
          18,
          19,
          20,
          21,
          22,
          23,
          24,
          25,
          26,
          27,
          28,
          29,
          30,
          31,
          32,
          33,
          34,
          35,
          36,
          37,
          38,
          39,
          40,
          41,
          42,
          43,
          44,
          45,
          46,
          47
         ],
         "y": [
          97.1415926304738,
          91.04741623365172,
          89.53498178634715,
          91.0162703300482,
          91.89917120297937,
          101.42597278271026,
          123.11682777277056,
          137.29126981922238,
          135.37197526345062,
          116.87307816745263,
          99.75792129066117,
          86.64871473992027,
          73.35591491882656,
          67.25201791425656,
          65.665140717168,
          68.31925833332589,
          75.03459424137787,
          92.71551791013295,
          106.13501030936328,
          117.61050573551081,
          125.78978536344536,
          119.99589446574511,
          110.52973032639204,
          101.27470889886372,
          88.16921969619125,
          82.64557177992313,
          81.83992784922205,
          82.30899723385002,
          84.35387568151287,
          89.7162078433774,
          114.33349927381857,
          131.3469748076836,
          133.73564657350786,
          106.03984129510995,
          83.53815956971137,
          66.52293004922406,
          54.587585917453744,
          47.27744567324244,
          45.51239441893031,
          41.814105264410834,
          48.7626976473748,
          80.29353454276946,
          96.68948005641705,
          104.30726806553272,
          111.49989621233162,
          107.84723800988061,
          102.28208842687687,
          99.28528683055343
         ]
        },
        {
         "name": "2023-05-13",
         "type": "scatter",
         "x": [
          0,
          1,
          2,
          3,
          4,
          5,
          6,
          7,
          8,
          9,
          10,
          11,
          12,
          13,
          14,
          15,
          16,
          17,
          18,
          19,
          20,
          21,
          22,
          23,
          24,
          25,
          26,
          27,
          28,
          29,
          30,
          31,
          32,
          33,
          34,
          35,
          36,
          37,
          38,
          39,
          40,
          41,
          42,
          43,
          44,
          45,
          46,
          47
         ],
         "y": [
          104.910004,
          98.290001,
          94.839996,
          96.139999,
          96.540001,
          97.830002,
          96.959999,
          94.720001,
          94.470001,
          89.080002,
          71.349998,
          30.120001,
          15.53,
          5.55,
          5.06,
          6.17,
          27.719999,
          75.410004,
          84.510002,
          108.620003,
          118.599998,
          113.480003,
          109.959999,
          104.970001,
          96.25,
          92.5,
          89.88,
          92.51,
          87.24,
          96.17,
          103.69,
          104.65,
          95.85,
          74.74,
          62.48,
          26.76,
          6.07,
          -0.68,
          3.56,
          11.64,
          31.99,
          64.16,
          87.3,
          98.67,
          109.04,
          91.69,
          104.5,
          103.66
         ]
        },
        {
         "name": "2023-05-13 (Proj)",
         "type": "scatter",
         "x": [
          0,
          1,
          2,
          3,
          4,
          5,
          6,
          7,
          8,
          9,
          10,
          11,
          12,
          13,
          14,
          15,
          16,
          17,
          18,
          19,
          20,
          21,
          22,
          23,
          24,
          25,
          26,
          27,
          28,
          29,
          30,
          31,
          32,
          33,
          34,
          35,
          36,
          37,
          38,
          39,
          40,
          41,
          42,
          43,
          44,
          45,
          46,
          47
         ],
         "y": [
          102.82862226768407,
          94.8925856513609,
          90.60320868823348,
          89.08321986368169,
          89.41478265087424,
          95.33515175342141,
          100.45243008542295,
          103.42510988591442,
          97.50398758516339,
          77.6735989630672,
          49.563703203370764,
          30.913025554837287,
          20.801125633024817,
          12.561629685270141,
          9.539826149529507,
          15.33819330956553,
          37.422471656868055,
          74.06592723666047,
          94.28920676346144,
          111.20681146287502,
          119.88868127479336,
          115.28334363496681,
          110.804342564372,
          103.8215414203036,
          100.45767651541196,
          95.96402624324911,
          92.78523693480591,
          92.20851957185229,
          92.8492824480783,
          94.37878662578257,
          103.57703528812763,
          108.04846714334853,
          97.44950188109875,
          70.04159601643524,
          45.821543982169445,
          24.75263439116927,
          13.514237122467158,
          2.5346623571254128,
          1.6772262755799119,
          6.732442536400157,
          25.747730384113186,
          64.59308746191446,
          87.02921490771706,
          98.21864185581913,
          102.49651423455038,
          98.64543761571173,
          100.36235081644219,
          98.75943597023324
         ]
        },
        {
         "name": "2023-05-14",
         "type": "scatter",
         "x": [
          0,
          1,
          2,
          3,
          4,
          5,
          6,
          7,
          8,
          9,
          10,
          11,
          12,
          13,
          14,
          15,
          16,
          17,
          18,
          19,
          20,
          21,
          22,
          23,
          24,
          25,
          26,
          27,
          28,
          29,
          30,
          31,
          32,
          33,
          34,
          35,
          36,
          37,
          38,
          39,
          40,
          41,
          42,
          43,
          44,
          45,
          46,
          47
         ],
         "y": [
          102.370003,
          98.18,
          94.300003,
          85.370003,
          86.419998,
          95.080002,
          81.330002,
          73.870003,
          75.690002,
          54.900002,
          25.09,
          13.89,
          9.73,
          1.85,
          0.16,
          1.78,
          32.290001,
          90.5,
          105.629997,
          116,
          127.129997,
          127.989998,
          119.139999,
          107.919998,
          107.96,
          105.59,
          98.49,
          98.54,
          98.78,
          105.16,
          100.07,
          86.3,
          64.05,
          62.47,
          61.4,
          47.7,
          40.75,
          24.64,
          22.88,
          48.58,
          68.34,
          98.01,
          115.82,
          122.12,
          132.62,
          132.66,
          123.8,
          114.17
         ]
        },
        {
         "name": "2023-05-14 (Proj)",
         "type": "scatter",
         "x": [
          0,
          1,
          2,
          3,
          4,
          5,
          6,
          7,
          8,
          9,
          10,
          11,
          12,
          13,
          14,
          15,
          16,
          17,
          18,
          19,
          20,
          21,
          22,
          23,
          24,
          25,
          26,
          27,
          28,
          29,
          30,
          31,
          32,
          33,
          34,
          35,
          36,
          37,
          38,
          39,
          40,
          41,
          42,
          43,
          44,
          45,
          46,
          47
         ],
         "y": [
          104.9741993756706,
          97.0519093076064,
          92.33831753897596,
          86.9728006768269,
          88.36299864257899,
          92.653811757238,
          82.11119438091941,
          76.52611522313505,
          69.0242550793007,
          54.336956890275175,
          28.752363936284397,
          14.847472326104587,
          15.524848182828357,
          7.04111988391378,
          3.6647999113344127,
          9.46116078708313,
          40.82212761140072,
          79.56132852256569,
          105.41473159797243,
          127.30313029790457,
          132.86155531190093,
          122.37343873196889,
          115.35735018104056,
          103.11171031470494,
          110.3393638447267,
          107.50885845624953,
          102.4181007300561,
          100.0951631357907,
          99.34002224281056,
          103.77122677060684,
          95.4839551857895,
          89.39381060336623,
          70.25128924106775,
          59.86912407952751,
          50.42428492394109,
          40.653014326583474,
          38.380219018128926,
          22.432115848846927,
          22.101632092442856,
          37.05495266306038,
          63.6834895922447,
          87.27341334582137,
          111.05836469901486,
          139.35644702713938,
          149.25821523317603,
          126.35348623057355,
          112.62897956184226,
          99.03294690678104
         ]
        },
        {
         "name": "2023-05-15",
         "type": "scatter",
         "x": [
          0,
          1,
          2,
          3,
          4,
          5,
          6,
          7,
          8,
          9,
          10,
          11,
          12,
          13,
          14,
          15,
          16,
          17,
          18,
          19,
          20,
          21,
          22,
          23,
          24,
          25,
          26,
          27,
          28,
          29,
          30,
          31,
          32,
          33,
          34,
          35,
          36,
          37,
          38,
          39,
          40,
          41,
          42,
          43,
          44,
          45,
          46,
          47
         ],
         "y": [
          119.040001,
          107.610001,
          103.540001,
          108.870003,
          108.029999,
          126.150002,
          151.029999,
          168.789993,
          149.119995,
          124.809998,
          105.580002,
          99.620003,
          94.75,
          90.769997,
          89.419998,
          90.540001,
          87.949997,
          100.050003,
          117.839996,
          124.980003,
          129.199997,
          122.32,
          110,
          93.790001,
          107.45,
          99.94,
          99.41,
          98.98,
          110.76,
          108.47,
          131.61,
          156.23,
          139.38,
          122.15,
          110.25,
          97.54,
          88.67,
          83.91,
          80.33,
          77.8,
          77.22,
          84.64,
          97.47,
          98.56,
          106.48,
          105.52,
          99.6,
          86.98
         ]
        },
        {
         "name": "2023-05-15 (Proj)",
         "type": "scatter",
         "x": [
          0,
          1,
          2,
          3,
          4,
          5,
          6,
          7,
          8,
          9,
          10,
          11,
          12,
          13,
          14,
          15,
          16,
          17,
          18,
          19,
          20,
          21,
          22,
          23,
          24,
          25,
          26,
          27,
          28,
          29,
          30,
          31,
          32,
          33,
          34,
          35,
          36,
          37,
          38,
          39,
          40,
          41,
          42,
          43,
          44,
          45,
          46,
          47
         ],
         "y": [
          115.81177582950372,
          107.06873735140076,
          105.55409271638284,
          106.54669938962583,
          107.75896123336805,
          119.38552002314732,
          144.37337158342694,
          159.692582330005,
          156.13522204835567,
          134.10220646160064,
          115.8190042929109,
          103.79331584939295,
          95.753989328958,
          89.91238405426282,
          86.26386118145692,
          85.75690546001053,
          91.74378951218699,
          107.37678647615049,
          117.12510009752545,
          125.06925664874245,
          122.447974098208,
          110.82851604121637,
          101.10795011225161,
          89.7371187604239,
          107.4301595787418,
          101.83886801175353,
          99.92918361205157,
          99.4578152773543,
          102.26014151058158,
          108.8276637657145,
          133.65461399486546,
          149.60980790293166,
          151.7404336167767,
          123.37485202952082,
          105.40182126449874,
          91.56789925595083,
          85.54533744492628,
          77.10470715580973,
          72.40304140998849,
          68.73725356545475,
          76.55945215401411,
          100.58247580298023,
          110.70930569624404,
          113.62430431872986,
          113.49607568687061,
          102.18405945675569,
          95.06547269791947,
          90.24665383677934
         ]
        },
        {
         "name": "2023-05-16",
         "type": "scatter",
         "x": [
          0,
          1,
          2,
          3,
          4,
          5,
          6,
          7,
          8,
          9,
          10,
          11,
          12,
          13,
          14,
          15,
          16,
          17,
          18,
          19,
          20,
          21,
          22,
          23,
          24,
          25,
          26,
          27,
          28,
          29,
          30,
          31,
          32,
          33,
          34,
          35,
          36,
          37,
          38,
          39,
          40,
          41,
          42,
          43,
          44,
          45,
          46,
          47
         ],
         "y": [
          75.589996,
          71.339996,
          68.330002,
          62.040001,
          64.32,
          69.150002,
          87.790001,
          77.089996,
          77.010002,
          73.510002,
          71.419998,
          61.650002,
          49.779999,
          39.189999,
          19.99,
          12.59,
          41.23,
          59.790001,
          59.790001,
          59.330002,
          56.779999,
          48.529999,
          28.469999,
          14.57,
          67.63,
          62.12,
          57.99,
          49.36,
          50.07,
          57.31,
          76.27,
          67.9,
          68.3,
          65.07,
          64.02,
          58.9,
          57.09,
          48.5,
          30.81,
          30.16,
          50.39,
          64.33,
          67.13,
          67.9,
          65.5,
          56.81,
          34.58,
          27.72
         ]
        },
        {
         "name": "2023-05-16 (Proj)",
         "type": "scatter",
         "x": [
          0,
          1,
          2,
          3,
          4,
          5,
          6,
          7,
          8,
          9,
          10,
          11,
          12,
          13,
          14,
          15,
          16,
          17,
          18,
          19,
          20,
          21,
          22,
          23,
          24,
          25,
          26,
          27,
          28,
          29,
          30,
          31,
          32,
          33,
          34,
          35,
          36,
          37,
          38,
          39,
          40,
          41,
          42,
          43,
          44,
          45,
          46,
          47
         ],
         "y": [
          72.6812682052869,
          67.2506646051913,
          65.84133228757581,
          61.334449739521936,
          62.41328974219868,
          65.59398510145596,
          83.1792553003002,
          80.49967170966676,
          75.5662590232046,
          67.07487605675675,
          58.720730539879824,
          53.40059262055935,
          50.57621555314961,
          40.61990063446617,
          27.29143413450748,
          26.213076250916444,
          38.476520517920335,
          56.085396027582505,
          58.895580756933974,
          59.68533266625421,
          48.22649561632724,
          51.61652004832146,
          37.7453234513571,
          26.383513307624753,
          70.24085049732241,
          65.39941602008167,
          60.79716042923677,
          55.28804423064419,
          55.06570515353092,
          60.703302383995066,
          75.23106610484537,
          73.14318971148028,
          69.09140102231696,
          61.49293893166745,
          64.32537683819444,
          61.62393910091349,
          58.71832999635203,
          52.345757678855435,
          36.430612489673514,
          38.2499017223545,
          51.75996679125964,
          56.657006030492425,
          57.453267325125395,
          60.246468525953084,
          57.23438843721952,
          56.01131919909069,
          40.97122055064567,
          28.69951752656602
         ]
        },
        {
         "name": "2023-05-17",
         "type": "scatter",
         "x": [
          0,
          1,
          2,
          3,
          4,
          5,
          6,
          7,
          8,
          9,
          10,
          11,
          12,
          13,
          14,
          15,
          16,
          17,
          18,
          19,
          20,
          21,
          22,
          23,
          24,
          25,
          26,
          27,
          28,
          29,
          30,
          31,
          32,
          33,
          34,
          35,
          36,
          37,
          38,
          39,
          40,
          41,
          42,
          43,
          44,
          45,
          46,
          47
         ],
         "y": [
          19,
          30.16,
          30.16,
          30.16,
          30.17,
          34.759998,
          43.599998,
          50.639999,
          54.209999,
          50.439999,
          48.540001,
          36.380001,
          3.62,
          0.05,
          0.08,
          2.02,
          20,
          58.990002,
          65.019997,
          70.449997,
          114.410004,
          127.040001,
          108.339996,
          100.470001,
          21.03,
          21.51,
          22.97,
          25.2,
          24.06,
          28.96,
          40.59,
          59.42,
          56.98,
          52.12,
          42.02,
          29.31,
          3.04,
          -1.16,
          -1.29,
          3.33,
          3.64,
          48.96,
          63.43,
          69.83,
          100.51,
          123.42,
          105.37,
          99.26
         ]
        },
        {
         "name": "2023-05-17 (Proj)",
         "type": "scatter",
         "x": [
          0,
          1,
          2,
          3,
          4,
          5,
          6,
          7,
          8,
          9,
          10,
          11,
          12,
          13,
          14,
          15,
          16,
          17,
          18,
          19,
          20,
          21,
          22,
          23,
          24,
          25,
          26,
          27,
          28,
          29,
          30,
          31,
          32,
          33,
          34,
          35,
          36,
          37,
          38,
          39,
          40,
          41,
          42,
          43,
          44,
          45,
          46,
          47
         ],
         "y": [
          30.344766883695826,
          32.82662026974554,
          32.068976362700006,
          31.060487525266183,
          31.892347147033817,
          33.68603798870568,
          45.25350309461052,
          49.85244280536345,
          51.36712409937594,
          48.42445652537127,
          43.899363662242905,
          36.145504446849934,
          16.53321723507147,
          8.522092862518647,
          7.2305290826558135,
          14.098766377259256,
          23.23106968662553,
          41.55753229720147,
          62.353370341245366,
          81.21058777470593,
          109.5303672264681,
          122.07201441429271,
          105.54223850488918,
          96.77501748612765,
          27.076566728406497,
          22.703825055607105,
          23.070944556875673,
          22.66969778260549,
          21.77537944421541,
          26.799631765414027,
          46.98470242397921,
          58.54665565695108,
          58.6274802496029,
          47.632831069349095,
          32.45240403636923,
          21.651715759276556,
          2.283761728711468,
          -2.7646655313500546,
          -3.564161702125496,
          -4.778176540003521,
          0.6598773817330823,
          30.741240957447786,
          56.47400345451835,
          86.03630039165597,
          114.55559990410453,
          122.10399044582647,
          101.92843720167663,
          94.43191039480143
         ]
        },
        {
         "name": "2023-05-18",
         "type": "scatter",
         "x": [
          0,
          1,
          2,
          3,
          4,
          5,
          6,
          7,
          8,
          9,
          10,
          11,
          12,
          13,
          14,
          15,
          16,
          17,
          18,
          19,
          20,
          21,
          22,
          23,
          24,
          25,
          26,
          27,
          28,
          29,
          30,
          31,
          32,
          33,
          34,
          35,
          36,
          37,
          38,
          39,
          40,
          41,
          42,
          43,
          44,
          45,
          46,
          47
         ],
         "y": [
          100.589996,
          94.900002,
          89.239998,
          88.919998,
          94.379997,
          98.400002,
          100.419998,
          94.830002,
          90.290001,
          80.339996,
          72.059998,
          65.029999,
          62.869999,
          43.52,
          29.41,
          43.080002,
          71.559998,
          84.589996,
          103.080002,
          115.529999,
          125.870003,
          117.18,
          109.610001,
          98.760002,
          92.74,
          85.79,
          83.99,
          81.06,
          86.15,
          87.49,
          90.94,
          87.94,
          80.45,
          62.33,
          46.28,
          41.28,
          22.8,
          -6.65,
          -6.74,
          -4.08,
          21.35,
          60.68,
          90.49,
          105.52,
          112.32,
          107.08,
          101.74,
          95.96
         ]
        },
        {
         "name": "2023-05-18 (Proj)",
         "type": "scatter",
         "x": [
          0,
          1,
          2,
          3,
          4,
          5,
          6,
          7,
          8,
          9,
          10,
          11,
          12,
          13,
          14,
          15,
          16,
          17,
          18,
          19,
          20,
          21,
          22,
          23,
          24,
          25,
          26,
          27,
          28,
          29,
          30,
          31,
          32,
          33,
          34,
          35,
          36,
          37,
          38,
          39,
          40,
          41,
          42,
          43,
          44,
          45,
          46,
          47
         ],
         "y": [
          99.63739421389143,
          93.30747218706202,
          90.75735819786702,
          90.93446853278218,
          91.58817089300359,
          96.5759658386543,
          96.79882748916873,
          98.60870343760031,
          96.51990349326549,
          86.28590857173262,
          65.4025389376179,
          49.433003875331195,
          40.29430894559759,
          33.30231236983008,
          33.278940146666855,
          44.02133310429625,
          64.00250292276024,
          88.98884178299761,
          103.7250484386604,
          114.8748425100645,
          125.10285012279957,
          116.89718536978047,
          117.077476595077,
          111.24993509091192,
          86.72027910301283,
          81.56665321782373,
          79.93057039745761,
          80.70294309139261,
          80.2092049949159,
          84.03926118943205,
          85.12003390551808,
          91.05558436672572,
          87.10405681737359,
          72.96393793304564,
          50.72331945147028,
          29.4104906354328,
          15.538442449668512,
          6.220620064195838,
          8.474004959222679,
          16.551111632547585,
          35.00603810156815,
          68.61234522013322,
          89.39580584088867,
          94.23637198618995,
          99.99572450872054,
          99.68555868995193,
          106.38007788738824,
          97.89908438411345
         ]
        },
        {
         "name": "2023-05-19",
         "type": "scatter",
         "x": [
          0,
          1,
          2,
          3,
          4,
          5,
          6,
          7,
          8,
          9,
          10,
          11,
          12,
          13,
          14,
          15,
          16,
          17,
          18,
          19,
          20,
          21,
          22,
          23,
          24,
          25,
          26,
          27,
          28,
          29,
          30,
          31,
          32,
          33,
          34,
          35,
          36,
          37,
          38,
          39,
          40,
          41,
          42,
          43,
          44,
          45,
          46,
          47
         ],
         "y": [
          93.019997,
          83.199997,
          80.230003,
          77.029999,
          84.160004,
          99.330002,
          111,
          109.970001,
          106,
          93.889999,
          70.370003,
          60.560001,
          60.91,
          57.790001,
          57.93,
          63.619999,
          72.150002,
          87.190002,
          103.669998,
          116.290001,
          115.93,
          105.019997,
          99.790001,
          85.779999,
          82.52,
          76.28,
          74.78,
          76.45,
          81.02,
          90.33,
          99.97,
          101.96,
          102.77,
          82.42,
          65.78,
          50.8,
          44.65,
          36.64,
          36.41,
          28.84,
          43.4,
          67.78,
          81.7,
          89.53,
          90.31,
          85.03,
          83.61,
          75
         ]
        },
        {
         "name": "2023-05-19 (Proj)",
         "type": "scatter",
         "x": [
          0,
          1,
          2,
          3,
          4,
          5,
          6,
          7,
          8,
          9,
          10,
          11,
          12,
          13,
          14,
          15,
          16,
          17,
          18,
          19,
          20,
          21,
          22,
          23,
          24,
          25,
          26,
          27,
          28,
          29,
          30,
          31,
          32,
          33,
          34,
          35,
          36,
          37,
          38,
          39,
          40,
          41,
          42,
          43,
          44,
          45,
          46,
          47
         ],
         "y": [
          94.82702478598381,
          88.66425021791416,
          87.01637097910353,
          86.96083949780814,
          87.8445078039304,
          94.21979366740953,
          106.01462013296769,
          111.43958511277174,
          109.22064914128241,
          97.32218792061742,
          81.39231983496506,
          69.15756538811095,
          60.43535470694561,
          53.34214543407055,
          50.046539261105586,
          55.71174687632633,
          68.59278112449608,
          87.21241142398243,
          97.28286515954498,
          104.6836101669488,
          108.29460459033199,
          102.33112209025644,
          96.85145633123462,
          88.69879896204974,
          83.72067206536913,
          78.33123406195176,
          76.49391803032765,
          75.9261461861878,
          76.35469978421186,
          81.53648459862315,
          93.1827482755344,
          101.69217901088294,
          101.25927324184202,
          85.19608632944629,
          68.76667223834711,
          53.025128915419515,
          42.30675244593634,
          34.628692137470516,
          31.547950714270844,
          34.25465021237205,
          47.35922123062681,
          72.63330158027136,
          86.31272270927032,
          89.38026389938959,
          92.72088718660994,
          91.26012631177026,
          90.0473822181909,
          81.75709794777022
         ]
        },
        {
         "name": "2023-05-20",
         "type": "scatter",
         "x": [
          0,
          1,
          2,
          3,
          4,
          5,
          6,
          7,
          8,
          9,
          10,
          11,
          12,
          13,
          14,
          15,
          16,
          17,
          18,
          19,
          20,
          21,
          22,
          23,
          24,
          25,
          26,
          27,
          28,
          29,
          30,
          31,
          32,
          33,
          34,
          35,
          36,
          37,
          38,
          39,
          40,
          41,
          42,
          43,
          44,
          45,
          46,
          47
         ],
         "y": [
          78.739998,
          74,
          68.080002,
          65.830002,
          65.050003,
          65.699997,
          62.080002,
          62.459999,
          59.759998,
          40.040001,
          4.44,
          0.28,
          -1.43,
          -1.27,
          -0.09,
          0,
          1.32,
          25.940001,
          53.68,
          78.440002,
          87.690002,
          81.059998,
          78.599998,
          73.019997,
          71.72,
          70.24,
          66.68,
          62.64,
          57.66,
          55.22,
          52.82,
          52.14,
          40.59,
          21.27,
          -1.57,
          -12.96,
          -24.24,
          -24.26,
          -19.8,
          -19.52,
          -11.61,
          4.4,
          36.01,
          59.5,
          69.5,
          64.72,
          67.87,
          59.13
         ]
        },
        {
         "name": "2023-05-20 (Proj)",
         "type": "scatter",
         "x": [
          0,
          1,
          2,
          3,
          4,
          5,
          6,
          7,
          8,
          9,
          10,
          11,
          12,
          13,
          14,
          15,
          16,
          17,
          18,
          19,
          20,
          21,
          22,
          23,
          24,
          25,
          26,
          27,
          28,
          29,
          30,
          31,
          32,
          33,
          34,
          35,
          36,
          37,
          38,
          39,
          40,
          41,
          42,
          43,
          44,
          45,
          46,
          47
         ],
         "y": [
          74.48287237779213,
          69.35619360419172,
          65.65318881290733,
          62.62960767654303,
          62.605987639354986,
          62.89160994113119,
          62.40641552222152,
          55.22527716484044,
          50.557758212528775,
          41.99037757189081,
          20.6364386505127,
          4.567604060373661,
          -5.629867054723725,
          -15.827655338656939,
          -22.37796825002745,
          -13.280100220806979,
          11.331780463828707,
          46.16460899623095,
          60.127529883883305,
          70.45264772808031,
          78.07652229898287,
          82.772845802731,
          79.94472378296118,
          75.76977798513477,
          68.9204264545114,
          64.23322177669934,
          60.698002385244735,
          58.53137782978999,
          56.954241117825134,
          57.47091912335825,
          59.14237783683213,
          55.50114318129569,
          45.09502507074412,
          31.21390508438987,
          14.158418149537972,
          -5.3274458169322685,
          -19.650911621685054,
          -27.700935340057598,
          -32.55284797825204,
          -24.24116962549693,
          -2.6425573111276677,
          29.94545036030381,
          48.28222082798198,
          53.01392504605158,
          55.8266488242986,
          65.90674844072251,
          71.5387598015428,
          66.26917684933336
         ]
        },
        {
         "name": "2023-05-21",
         "type": "scatter",
         "x": [
          0,
          1,
          2,
          3,
          4,
          5,
          6,
          7,
          8,
          9,
          10,
          11,
          12,
          13,
          14,
          15,
          16,
          17,
          18,
          19,
          20,
          21,
          22,
          23,
          24,
          25,
          26,
          27,
          28,
          29,
          30,
          31,
          32,
          33,
          34,
          35,
          36,
          37,
          38,
          39,
          40,
          41,
          42,
          43,
          44,
          45,
          46,
          47
         ],
         "y": [
          52.200001,
          40.040001,
          33.880001,
          28.76,
          29.950001,
          28.26,
          30.790001,
          27.549999,
          20,
          2.14,
          0,
          -0.48,
          -7.92,
          -25.030001,
          -41.369999,
          -19.58,
          -0.41,
          2.22,
          41.34,
          85.489998,
          90.870003,
          88.82,
          87.779999,
          76.910004,
          67.96,
          60.83,
          58.38,
          52.06,
          53.02,
          48.31,
          48.82,
          54.86,
          48.97,
          28.52,
          21.07,
          15.21,
          -0.31,
          -11.55,
          -22.05,
          -14.66,
          0.41,
          4.43,
          34.61,
          79.25,
          84.13,
          80.57,
          79.75,
          63.37
         ]
        },
        {
         "name": "2023-05-21 (Proj)",
         "type": "scatter",
         "x": [
          0,
          1,
          2,
          3,
          4,
          5,
          6,
          7,
          8,
          9,
          10,
          11,
          12,
          13,
          14,
          15,
          16,
          17,
          18,
          19,
          20,
          21,
          22,
          23,
          24,
          25,
          26,
          27,
          28,
          29,
          30,
          31,
          32,
          33,
          34,
          35,
          36,
          37,
          38,
          39,
          40,
          41,
          42,
          43,
          44,
          45,
          46,
          47
         ],
         "y": [
          47.20719611032459,
          45.275530933195945,
          41.613186713845266,
          35.938281244957295,
          36.451109885648336,
          36.363569411653486,
          40.40014000731705,
          34.46437446243176,
          29.046103884918153,
          19.499499805370505,
          3.9047208589397684,
          -6.96568786241707,
          -18.152757038560615,
          -29.05584391146853,
          -37.44095080304202,
          -34.06952883493857,
          -12.022828236288362,
          24.38433368625752,
          46.68431022821291,
          66.264207598106,
          80.09474840272605,
          92.55723418134674,
          76.79017968178624,
          67.30250951756676,
          55.305364162517314,
          52.00220011351013,
          48.068707961551354,
          44.11474140093014,
          42.88982182706164,
          44.79209339657043,
          55.73057463604922,
          52.16040314475371,
          37.99445992943362,
          24.038708635918027,
          15.520726756867035,
          6.996550686312489,
          -3.8745314693816653,
          -12.948486177002536,
          -20.487261036847727,
          -15.650655919477991,
          1.244178140557942,
          27.551350363570258,
          49.28080979873906,
          77.6908127744185,
          93.74006462920512,
          94.73082218645493,
          75.65383133195886,
          69.4671971223126
         ]
        },
        {
         "name": "2023-05-22",
         "type": "scatter",
         "x": [
          0,
          1,
          2,
          3,
          4,
          5,
          6,
          7,
          8,
          9,
          10,
          11,
          12,
          13,
          14,
          15,
          16,
          17,
          18,
          19,
          20,
          21,
          22,
          23,
          24,
          25,
          26,
          27,
          28,
          29,
          30,
          31,
          32,
          33,
          34,
          35,
          36,
          37,
          38,
          39,
          40,
          41,
          42,
          43,
          44,
          45,
          46,
          47
         ],
         "y": [
          73.129997,
          71.389999,
          72.32,
          71.809998,
          72.989998,
          86.720001,
          110.260002,
          118.309998,
          113.419998,
          102.309998,
          86.970001,
          73.360001,
          63.07,
          62.869999,
          66.379997,
          68.25,
          70.800003,
          78.699997,
          90,
          108.010002,
          119,
          112.800003,
          104.239998,
          84.480003,
          44.44,
          38.01,
          41.4,
          41.15,
          45.96,
          57.1,
          97.56,
          110.01,
          108.95,
          94.41,
          72.1,
          48.24,
          52.74,
          48.07,
          51.17,
          51.32,
          56.12,
          71.63,
          90.67,
          116.21,
          137.44,
          123.57,
          103.62,
          87.25
         ]
        },
        {
         "name": "2023-05-22 (Proj)",
         "type": "scatter",
         "x": [
          0,
          1,
          2,
          3,
          4,
          5,
          6,
          7,
          8,
          9,
          10,
          11,
          12,
          13,
          14,
          15,
          16,
          17,
          18,
          19,
          20,
          21,
          22,
          23,
          24,
          25,
          26,
          27,
          28,
          29,
          30,
          31,
          32,
          33,
          34,
          35,
          36,
          37,
          38,
          39,
          40,
          41,
          42,
          43,
          44,
          45,
          46,
          47
         ],
         "y": [
          66.86294425400973,
          65.11877306112576,
          65.0615782461345,
          65.81947362321888,
          67.1514762917052,
          74.46355663174819,
          95.65281820043262,
          108.26642553569216,
          109.1007119112172,
          99.18588663186985,
          92.95717831051572,
          85.76303777451209,
          71.19767990985065,
          65.05457165879176,
          63.71940990284013,
          66.69453570118293,
          69.88147103875019,
          79.85349980443412,
          93.96421963963482,
          106.57321566146136,
          121.33410006492612,
          121.58304980501481,
          106.49571071726638,
          95.31854973987494,
          59.00813527175364,
          53.86678089013655,
          54.0439792785105,
          54.0344650028574,
          55.08093659584823,
          62.611166827831916,
          87.8603025142905,
          105.1219061123658,
          110.27355675472273,
          93.86963447242017,
          79.20482869078488,
          69.36664637311259,
          56.26021300346935,
          50.49896410470225,
          48.33826950142972,
          44.21942661353115,
          47.19043942737832,
          70.64964934087202,
          87.86218485806799,
          106.07584204263597,
          123.98535800192403,
          121.2324173481432,
          103.12832986120388,
          94.70300807317273
         ]
        },
        {
         "name": "2023-05-23",
         "type": "scatter",
         "x": [
          0,
          1,
          2,
          3,
          4,
          5,
          6,
          7,
          8,
          9,
          10,
          11,
          12,
          13,
          14,
          15,
          16,
          17,
          18,
          19,
          20,
          21,
          22,
          23,
          24,
          25,
          26,
          27,
          28,
          29,
          30,
          31,
          32,
          33,
          34,
          35,
          36,
          37,
          38,
          39,
          40,
          41,
          42,
          43,
          44,
          45,
          46,
          47
         ],
         "y": [
          70.540001,
          65.709999,
          65.510002,
          62.119999,
          61.73,
          61.73,
          97.5,
          104.139999,
          101,
          85.269997,
          48.990002,
          43.689999,
          26.620001,
          19.52,
          5.55,
          3.54,
          12.81,
          52.369999,
          62.830002,
          68.879997,
          69.489998,
          70.660004,
          70.790001,
          65.730003,
          78,
          72.9,
          66.58,
          65.63,
          69.44,
          64.81,
          93.43,
          97.41,
          91.26,
          69.65,
          39.96,
          35.59,
          24.95,
          15.29,
          -4.42,
          -9.74,
          7.05,
          49.06,
          59.69,
          66.12,
          70.02,
          65.91,
          65.99,
          74.21
         ]
        },
        {
         "name": "2023-05-23 (Proj)",
         "type": "scatter",
         "x": [
          0,
          1,
          2,
          3,
          4,
          5,
          6,
          7,
          8,
          9,
          10,
          11,
          12,
          13,
          14,
          15,
          16,
          17,
          18,
          19,
          20,
          21,
          22,
          23,
          24,
          25,
          26,
          27,
          28,
          29,
          30,
          31,
          32,
          33,
          34,
          35,
          36,
          37,
          38,
          39,
          40,
          41,
          42,
          43,
          44,
          45,
          46,
          47
         ],
         "y": [
          74.9178543461483,
          69.27652521773831,
          66.18666012861546,
          64.28877533534144,
          64.35382347077814,
          69.78059898388655,
          93.68403641848603,
          99.95322376542008,
          94.38643290361394,
          74.2305385369018,
          54.3697458314351,
          40.15778667992543,
          25.2827799747858,
          15.687063978499989,
          6.555897422780568,
          5.940706829049873,
          17.02605339667243,
          47.21442145335171,
          60.318676623791085,
          71.56427035017407,
          75.65521536611988,
          83.51075863291082,
          70.0876095561988,
          62.42084205417668,
          75.4088249756474,
          70.36948651853746,
          67.28335914718555,
          64.49302113321833,
          65.94595218604645,
          67.26903908237082,
          95.99266423181345,
          103.74278097821414,
          98.61674649001594,
          66.24102733463525,
          47.68465496417569,
          31.925699809098315,
          20.15176764693472,
          13.96985440198332,
          3.8798201723362595,
          -1.157372478883417,
          8.608216370705648,
          40.90216064029833,
          54.388018232997275,
          61.39111651358678,
          63.80035604464192,
          70.41796199738083,
          63.77638208266024,
          66.58339473173126
         ]
        },
        {
         "name": "2023-05-24",
         "type": "scatter",
         "x": [
          0,
          1,
          2,
          3,
          4,
          5,
          6,
          7,
          8,
          9,
          10,
          11,
          12,
          13,
          14,
          15,
          16,
          17,
          18,
          19,
          20,
          21,
          22,
          23,
          24,
          25,
          26,
          27,
          28,
          29,
          30,
          31,
          32,
          33,
          34,
          35,
          36,
          37,
          38,
          39,
          40,
          41,
          42,
          43,
          44,
          45,
          46,
          47
         ],
         "y": [
          66.300003,
          66.010002,
          66.860001,
          67.519997,
          73.940002,
          84.330002,
          106.779999,
          121.470001,
          109.660004,
          97.699997,
          85.919998,
          81,
          80.580002,
          71.080002,
          75.209999,
          67.599998,
          78.260002,
          78.970001,
          109.970001,
          136,
          142,
          148.399994,
          114.639999,
          84.730003,
          74.66,
          69.28,
          71.7,
          71.24,
          74.69,
          84.92,
          110.68,
          127.23,
          120.98,
          99.05,
          85.7,
          97.11,
          98.94,
          81.9,
          89.45,
          75.01,
          92.26,
          103.15,
          123.11,
          201.81,
          221.8,
          185.54,
          112.68,
          97.66
         ]
        },
        {
         "name": "2023-05-24 (Proj)",
         "type": "scatter",
         "x": [
          0,
          1,
          2,
          3,
          4,
          5,
          6,
          7,
          8,
          9,
          10,
          11,
          12,
          13,
          14,
          15,
          16,
          17,
          18,
          19,
          20,
          21,
          22,
          23,
          24,
          25,
          26,
          27,
          28,
          29,
          30,
          31,
          32,
          33,
          34,
          35,
          36,
          37,
          38,
          39,
          40,
          41,
          42,
          43,
          44,
          45,
          46,
          47
         ],
         "y": [
          69.27302474101482,
          67.39361120958947,
          66.51148114189505,
          63.66474525201442,
          66.1866591146002,
          75.90394277861684,
          95.36112272317206,
          109.6948295753581,
          107.47482584962853,
          91.5766244370956,
          85.64242105486179,
          83.11463406625731,
          75.1414262929647,
          69.29320566370785,
          67.5567781397569,
          63.4770397746215,
          69.24144546585063,
          83.99795956100147,
          110.64528243712849,
          136.27221144422734,
          151.63825601556078,
          148.05240862427894,
          121.05534758262954,
          101.07638036377635,
          78.74122709972082,
          75.71302883681513,
          74.22716404988303,
          72.4516712227957,
          74.44662856037957,
          85.03024866883212,
          111.64680965346568,
          126.69862163970274,
          123.04267927485415,
          106.99696308023199,
          103.44144622131533,
          107.43439610742529,
          105.17660209742473,
          93.71282263177008,
          91.16700600320361,
          88.29665405925876,
          91.4475108830928,
          104.5011256136822,
          126.10194088663,
          174.00658071127262,
          203.31148989331626,
          173.57431960608918,
          126.48751501211017,
          113.12916245813935
         ]
        },
        {
         "name": "2023-05-25",
         "type": "scatter",
         "x": [
          0,
          1,
          2,
          3,
          4,
          5,
          6,
          7,
          8,
          9,
          10,
          11,
          12,
          13,
          14,
          15,
          16,
          17,
          18,
          19,
          20,
          21,
          22,
          23,
          24,
          25,
          26,
          27,
          28,
          29,
          30,
          31,
          32,
          33,
          34,
          35,
          36,
          37,
          38,
          39,
          40,
          41,
          42,
          43,
          44,
          45,
          46,
          47
         ],
         "y": [
          65.779999,
          61.540001,
          56.669998,
          50.400002,
          48.700001,
          50.400002,
          70.800003,
          70.050003,
          72.160004,
          61.610001,
          58.810001,
          45,
          32.759998,
          9.25,
          -0.16,
          -0.13,
          9.99,
          41,
          57.110001,
          59.869999,
          64.57,
          106.080002,
          65.410004,
          59.32,
          64.87,
          56.81,
          48.59,
          43.6,
          40.79,
          47.32,
          95.6,
          90.94,
          84.5,
          53.39,
          58.08,
          45.69,
          29.92,
          19.69,
          3.62,
          4.57,
          11.36,
          38.41,
          53.18,
          54.75,
          68.24,
          96.76,
          67.89,
          73.03
         ]
        },
        {
         "name": "2023-05-25 (Proj)",
         "type": "scatter",
         "x": [
          0,
          1,
          2,
          3,
          4,
          5,
          6,
          7,
          8,
          9,
          10,
          11,
          12,
          13,
          14,
          15,
          16,
          17,
          18,
          19,
          20,
          21,
          22,
          23,
          24,
          25,
          26,
          27,
          28,
          29,
          30,
          31,
          32,
          33,
          34,
          35,
          36,
          37,
          38,
          39,
          40,
          41,
          42,
          43,
          44,
          45,
          46,
          47
         ],
         "y": [
          55.58848765395139,
          52.700260485630736,
          50.458052033967974,
          47.81242306237753,
          48.24773575977385,
          52.55923541643675,
          76.68802866029873,
          82.415989911139,
          78.28778484864995,
          62.72656795244485,
          49.76401245523604,
          39.68240118956693,
          24.319976986595897,
          14.702410849619444,
          5.577006873799405,
          4.309049398604429,
          13.05154484009018,
          38.81777751832647,
          53.429484936162794,
          66.55120357638982,
          74.85408706019959,
          86.50964390892555,
          68.21775053648474,
          58.558353203217166,
          58.486511584791245,
          53.85882307600365,
          51.25944839161464,
          47.985284586675306,
          48.96070196416357,
          51.863518230610765,
          81.92869095369757,
          89.9079689916116,
          85.86780355218488,
          60.03718060522246,
          47.252403091586956,
          37.224490372877554,
          25.599973139186858,
          20.000675312101865,
          9.43922265314637,
          3.836525407221547,
          10.786062346803206,
          37.26174300432072,
          51.55388222113593,
          67.8193152336136,
          77.96565075630825,
          83.02692123156011,
          65.7505258795906,
          65.06091060378218
         ]
        }
       ],
       "layout": {
        "template": {
         "data": {
          "bar": [
           {
            "error_x": {
             "color": "#2a3f5f"
            },
            "error_y": {
             "color": "#2a3f5f"
            },
            "marker": {
             "line": {
              "color": "#E5ECF6",
              "width": 0.5
             },
             "pattern": {
              "fillmode": "overlay",
              "size": 10,
              "solidity": 0.2
             }
            },
            "type": "bar"
           }
          ],
          "barpolar": [
           {
            "marker": {
             "line": {
              "color": "#E5ECF6",
              "width": 0.5
             },
             "pattern": {
              "fillmode": "overlay",
              "size": 10,
              "solidity": 0.2
             }
            },
            "type": "barpolar"
           }
          ],
          "carpet": [
           {
            "aaxis": {
             "endlinecolor": "#2a3f5f",
             "gridcolor": "white",
             "linecolor": "white",
             "minorgridcolor": "white",
             "startlinecolor": "#2a3f5f"
            },
            "baxis": {
             "endlinecolor": "#2a3f5f",
             "gridcolor": "white",
             "linecolor": "white",
             "minorgridcolor": "white",
             "startlinecolor": "#2a3f5f"
            },
            "type": "carpet"
           }
          ],
          "choropleth": [
           {
            "colorbar": {
             "outlinewidth": 0,
             "ticks": ""
            },
            "type": "choropleth"
           }
          ],
          "contour": [
           {
            "colorbar": {
             "outlinewidth": 0,
             "ticks": ""
            },
            "colorscale": [
             [
              0,
              "#0d0887"
             ],
             [
              0.1111111111111111,
              "#46039f"
             ],
             [
              0.2222222222222222,
              "#7201a8"
             ],
             [
              0.3333333333333333,
              "#9c179e"
             ],
             [
              0.4444444444444444,
              "#bd3786"
             ],
             [
              0.5555555555555556,
              "#d8576b"
             ],
             [
              0.6666666666666666,
              "#ed7953"
             ],
             [
              0.7777777777777778,
              "#fb9f3a"
             ],
             [
              0.8888888888888888,
              "#fdca26"
             ],
             [
              1,
              "#f0f921"
             ]
            ],
            "type": "contour"
           }
          ],
          "contourcarpet": [
           {
            "colorbar": {
             "outlinewidth": 0,
             "ticks": ""
            },
            "type": "contourcarpet"
           }
          ],
          "heatmap": [
           {
            "colorbar": {
             "outlinewidth": 0,
             "ticks": ""
            },
            "colorscale": [
             [
              0,
              "#0d0887"
             ],
             [
              0.1111111111111111,
              "#46039f"
             ],
             [
              0.2222222222222222,
              "#7201a8"
             ],
             [
              0.3333333333333333,
              "#9c179e"
             ],
             [
              0.4444444444444444,
              "#bd3786"
             ],
             [
              0.5555555555555556,
              "#d8576b"
             ],
             [
              0.6666666666666666,
              "#ed7953"
             ],
             [
              0.7777777777777778,
              "#fb9f3a"
             ],
             [
              0.8888888888888888,
              "#fdca26"
             ],
             [
              1,
              "#f0f921"
             ]
            ],
            "type": "heatmap"
           }
          ],
          "heatmapgl": [
           {
            "colorbar": {
             "outlinewidth": 0,
             "ticks": ""
            },
            "colorscale": [
             [
              0,
              "#0d0887"
             ],
             [
              0.1111111111111111,
              "#46039f"
             ],
             [
              0.2222222222222222,
              "#7201a8"
             ],
             [
              0.3333333333333333,
              "#9c179e"
             ],
             [
              0.4444444444444444,
              "#bd3786"
             ],
             [
              0.5555555555555556,
              "#d8576b"
             ],
             [
              0.6666666666666666,
              "#ed7953"
             ],
             [
              0.7777777777777778,
              "#fb9f3a"
             ],
             [
              0.8888888888888888,
              "#fdca26"
             ],
             [
              1,
              "#f0f921"
             ]
            ],
            "type": "heatmapgl"
           }
          ],
          "histogram": [
           {
            "marker": {
             "pattern": {
              "fillmode": "overlay",
              "size": 10,
              "solidity": 0.2
             }
            },
            "type": "histogram"
           }
          ],
          "histogram2d": [
           {
            "colorbar": {
             "outlinewidth": 0,
             "ticks": ""
            },
            "colorscale": [
             [
              0,
              "#0d0887"
             ],
             [
              0.1111111111111111,
              "#46039f"
             ],
             [
              0.2222222222222222,
              "#7201a8"
             ],
             [
              0.3333333333333333,
              "#9c179e"
             ],
             [
              0.4444444444444444,
              "#bd3786"
             ],
             [
              0.5555555555555556,
              "#d8576b"
             ],
             [
              0.6666666666666666,
              "#ed7953"
             ],
             [
              0.7777777777777778,
              "#fb9f3a"
             ],
             [
              0.8888888888888888,
              "#fdca26"
             ],
             [
              1,
              "#f0f921"
             ]
            ],
            "type": "histogram2d"
           }
          ],
          "histogram2dcontour": [
           {
            "colorbar": {
             "outlinewidth": 0,
             "ticks": ""
            },
            "colorscale": [
             [
              0,
              "#0d0887"
             ],
             [
              0.1111111111111111,
              "#46039f"
             ],
             [
              0.2222222222222222,
              "#7201a8"
             ],
             [
              0.3333333333333333,
              "#9c179e"
             ],
             [
              0.4444444444444444,
              "#bd3786"
             ],
             [
              0.5555555555555556,
              "#d8576b"
             ],
             [
              0.6666666666666666,
              "#ed7953"
             ],
             [
              0.7777777777777778,
              "#fb9f3a"
             ],
             [
              0.8888888888888888,
              "#fdca26"
             ],
             [
              1,
              "#f0f921"
             ]
            ],
            "type": "histogram2dcontour"
           }
          ],
          "mesh3d": [
           {
            "colorbar": {
             "outlinewidth": 0,
             "ticks": ""
            },
            "type": "mesh3d"
           }
          ],
          "parcoords": [
           {
            "line": {
             "colorbar": {
              "outlinewidth": 0,
              "ticks": ""
             }
            },
            "type": "parcoords"
           }
          ],
          "pie": [
           {
            "automargin": true,
            "type": "pie"
           }
          ],
          "scatter": [
           {
            "fillpattern": {
             "fillmode": "overlay",
             "size": 10,
             "solidity": 0.2
            },
            "type": "scatter"
           }
          ],
          "scatter3d": [
           {
            "line": {
             "colorbar": {
              "outlinewidth": 0,
              "ticks": ""
             }
            },
            "marker": {
             "colorbar": {
              "outlinewidth": 0,
              "ticks": ""
             }
            },
            "type": "scatter3d"
           }
          ],
          "scattercarpet": [
           {
            "marker": {
             "colorbar": {
              "outlinewidth": 0,
              "ticks": ""
             }
            },
            "type": "scattercarpet"
           }
          ],
          "scattergeo": [
           {
            "marker": {
             "colorbar": {
              "outlinewidth": 0,
              "ticks": ""
             }
            },
            "type": "scattergeo"
           }
          ],
          "scattergl": [
           {
            "marker": {
             "colorbar": {
              "outlinewidth": 0,
              "ticks": ""
             }
            },
            "type": "scattergl"
           }
          ],
          "scattermapbox": [
           {
            "marker": {
             "colorbar": {
              "outlinewidth": 0,
              "ticks": ""
             }
            },
            "type": "scattermapbox"
           }
          ],
          "scatterpolar": [
           {
            "marker": {
             "colorbar": {
              "outlinewidth": 0,
              "ticks": ""
             }
            },
            "type": "scatterpolar"
           }
          ],
          "scatterpolargl": [
           {
            "marker": {
             "colorbar": {
              "outlinewidth": 0,
              "ticks": ""
             }
            },
            "type": "scatterpolargl"
           }
          ],
          "scatterternary": [
           {
            "marker": {
             "colorbar": {
              "outlinewidth": 0,
              "ticks": ""
             }
            },
            "type": "scatterternary"
           }
          ],
          "surface": [
           {
            "colorbar": {
             "outlinewidth": 0,
             "ticks": ""
            },
            "colorscale": [
             [
              0,
              "#0d0887"
             ],
             [
              0.1111111111111111,
              "#46039f"
             ],
             [
              0.2222222222222222,
              "#7201a8"
             ],
             [
              0.3333333333333333,
              "#9c179e"
             ],
             [
              0.4444444444444444,
              "#bd3786"
             ],
             [
              0.5555555555555556,
              "#d8576b"
             ],
             [
              0.6666666666666666,
              "#ed7953"
             ],
             [
              0.7777777777777778,
              "#fb9f3a"
             ],
             [
              0.8888888888888888,
              "#fdca26"
             ],
             [
              1,
              "#f0f921"
             ]
            ],
            "type": "surface"
           }
          ],
          "table": [
           {
            "cells": {
             "fill": {
              "color": "#EBF0F8"
             },
             "line": {
              "color": "white"
             }
            },
            "header": {
             "fill": {
              "color": "#C8D4E3"
             },
             "line": {
              "color": "white"
             }
            },
            "type": "table"
           }
          ]
         },
         "layout": {
          "annotationdefaults": {
           "arrowcolor": "#2a3f5f",
           "arrowhead": 0,
           "arrowwidth": 1
          },
          "autotypenumbers": "strict",
          "coloraxis": {
           "colorbar": {
            "outlinewidth": 0,
            "ticks": ""
           }
          },
          "colorscale": {
           "diverging": [
            [
             0,
             "#8e0152"
            ],
            [
             0.1,
             "#c51b7d"
            ],
            [
             0.2,
             "#de77ae"
            ],
            [
             0.3,
             "#f1b6da"
            ],
            [
             0.4,
             "#fde0ef"
            ],
            [
             0.5,
             "#f7f7f7"
            ],
            [
             0.6,
             "#e6f5d0"
            ],
            [
             0.7,
             "#b8e186"
            ],
            [
             0.8,
             "#7fbc41"
            ],
            [
             0.9,
             "#4d9221"
            ],
            [
             1,
             "#276419"
            ]
           ],
           "sequential": [
            [
             0,
             "#0d0887"
            ],
            [
             0.1111111111111111,
             "#46039f"
            ],
            [
             0.2222222222222222,
             "#7201a8"
            ],
            [
             0.3333333333333333,
             "#9c179e"
            ],
            [
             0.4444444444444444,
             "#bd3786"
            ],
            [
             0.5555555555555556,
             "#d8576b"
            ],
            [
             0.6666666666666666,
             "#ed7953"
            ],
            [
             0.7777777777777778,
             "#fb9f3a"
            ],
            [
             0.8888888888888888,
             "#fdca26"
            ],
            [
             1,
             "#f0f921"
            ]
           ],
           "sequentialminus": [
            [
             0,
             "#0d0887"
            ],
            [
             0.1111111111111111,
             "#46039f"
            ],
            [
             0.2222222222222222,
             "#7201a8"
            ],
            [
             0.3333333333333333,
             "#9c179e"
            ],
            [
             0.4444444444444444,
             "#bd3786"
            ],
            [
             0.5555555555555556,
             "#d8576b"
            ],
            [
             0.6666666666666666,
             "#ed7953"
            ],
            [
             0.7777777777777778,
             "#fb9f3a"
            ],
            [
             0.8888888888888888,
             "#fdca26"
            ],
            [
             1,
             "#f0f921"
            ]
           ]
          },
          "colorway": [
           "#636efa",
           "#EF553B",
           "#00cc96",
           "#ab63fa",
           "#FFA15A",
           "#19d3f3",
           "#FF6692",
           "#B6E880",
           "#FF97FF",
           "#FECB52"
          ],
          "font": {
           "color": "#2a3f5f"
          },
          "geo": {
           "bgcolor": "white",
           "lakecolor": "white",
           "landcolor": "#E5ECF6",
           "showlakes": true,
           "showland": true,
           "subunitcolor": "white"
          },
          "hoverlabel": {
           "align": "left"
          },
          "hovermode": "closest",
          "mapbox": {
           "style": "light"
          },
          "paper_bgcolor": "white",
          "plot_bgcolor": "#E5ECF6",
          "polar": {
           "angularaxis": {
            "gridcolor": "white",
            "linecolor": "white",
            "ticks": ""
           },
           "bgcolor": "#E5ECF6",
           "radialaxis": {
            "gridcolor": "white",
            "linecolor": "white",
            "ticks": ""
           }
          },
          "scene": {
           "xaxis": {
            "backgroundcolor": "#E5ECF6",
            "gridcolor": "white",
            "gridwidth": 2,
            "linecolor": "white",
            "showbackground": true,
            "ticks": "",
            "zerolinecolor": "white"
           },
           "yaxis": {
            "backgroundcolor": "#E5ECF6",
            "gridcolor": "white",
            "gridwidth": 2,
            "linecolor": "white",
            "showbackground": true,
            "ticks": "",
            "zerolinecolor": "white"
           },
           "zaxis": {
            "backgroundcolor": "#E5ECF6",
            "gridcolor": "white",
            "gridwidth": 2,
            "linecolor": "white",
            "showbackground": true,
            "ticks": "",
            "zerolinecolor": "white"
           }
          },
          "shapedefaults": {
           "line": {
            "color": "#2a3f5f"
           }
          },
          "ternary": {
           "aaxis": {
            "gridcolor": "white",
            "linecolor": "white",
            "ticks": ""
           },
           "baxis": {
            "gridcolor": "white",
            "linecolor": "white",
            "ticks": ""
           },
           "bgcolor": "#E5ECF6",
           "caxis": {
            "gridcolor": "white",
            "linecolor": "white",
            "ticks": ""
           }
          },
          "title": {
           "x": 0.05
          },
          "xaxis": {
           "automargin": true,
           "gridcolor": "white",
           "linecolor": "white",
           "ticks": "",
           "title": {
            "standoff": 15
           },
           "zerolinecolor": "white",
           "zerolinewidth": 2
          },
          "yaxis": {
           "automargin": true,
           "gridcolor": "white",
           "linecolor": "white",
           "ticks": "",
           "title": {
            "standoff": 15
           },
           "zerolinecolor": "white",
           "zerolinewidth": 2
          }
         }
        }
       }
      },
      "text/html": [
       "<div>                            <div id=\"cacb9759-4d11-45d1-84ae-f3b08dc75022\" class=\"plotly-graph-div\" style=\"height:525px; width:100%;\"></div>            <script type=\"text/javascript\">                require([\"plotly\"], function(Plotly) {                    window.PLOTLYENV=window.PLOTLYENV || {};                                    if (document.getElementById(\"cacb9759-4d11-45d1-84ae-f3b08dc75022\")) {                    Plotly.newPlot(                        \"cacb9759-4d11-45d1-84ae-f3b08dc75022\",                        [{\"name\":\"2023-05-01\",\"x\":[0,1,2,3,4,5,6,7,8,9,10,11,12,13,14,15,16,17,18,19,20,21,22,23,24,25,26,27,28,29,30,31,32,33,34,35,36,37,38,39,40,41,42,43,44,45,46,47],\"y\":[109.900002,99.900002,95.489998,89.980003,87.290001,88.0,87.160004,84.199997,83.139999,84.040001,74.290001,67.989998,54.630001,34.689999,29.99,41.189999,76.25,95.120003,113.860001,124.639999,125.800003,121.720001,117.900002,101.629997,99.75,87.1,83.46,79.43,77.08,74.06,76.55,81.6,79.31,74.5,60.91,42.4,32.21,22.57,13.77,34.98,58.75,89.34,109.95,118.92,121.12,115.39,107.93,85.87],\"type\":\"scatter\"},{\"name\":\"2023-05-01 (Proj)\",\"x\":[0,1,2,3,4,5,6,7,8,9,10,11,12,13,14,15,16,17,18,19,20,21,22,23,24,25,26,27,28,29,30,31,32,33,34,35,36,37,38,39,40,41,42,43,44,45,46,47],\"y\":[100.45660797789225,94.33673077996183,92.13322887291,90.77647476845895,92.07356656493373,96.44818354100866,90.24155008566633,88.36425288266443,86.25074842670769,80.14551919675193,62.882438753373435,50.51429613324541,47.2262432115599,40.400635250468305,40.17955490893391,50.96165947309282,73.65874480019738,95.76087826775779,110.87369567567475,122.1849150951058,129.35024478408576,117.46886515766815,116.5224920990583,107.89149204311428,89.18691225274122,84.63464348064264,82.31786404049582,82.26228518938964,81.04916373143301,87.11018600535654,79.75035241870425,81.30197700157422,75.34797204298513,72.03967558114402,58.65994994511419,43.88524575325945,34.674127026315794,23.552769147903607,25.642442173331624,38.25160725549939,59.391316749026814,82.5186173634751,101.90060778994643,112.83469258766571,120.67477778090685,111.3037931226592,110.28798077525258,94.38307754284077],\"type\":\"scatter\"},{\"name\":\"2023-05-02\",\"x\":[0,1,2,3,4,5,6,7,8,9,10,11,12,13,14,15,16,17,18,19,20,21,22,23,24,25,26,27,28,29,30,31,32,33,34,35,36,37,38,39,40,41,42,43,44,45,46,47],\"y\":[98.480003,85.599998,83.300003,80.900002,81.220001,90.389999,111.059998,127.419998,134.889999,122.989998,115.690002,108.959999,98.459999,92.760002,86.32,80.919998,84.830002,94.43,117.379997,130.0,142.860001,133.690002,124.019997,113.800003,93.19,82.93,82.18,80.34,76.91,86.61,105.18,122.09,128.21,116.01,101.52,89.16,76.86,78.5,70.22,67.7,68.27,89.54,108.22,118.85,126.76,124.5,118.13,112.32],\"type\":\"scatter\"},{\"name\":\"2023-05-02 (Proj)\",\"x\":[0,1,2,3,4,5,6,7,8,9,10,11,12,13,14,15,16,17,18,19,20,21,22,23,24,25,26,27,28,29,30,31,32,33,34,35,36,37,38,39,40,41,42,43,44,45,46,47],\"y\":[90.3255382119956,86.02954690110109,85.77783710034953,87.28437169807084,88.8624088710567,98.72076795654067,119.13598814201242,134.36305336966313,134.50867129851943,120.89705146476425,110.94915553050222,102.43163209451576,91.11579999159385,86.04124721503248,86.2026503068183,88.97327658768513,92.89872808501721,102.20510754129408,115.99642007847204,128.08570288911517,138.4505810408329,130.37359176323534,118.07505429092193,106.04732317995187,80.55316002777217,75.28591765333671,75.25287287828807,75.95229158310651,77.68988735880244,86.09749679581184,108.76870301413626,127.48587848273493,132.71899551812214,114.14349671798968,97.7132054530718,86.64215192565148,76.41282154855296,68.89197875568757,68.55678912758455,65.7416696874367,70.28332030734154,93.50374466326085,109.88114766206994,124.94662527305991,138.8119632167475,128.66561097083365,113.55490075958858,104.20681176178446],\"type\":\"scatter\"},{\"name\":\"2023-05-03\",\"x\":[0,1,2,3,4,5,6,7,8,9,10,11,12,13,14,15,16,17,18,19,20,21,22,23,24,25,26,27,28,29,30,31,32,33,34,35,36,37,38,39,40,41,42,43,44,45,46,47],\"y\":[107.43,102.419998,100.970001,97.800003,99.949997,107.510002,123.279999,133.020004,125.099998,110.099998,91.160004,84.160004,77.830002,80.019997,75.129997,73.5,83.860001,97.589996,121.120003,140.080002,171.580002,132.25,120.949997,114.730003,98.0,103.02,99.57,95.5,94.43,104.79,119.78,132.93,131.46,112.84,93.5,91.34,94.92,80.64,69.47,62.57,72.16,103.96,119.77,139.66,163.54,129.98,113.93,105.17],\"type\":\"scatter\"},{\"name\":\"2023-05-03 (Proj)\",\"x\":[0,1,2,3,4,5,6,7,8,9,10,11,12,13,14,15,16,17,18,19,20,21,22,23,24,25,26,27,28,29,30,31,32,33,34,35,36,37,38,39,40,41,42,43,44,45,46,47],\"y\":[105.03911720703496,98.40553327275148,96.55339489465362,95.97004522747612,97.69115677746034,107.89040432375973,121.7201104625954,133.7540189203993,130.5953841222374,112.24184498105262,95.50672432685656,85.1722094700381,78.68622258100567,73.0507502042188,72.31134468566381,73.69393692830478,85.04990766893353,104.00962144894216,123.18046359573873,140.16331491928014,147.14670353240956,135.17329559364413,122.7898463383109,108.97458067119149,102.41736994883789,98.06581858393874,96.21647349764739,95.99851170068051,97.83500913687752,105.58779625443671,121.9594384502604,134.97104826209664,132.04834292793188,111.53661314668369,96.94363935344228,87.44328147345117,82.28187120054702,70.96816469446725,70.66097223302025,72.00072145068307,82.47518377110669,105.46706648124496,124.04257487498072,145.8467000436255,158.06649425026998,137.56782440831591,119.35628073804897,109.51477749283643],\"type\":\"scatter\"},{\"name\":\"2023-05-04\",\"x\":[0,1,2,3,4,5,6,7,8,9,10,11,12,13,14,15,16,17,18,19,20,21,22,23,24,25,26,27,28,29,30,31,32,33,34,35,36,37,38,39,40,41,42,43,44,45,46,47],\"y\":[100.129997,95.239998,94.160004,95.260002,95.910004,106.940002,125.0,130.0,119.900002,104.419998,90.0,79.599998,70.059998,60.209999,56.689999,65.279999,78.879997,99.599998,111.690002,118.169998,120.489998,114.739998,105.120003,93.019997,95.45,90.15,88.32,89.66,89.08,99.22,115.76,128.97,119.3,103.52,85.72,71.63,62.39,44.56,44.15,55.48,70.88,96.82,108.59,114.6,115.74,112.98,101.76,89.43],\"type\":\"scatter\"},{\"name\":\"2023-05-04 (Proj)\",\"x\":[0,1,2,3,4,5,6,7,8,9,10,11,12,13,14,15,16,17,18,19,20,21,22,23,24,25,26,27,28,29,30,31,32,33,34,35,36,37,38,39,40,41,42,43,44,45,46,47],\"y\":[104.71599833904207,97.45598531632439,95.46724742599692,95.11817469511317,96.3204877211535,104.94705770113873,118.96590230102734,127.81661876740523,124.43503682488841,107.6096029040706,89.61065169274275,77.53821869425086,70.34086345508864,63.811810708563854,61.01516043154507,63.91665393941543,76.26621134034892,96.26613473106288,109.91099174529128,121.11804057517008,123.899293045332,114.43946167700747,106.09349050198603,95.3840154640261,97.93340465403426,92.96010697031821,90.78259846320982,90.18279805639507,91.53942526271247,97.5637619156048,112.3267300330668,122.70259353436005,120.5934234847106,100.08373096601935,83.98772565556497,70.57165049398034,63.23899712115359,53.694405191117994,51.088629570188374,52.75054733712672,65.04861752996283,89.64272920727535,104.46969804271026,114.05551986907766,118.91518633072909,108.25058204807678,100.51236656973504,92.59070955874287],\"type\":\"scatter\"},{\"name\":\"2023-05-05\",\"x\":[0,1,2,3,4,5,6,7,8,9,10,11,12,13,14,15,16,17,18,19,20,21,22,23,24,25,26,27,28,29,30,31,32,33,34,35,36,37,38,39,40,41,42,43,44,45,46,47],\"y\":[81.889999,77.050003,76.050003,76.970001,76.32,85.419998,94.019997,101.940002,83.629997,65.120003,37.349998,13.26,6.1,6.0,6.02,6.41,21.16,77.93,79.360001,78.580002,77.839996,81.43,78.120003,72.650002,82.66,77.53,78.16,78.24,81.19,88.66,89.71,103.77,87.4,53.53,35.9,8.01,7.28,8.31,6.53,7.33,16.96,67.42,71.02,70.61,70.32,68.92,67.54,60.87],\"type\":\"scatter\"},{\"name\":\"2023-05-05 (Proj)\",\"x\":[0,1,2,3,4,5,6,7,8,9,10,11,12,13,14,15,16,17,18,19,20,21,22,23,24,25,26,27,28,29,30,31,32,33,34,35,36,37,38,39,40,41,42,43,44,45,46,47],\"y\":[92.22201326364595,84.53321360948303,80.53868132512328,77.64600566877822,77.82678181679583,82.03615081190097,91.81647083580154,91.25831308118926,84.50940467592217,66.72266351614842,42.14400177413547,25.935074994798107,17.17039299936956,7.49698958875873,-0.5599115896833595,2.777705422982571,23.30549608082074,58.3253962398084,72.27682376598015,83.23826252296035,83.92975774676708,84.73431869206391,78.08247679683981,71.1564294973677,90.86870537640098,86.17905445244402,81.9778071843757,79.29600148900339,79.6218399866027,80.75897706586365,92.64680114000639,92.99645971591356,82.68521285684301,58.07522105199527,40.84876508032393,23.446113688765237,14.039363775634737,4.950010062003525,-2.47557463022671,1.1211712201589634,19.702682543361707,50.73151244456054,65.55354731670349,70.3367416992403,68.81840160501442,70.37924074744294,70.80690503260928,68.82017474878967],\"type\":\"scatter\"},{\"name\":\"2023-05-06\",\"x\":[0,1,2,3,4,5,6,7,8,9,10,11,12,13,14,15,16,17,18,19,20,21,22,23,24,25,26,27,28,29,30,31,32,33,34,35,36,37,38,39,40,41,42,43,44,45,46,47],\"y\":[75.150002,72.629997,77.459999,78.330002,81.019997,81.75,82.07,88.120003,84.599998,85.870003,79.120003,72.629997,70.309998,55.75,50.0,63.16,72.849998,82.199997,86.220001,88.610001,95.57,97.260002,95.690002,89.419998,60.04,55.57,54.77,57.49,55.31,65.3,60.12,69.58,75.59,83.13,77.71,69.46,51.48,40.1,38.98,47.33,66.78,74.17,79.4,85.78,94.7,94.94,91.46,63.8],\"type\":\"scatter\"},{\"name\":\"2023-05-06 (Proj)\",\"x\":[0,1,2,3,4,5,6,7,8,9,10,11,12,13,14,15,16,17,18,19,20,21,22,23,24,25,26,27,28,29,30,31,32,33,34,35,36,37,38,39,40,41,42,43,44,45,46,47],\"y\":[77.52814800442391,74.12068418413378,74.01900615299948,73.1456642591491,74.60655102872191,78.54519303118762,85.04785080479795,85.77299255966118,86.10207605372509,85.03136692718715,79.39958586174477,73.1115409152658,67.61709604422401,60.632649716135035,57.254142703139784,64.93047399955847,77.04609870921732,86.07382814722484,92.66177962772885,96.5461607016565,100.14098281356253,95.05431839671924,88.45324943628783,78.83851939517118,63.38715675556944,58.14599393335732,56.71840504377309,55.523030553412326,54.45000986846759,62.38351870616647,66.27633079321316,71.561087626316,73.83804544453571,75.019765687984,69.0705835319158,60.26921422078208,50.53015599287664,43.792916008478656,40.12152031007744,46.345366201438424,59.31383122559694,71.81449425155053,82.62516386724668,88.65458746780517,96.61419204274426,94.51963607756275,86.56179250101792,69.07530049967819],\"type\":\"scatter\"},{\"name\":\"2023-05-07\",\"x\":[0,1,2,3,4,5,6,7,8,9,10,11,12,13,14,15,16,17,18,19,20,21,22,23,24,25,26,27,28,29,30,31,32,33,34,35,36,37,38,39,40,41,42,43,44,45,46,47],\"y\":[89.779999,83.5,82.660004,83.510002,82.940002,84.07,83.139999,81.870003,75.870003,67.599998,33.900002,5.09,-0.04,-0.99,-0.03,15.44,56.619999,75.970001,94.940002,97.760002,97.870003,97.940002,96.089996,95.050003,71.48,69.79,67.88,67.41,65.98,68.59,73.16,71.61,68.61,54.13,13.61,-5.93,-3.77,-10.53,-6.73,-5.04,36.96,63.29,78.08,86.2,83.47,88.37,83.93,83.11],\"type\":\"scatter\"},{\"name\":\"2023-05-07 (Proj)\",\"x\":[0,1,2,3,4,5,6,7,8,9,10,11,12,13,14,15,16,17,18,19,20,21,22,23,24,25,26,27,28,29,30,31,32,33,34,35,36,37,38,39,40,41,42,43,44,45,46,47],\"y\":[92.16328838563052,85.90205266124636,82.51057556433331,80.6616322680659,81.06944125678632,83.21946533362204,77.70954576094502,72.52620041295205,68.84368896247325,60.676036085000696,38.36595809035279,21.970326061246674,14.595737722720074,6.015108007618807,3.249853235281215,14.599611479051408,40.24867656074073,71.55922837277694,86.54646102489217,97.52788429873434,105.69401133959991,101.43206212557926,102.18691784691029,97.20948177930143,82.49905812249347,77.76208737432444,74.8173903028367,74.15590365527555,72.67037021185409,74.9688868483156,70.0851289720091,68.57485737328145,59.522593503080316,49.00205757014215,30.324029265570346,9.859478654684082,-3.2803899342171334,-13.082332756373809,-13.27799894670354,-1.851587474040457,21.226569084696873,53.360079401683876,73.65354776059539,78.74578103059946,82.44110923110924,84.94003363023344,92.62259875052409,83.56712577091956],\"type\":\"scatter\"},{\"name\":\"2023-05-08\",\"x\":[0,1,2,3,4,5,6,7,8,9,10,11,12,13,14,15,16,17,18,19,20,21,22,23,24,25,26,27,28,29,30,31,32,33,34,35,36,37,38,39,40,41,42,43,44,45,46,47],\"y\":[85.919998,83.93,83.779999,83.129997,84.089996,88.0,103.290001,117.870003,110.970001,97.610001,89.629997,79.68,75.059998,69.480003,62.900002,60.209999,73.540001,87.639999,92.470001,93.980003,100.57,99.900002,92.029999,82.059998,79.42,84.46,84.18,81.14,74.64,78.94,98.19,109.88,109.35,96.4,85.31,78.58,69.52,61.86,54.23,52.59,59.69,79.94,93.7,88.97,98.13,99.39,93.46,82.89],\"type\":\"scatter\"},{\"name\":\"2023-05-08 (Proj)\",\"x\":[0,1,2,3,4,5,6,7,8,9,10,11,12,13,14,15,16,17,18,19,20,21,22,23,24,25,26,27,28,29,30,31,32,33,34,35,36,37,38,39,40,41,42,43,44,45,46,47],\"y\":[89.86275360315142,84.20435945542647,83.11929784033275,82.36697928473224,83.63245253242057,91.07740261292064,109.23989073883496,117.10536696896983,114.67624526218265,101.68959868303634,89.77341148741574,81.02338021146996,73.43569443614464,66.40624853559991,61.365854248377474,63.06295361780545,71.78139045967501,86.49616567092659,96.01153758675474,103.50969261021724,104.23004766644209,99.28812457735957,88.13681376544173,77.0158507954454,82.50811972372787,77.34799997347747,75.28581296689346,73.69714235793626,74.7343749939638,81.47288731664943,99.52021403740963,109.45418328926482,110.08641540567908,94.06651234532191,83.36929250643432,73.69919601304906,66.37574230550669,58.8660748662593,52.809147764953664,52.549691334550445,62.094816197563226,80.19608698693432,90.68323695724426,98.59928236447807,103.58905367653273,97.04144143100802,85.39717015963478,75.83695014448955],\"type\":\"scatter\"},{\"name\":\"2023-05-09\",\"x\":[0,1,2,3,4,5,6,7,8,9,10,11,12,13,14,15,16,17,18,19,20,21,22,23,24,25,26,27,28,29,30,31,32,33,34,35,36,37,38,39,40,41,42,43,44,45,46,47],\"y\":[82.07,79.099998,79.220001,81.470001,82.519997,85.940002,95.139999,93.260002,93.419998,92.029999,83.870003,70.949997,65.760002,61.91,68.290001,76.019997,76.889999,92.589996,92.0,95.370003,92.57,92.400002,87.650002,80.860001,70.97,64.64,62.55,64.72,63.59,73.8,73.4,79.09,73.49,69.44,71.15,58.33,45.74,40.0,37.7,47.08,54.8,69.95,72.78,82.86,82.36,86.93,85.08,75.76],\"type\":\"scatter\"},{\"name\":\"2023-05-09 (Proj)\",\"x\":[0,1,2,3,4,5,6,7,8,9,10,11,12,13,14,15,16,17,18,19,20,21,22,23,24,25,26,27,28,29,30,31,32,33,34,35,36,37,38,39,40,41,42,43,44,45,46,47],\"y\":[86.09136191555405,81.47624677454299,81.14238085958526,80.8822552801571,82.12641053005524,86.4621708195515,93.24962225514412,94.21101687890014,94.19926484106354,91.68485536981566,83.35549403476669,75.1612227719398,69.60411820694485,62.65834586361923,59.266878672069424,67.6411940955089,80.30752557923243,90.32713960287195,95.01032364689019,96.81732276083652,98.1275261249267,91.42255889225879,87.74189890991454,79.51062615783167,69.44337362599643,63.84848516417803,62.34033990885263,61.46324974719933,60.5470294906256,67.72894385219232,71.00049957513055,76.45062157310777,79.16736759281994,77.799993290428,68.89912218624367,56.87751400401593,46.49008220176472,39.954454315343206,36.401443745797074,42.72598949508364,56.75597554775169,71.9251536307572,81.68045316435968,81.27683729227797,84.88112867290465,85.16935869915889,83.72406225111662,67.84364519274841],\"type\":\"scatter\"},{\"name\":\"2023-05-10\",\"x\":[0,1,2,3,4,5,6,7,8,9,10,11,12,13,14,15,16,17,18,19,20,21,22,23,24,25,26,27,28,29,30,31,32,33,34,35,36,37,38,39,40,41,42,43,44,45,46,47],\"y\":[68.800003,65.330002,64.440002,63.810001,64.18,70.059998,78.669998,84.57,84.919998,84.309998,79.25,79.349998,77.620003,80.529999,81.379997,83.919998,78.550003,100.370003,120.0,135.729996,147.419998,134.289993,117.589996,109.839996,67.58,64.53,60.28,58.88,61.33,74.01,84.82,90.7,85.73,91.66,93.58,94.32,90.45,88.3,85.59,86.9,85.62,95.09,122.54,149.58,191.51,153.41,129.03,113.95],\"type\":\"scatter\"},{\"name\":\"2023-05-10 (Proj)\",\"x\":[0,1,2,3,4,5,6,7,8,9,10,11,12,13,14,15,16,17,18,19,20,21,22,23,24,25,26,27,28,29,30,31,32,33,34,35,36,37,38,39,40,41,42,43,44,45,46,47],\"y\":[67.41441250581411,66.65835743038106,66.98341028151046,64.86275265185554,67.54420228921694,74.04830630895295,80.14166193050858,86.851771769679,87.84140010372822,84.9885469007643,84.55349368518667,83.63766988681462,79.2345798628001,73.84527438800436,74.3636450166484,78.06951515365847,87.71260791267332,94.39984000285654,114.45191841923523,132.50704690660623,147.34036880917205,139.82299979767834,121.64427062781425,104.41309559458423,64.94458126286385,61.36451079115516,60.626078330117146,59.7563782926436,59.482057531997235,71.43458867078606,79.83978842113348,90.06302160758796,89.86532298333915,93.0860270493975,93.12289872290759,95.53755385540471,90.64241010075135,80.2046375927849,80.76649331617392,85.97404055555918,94.09420804379047,101.10015283198777,120.80320250332537,158.66969864017784,186.24457401857543,162.4653788411494,126.30904071169508,103.81518267359],\"type\":\"scatter\"},{\"name\":\"2023-05-11\",\"x\":[0,1,2,3,4,5,6,7,8,9,10,11,12,13,14,15,16,17,18,19,20,21,22,23,24,25,26,27,28,29,30,31,32,33,34,35,36,37,38,39,40,41,42,43,44,45,46,47],\"y\":[100.0,96.940002,96.0,97.279999,97.900002,104.230003,121.110001,148.330002,167.779999,135.470001,126.709999,115.790001,104.529999,100.010002,99.370003,109.510002,113.540001,115.269997,123.629997,147.0,132.800003,118.400002,113.989998,101.660004,103.1,98.21,96.99,99.18,97.97,104.9,119.7,145.67,170.12,129.89,119.78,112.68,103.95,96.44,102.38,106.25,107.77,114.16,124.83,138.44,136.11,118.13,110.91,98.67],\"type\":\"scatter\"},{\"name\":\"2023-05-11 (Proj)\",\"x\":[0,1,2,3,4,5,6,7,8,9,10,11,12,13,14,15,16,17,18,19,20,21,22,23,24,25,26,27,28,29,30,31,32,33,34,35,36,37,38,39,40,41,42,43,44,45,46,47],\"y\":[106.89173491038439,100.20673927924298,99.88617104765419,100.63311644812954,102.5955231335714,114.59616148320097,138.50881331115107,155.11080164995548,153.4650780845966,135.91014247896098,124.98663090348893,117.88546005709024,111.69903791323378,106.84358078289804,104.91957551067367,103.97087115643973,107.14929456060361,115.02031527760182,126.45916661982126,136.40983509887218,136.92524828407988,123.60643357503005,109.76628846257265,95.0498423172583,99.34288067143808,94.18338756448502,92.99865362948721,92.63451968901346,95.19423891548172,104.90340629629645,128.62693886630237,146.34877828244944,150.67695452441106,131.04827969597466,119.67472812044161,112.74050995109229,108.78703974152054,99.86469180463422,96.56922536280413,93.52113382375408,98.59115585945635,114.14247847239253,125.02559854606957,138.29987534000327,146.41624962118857,127.27669325364766,108.05554842072759,96.93146097751068],\"type\":\"scatter\"},{\"name\":\"2023-05-12\",\"x\":[0,1,2,3,4,5,6,7,8,9,10,11,12,13,14,15,16,17,18,19,20,21,22,23,24,25,26,27,28,29,30,31,32,33,34,35,36,37,38,39,40,41,42,43,44,45,46,47],\"y\":[98.529999,90.550003,89.839996,90.0,90.800003,98.68,116.989998,130.0,137.979996,113.300003,101.599998,97.480003,74.970001,64.099998,62.509998,69.550003,80.620003,94.010002,106.629997,119.620003,122.120003,115.800003,101.18,97.82,94.24,86.05,83.0,80.78,84.15,88.37,112.25,125.0,145.1,112.27,85.07,66.65,48.63,43.88,41.01,36.63,44.59,83.28,103.42,113.43,113.69,108.34,99.03,102.67],\"type\":\"scatter\"},{\"name\":\"2023-05-12 (Proj)\",\"x\":[0,1,2,3,4,5,6,7,8,9,10,11,12,13,14,15,16,17,18,19,20,21,22,23,24,25,26,27,28,29,30,31,32,33,34,35,36,37,38,39,40,41,42,43,44,45,46,47],\"y\":[97.1415926304738,91.04741623365172,89.53498178634715,91.0162703300482,91.89917120297937,101.42597278271026,123.11682777277056,137.29126981922238,135.37197526345062,116.87307816745263,99.75792129066117,86.64871473992027,73.35591491882656,67.25201791425656,65.665140717168,68.31925833332589,75.03459424137787,92.71551791013295,106.13501030936328,117.61050573551081,125.78978536344536,119.99589446574511,110.52973032639204,101.27470889886372,88.16921969619125,82.64557177992313,81.83992784922205,82.30899723385002,84.35387568151287,89.7162078433774,114.33349927381857,131.3469748076836,133.73564657350786,106.03984129510995,83.53815956971137,66.52293004922406,54.587585917453744,47.27744567324244,45.51239441893031,41.814105264410834,48.7626976473748,80.29353454276946,96.68948005641705,104.30726806553272,111.49989621233162,107.84723800988061,102.28208842687687,99.28528683055343],\"type\":\"scatter\"},{\"name\":\"2023-05-13\",\"x\":[0,1,2,3,4,5,6,7,8,9,10,11,12,13,14,15,16,17,18,19,20,21,22,23,24,25,26,27,28,29,30,31,32,33,34,35,36,37,38,39,40,41,42,43,44,45,46,47],\"y\":[104.910004,98.290001,94.839996,96.139999,96.540001,97.830002,96.959999,94.720001,94.470001,89.080002,71.349998,30.120001,15.53,5.55,5.06,6.17,27.719999,75.410004,84.510002,108.620003,118.599998,113.480003,109.959999,104.970001,96.25,92.5,89.88,92.51,87.24,96.17,103.69,104.65,95.85,74.74,62.48,26.76,6.07,-0.68,3.56,11.64,31.99,64.16,87.3,98.67,109.04,91.69,104.5,103.66],\"type\":\"scatter\"},{\"name\":\"2023-05-13 (Proj)\",\"x\":[0,1,2,3,4,5,6,7,8,9,10,11,12,13,14,15,16,17,18,19,20,21,22,23,24,25,26,27,28,29,30,31,32,33,34,35,36,37,38,39,40,41,42,43,44,45,46,47],\"y\":[102.82862226768407,94.8925856513609,90.60320868823348,89.08321986368169,89.41478265087424,95.33515175342141,100.45243008542295,103.42510988591442,97.50398758516339,77.6735989630672,49.563703203370764,30.913025554837287,20.801125633024817,12.561629685270141,9.539826149529507,15.33819330956553,37.422471656868055,74.06592723666047,94.28920676346144,111.20681146287502,119.88868127479336,115.28334363496681,110.804342564372,103.8215414203036,100.45767651541196,95.96402624324911,92.78523693480591,92.20851957185229,92.8492824480783,94.37878662578257,103.57703528812763,108.04846714334853,97.44950188109875,70.04159601643524,45.821543982169445,24.75263439116927,13.514237122467158,2.5346623571254128,1.6772262755799119,6.732442536400157,25.747730384113186,64.59308746191446,87.02921490771706,98.21864185581913,102.49651423455038,98.64543761571173,100.36235081644219,98.75943597023324],\"type\":\"scatter\"},{\"name\":\"2023-05-14\",\"x\":[0,1,2,3,4,5,6,7,8,9,10,11,12,13,14,15,16,17,18,19,20,21,22,23,24,25,26,27,28,29,30,31,32,33,34,35,36,37,38,39,40,41,42,43,44,45,46,47],\"y\":[102.370003,98.18,94.300003,85.370003,86.419998,95.080002,81.330002,73.870003,75.690002,54.900002,25.09,13.89,9.73,1.85,0.16,1.78,32.290001,90.5,105.629997,116.0,127.129997,127.989998,119.139999,107.919998,107.96,105.59,98.49,98.54,98.78,105.16,100.07,86.3,64.05,62.47,61.4,47.7,40.75,24.64,22.88,48.58,68.34,98.01,115.82,122.12,132.62,132.66,123.8,114.17],\"type\":\"scatter\"},{\"name\":\"2023-05-14 (Proj)\",\"x\":[0,1,2,3,4,5,6,7,8,9,10,11,12,13,14,15,16,17,18,19,20,21,22,23,24,25,26,27,28,29,30,31,32,33,34,35,36,37,38,39,40,41,42,43,44,45,46,47],\"y\":[104.9741993756706,97.0519093076064,92.33831753897596,86.9728006768269,88.36299864257899,92.653811757238,82.11119438091941,76.52611522313505,69.0242550793007,54.336956890275175,28.752363936284397,14.847472326104587,15.524848182828357,7.04111988391378,3.6647999113344127,9.46116078708313,40.82212761140072,79.56132852256569,105.41473159797243,127.30313029790457,132.86155531190093,122.37343873196889,115.35735018104056,103.11171031470494,110.3393638447267,107.50885845624953,102.4181007300561,100.0951631357907,99.34002224281056,103.77122677060684,95.4839551857895,89.39381060336623,70.25128924106775,59.86912407952751,50.42428492394109,40.653014326583474,38.380219018128926,22.432115848846927,22.101632092442856,37.05495266306038,63.6834895922447,87.27341334582137,111.05836469901486,139.35644702713938,149.25821523317603,126.35348623057355,112.62897956184226,99.03294690678104],\"type\":\"scatter\"},{\"name\":\"2023-05-15\",\"x\":[0,1,2,3,4,5,6,7,8,9,10,11,12,13,14,15,16,17,18,19,20,21,22,23,24,25,26,27,28,29,30,31,32,33,34,35,36,37,38,39,40,41,42,43,44,45,46,47],\"y\":[119.040001,107.610001,103.540001,108.870003,108.029999,126.150002,151.029999,168.789993,149.119995,124.809998,105.580002,99.620003,94.75,90.769997,89.419998,90.540001,87.949997,100.050003,117.839996,124.980003,129.199997,122.32,110.0,93.790001,107.45,99.94,99.41,98.98,110.76,108.47,131.61,156.23,139.38,122.15,110.25,97.54,88.67,83.91,80.33,77.8,77.22,84.64,97.47,98.56,106.48,105.52,99.6,86.98],\"type\":\"scatter\"},{\"name\":\"2023-05-15 (Proj)\",\"x\":[0,1,2,3,4,5,6,7,8,9,10,11,12,13,14,15,16,17,18,19,20,21,22,23,24,25,26,27,28,29,30,31,32,33,34,35,36,37,38,39,40,41,42,43,44,45,46,47],\"y\":[115.81177582950372,107.06873735140076,105.55409271638284,106.54669938962583,107.75896123336805,119.38552002314732,144.37337158342694,159.692582330005,156.13522204835567,134.10220646160064,115.8190042929109,103.79331584939295,95.753989328958,89.91238405426282,86.26386118145692,85.75690546001053,91.74378951218699,107.37678647615049,117.12510009752545,125.06925664874245,122.447974098208,110.82851604121637,101.10795011225161,89.7371187604239,107.4301595787418,101.83886801175353,99.92918361205157,99.4578152773543,102.26014151058158,108.8276637657145,133.65461399486546,149.60980790293166,151.7404336167767,123.37485202952082,105.40182126449874,91.56789925595083,85.54533744492628,77.10470715580973,72.40304140998849,68.73725356545475,76.55945215401411,100.58247580298023,110.70930569624404,113.62430431872986,113.49607568687061,102.18405945675569,95.06547269791947,90.24665383677934],\"type\":\"scatter\"},{\"name\":\"2023-05-16\",\"x\":[0,1,2,3,4,5,6,7,8,9,10,11,12,13,14,15,16,17,18,19,20,21,22,23,24,25,26,27,28,29,30,31,32,33,34,35,36,37,38,39,40,41,42,43,44,45,46,47],\"y\":[75.589996,71.339996,68.330002,62.040001,64.32,69.150002,87.790001,77.089996,77.010002,73.510002,71.419998,61.650002,49.779999,39.189999,19.99,12.59,41.23,59.790001,59.790001,59.330002,56.779999,48.529999,28.469999,14.57,67.63,62.12,57.99,49.36,50.07,57.31,76.27,67.9,68.3,65.07,64.02,58.9,57.09,48.5,30.81,30.16,50.39,64.33,67.13,67.9,65.5,56.81,34.58,27.72],\"type\":\"scatter\"},{\"name\":\"2023-05-16 (Proj)\",\"x\":[0,1,2,3,4,5,6,7,8,9,10,11,12,13,14,15,16,17,18,19,20,21,22,23,24,25,26,27,28,29,30,31,32,33,34,35,36,37,38,39,40,41,42,43,44,45,46,47],\"y\":[72.6812682052869,67.2506646051913,65.84133228757581,61.334449739521936,62.41328974219868,65.59398510145596,83.1792553003002,80.49967170966676,75.5662590232046,67.07487605675675,58.720730539879824,53.40059262055935,50.57621555314961,40.61990063446617,27.29143413450748,26.213076250916444,38.476520517920335,56.085396027582505,58.895580756933974,59.68533266625421,48.22649561632724,51.61652004832146,37.7453234513571,26.383513307624753,70.24085049732241,65.39941602008167,60.79716042923677,55.28804423064419,55.06570515353092,60.703302383995066,75.23106610484537,73.14318971148028,69.09140102231696,61.49293893166745,64.32537683819444,61.62393910091349,58.71832999635203,52.345757678855435,36.430612489673514,38.2499017223545,51.75996679125964,56.657006030492425,57.453267325125395,60.246468525953084,57.23438843721952,56.01131919909069,40.97122055064567,28.69951752656602],\"type\":\"scatter\"},{\"name\":\"2023-05-17\",\"x\":[0,1,2,3,4,5,6,7,8,9,10,11,12,13,14,15,16,17,18,19,20,21,22,23,24,25,26,27,28,29,30,31,32,33,34,35,36,37,38,39,40,41,42,43,44,45,46,47],\"y\":[19.0,30.16,30.16,30.16,30.17,34.759998,43.599998,50.639999,54.209999,50.439999,48.540001,36.380001,3.62,0.05,0.08,2.02,20.0,58.990002,65.019997,70.449997,114.410004,127.040001,108.339996,100.470001,21.03,21.51,22.97,25.2,24.06,28.96,40.59,59.42,56.98,52.12,42.02,29.31,3.04,-1.16,-1.29,3.33,3.64,48.96,63.43,69.83,100.51,123.42,105.37,99.26],\"type\":\"scatter\"},{\"name\":\"2023-05-17 (Proj)\",\"x\":[0,1,2,3,4,5,6,7,8,9,10,11,12,13,14,15,16,17,18,19,20,21,22,23,24,25,26,27,28,29,30,31,32,33,34,35,36,37,38,39,40,41,42,43,44,45,46,47],\"y\":[30.344766883695826,32.82662026974554,32.068976362700006,31.060487525266183,31.892347147033817,33.68603798870568,45.25350309461052,49.85244280536345,51.36712409937594,48.42445652537127,43.899363662242905,36.145504446849934,16.53321723507147,8.522092862518647,7.2305290826558135,14.098766377259256,23.23106968662553,41.55753229720147,62.353370341245366,81.21058777470593,109.5303672264681,122.07201441429271,105.54223850488918,96.77501748612765,27.076566728406497,22.703825055607105,23.070944556875673,22.66969778260549,21.77537944421541,26.799631765414027,46.98470242397921,58.54665565695108,58.6274802496029,47.632831069349095,32.45240403636923,21.651715759276556,2.283761728711468,-2.7646655313500546,-3.564161702125496,-4.778176540003521,0.6598773817330823,30.741240957447786,56.47400345451835,86.03630039165597,114.55559990410453,122.10399044582647,101.92843720167663,94.43191039480143],\"type\":\"scatter\"},{\"name\":\"2023-05-18\",\"x\":[0,1,2,3,4,5,6,7,8,9,10,11,12,13,14,15,16,17,18,19,20,21,22,23,24,25,26,27,28,29,30,31,32,33,34,35,36,37,38,39,40,41,42,43,44,45,46,47],\"y\":[100.589996,94.900002,89.239998,88.919998,94.379997,98.400002,100.419998,94.830002,90.290001,80.339996,72.059998,65.029999,62.869999,43.52,29.41,43.080002,71.559998,84.589996,103.080002,115.529999,125.870003,117.18,109.610001,98.760002,92.74,85.79,83.99,81.06,86.15,87.49,90.94,87.94,80.45,62.33,46.28,41.28,22.8,-6.65,-6.74,-4.08,21.35,60.68,90.49,105.52,112.32,107.08,101.74,95.96],\"type\":\"scatter\"},{\"name\":\"2023-05-18 (Proj)\",\"x\":[0,1,2,3,4,5,6,7,8,9,10,11,12,13,14,15,16,17,18,19,20,21,22,23,24,25,26,27,28,29,30,31,32,33,34,35,36,37,38,39,40,41,42,43,44,45,46,47],\"y\":[99.63739421389143,93.30747218706202,90.75735819786702,90.93446853278218,91.58817089300359,96.5759658386543,96.79882748916873,98.60870343760031,96.51990349326549,86.28590857173262,65.4025389376179,49.433003875331195,40.29430894559759,33.30231236983008,33.278940146666855,44.02133310429625,64.00250292276024,88.98884178299761,103.7250484386604,114.8748425100645,125.10285012279957,116.89718536978047,117.077476595077,111.24993509091192,86.72027910301283,81.56665321782373,79.93057039745761,80.70294309139261,80.2092049949159,84.03926118943205,85.12003390551808,91.05558436672572,87.10405681737359,72.96393793304564,50.72331945147028,29.4104906354328,15.538442449668512,6.220620064195838,8.474004959222679,16.551111632547585,35.00603810156815,68.61234522013322,89.39580584088867,94.23637198618995,99.99572450872054,99.68555868995193,106.38007788738824,97.89908438411345],\"type\":\"scatter\"},{\"name\":\"2023-05-19\",\"x\":[0,1,2,3,4,5,6,7,8,9,10,11,12,13,14,15,16,17,18,19,20,21,22,23,24,25,26,27,28,29,30,31,32,33,34,35,36,37,38,39,40,41,42,43,44,45,46,47],\"y\":[93.019997,83.199997,80.230003,77.029999,84.160004,99.330002,111.0,109.970001,106.0,93.889999,70.370003,60.560001,60.91,57.790001,57.93,63.619999,72.150002,87.190002,103.669998,116.290001,115.93,105.019997,99.790001,85.779999,82.52,76.28,74.78,76.45,81.02,90.33,99.97,101.96,102.77,82.42,65.78,50.8,44.65,36.64,36.41,28.84,43.4,67.78,81.7,89.53,90.31,85.03,83.61,75.0],\"type\":\"scatter\"},{\"name\":\"2023-05-19 (Proj)\",\"x\":[0,1,2,3,4,5,6,7,8,9,10,11,12,13,14,15,16,17,18,19,20,21,22,23,24,25,26,27,28,29,30,31,32,33,34,35,36,37,38,39,40,41,42,43,44,45,46,47],\"y\":[94.82702478598381,88.66425021791416,87.01637097910353,86.96083949780814,87.8445078039304,94.21979366740953,106.01462013296769,111.43958511277174,109.22064914128241,97.32218792061742,81.39231983496506,69.15756538811095,60.43535470694561,53.34214543407055,50.046539261105586,55.71174687632633,68.59278112449608,87.21241142398243,97.28286515954498,104.6836101669488,108.29460459033199,102.33112209025644,96.85145633123462,88.69879896204974,83.72067206536913,78.33123406195176,76.49391803032765,75.9261461861878,76.35469978421186,81.53648459862315,93.1827482755344,101.69217901088294,101.25927324184202,85.19608632944629,68.76667223834711,53.025128915419515,42.30675244593634,34.628692137470516,31.547950714270844,34.25465021237205,47.35922123062681,72.63330158027136,86.31272270927032,89.38026389938959,92.72088718660994,91.26012631177026,90.0473822181909,81.75709794777022],\"type\":\"scatter\"},{\"name\":\"2023-05-20\",\"x\":[0,1,2,3,4,5,6,7,8,9,10,11,12,13,14,15,16,17,18,19,20,21,22,23,24,25,26,27,28,29,30,31,32,33,34,35,36,37,38,39,40,41,42,43,44,45,46,47],\"y\":[78.739998,74.0,68.080002,65.830002,65.050003,65.699997,62.080002,62.459999,59.759998,40.040001,4.44,0.28,-1.43,-1.27,-0.09,0.0,1.32,25.940001,53.68,78.440002,87.690002,81.059998,78.599998,73.019997,71.72,70.24,66.68,62.64,57.66,55.22,52.82,52.14,40.59,21.27,-1.57,-12.96,-24.24,-24.26,-19.8,-19.52,-11.61,4.4,36.01,59.5,69.5,64.72,67.87,59.13],\"type\":\"scatter\"},{\"name\":\"2023-05-20 (Proj)\",\"x\":[0,1,2,3,4,5,6,7,8,9,10,11,12,13,14,15,16,17,18,19,20,21,22,23,24,25,26,27,28,29,30,31,32,33,34,35,36,37,38,39,40,41,42,43,44,45,46,47],\"y\":[74.48287237779213,69.35619360419172,65.65318881290733,62.62960767654303,62.605987639354986,62.89160994113119,62.40641552222152,55.22527716484044,50.557758212528775,41.99037757189081,20.6364386505127,4.567604060373661,-5.629867054723725,-15.827655338656939,-22.37796825002745,-13.280100220806979,11.331780463828707,46.16460899623095,60.127529883883305,70.45264772808031,78.07652229898287,82.772845802731,79.94472378296118,75.76977798513477,68.9204264545114,64.23322177669934,60.698002385244735,58.53137782978999,56.954241117825134,57.47091912335825,59.14237783683213,55.50114318129569,45.09502507074412,31.21390508438987,14.158418149537972,-5.3274458169322685,-19.650911621685054,-27.700935340057598,-32.55284797825204,-24.24116962549693,-2.6425573111276677,29.94545036030381,48.28222082798198,53.01392504605158,55.8266488242986,65.90674844072251,71.5387598015428,66.26917684933336],\"type\":\"scatter\"},{\"name\":\"2023-05-21\",\"x\":[0,1,2,3,4,5,6,7,8,9,10,11,12,13,14,15,16,17,18,19,20,21,22,23,24,25,26,27,28,29,30,31,32,33,34,35,36,37,38,39,40,41,42,43,44,45,46,47],\"y\":[52.200001,40.040001,33.880001,28.76,29.950001,28.26,30.790001,27.549999,20.0,2.14,0.0,-0.48,-7.92,-25.030001,-41.369999,-19.58,-0.41,2.22,41.34,85.489998,90.870003,88.82,87.779999,76.910004,67.96,60.83,58.38,52.06,53.02,48.31,48.82,54.86,48.97,28.52,21.07,15.21,-0.31,-11.55,-22.05,-14.66,0.41,4.43,34.61,79.25,84.13,80.57,79.75,63.37],\"type\":\"scatter\"},{\"name\":\"2023-05-21 (Proj)\",\"x\":[0,1,2,3,4,5,6,7,8,9,10,11,12,13,14,15,16,17,18,19,20,21,22,23,24,25,26,27,28,29,30,31,32,33,34,35,36,37,38,39,40,41,42,43,44,45,46,47],\"y\":[47.20719611032459,45.275530933195945,41.613186713845266,35.938281244957295,36.451109885648336,36.363569411653486,40.40014000731705,34.46437446243176,29.046103884918153,19.499499805370505,3.9047208589397684,-6.96568786241707,-18.152757038560615,-29.05584391146853,-37.44095080304202,-34.06952883493857,-12.022828236288362,24.38433368625752,46.68431022821291,66.264207598106,80.09474840272605,92.55723418134674,76.79017968178624,67.30250951756676,55.305364162517314,52.00220011351013,48.068707961551354,44.11474140093014,42.88982182706164,44.79209339657043,55.73057463604922,52.16040314475371,37.99445992943362,24.038708635918027,15.520726756867035,6.996550686312489,-3.8745314693816653,-12.948486177002536,-20.487261036847727,-15.650655919477991,1.244178140557942,27.551350363570258,49.28080979873906,77.6908127744185,93.74006462920512,94.73082218645493,75.65383133195886,69.4671971223126],\"type\":\"scatter\"},{\"name\":\"2023-05-22\",\"x\":[0,1,2,3,4,5,6,7,8,9,10,11,12,13,14,15,16,17,18,19,20,21,22,23,24,25,26,27,28,29,30,31,32,33,34,35,36,37,38,39,40,41,42,43,44,45,46,47],\"y\":[73.129997,71.389999,72.32,71.809998,72.989998,86.720001,110.260002,118.309998,113.419998,102.309998,86.970001,73.360001,63.07,62.869999,66.379997,68.25,70.800003,78.699997,90.0,108.010002,119.0,112.800003,104.239998,84.480003,44.44,38.01,41.4,41.15,45.96,57.1,97.56,110.01,108.95,94.41,72.1,48.24,52.74,48.07,51.17,51.32,56.12,71.63,90.67,116.21,137.44,123.57,103.62,87.25],\"type\":\"scatter\"},{\"name\":\"2023-05-22 (Proj)\",\"x\":[0,1,2,3,4,5,6,7,8,9,10,11,12,13,14,15,16,17,18,19,20,21,22,23,24,25,26,27,28,29,30,31,32,33,34,35,36,37,38,39,40,41,42,43,44,45,46,47],\"y\":[66.86294425400973,65.11877306112576,65.0615782461345,65.81947362321888,67.1514762917052,74.46355663174819,95.65281820043262,108.26642553569216,109.1007119112172,99.18588663186985,92.95717831051572,85.76303777451209,71.19767990985065,65.05457165879176,63.71940990284013,66.69453570118293,69.88147103875019,79.85349980443412,93.96421963963482,106.57321566146136,121.33410006492612,121.58304980501481,106.49571071726638,95.31854973987494,59.00813527175364,53.86678089013655,54.0439792785105,54.0344650028574,55.08093659584823,62.611166827831916,87.8603025142905,105.1219061123658,110.27355675472273,93.86963447242017,79.20482869078488,69.36664637311259,56.26021300346935,50.49896410470225,48.33826950142972,44.21942661353115,47.19043942737832,70.64964934087202,87.86218485806799,106.07584204263597,123.98535800192403,121.2324173481432,103.12832986120388,94.70300807317273],\"type\":\"scatter\"},{\"name\":\"2023-05-23\",\"x\":[0,1,2,3,4,5,6,7,8,9,10,11,12,13,14,15,16,17,18,19,20,21,22,23,24,25,26,27,28,29,30,31,32,33,34,35,36,37,38,39,40,41,42,43,44,45,46,47],\"y\":[70.540001,65.709999,65.510002,62.119999,61.73,61.73,97.5,104.139999,101.0,85.269997,48.990002,43.689999,26.620001,19.52,5.55,3.54,12.81,52.369999,62.830002,68.879997,69.489998,70.660004,70.790001,65.730003,78.0,72.9,66.58,65.63,69.44,64.81,93.43,97.41,91.26,69.65,39.96,35.59,24.95,15.29,-4.42,-9.74,7.05,49.06,59.69,66.12,70.02,65.91,65.99,74.21],\"type\":\"scatter\"},{\"name\":\"2023-05-23 (Proj)\",\"x\":[0,1,2,3,4,5,6,7,8,9,10,11,12,13,14,15,16,17,18,19,20,21,22,23,24,25,26,27,28,29,30,31,32,33,34,35,36,37,38,39,40,41,42,43,44,45,46,47],\"y\":[74.9178543461483,69.27652521773831,66.18666012861546,64.28877533534144,64.35382347077814,69.78059898388655,93.68403641848603,99.95322376542008,94.38643290361394,74.2305385369018,54.3697458314351,40.15778667992543,25.2827799747858,15.687063978499989,6.555897422780568,5.940706829049873,17.02605339667243,47.21442145335171,60.318676623791085,71.56427035017407,75.65521536611988,83.51075863291082,70.0876095561988,62.42084205417668,75.4088249756474,70.36948651853746,67.28335914718555,64.49302113321833,65.94595218604645,67.26903908237082,95.99266423181345,103.74278097821414,98.61674649001594,66.24102733463525,47.68465496417569,31.925699809098315,20.15176764693472,13.96985440198332,3.8798201723362595,-1.157372478883417,8.608216370705648,40.90216064029833,54.388018232997275,61.39111651358678,63.80035604464192,70.41796199738083,63.77638208266024,66.58339473173126],\"type\":\"scatter\"},{\"name\":\"2023-05-24\",\"x\":[0,1,2,3,4,5,6,7,8,9,10,11,12,13,14,15,16,17,18,19,20,21,22,23,24,25,26,27,28,29,30,31,32,33,34,35,36,37,38,39,40,41,42,43,44,45,46,47],\"y\":[66.300003,66.010002,66.860001,67.519997,73.940002,84.330002,106.779999,121.470001,109.660004,97.699997,85.919998,81.0,80.580002,71.080002,75.209999,67.599998,78.260002,78.970001,109.970001,136.0,142.0,148.399994,114.639999,84.730003,74.66,69.28,71.7,71.24,74.69,84.92,110.68,127.23,120.98,99.05,85.7,97.11,98.94,81.9,89.45,75.01,92.26,103.15,123.11,201.81,221.8,185.54,112.68,97.66],\"type\":\"scatter\"},{\"name\":\"2023-05-24 (Proj)\",\"x\":[0,1,2,3,4,5,6,7,8,9,10,11,12,13,14,15,16,17,18,19,20,21,22,23,24,25,26,27,28,29,30,31,32,33,34,35,36,37,38,39,40,41,42,43,44,45,46,47],\"y\":[69.27302474101482,67.39361120958947,66.51148114189505,63.66474525201442,66.1866591146002,75.90394277861684,95.36112272317206,109.6948295753581,107.47482584962853,91.5766244370956,85.64242105486179,83.11463406625731,75.1414262929647,69.29320566370785,67.5567781397569,63.4770397746215,69.24144546585063,83.99795956100147,110.64528243712849,136.27221144422734,151.63825601556078,148.05240862427894,121.05534758262954,101.07638036377635,78.74122709972082,75.71302883681513,74.22716404988303,72.4516712227957,74.44662856037957,85.03024866883212,111.64680965346568,126.69862163970274,123.04267927485415,106.99696308023199,103.44144622131533,107.43439610742529,105.17660209742473,93.71282263177008,91.16700600320361,88.29665405925876,91.4475108830928,104.5011256136822,126.10194088663,174.00658071127262,203.31148989331626,173.57431960608918,126.48751501211017,113.12916245813935],\"type\":\"scatter\"},{\"name\":\"2023-05-25\",\"x\":[0,1,2,3,4,5,6,7,8,9,10,11,12,13,14,15,16,17,18,19,20,21,22,23,24,25,26,27,28,29,30,31,32,33,34,35,36,37,38,39,40,41,42,43,44,45,46,47],\"y\":[65.779999,61.540001,56.669998,50.400002,48.700001,50.400002,70.800003,70.050003,72.160004,61.610001,58.810001,45.0,32.759998,9.25,-0.16,-0.13,9.99,41.0,57.110001,59.869999,64.57,106.080002,65.410004,59.32,64.87,56.81,48.59,43.6,40.79,47.32,95.6,90.94,84.5,53.39,58.08,45.69,29.92,19.69,3.62,4.57,11.36,38.41,53.18,54.75,68.24,96.76,67.89,73.03],\"type\":\"scatter\"},{\"name\":\"2023-05-25 (Proj)\",\"x\":[0,1,2,3,4,5,6,7,8,9,10,11,12,13,14,15,16,17,18,19,20,21,22,23,24,25,26,27,28,29,30,31,32,33,34,35,36,37,38,39,40,41,42,43,44,45,46,47],\"y\":[55.58848765395139,52.700260485630736,50.458052033967974,47.81242306237753,48.24773575977385,52.55923541643675,76.68802866029873,82.415989911139,78.28778484864995,62.72656795244485,49.76401245523604,39.68240118956693,24.319976986595897,14.702410849619444,5.577006873799405,4.309049398604429,13.05154484009018,38.81777751832647,53.429484936162794,66.55120357638982,74.85408706019959,86.50964390892555,68.21775053648474,58.558353203217166,58.486511584791245,53.85882307600365,51.25944839161464,47.985284586675306,48.96070196416357,51.863518230610765,81.92869095369757,89.9079689916116,85.86780355218488,60.03718060522246,47.252403091586956,37.224490372877554,25.599973139186858,20.000675312101865,9.43922265314637,3.836525407221547,10.786062346803206,37.26174300432072,51.55388222113593,67.8193152336136,77.96565075630825,83.02692123156011,65.7505258795906,65.06091060378218],\"type\":\"scatter\"}],                        {\"template\":{\"data\":{\"histogram2dcontour\":[{\"type\":\"histogram2dcontour\",\"colorbar\":{\"outlinewidth\":0,\"ticks\":\"\"},\"colorscale\":[[0.0,\"#0d0887\"],[0.1111111111111111,\"#46039f\"],[0.2222222222222222,\"#7201a8\"],[0.3333333333333333,\"#9c179e\"],[0.4444444444444444,\"#bd3786\"],[0.5555555555555556,\"#d8576b\"],[0.6666666666666666,\"#ed7953\"],[0.7777777777777778,\"#fb9f3a\"],[0.8888888888888888,\"#fdca26\"],[1.0,\"#f0f921\"]]}],\"choropleth\":[{\"type\":\"choropleth\",\"colorbar\":{\"outlinewidth\":0,\"ticks\":\"\"}}],\"histogram2d\":[{\"type\":\"histogram2d\",\"colorbar\":{\"outlinewidth\":0,\"ticks\":\"\"},\"colorscale\":[[0.0,\"#0d0887\"],[0.1111111111111111,\"#46039f\"],[0.2222222222222222,\"#7201a8\"],[0.3333333333333333,\"#9c179e\"],[0.4444444444444444,\"#bd3786\"],[0.5555555555555556,\"#d8576b\"],[0.6666666666666666,\"#ed7953\"],[0.7777777777777778,\"#fb9f3a\"],[0.8888888888888888,\"#fdca26\"],[1.0,\"#f0f921\"]]}],\"heatmap\":[{\"type\":\"heatmap\",\"colorbar\":{\"outlinewidth\":0,\"ticks\":\"\"},\"colorscale\":[[0.0,\"#0d0887\"],[0.1111111111111111,\"#46039f\"],[0.2222222222222222,\"#7201a8\"],[0.3333333333333333,\"#9c179e\"],[0.4444444444444444,\"#bd3786\"],[0.5555555555555556,\"#d8576b\"],[0.6666666666666666,\"#ed7953\"],[0.7777777777777778,\"#fb9f3a\"],[0.8888888888888888,\"#fdca26\"],[1.0,\"#f0f921\"]]}],\"heatmapgl\":[{\"type\":\"heatmapgl\",\"colorbar\":{\"outlinewidth\":0,\"ticks\":\"\"},\"colorscale\":[[0.0,\"#0d0887\"],[0.1111111111111111,\"#46039f\"],[0.2222222222222222,\"#7201a8\"],[0.3333333333333333,\"#9c179e\"],[0.4444444444444444,\"#bd3786\"],[0.5555555555555556,\"#d8576b\"],[0.6666666666666666,\"#ed7953\"],[0.7777777777777778,\"#fb9f3a\"],[0.8888888888888888,\"#fdca26\"],[1.0,\"#f0f921\"]]}],\"contourcarpet\":[{\"type\":\"contourcarpet\",\"colorbar\":{\"outlinewidth\":0,\"ticks\":\"\"}}],\"contour\":[{\"type\":\"contour\",\"colorbar\":{\"outlinewidth\":0,\"ticks\":\"\"},\"colorscale\":[[0.0,\"#0d0887\"],[0.1111111111111111,\"#46039f\"],[0.2222222222222222,\"#7201a8\"],[0.3333333333333333,\"#9c179e\"],[0.4444444444444444,\"#bd3786\"],[0.5555555555555556,\"#d8576b\"],[0.6666666666666666,\"#ed7953\"],[0.7777777777777778,\"#fb9f3a\"],[0.8888888888888888,\"#fdca26\"],[1.0,\"#f0f921\"]]}],\"surface\":[{\"type\":\"surface\",\"colorbar\":{\"outlinewidth\":0,\"ticks\":\"\"},\"colorscale\":[[0.0,\"#0d0887\"],[0.1111111111111111,\"#46039f\"],[0.2222222222222222,\"#7201a8\"],[0.3333333333333333,\"#9c179e\"],[0.4444444444444444,\"#bd3786\"],[0.5555555555555556,\"#d8576b\"],[0.6666666666666666,\"#ed7953\"],[0.7777777777777778,\"#fb9f3a\"],[0.8888888888888888,\"#fdca26\"],[1.0,\"#f0f921\"]]}],\"mesh3d\":[{\"type\":\"mesh3d\",\"colorbar\":{\"outlinewidth\":0,\"ticks\":\"\"}}],\"scatter\":[{\"fillpattern\":{\"fillmode\":\"overlay\",\"size\":10,\"solidity\":0.2},\"type\":\"scatter\"}],\"parcoords\":[{\"type\":\"parcoords\",\"line\":{\"colorbar\":{\"outlinewidth\":0,\"ticks\":\"\"}}}],\"scatterpolargl\":[{\"type\":\"scatterpolargl\",\"marker\":{\"colorbar\":{\"outlinewidth\":0,\"ticks\":\"\"}}}],\"bar\":[{\"error_x\":{\"color\":\"#2a3f5f\"},\"error_y\":{\"color\":\"#2a3f5f\"},\"marker\":{\"line\":{\"color\":\"#E5ECF6\",\"width\":0.5},\"pattern\":{\"fillmode\":\"overlay\",\"size\":10,\"solidity\":0.2}},\"type\":\"bar\"}],\"scattergeo\":[{\"type\":\"scattergeo\",\"marker\":{\"colorbar\":{\"outlinewidth\":0,\"ticks\":\"\"}}}],\"scatterpolar\":[{\"type\":\"scatterpolar\",\"marker\":{\"colorbar\":{\"outlinewidth\":0,\"ticks\":\"\"}}}],\"histogram\":[{\"marker\":{\"pattern\":{\"fillmode\":\"overlay\",\"size\":10,\"solidity\":0.2}},\"type\":\"histogram\"}],\"scattergl\":[{\"type\":\"scattergl\",\"marker\":{\"colorbar\":{\"outlinewidth\":0,\"ticks\":\"\"}}}],\"scatter3d\":[{\"type\":\"scatter3d\",\"line\":{\"colorbar\":{\"outlinewidth\":0,\"ticks\":\"\"}},\"marker\":{\"colorbar\":{\"outlinewidth\":0,\"ticks\":\"\"}}}],\"scattermapbox\":[{\"type\":\"scattermapbox\",\"marker\":{\"colorbar\":{\"outlinewidth\":0,\"ticks\":\"\"}}}],\"scatterternary\":[{\"type\":\"scatterternary\",\"marker\":{\"colorbar\":{\"outlinewidth\":0,\"ticks\":\"\"}}}],\"scattercarpet\":[{\"type\":\"scattercarpet\",\"marker\":{\"colorbar\":{\"outlinewidth\":0,\"ticks\":\"\"}}}],\"carpet\":[{\"aaxis\":{\"endlinecolor\":\"#2a3f5f\",\"gridcolor\":\"white\",\"linecolor\":\"white\",\"minorgridcolor\":\"white\",\"startlinecolor\":\"#2a3f5f\"},\"baxis\":{\"endlinecolor\":\"#2a3f5f\",\"gridcolor\":\"white\",\"linecolor\":\"white\",\"minorgridcolor\":\"white\",\"startlinecolor\":\"#2a3f5f\"},\"type\":\"carpet\"}],\"table\":[{\"cells\":{\"fill\":{\"color\":\"#EBF0F8\"},\"line\":{\"color\":\"white\"}},\"header\":{\"fill\":{\"color\":\"#C8D4E3\"},\"line\":{\"color\":\"white\"}},\"type\":\"table\"}],\"barpolar\":[{\"marker\":{\"line\":{\"color\":\"#E5ECF6\",\"width\":0.5},\"pattern\":{\"fillmode\":\"overlay\",\"size\":10,\"solidity\":0.2}},\"type\":\"barpolar\"}],\"pie\":[{\"automargin\":true,\"type\":\"pie\"}]},\"layout\":{\"autotypenumbers\":\"strict\",\"colorway\":[\"#636efa\",\"#EF553B\",\"#00cc96\",\"#ab63fa\",\"#FFA15A\",\"#19d3f3\",\"#FF6692\",\"#B6E880\",\"#FF97FF\",\"#FECB52\"],\"font\":{\"color\":\"#2a3f5f\"},\"hovermode\":\"closest\",\"hoverlabel\":{\"align\":\"left\"},\"paper_bgcolor\":\"white\",\"plot_bgcolor\":\"#E5ECF6\",\"polar\":{\"bgcolor\":\"#E5ECF6\",\"angularaxis\":{\"gridcolor\":\"white\",\"linecolor\":\"white\",\"ticks\":\"\"},\"radialaxis\":{\"gridcolor\":\"white\",\"linecolor\":\"white\",\"ticks\":\"\"}},\"ternary\":{\"bgcolor\":\"#E5ECF6\",\"aaxis\":{\"gridcolor\":\"white\",\"linecolor\":\"white\",\"ticks\":\"\"},\"baxis\":{\"gridcolor\":\"white\",\"linecolor\":\"white\",\"ticks\":\"\"},\"caxis\":{\"gridcolor\":\"white\",\"linecolor\":\"white\",\"ticks\":\"\"}},\"coloraxis\":{\"colorbar\":{\"outlinewidth\":0,\"ticks\":\"\"}},\"colorscale\":{\"sequential\":[[0.0,\"#0d0887\"],[0.1111111111111111,\"#46039f\"],[0.2222222222222222,\"#7201a8\"],[0.3333333333333333,\"#9c179e\"],[0.4444444444444444,\"#bd3786\"],[0.5555555555555556,\"#d8576b\"],[0.6666666666666666,\"#ed7953\"],[0.7777777777777778,\"#fb9f3a\"],[0.8888888888888888,\"#fdca26\"],[1.0,\"#f0f921\"]],\"sequentialminus\":[[0.0,\"#0d0887\"],[0.1111111111111111,\"#46039f\"],[0.2222222222222222,\"#7201a8\"],[0.3333333333333333,\"#9c179e\"],[0.4444444444444444,\"#bd3786\"],[0.5555555555555556,\"#d8576b\"],[0.6666666666666666,\"#ed7953\"],[0.7777777777777778,\"#fb9f3a\"],[0.8888888888888888,\"#fdca26\"],[1.0,\"#f0f921\"]],\"diverging\":[[0,\"#8e0152\"],[0.1,\"#c51b7d\"],[0.2,\"#de77ae\"],[0.3,\"#f1b6da\"],[0.4,\"#fde0ef\"],[0.5,\"#f7f7f7\"],[0.6,\"#e6f5d0\"],[0.7,\"#b8e186\"],[0.8,\"#7fbc41\"],[0.9,\"#4d9221\"],[1,\"#276419\"]]},\"xaxis\":{\"gridcolor\":\"white\",\"linecolor\":\"white\",\"ticks\":\"\",\"title\":{\"standoff\":15},\"zerolinecolor\":\"white\",\"automargin\":true,\"zerolinewidth\":2},\"yaxis\":{\"gridcolor\":\"white\",\"linecolor\":\"white\",\"ticks\":\"\",\"title\":{\"standoff\":15},\"zerolinecolor\":\"white\",\"automargin\":true,\"zerolinewidth\":2},\"scene\":{\"xaxis\":{\"backgroundcolor\":\"#E5ECF6\",\"gridcolor\":\"white\",\"linecolor\":\"white\",\"showbackground\":true,\"ticks\":\"\",\"zerolinecolor\":\"white\",\"gridwidth\":2},\"yaxis\":{\"backgroundcolor\":\"#E5ECF6\",\"gridcolor\":\"white\",\"linecolor\":\"white\",\"showbackground\":true,\"ticks\":\"\",\"zerolinecolor\":\"white\",\"gridwidth\":2},\"zaxis\":{\"backgroundcolor\":\"#E5ECF6\",\"gridcolor\":\"white\",\"linecolor\":\"white\",\"showbackground\":true,\"ticks\":\"\",\"zerolinecolor\":\"white\",\"gridwidth\":2}},\"shapedefaults\":{\"line\":{\"color\":\"#2a3f5f\"}},\"annotationdefaults\":{\"arrowcolor\":\"#2a3f5f\",\"arrowhead\":0,\"arrowwidth\":1},\"geo\":{\"bgcolor\":\"white\",\"landcolor\":\"#E5ECF6\",\"subunitcolor\":\"white\",\"showland\":true,\"showlakes\":true,\"lakecolor\":\"white\"},\"title\":{\"x\":0.05},\"mapbox\":{\"style\":\"light\"}}}},                        {\"responsive\": true}                    ).then(function(){\n",
       "                            \n",
       "var gd = document.getElementById('cacb9759-4d11-45d1-84ae-f3b08dc75022');\n",
       "var x = new MutationObserver(function (mutations, observer) {{\n",
       "        var display = window.getComputedStyle(gd).display;\n",
       "        if (!display || display === 'none') {{\n",
       "            console.log([gd, 'removed!']);\n",
       "            Plotly.purge(gd);\n",
       "            observer.disconnect();\n",
       "        }}\n",
       "}});\n",
       "\n",
       "// Listen for the removal of the full notebook cells\n",
       "var notebookContainer = gd.closest('#notebook-container');\n",
       "if (notebookContainer) {{\n",
       "    x.observe(notebookContainer, {childList: true});\n",
       "}}\n",
       "\n",
       "// Listen for the clearing of the current output cell\n",
       "var outputEl = gd.closest('.output');\n",
       "if (outputEl) {{\n",
       "    x.observe(outputEl, {childList: true});\n",
       "}}\n",
       "\n",
       "                        })                };                });            </script>        </div>"
      ]
     },
     "metadata": {},
     "output_type": "display_data"
    }
   ],
   "source": [
    "traces = []\n",
    "template_trace = {\"x\": np.arange(merged_curves.shape[-1]).tolist()}\n",
    "for i in range(N):\n",
    "    y = merged_curves[i].tolist()\n",
    "    y_hat = projected_curves[i].tolist()\n",
    "    y_hat2 = restored_curves[i].tolist()\n",
    "    trace = {**template_trace, \"y\": y, \"name\": price_dates[i]}\n",
    "    traces.append(trace)\n",
    "    trace = {**template_trace, \"y\": y_hat, \"name\": f\"{price_dates[i]} (Proj)\"}\n",
    "    traces.append(trace)    \n",
    "#     trace = {**template_trace, \"y\": y_hat2, \"name\": f\"{price_dates[i]} (Restored)\"}\n",
    "#     traces.append(trace)    \n",
    "go.Figure(data=traces)"
   ]
  },
  {
   "cell_type": "code",
   "execution_count": null,
   "id": "a85e3014",
   "metadata": {},
   "outputs": [],
   "source": [
    "transformed_curves = pca.transform(merged_curves)"
   ]
  },
  {
   "cell_type": "code",
   "execution_count": 132,
   "id": "dac699ef",
   "metadata": {},
   "outputs": [
    {
     "data": {
      "application/vnd.plotly.v1+json": {
       "config": {
        "plotlyServerURL": "https://plot.ly"
       },
       "data": [
        {
         "name": "PCA 0",
         "type": "scatter",
         "x": [
          "2023-05-01",
          "2023-05-02",
          "2023-05-03",
          "2023-05-04",
          "2023-05-05",
          "2023-05-06",
          "2023-05-07",
          "2023-05-08",
          "2023-05-09",
          "2023-05-10",
          "2023-05-11",
          "2023-05-12",
          "2023-05-13",
          "2023-05-14",
          "2023-05-15",
          "2023-05-16",
          "2023-05-17",
          "2023-05-18",
          "2023-05-19",
          "2023-05-20",
          "2023-05-21",
          "2023-05-22",
          "2023-05-23",
          "2023-05-24",
          "2023-05-25"
         ],
         "y": [
          -14.401473566545677,
          -184.28827671843422,
          -202.48026644454845,
          -118.89954471741714,
          139.60626240647537,
          5.056583762330187,
          148.9361644402469,
          -72.10659701000965,
          -4.148189047135713,
          -139.17601219239418,
          -292.5882999893341,
          -114.86609743979358,
          55.145778056512846,
          26.68845031999812,
          -224.20771766868154,
          112.80223283289538,
          210.3068233152095,
          22.37441169280215,
          -24.71892334596138,
          279.59088089601346,
          315.6714491609559,
          -52.75744711677166,
          141.4785490494354,
          -182.95780226629688,
          169.93906159044903
         ]
        },
        {
         "name": "PCA 1",
         "type": "scatter",
         "x": [
          "2023-05-01",
          "2023-05-02",
          "2023-05-03",
          "2023-05-04",
          "2023-05-05",
          "2023-05-06",
          "2023-05-07",
          "2023-05-08",
          "2023-05-09",
          "2023-05-10",
          "2023-05-11",
          "2023-05-12",
          "2023-05-13",
          "2023-05-14",
          "2023-05-15",
          "2023-05-16",
          "2023-05-17",
          "2023-05-18",
          "2023-05-19",
          "2023-05-20",
          "2023-05-21",
          "2023-05-22",
          "2023-05-23",
          "2023-05-24",
          "2023-05-25"
         ],
         "y": [
          3.694071687026151,
          13.645363719921521,
          2.8182437586394413,
          -41.334706266946384,
          -74.6249929123067,
          20.96129116235528,
          -29.266621468425452,
          -25.78050580557554,
          -13.620397503906593,
          147.42544497573664,
          -21.565816961263447,
          -42.84477384592155,
          -55.37899691791264,
          16.685315870931912,
          -88.31341419298353,
          -38.96259217650429,
          134.31989394011828,
          -31.191306042378933,
          -42.12458374682645,
          -29.451406931292325,
          67.42343778026586,
          50.24520905246572,
          -59.487169904927356,
          131.31440440805753,
          5.414608321652807
         ]
        },
        {
         "name": "PCA 2",
         "type": "scatter",
         "x": [
          "2023-05-01",
          "2023-05-02",
          "2023-05-03",
          "2023-05-04",
          "2023-05-05",
          "2023-05-06",
          "2023-05-07",
          "2023-05-08",
          "2023-05-09",
          "2023-05-10",
          "2023-05-11",
          "2023-05-12",
          "2023-05-13",
          "2023-05-14",
          "2023-05-15",
          "2023-05-16",
          "2023-05-17",
          "2023-05-18",
          "2023-05-19",
          "2023-05-20",
          "2023-05-21",
          "2023-05-22",
          "2023-05-23",
          "2023-05-24",
          "2023-05-25"
         ],
         "y": [
          65.11864896090728,
          -16.050726373758568,
          49.760466147731236,
          16.38088766940912,
          16.94172515057068,
          -63.316852252881084,
          63.21632125657321,
          -48.724817315873096,
          -60.250715610311,
          0.35453706764998855,
          -29.112137903360583,
          -1.2506568812358112,
          94.54784004585235,
          144.127188603543,
          -18.791779074054656,
          -136.07140844329516,
          -23.86038246373941,
          62.766026237396154,
          -12.590326803710232,
          20.224309722235724,
          13.77168941320565,
          -47.58106139468016,
          -41.89295315622575,
          19.640759852963942,
          -67.35658245491292
         ]
        },
        {
         "name": "PCA 3",
         "type": "scatter",
         "x": [
          "2023-05-01",
          "2023-05-02",
          "2023-05-03",
          "2023-05-04",
          "2023-05-05",
          "2023-05-06",
          "2023-05-07",
          "2023-05-08",
          "2023-05-09",
          "2023-05-10",
          "2023-05-11",
          "2023-05-12",
          "2023-05-13",
          "2023-05-14",
          "2023-05-15",
          "2023-05-16",
          "2023-05-17",
          "2023-05-18",
          "2023-05-19",
          "2023-05-20",
          "2023-05-21",
          "2023-05-22",
          "2023-05-23",
          "2023-05-24",
          "2023-05-25"
         ],
         "y": [
          -19.645617417040658,
          -30.62731776122886,
          15.083101619986941,
          3.5389976087080868,
          24.548801621115764,
          -21.90223164544497,
          -26.535884127930487,
          8.259931458472531,
          -29.48746255915582,
          10.425740390720955,
          12.477327178421062,
          -30.270880018888004,
          -2.8909050560292586,
          61.7995612695071,
          7.827377279755322,
          69.1029500593661,
          -58.61031523055189,
          -47.862598879360036,
          -20.239143573967517,
          -12.441488934255027,
          35.86907632317797,
          -37.19381829610872,
          15.825982073830836,
          53.257318928068784,
          19.691497688829884
         ]
        },
        {
         "name": "PCA 4",
         "type": "scatter",
         "x": [
          "2023-05-01",
          "2023-05-02",
          "2023-05-03",
          "2023-05-04",
          "2023-05-05",
          "2023-05-06",
          "2023-05-07",
          "2023-05-08",
          "2023-05-09",
          "2023-05-10",
          "2023-05-11",
          "2023-05-12",
          "2023-05-13",
          "2023-05-14",
          "2023-05-15",
          "2023-05-16",
          "2023-05-17",
          "2023-05-18",
          "2023-05-19",
          "2023-05-20",
          "2023-05-21",
          "2023-05-22",
          "2023-05-23",
          "2023-05-24",
          "2023-05-25"
         ],
         "y": [
          47.20160817482237,
          -16.47996002363977,
          -12.555795701395171,
          -3.4951746681887443,
          -11.358421231739817,
          54.14073597604781,
          25.328369379810884,
          6.680728052821561,
          53.85410133718279,
          33.24852697600553,
          -3.629211412637388,
          -35.71615374659098,
          -26.90415250140142,
          27.901311806064932,
          -19.086587934099093,
          44.20763011666534,
          -33.10295579205816,
          11.407209432620922,
          8.485559891750968,
          10.230693486289805,
          -13.823611199194856,
          -23.07035275262133,
          -49.250817509459246,
          -30.172042170884875,
          -44.04123798617232
         ]
        }
       ],
       "layout": {
        "template": {
         "data": {
          "bar": [
           {
            "error_x": {
             "color": "#2a3f5f"
            },
            "error_y": {
             "color": "#2a3f5f"
            },
            "marker": {
             "line": {
              "color": "#E5ECF6",
              "width": 0.5
             },
             "pattern": {
              "fillmode": "overlay",
              "size": 10,
              "solidity": 0.2
             }
            },
            "type": "bar"
           }
          ],
          "barpolar": [
           {
            "marker": {
             "line": {
              "color": "#E5ECF6",
              "width": 0.5
             },
             "pattern": {
              "fillmode": "overlay",
              "size": 10,
              "solidity": 0.2
             }
            },
            "type": "barpolar"
           }
          ],
          "carpet": [
           {
            "aaxis": {
             "endlinecolor": "#2a3f5f",
             "gridcolor": "white",
             "linecolor": "white",
             "minorgridcolor": "white",
             "startlinecolor": "#2a3f5f"
            },
            "baxis": {
             "endlinecolor": "#2a3f5f",
             "gridcolor": "white",
             "linecolor": "white",
             "minorgridcolor": "white",
             "startlinecolor": "#2a3f5f"
            },
            "type": "carpet"
           }
          ],
          "choropleth": [
           {
            "colorbar": {
             "outlinewidth": 0,
             "ticks": ""
            },
            "type": "choropleth"
           }
          ],
          "contour": [
           {
            "colorbar": {
             "outlinewidth": 0,
             "ticks": ""
            },
            "colorscale": [
             [
              0,
              "#0d0887"
             ],
             [
              0.1111111111111111,
              "#46039f"
             ],
             [
              0.2222222222222222,
              "#7201a8"
             ],
             [
              0.3333333333333333,
              "#9c179e"
             ],
             [
              0.4444444444444444,
              "#bd3786"
             ],
             [
              0.5555555555555556,
              "#d8576b"
             ],
             [
              0.6666666666666666,
              "#ed7953"
             ],
             [
              0.7777777777777778,
              "#fb9f3a"
             ],
             [
              0.8888888888888888,
              "#fdca26"
             ],
             [
              1,
              "#f0f921"
             ]
            ],
            "type": "contour"
           }
          ],
          "contourcarpet": [
           {
            "colorbar": {
             "outlinewidth": 0,
             "ticks": ""
            },
            "type": "contourcarpet"
           }
          ],
          "heatmap": [
           {
            "colorbar": {
             "outlinewidth": 0,
             "ticks": ""
            },
            "colorscale": [
             [
              0,
              "#0d0887"
             ],
             [
              0.1111111111111111,
              "#46039f"
             ],
             [
              0.2222222222222222,
              "#7201a8"
             ],
             [
              0.3333333333333333,
              "#9c179e"
             ],
             [
              0.4444444444444444,
              "#bd3786"
             ],
             [
              0.5555555555555556,
              "#d8576b"
             ],
             [
              0.6666666666666666,
              "#ed7953"
             ],
             [
              0.7777777777777778,
              "#fb9f3a"
             ],
             [
              0.8888888888888888,
              "#fdca26"
             ],
             [
              1,
              "#f0f921"
             ]
            ],
            "type": "heatmap"
           }
          ],
          "heatmapgl": [
           {
            "colorbar": {
             "outlinewidth": 0,
             "ticks": ""
            },
            "colorscale": [
             [
              0,
              "#0d0887"
             ],
             [
              0.1111111111111111,
              "#46039f"
             ],
             [
              0.2222222222222222,
              "#7201a8"
             ],
             [
              0.3333333333333333,
              "#9c179e"
             ],
             [
              0.4444444444444444,
              "#bd3786"
             ],
             [
              0.5555555555555556,
              "#d8576b"
             ],
             [
              0.6666666666666666,
              "#ed7953"
             ],
             [
              0.7777777777777778,
              "#fb9f3a"
             ],
             [
              0.8888888888888888,
              "#fdca26"
             ],
             [
              1,
              "#f0f921"
             ]
            ],
            "type": "heatmapgl"
           }
          ],
          "histogram": [
           {
            "marker": {
             "pattern": {
              "fillmode": "overlay",
              "size": 10,
              "solidity": 0.2
             }
            },
            "type": "histogram"
           }
          ],
          "histogram2d": [
           {
            "colorbar": {
             "outlinewidth": 0,
             "ticks": ""
            },
            "colorscale": [
             [
              0,
              "#0d0887"
             ],
             [
              0.1111111111111111,
              "#46039f"
             ],
             [
              0.2222222222222222,
              "#7201a8"
             ],
             [
              0.3333333333333333,
              "#9c179e"
             ],
             [
              0.4444444444444444,
              "#bd3786"
             ],
             [
              0.5555555555555556,
              "#d8576b"
             ],
             [
              0.6666666666666666,
              "#ed7953"
             ],
             [
              0.7777777777777778,
              "#fb9f3a"
             ],
             [
              0.8888888888888888,
              "#fdca26"
             ],
             [
              1,
              "#f0f921"
             ]
            ],
            "type": "histogram2d"
           }
          ],
          "histogram2dcontour": [
           {
            "colorbar": {
             "outlinewidth": 0,
             "ticks": ""
            },
            "colorscale": [
             [
              0,
              "#0d0887"
             ],
             [
              0.1111111111111111,
              "#46039f"
             ],
             [
              0.2222222222222222,
              "#7201a8"
             ],
             [
              0.3333333333333333,
              "#9c179e"
             ],
             [
              0.4444444444444444,
              "#bd3786"
             ],
             [
              0.5555555555555556,
              "#d8576b"
             ],
             [
              0.6666666666666666,
              "#ed7953"
             ],
             [
              0.7777777777777778,
              "#fb9f3a"
             ],
             [
              0.8888888888888888,
              "#fdca26"
             ],
             [
              1,
              "#f0f921"
             ]
            ],
            "type": "histogram2dcontour"
           }
          ],
          "mesh3d": [
           {
            "colorbar": {
             "outlinewidth": 0,
             "ticks": ""
            },
            "type": "mesh3d"
           }
          ],
          "parcoords": [
           {
            "line": {
             "colorbar": {
              "outlinewidth": 0,
              "ticks": ""
             }
            },
            "type": "parcoords"
           }
          ],
          "pie": [
           {
            "automargin": true,
            "type": "pie"
           }
          ],
          "scatter": [
           {
            "fillpattern": {
             "fillmode": "overlay",
             "size": 10,
             "solidity": 0.2
            },
            "type": "scatter"
           }
          ],
          "scatter3d": [
           {
            "line": {
             "colorbar": {
              "outlinewidth": 0,
              "ticks": ""
             }
            },
            "marker": {
             "colorbar": {
              "outlinewidth": 0,
              "ticks": ""
             }
            },
            "type": "scatter3d"
           }
          ],
          "scattercarpet": [
           {
            "marker": {
             "colorbar": {
              "outlinewidth": 0,
              "ticks": ""
             }
            },
            "type": "scattercarpet"
           }
          ],
          "scattergeo": [
           {
            "marker": {
             "colorbar": {
              "outlinewidth": 0,
              "ticks": ""
             }
            },
            "type": "scattergeo"
           }
          ],
          "scattergl": [
           {
            "marker": {
             "colorbar": {
              "outlinewidth": 0,
              "ticks": ""
             }
            },
            "type": "scattergl"
           }
          ],
          "scattermapbox": [
           {
            "marker": {
             "colorbar": {
              "outlinewidth": 0,
              "ticks": ""
             }
            },
            "type": "scattermapbox"
           }
          ],
          "scatterpolar": [
           {
            "marker": {
             "colorbar": {
              "outlinewidth": 0,
              "ticks": ""
             }
            },
            "type": "scatterpolar"
           }
          ],
          "scatterpolargl": [
           {
            "marker": {
             "colorbar": {
              "outlinewidth": 0,
              "ticks": ""
             }
            },
            "type": "scatterpolargl"
           }
          ],
          "scatterternary": [
           {
            "marker": {
             "colorbar": {
              "outlinewidth": 0,
              "ticks": ""
             }
            },
            "type": "scatterternary"
           }
          ],
          "surface": [
           {
            "colorbar": {
             "outlinewidth": 0,
             "ticks": ""
            },
            "colorscale": [
             [
              0,
              "#0d0887"
             ],
             [
              0.1111111111111111,
              "#46039f"
             ],
             [
              0.2222222222222222,
              "#7201a8"
             ],
             [
              0.3333333333333333,
              "#9c179e"
             ],
             [
              0.4444444444444444,
              "#bd3786"
             ],
             [
              0.5555555555555556,
              "#d8576b"
             ],
             [
              0.6666666666666666,
              "#ed7953"
             ],
             [
              0.7777777777777778,
              "#fb9f3a"
             ],
             [
              0.8888888888888888,
              "#fdca26"
             ],
             [
              1,
              "#f0f921"
             ]
            ],
            "type": "surface"
           }
          ],
          "table": [
           {
            "cells": {
             "fill": {
              "color": "#EBF0F8"
             },
             "line": {
              "color": "white"
             }
            },
            "header": {
             "fill": {
              "color": "#C8D4E3"
             },
             "line": {
              "color": "white"
             }
            },
            "type": "table"
           }
          ]
         },
         "layout": {
          "annotationdefaults": {
           "arrowcolor": "#2a3f5f",
           "arrowhead": 0,
           "arrowwidth": 1
          },
          "autotypenumbers": "strict",
          "coloraxis": {
           "colorbar": {
            "outlinewidth": 0,
            "ticks": ""
           }
          },
          "colorscale": {
           "diverging": [
            [
             0,
             "#8e0152"
            ],
            [
             0.1,
             "#c51b7d"
            ],
            [
             0.2,
             "#de77ae"
            ],
            [
             0.3,
             "#f1b6da"
            ],
            [
             0.4,
             "#fde0ef"
            ],
            [
             0.5,
             "#f7f7f7"
            ],
            [
             0.6,
             "#e6f5d0"
            ],
            [
             0.7,
             "#b8e186"
            ],
            [
             0.8,
             "#7fbc41"
            ],
            [
             0.9,
             "#4d9221"
            ],
            [
             1,
             "#276419"
            ]
           ],
           "sequential": [
            [
             0,
             "#0d0887"
            ],
            [
             0.1111111111111111,
             "#46039f"
            ],
            [
             0.2222222222222222,
             "#7201a8"
            ],
            [
             0.3333333333333333,
             "#9c179e"
            ],
            [
             0.4444444444444444,
             "#bd3786"
            ],
            [
             0.5555555555555556,
             "#d8576b"
            ],
            [
             0.6666666666666666,
             "#ed7953"
            ],
            [
             0.7777777777777778,
             "#fb9f3a"
            ],
            [
             0.8888888888888888,
             "#fdca26"
            ],
            [
             1,
             "#f0f921"
            ]
           ],
           "sequentialminus": [
            [
             0,
             "#0d0887"
            ],
            [
             0.1111111111111111,
             "#46039f"
            ],
            [
             0.2222222222222222,
             "#7201a8"
            ],
            [
             0.3333333333333333,
             "#9c179e"
            ],
            [
             0.4444444444444444,
             "#bd3786"
            ],
            [
             0.5555555555555556,
             "#d8576b"
            ],
            [
             0.6666666666666666,
             "#ed7953"
            ],
            [
             0.7777777777777778,
             "#fb9f3a"
            ],
            [
             0.8888888888888888,
             "#fdca26"
            ],
            [
             1,
             "#f0f921"
            ]
           ]
          },
          "colorway": [
           "#636efa",
           "#EF553B",
           "#00cc96",
           "#ab63fa",
           "#FFA15A",
           "#19d3f3",
           "#FF6692",
           "#B6E880",
           "#FF97FF",
           "#FECB52"
          ],
          "font": {
           "color": "#2a3f5f"
          },
          "geo": {
           "bgcolor": "white",
           "lakecolor": "white",
           "landcolor": "#E5ECF6",
           "showlakes": true,
           "showland": true,
           "subunitcolor": "white"
          },
          "hoverlabel": {
           "align": "left"
          },
          "hovermode": "closest",
          "mapbox": {
           "style": "light"
          },
          "paper_bgcolor": "white",
          "plot_bgcolor": "#E5ECF6",
          "polar": {
           "angularaxis": {
            "gridcolor": "white",
            "linecolor": "white",
            "ticks": ""
           },
           "bgcolor": "#E5ECF6",
           "radialaxis": {
            "gridcolor": "white",
            "linecolor": "white",
            "ticks": ""
           }
          },
          "scene": {
           "xaxis": {
            "backgroundcolor": "#E5ECF6",
            "gridcolor": "white",
            "gridwidth": 2,
            "linecolor": "white",
            "showbackground": true,
            "ticks": "",
            "zerolinecolor": "white"
           },
           "yaxis": {
            "backgroundcolor": "#E5ECF6",
            "gridcolor": "white",
            "gridwidth": 2,
            "linecolor": "white",
            "showbackground": true,
            "ticks": "",
            "zerolinecolor": "white"
           },
           "zaxis": {
            "backgroundcolor": "#E5ECF6",
            "gridcolor": "white",
            "gridwidth": 2,
            "linecolor": "white",
            "showbackground": true,
            "ticks": "",
            "zerolinecolor": "white"
           }
          },
          "shapedefaults": {
           "line": {
            "color": "#2a3f5f"
           }
          },
          "ternary": {
           "aaxis": {
            "gridcolor": "white",
            "linecolor": "white",
            "ticks": ""
           },
           "baxis": {
            "gridcolor": "white",
            "linecolor": "white",
            "ticks": ""
           },
           "bgcolor": "#E5ECF6",
           "caxis": {
            "gridcolor": "white",
            "linecolor": "white",
            "ticks": ""
           }
          },
          "title": {
           "x": 0.05
          },
          "xaxis": {
           "automargin": true,
           "gridcolor": "white",
           "linecolor": "white",
           "ticks": "",
           "title": {
            "standoff": 15
           },
           "zerolinecolor": "white",
           "zerolinewidth": 2
          },
          "yaxis": {
           "automargin": true,
           "gridcolor": "white",
           "linecolor": "white",
           "ticks": "",
           "title": {
            "standoff": 15
           },
           "zerolinecolor": "white",
           "zerolinewidth": 2
          }
         }
        }
       }
      },
      "text/html": [
       "<div>                            <div id=\"850fe8b7-a8e7-43ac-9c5e-156be47954e8\" class=\"plotly-graph-div\" style=\"height:525px; width:100%;\"></div>            <script type=\"text/javascript\">                require([\"plotly\"], function(Plotly) {                    window.PLOTLYENV=window.PLOTLYENV || {};                                    if (document.getElementById(\"850fe8b7-a8e7-43ac-9c5e-156be47954e8\")) {                    Plotly.newPlot(                        \"850fe8b7-a8e7-43ac-9c5e-156be47954e8\",                        [{\"name\":\"PCA 0\",\"x\":[\"2023-05-01\",\"2023-05-02\",\"2023-05-03\",\"2023-05-04\",\"2023-05-05\",\"2023-05-06\",\"2023-05-07\",\"2023-05-08\",\"2023-05-09\",\"2023-05-10\",\"2023-05-11\",\"2023-05-12\",\"2023-05-13\",\"2023-05-14\",\"2023-05-15\",\"2023-05-16\",\"2023-05-17\",\"2023-05-18\",\"2023-05-19\",\"2023-05-20\",\"2023-05-21\",\"2023-05-22\",\"2023-05-23\",\"2023-05-24\",\"2023-05-25\"],\"y\":[-14.401473566545677,-184.28827671843422,-202.48026644454845,-118.89954471741714,139.60626240647537,5.056583762330187,148.9361644402469,-72.10659701000965,-4.148189047135713,-139.17601219239418,-292.5882999893341,-114.86609743979358,55.145778056512846,26.68845031999812,-224.20771766868154,112.80223283289538,210.3068233152095,22.37441169280215,-24.71892334596138,279.59088089601346,315.6714491609559,-52.75744711677166,141.4785490494354,-182.95780226629688,169.93906159044903],\"type\":\"scatter\"},{\"name\":\"PCA 1\",\"x\":[\"2023-05-01\",\"2023-05-02\",\"2023-05-03\",\"2023-05-04\",\"2023-05-05\",\"2023-05-06\",\"2023-05-07\",\"2023-05-08\",\"2023-05-09\",\"2023-05-10\",\"2023-05-11\",\"2023-05-12\",\"2023-05-13\",\"2023-05-14\",\"2023-05-15\",\"2023-05-16\",\"2023-05-17\",\"2023-05-18\",\"2023-05-19\",\"2023-05-20\",\"2023-05-21\",\"2023-05-22\",\"2023-05-23\",\"2023-05-24\",\"2023-05-25\"],\"y\":[3.694071687026151,13.645363719921521,2.8182437586394413,-41.334706266946384,-74.6249929123067,20.96129116235528,-29.266621468425452,-25.78050580557554,-13.620397503906593,147.42544497573664,-21.565816961263447,-42.84477384592155,-55.37899691791264,16.685315870931912,-88.31341419298353,-38.96259217650429,134.31989394011828,-31.191306042378933,-42.12458374682645,-29.451406931292325,67.42343778026586,50.24520905246572,-59.487169904927356,131.31440440805753,5.414608321652807],\"type\":\"scatter\"},{\"name\":\"PCA 2\",\"x\":[\"2023-05-01\",\"2023-05-02\",\"2023-05-03\",\"2023-05-04\",\"2023-05-05\",\"2023-05-06\",\"2023-05-07\",\"2023-05-08\",\"2023-05-09\",\"2023-05-10\",\"2023-05-11\",\"2023-05-12\",\"2023-05-13\",\"2023-05-14\",\"2023-05-15\",\"2023-05-16\",\"2023-05-17\",\"2023-05-18\",\"2023-05-19\",\"2023-05-20\",\"2023-05-21\",\"2023-05-22\",\"2023-05-23\",\"2023-05-24\",\"2023-05-25\"],\"y\":[65.11864896090728,-16.050726373758568,49.760466147731236,16.38088766940912,16.94172515057068,-63.316852252881084,63.21632125657321,-48.724817315873096,-60.250715610311,0.35453706764998855,-29.112137903360583,-1.2506568812358112,94.54784004585235,144.127188603543,-18.791779074054656,-136.07140844329516,-23.86038246373941,62.766026237396154,-12.590326803710232,20.224309722235724,13.77168941320565,-47.58106139468016,-41.89295315622575,19.640759852963942,-67.35658245491292],\"type\":\"scatter\"},{\"name\":\"PCA 3\",\"x\":[\"2023-05-01\",\"2023-05-02\",\"2023-05-03\",\"2023-05-04\",\"2023-05-05\",\"2023-05-06\",\"2023-05-07\",\"2023-05-08\",\"2023-05-09\",\"2023-05-10\",\"2023-05-11\",\"2023-05-12\",\"2023-05-13\",\"2023-05-14\",\"2023-05-15\",\"2023-05-16\",\"2023-05-17\",\"2023-05-18\",\"2023-05-19\",\"2023-05-20\",\"2023-05-21\",\"2023-05-22\",\"2023-05-23\",\"2023-05-24\",\"2023-05-25\"],\"y\":[-19.645617417040658,-30.62731776122886,15.083101619986941,3.5389976087080868,24.548801621115764,-21.90223164544497,-26.535884127930487,8.259931458472531,-29.48746255915582,10.425740390720955,12.477327178421062,-30.270880018888004,-2.8909050560292586,61.7995612695071,7.827377279755322,69.1029500593661,-58.61031523055189,-47.862598879360036,-20.239143573967517,-12.441488934255027,35.86907632317797,-37.19381829610872,15.825982073830836,53.257318928068784,19.691497688829884],\"type\":\"scatter\"},{\"name\":\"PCA 4\",\"x\":[\"2023-05-01\",\"2023-05-02\",\"2023-05-03\",\"2023-05-04\",\"2023-05-05\",\"2023-05-06\",\"2023-05-07\",\"2023-05-08\",\"2023-05-09\",\"2023-05-10\",\"2023-05-11\",\"2023-05-12\",\"2023-05-13\",\"2023-05-14\",\"2023-05-15\",\"2023-05-16\",\"2023-05-17\",\"2023-05-18\",\"2023-05-19\",\"2023-05-20\",\"2023-05-21\",\"2023-05-22\",\"2023-05-23\",\"2023-05-24\",\"2023-05-25\"],\"y\":[47.20160817482237,-16.47996002363977,-12.555795701395171,-3.4951746681887443,-11.358421231739817,54.14073597604781,25.328369379810884,6.680728052821561,53.85410133718279,33.24852697600553,-3.629211412637388,-35.71615374659098,-26.90415250140142,27.901311806064932,-19.086587934099093,44.20763011666534,-33.10295579205816,11.407209432620922,8.485559891750968,10.230693486289805,-13.823611199194856,-23.07035275262133,-49.250817509459246,-30.172042170884875,-44.04123798617232],\"type\":\"scatter\"}],                        {\"template\":{\"data\":{\"histogram2dcontour\":[{\"type\":\"histogram2dcontour\",\"colorbar\":{\"outlinewidth\":0,\"ticks\":\"\"},\"colorscale\":[[0.0,\"#0d0887\"],[0.1111111111111111,\"#46039f\"],[0.2222222222222222,\"#7201a8\"],[0.3333333333333333,\"#9c179e\"],[0.4444444444444444,\"#bd3786\"],[0.5555555555555556,\"#d8576b\"],[0.6666666666666666,\"#ed7953\"],[0.7777777777777778,\"#fb9f3a\"],[0.8888888888888888,\"#fdca26\"],[1.0,\"#f0f921\"]]}],\"choropleth\":[{\"type\":\"choropleth\",\"colorbar\":{\"outlinewidth\":0,\"ticks\":\"\"}}],\"histogram2d\":[{\"type\":\"histogram2d\",\"colorbar\":{\"outlinewidth\":0,\"ticks\":\"\"},\"colorscale\":[[0.0,\"#0d0887\"],[0.1111111111111111,\"#46039f\"],[0.2222222222222222,\"#7201a8\"],[0.3333333333333333,\"#9c179e\"],[0.4444444444444444,\"#bd3786\"],[0.5555555555555556,\"#d8576b\"],[0.6666666666666666,\"#ed7953\"],[0.7777777777777778,\"#fb9f3a\"],[0.8888888888888888,\"#fdca26\"],[1.0,\"#f0f921\"]]}],\"heatmap\":[{\"type\":\"heatmap\",\"colorbar\":{\"outlinewidth\":0,\"ticks\":\"\"},\"colorscale\":[[0.0,\"#0d0887\"],[0.1111111111111111,\"#46039f\"],[0.2222222222222222,\"#7201a8\"],[0.3333333333333333,\"#9c179e\"],[0.4444444444444444,\"#bd3786\"],[0.5555555555555556,\"#d8576b\"],[0.6666666666666666,\"#ed7953\"],[0.7777777777777778,\"#fb9f3a\"],[0.8888888888888888,\"#fdca26\"],[1.0,\"#f0f921\"]]}],\"heatmapgl\":[{\"type\":\"heatmapgl\",\"colorbar\":{\"outlinewidth\":0,\"ticks\":\"\"},\"colorscale\":[[0.0,\"#0d0887\"],[0.1111111111111111,\"#46039f\"],[0.2222222222222222,\"#7201a8\"],[0.3333333333333333,\"#9c179e\"],[0.4444444444444444,\"#bd3786\"],[0.5555555555555556,\"#d8576b\"],[0.6666666666666666,\"#ed7953\"],[0.7777777777777778,\"#fb9f3a\"],[0.8888888888888888,\"#fdca26\"],[1.0,\"#f0f921\"]]}],\"contourcarpet\":[{\"type\":\"contourcarpet\",\"colorbar\":{\"outlinewidth\":0,\"ticks\":\"\"}}],\"contour\":[{\"type\":\"contour\",\"colorbar\":{\"outlinewidth\":0,\"ticks\":\"\"},\"colorscale\":[[0.0,\"#0d0887\"],[0.1111111111111111,\"#46039f\"],[0.2222222222222222,\"#7201a8\"],[0.3333333333333333,\"#9c179e\"],[0.4444444444444444,\"#bd3786\"],[0.5555555555555556,\"#d8576b\"],[0.6666666666666666,\"#ed7953\"],[0.7777777777777778,\"#fb9f3a\"],[0.8888888888888888,\"#fdca26\"],[1.0,\"#f0f921\"]]}],\"surface\":[{\"type\":\"surface\",\"colorbar\":{\"outlinewidth\":0,\"ticks\":\"\"},\"colorscale\":[[0.0,\"#0d0887\"],[0.1111111111111111,\"#46039f\"],[0.2222222222222222,\"#7201a8\"],[0.3333333333333333,\"#9c179e\"],[0.4444444444444444,\"#bd3786\"],[0.5555555555555556,\"#d8576b\"],[0.6666666666666666,\"#ed7953\"],[0.7777777777777778,\"#fb9f3a\"],[0.8888888888888888,\"#fdca26\"],[1.0,\"#f0f921\"]]}],\"mesh3d\":[{\"type\":\"mesh3d\",\"colorbar\":{\"outlinewidth\":0,\"ticks\":\"\"}}],\"scatter\":[{\"fillpattern\":{\"fillmode\":\"overlay\",\"size\":10,\"solidity\":0.2},\"type\":\"scatter\"}],\"parcoords\":[{\"type\":\"parcoords\",\"line\":{\"colorbar\":{\"outlinewidth\":0,\"ticks\":\"\"}}}],\"scatterpolargl\":[{\"type\":\"scatterpolargl\",\"marker\":{\"colorbar\":{\"outlinewidth\":0,\"ticks\":\"\"}}}],\"bar\":[{\"error_x\":{\"color\":\"#2a3f5f\"},\"error_y\":{\"color\":\"#2a3f5f\"},\"marker\":{\"line\":{\"color\":\"#E5ECF6\",\"width\":0.5},\"pattern\":{\"fillmode\":\"overlay\",\"size\":10,\"solidity\":0.2}},\"type\":\"bar\"}],\"scattergeo\":[{\"type\":\"scattergeo\",\"marker\":{\"colorbar\":{\"outlinewidth\":0,\"ticks\":\"\"}}}],\"scatterpolar\":[{\"type\":\"scatterpolar\",\"marker\":{\"colorbar\":{\"outlinewidth\":0,\"ticks\":\"\"}}}],\"histogram\":[{\"marker\":{\"pattern\":{\"fillmode\":\"overlay\",\"size\":10,\"solidity\":0.2}},\"type\":\"histogram\"}],\"scattergl\":[{\"type\":\"scattergl\",\"marker\":{\"colorbar\":{\"outlinewidth\":0,\"ticks\":\"\"}}}],\"scatter3d\":[{\"type\":\"scatter3d\",\"line\":{\"colorbar\":{\"outlinewidth\":0,\"ticks\":\"\"}},\"marker\":{\"colorbar\":{\"outlinewidth\":0,\"ticks\":\"\"}}}],\"scattermapbox\":[{\"type\":\"scattermapbox\",\"marker\":{\"colorbar\":{\"outlinewidth\":0,\"ticks\":\"\"}}}],\"scatterternary\":[{\"type\":\"scatterternary\",\"marker\":{\"colorbar\":{\"outlinewidth\":0,\"ticks\":\"\"}}}],\"scattercarpet\":[{\"type\":\"scattercarpet\",\"marker\":{\"colorbar\":{\"outlinewidth\":0,\"ticks\":\"\"}}}],\"carpet\":[{\"aaxis\":{\"endlinecolor\":\"#2a3f5f\",\"gridcolor\":\"white\",\"linecolor\":\"white\",\"minorgridcolor\":\"white\",\"startlinecolor\":\"#2a3f5f\"},\"baxis\":{\"endlinecolor\":\"#2a3f5f\",\"gridcolor\":\"white\",\"linecolor\":\"white\",\"minorgridcolor\":\"white\",\"startlinecolor\":\"#2a3f5f\"},\"type\":\"carpet\"}],\"table\":[{\"cells\":{\"fill\":{\"color\":\"#EBF0F8\"},\"line\":{\"color\":\"white\"}},\"header\":{\"fill\":{\"color\":\"#C8D4E3\"},\"line\":{\"color\":\"white\"}},\"type\":\"table\"}],\"barpolar\":[{\"marker\":{\"line\":{\"color\":\"#E5ECF6\",\"width\":0.5},\"pattern\":{\"fillmode\":\"overlay\",\"size\":10,\"solidity\":0.2}},\"type\":\"barpolar\"}],\"pie\":[{\"automargin\":true,\"type\":\"pie\"}]},\"layout\":{\"autotypenumbers\":\"strict\",\"colorway\":[\"#636efa\",\"#EF553B\",\"#00cc96\",\"#ab63fa\",\"#FFA15A\",\"#19d3f3\",\"#FF6692\",\"#B6E880\",\"#FF97FF\",\"#FECB52\"],\"font\":{\"color\":\"#2a3f5f\"},\"hovermode\":\"closest\",\"hoverlabel\":{\"align\":\"left\"},\"paper_bgcolor\":\"white\",\"plot_bgcolor\":\"#E5ECF6\",\"polar\":{\"bgcolor\":\"#E5ECF6\",\"angularaxis\":{\"gridcolor\":\"white\",\"linecolor\":\"white\",\"ticks\":\"\"},\"radialaxis\":{\"gridcolor\":\"white\",\"linecolor\":\"white\",\"ticks\":\"\"}},\"ternary\":{\"bgcolor\":\"#E5ECF6\",\"aaxis\":{\"gridcolor\":\"white\",\"linecolor\":\"white\",\"ticks\":\"\"},\"baxis\":{\"gridcolor\":\"white\",\"linecolor\":\"white\",\"ticks\":\"\"},\"caxis\":{\"gridcolor\":\"white\",\"linecolor\":\"white\",\"ticks\":\"\"}},\"coloraxis\":{\"colorbar\":{\"outlinewidth\":0,\"ticks\":\"\"}},\"colorscale\":{\"sequential\":[[0.0,\"#0d0887\"],[0.1111111111111111,\"#46039f\"],[0.2222222222222222,\"#7201a8\"],[0.3333333333333333,\"#9c179e\"],[0.4444444444444444,\"#bd3786\"],[0.5555555555555556,\"#d8576b\"],[0.6666666666666666,\"#ed7953\"],[0.7777777777777778,\"#fb9f3a\"],[0.8888888888888888,\"#fdca26\"],[1.0,\"#f0f921\"]],\"sequentialminus\":[[0.0,\"#0d0887\"],[0.1111111111111111,\"#46039f\"],[0.2222222222222222,\"#7201a8\"],[0.3333333333333333,\"#9c179e\"],[0.4444444444444444,\"#bd3786\"],[0.5555555555555556,\"#d8576b\"],[0.6666666666666666,\"#ed7953\"],[0.7777777777777778,\"#fb9f3a\"],[0.8888888888888888,\"#fdca26\"],[1.0,\"#f0f921\"]],\"diverging\":[[0,\"#8e0152\"],[0.1,\"#c51b7d\"],[0.2,\"#de77ae\"],[0.3,\"#f1b6da\"],[0.4,\"#fde0ef\"],[0.5,\"#f7f7f7\"],[0.6,\"#e6f5d0\"],[0.7,\"#b8e186\"],[0.8,\"#7fbc41\"],[0.9,\"#4d9221\"],[1,\"#276419\"]]},\"xaxis\":{\"gridcolor\":\"white\",\"linecolor\":\"white\",\"ticks\":\"\",\"title\":{\"standoff\":15},\"zerolinecolor\":\"white\",\"automargin\":true,\"zerolinewidth\":2},\"yaxis\":{\"gridcolor\":\"white\",\"linecolor\":\"white\",\"ticks\":\"\",\"title\":{\"standoff\":15},\"zerolinecolor\":\"white\",\"automargin\":true,\"zerolinewidth\":2},\"scene\":{\"xaxis\":{\"backgroundcolor\":\"#E5ECF6\",\"gridcolor\":\"white\",\"linecolor\":\"white\",\"showbackground\":true,\"ticks\":\"\",\"zerolinecolor\":\"white\",\"gridwidth\":2},\"yaxis\":{\"backgroundcolor\":\"#E5ECF6\",\"gridcolor\":\"white\",\"linecolor\":\"white\",\"showbackground\":true,\"ticks\":\"\",\"zerolinecolor\":\"white\",\"gridwidth\":2},\"zaxis\":{\"backgroundcolor\":\"#E5ECF6\",\"gridcolor\":\"white\",\"linecolor\":\"white\",\"showbackground\":true,\"ticks\":\"\",\"zerolinecolor\":\"white\",\"gridwidth\":2}},\"shapedefaults\":{\"line\":{\"color\":\"#2a3f5f\"}},\"annotationdefaults\":{\"arrowcolor\":\"#2a3f5f\",\"arrowhead\":0,\"arrowwidth\":1},\"geo\":{\"bgcolor\":\"white\",\"landcolor\":\"#E5ECF6\",\"subunitcolor\":\"white\",\"showland\":true,\"showlakes\":true,\"lakecolor\":\"white\"},\"title\":{\"x\":0.05},\"mapbox\":{\"style\":\"light\"}}}},                        {\"responsive\": true}                    ).then(function(){\n",
       "                            \n",
       "var gd = document.getElementById('850fe8b7-a8e7-43ac-9c5e-156be47954e8');\n",
       "var x = new MutationObserver(function (mutations, observer) {{\n",
       "        var display = window.getComputedStyle(gd).display;\n",
       "        if (!display || display === 'none') {{\n",
       "            console.log([gd, 'removed!']);\n",
       "            Plotly.purge(gd);\n",
       "            observer.disconnect();\n",
       "        }}\n",
       "}});\n",
       "\n",
       "// Listen for the removal of the full notebook cells\n",
       "var notebookContainer = gd.closest('#notebook-container');\n",
       "if (notebookContainer) {{\n",
       "    x.observe(notebookContainer, {childList: true});\n",
       "}}\n",
       "\n",
       "// Listen for the clearing of the current output cell\n",
       "var outputEl = gd.closest('.output');\n",
       "if (outputEl) {{\n",
       "    x.observe(outputEl, {childList: true});\n",
       "}}\n",
       "\n",
       "                        })                };                });            </script>        </div>"
      ]
     },
     "metadata": {},
     "output_type": "display_data"
    }
   ],
   "source": [
    "traces = []\n",
    "tmpl = {\"x\": price_dates}\n",
    "for i in range(transformed_curves.shape[-1]):\n",
    "    traces.append({**tmpl, \"y\": transformed_curves[:, i], \"name\": f\"PCA {i}\"})\n",
    "go.Figure(data=traces)"
   ]
  },
  {
   "cell_type": "code",
   "execution_count": 133,
   "id": "22543cab",
   "metadata": {},
   "outputs": [
    {
     "data": {
      "application/vnd.plotly.v1+json": {
       "config": {
        "plotlyServerURL": "https://plot.ly"
       },
       "data": [
        {
         "name": "PCA 0",
         "type": "scatter",
         "x": [
          0,
          1,
          2,
          3,
          4,
          5,
          6,
          7,
          8,
          9,
          10,
          11,
          12,
          13,
          14,
          15,
          16,
          17,
          18,
          19,
          20,
          21,
          22,
          23,
          24,
          25,
          26,
          27,
          28,
          29,
          30,
          31,
          32,
          33,
          34,
          35,
          36,
          37,
          38,
          39,
          40,
          41,
          42,
          43,
          44,
          45,
          46,
          47
         ],
         "y": [
          -0.07455445728329071,
          -0.07044541422616525,
          -0.07564735522376664,
          -0.08336689903430428,
          -0.08666021215178697,
          -0.1060344069764669,
          -0.13266878869957435,
          -0.16962591966262267,
          -0.17567190926471588,
          -0.1634661717921944,
          -0.17561731330609734,
          -0.18654758374377323,
          -0.19539289171105695,
          -0.2054911365834631,
          -0.21838045695835837,
          -0.2086730933478462,
          -0.18004230036700009,
          -0.13694961200451408,
          -0.13438113116706843,
          -0.13418272807694384,
          -0.1258014131857549,
          -0.08657560472682445,
          -0.07828287870383778,
          -0.06335302854352529,
          -0.06352421699903056,
          -0.06254763456120732,
          -0.06703515658902835,
          -0.0723447058741651,
          -0.07831525582965296,
          -0.093479935687167,
          -0.11447072497471066,
          -0.14866316460543813,
          -0.17228564960474746,
          -0.16794819381321466,
          -0.17075355427175545,
          -0.18445546147399644,
          -0.1993163475457936,
          -0.19581694464802715,
          -0.2059179584801573,
          -0.19451136271887018,
          -0.17357621978424836,
          -0.1517743269171027,
          -0.14476617242666268,
          -0.1543394730759471,
          -0.1621405339772254,
          -0.11208502553219953,
          -0.08424635105110286,
          -0.07140588724112404
         ]
        },
        {
         "name": "PCA 1",
         "type": "scatter",
         "x": [
          0,
          1,
          2,
          3,
          4,
          5,
          6,
          7,
          8,
          9,
          10,
          11,
          12,
          13,
          14,
          15,
          16,
          17,
          18,
          19,
          20,
          21,
          22,
          23,
          24,
          25,
          26,
          27,
          28,
          29,
          30,
          31,
          32,
          33,
          34,
          35,
          36,
          37,
          38,
          39,
          40,
          41,
          42,
          43,
          44,
          45,
          46,
          47
         ],
         "y": [
          -0.22051644868405276,
          -0.18425803931567855,
          -0.17463403748555192,
          -0.18168609856049125,
          -0.17549024039938596,
          -0.18270120133748316,
          -0.19846273542538975,
          -0.1911890256328297,
          -0.17061576562981595,
          -0.12063470367228903,
          -0.04164182044482387,
          0.006993069574991007,
          -0.001655498715307932,
          0.0035643252490473076,
          0.022685948782036305,
          0.019041476438089643,
          -0.004745894515889674,
          -0.05380028954751671,
          -0.0009319039892651818,
          0.055992824892565095,
          0.14505231246995934,
          0.17438903376747475,
          0.10958807661834605,
          0.07745922643016023,
          -0.18069372700429864,
          -0.1730656986892533,
          -0.16357886406134614,
          -0.1630819842998714,
          -0.1677232198511464,
          -0.1435186715515192,
          -0.13407516883240478,
          -0.1164623395957901,
          -0.10879387348701437,
          -0.03244749832745425,
          0.024256946981615436,
          0.0952193741069117,
          0.09611768272599026,
          0.09332023040652362,
          0.1120035878207665,
          0.11037089443369359,
          0.07410723394953093,
          0.02108178211585814,
          0.06476618039676446,
          0.23305078114104538,
          0.3671344682590148,
          0.3100580432445352,
          0.1541866903500454,
          0.10659344146447257
         ]
        },
        {
         "name": "PCA 2",
         "type": "scatter",
         "x": [
          0,
          1,
          2,
          3,
          4,
          5,
          6,
          7,
          8,
          9,
          10,
          11,
          12,
          13,
          14,
          15,
          16,
          17,
          18,
          19,
          20,
          21,
          22,
          23,
          24,
          25,
          26,
          27,
          28,
          29,
          30,
          31,
          32,
          33,
          34,
          35,
          36,
          37,
          38,
          39,
          40,
          41,
          42,
          43,
          44,
          45,
          46,
          47
         ],
         "y": [
          0.14456048967659976,
          0.12866010362730387,
          0.11338747578975235,
          0.10763468403081641,
          0.10692788101990983,
          0.10454467028167691,
          -0.012141097450261353,
          -0.04326946080542986,
          -0.05893145285335284,
          -0.08121123402665888,
          -0.16068456411656032,
          -0.20223598075386803,
          -0.18257149170688083,
          -0.18176380490821498,
          -0.15510751304872114,
          -0.12459211923735494,
          -0.036427798598627506,
          0.060642522348236444,
          0.1299260825119474,
          0.18997075175924583,
          0.2278254257661771,
          0.1790975706797085,
          0.22285525227678055,
          0.229821482365447,
          0.1659646269611091,
          0.1722440021118543,
          0.16593056831199976,
          0.17452431912398944,
          0.1703225903139857,
          0.15791963066282538,
          0.05241545068940054,
          0.015504930271257376,
          -0.050196575587039924,
          -0.05977258906023767,
          -0.10671138070765071,
          -0.14630659362261886,
          -0.14412386465825722,
          -0.17847949455284184,
          -0.13040516600710847,
          -0.07175997322509091,
          -0.0043474207005742465,
          0.06860476183400724,
          0.1402625114753698,
          0.1921916102126259,
          0.20491271570847813,
          0.14866186591610211,
          0.1939729261423336,
          0.19413705253657101
         ]
        },
        {
         "name": "PCA 3",
         "type": "scatter",
         "x": [
          0,
          1,
          2,
          3,
          4,
          5,
          6,
          7,
          8,
          9,
          10,
          11,
          12,
          13,
          14,
          15,
          16,
          17,
          18,
          19,
          20,
          21,
          22,
          23,
          24,
          25,
          26,
          27,
          28,
          29,
          30,
          31,
          32,
          33,
          34,
          35,
          36,
          37,
          38,
          39,
          40,
          41,
          42,
          43,
          44,
          45,
          46,
          47
         ],
         "y": [
          0.02019669639914429,
          0.0030939341279347726,
          -0.010278919045991649,
          -0.05151239662065738,
          -0.047687212656375995,
          -0.04336162188980883,
          -0.016132824557393496,
          -0.043472001375955145,
          -0.09178679755891828,
          -0.1581666005117936,
          -0.1813749870571472,
          -0.15627179499406454,
          -0.09415108520327727,
          -0.110544129234803,
          -0.16988418840997652,
          -0.2475225188523504,
          -0.21443226224377887,
          -0.13235862614459373,
          -0.09463995531087516,
          -0.05295242998439233,
          -0.14924449049729774,
          -0.1331452752403018,
          -0.2190703533668645,
          -0.27060330989437903,
          0.16817929502491782,
          0.1814069330106018,
          0.15202062269108488,
          0.11781208254771758,
          0.12486700043787913,
          0.1261235586962935,
          0.15857678138403405,
          0.08744400769415403,
          -0.002930428062759107,
          -0.033809534225425146,
          0.07727229026762725,
          0.17805855263591128,
          0.276999940577425,
          0.24568725624958293,
          0.17588465367005307,
          0.17474027439914175,
          0.1978411252635428,
          0.09623454496279168,
          0.05854144250203361,
          0.17578514884910973,
          0.15575823380897968,
          0.019685408640143683,
          -0.14727624053460403,
          -0.15210482620498134
         ]
        },
        {
         "name": "PCA 4",
         "type": "scatter",
         "x": [
          0,
          1,
          2,
          3,
          4,
          5,
          6,
          7,
          8,
          9,
          10,
          11,
          12,
          13,
          14,
          15,
          16,
          17,
          18,
          19,
          20,
          21,
          22,
          23,
          24,
          25,
          26,
          27,
          28,
          29,
          30,
          31,
          32,
          33,
          34,
          35,
          36,
          37,
          38,
          39,
          40,
          41,
          42,
          43,
          44,
          45,
          46,
          47
         ],
         "y": [
          0.13578161039782308,
          0.12506111054923033,
          0.13156607912991064,
          0.1205385084671702,
          0.12612200145632654,
          0.09286058626581552,
          -0.1125611596240612,
          -0.23703281689317407,
          -0.22486925488070827,
          -0.09190186269728753,
          -0.05671297687186155,
          -0.03178745514899418,
          0.08074228832915074,
          0.08279800735414315,
          0.09042198809017876,
          0.16425408210515632,
          0.26084866860915784,
          0.20127530752192552,
          0.12862232559155093,
          0.041047800954247336,
          -0.04928219778674294,
          -0.14975061664005626,
          -0.044691862284307764,
          -0.036194930976580234,
          0.03626485139919031,
          0.035794055145465103,
          0.02650112287780506,
          0.02383297165265724,
          -0.0031608543324683175,
          0.0198206728144261,
          -0.2654061260989403,
          -0.3816764023527352,
          -0.39380310164378174,
          -0.13617039092941569,
          -0.031248870944145298,
          -0.008677119179848368,
          0.0272532772041777,
          0.010131145658407784,
          0.028836765331882893,
          0.16580858994904432,
          0.2750248496613975,
          0.13165024841067138,
          0.08212618926187136,
          -0.017321014998404792,
          -0.08293315757678443,
          -0.11804896311195381,
          -0.024301186246097183,
          -0.16833265588767685
         ]
        }
       ],
       "layout": {
        "template": {
         "data": {
          "bar": [
           {
            "error_x": {
             "color": "#2a3f5f"
            },
            "error_y": {
             "color": "#2a3f5f"
            },
            "marker": {
             "line": {
              "color": "#E5ECF6",
              "width": 0.5
             },
             "pattern": {
              "fillmode": "overlay",
              "size": 10,
              "solidity": 0.2
             }
            },
            "type": "bar"
           }
          ],
          "barpolar": [
           {
            "marker": {
             "line": {
              "color": "#E5ECF6",
              "width": 0.5
             },
             "pattern": {
              "fillmode": "overlay",
              "size": 10,
              "solidity": 0.2
             }
            },
            "type": "barpolar"
           }
          ],
          "carpet": [
           {
            "aaxis": {
             "endlinecolor": "#2a3f5f",
             "gridcolor": "white",
             "linecolor": "white",
             "minorgridcolor": "white",
             "startlinecolor": "#2a3f5f"
            },
            "baxis": {
             "endlinecolor": "#2a3f5f",
             "gridcolor": "white",
             "linecolor": "white",
             "minorgridcolor": "white",
             "startlinecolor": "#2a3f5f"
            },
            "type": "carpet"
           }
          ],
          "choropleth": [
           {
            "colorbar": {
             "outlinewidth": 0,
             "ticks": ""
            },
            "type": "choropleth"
           }
          ],
          "contour": [
           {
            "colorbar": {
             "outlinewidth": 0,
             "ticks": ""
            },
            "colorscale": [
             [
              0,
              "#0d0887"
             ],
             [
              0.1111111111111111,
              "#46039f"
             ],
             [
              0.2222222222222222,
              "#7201a8"
             ],
             [
              0.3333333333333333,
              "#9c179e"
             ],
             [
              0.4444444444444444,
              "#bd3786"
             ],
             [
              0.5555555555555556,
              "#d8576b"
             ],
             [
              0.6666666666666666,
              "#ed7953"
             ],
             [
              0.7777777777777778,
              "#fb9f3a"
             ],
             [
              0.8888888888888888,
              "#fdca26"
             ],
             [
              1,
              "#f0f921"
             ]
            ],
            "type": "contour"
           }
          ],
          "contourcarpet": [
           {
            "colorbar": {
             "outlinewidth": 0,
             "ticks": ""
            },
            "type": "contourcarpet"
           }
          ],
          "heatmap": [
           {
            "colorbar": {
             "outlinewidth": 0,
             "ticks": ""
            },
            "colorscale": [
             [
              0,
              "#0d0887"
             ],
             [
              0.1111111111111111,
              "#46039f"
             ],
             [
              0.2222222222222222,
              "#7201a8"
             ],
             [
              0.3333333333333333,
              "#9c179e"
             ],
             [
              0.4444444444444444,
              "#bd3786"
             ],
             [
              0.5555555555555556,
              "#d8576b"
             ],
             [
              0.6666666666666666,
              "#ed7953"
             ],
             [
              0.7777777777777778,
              "#fb9f3a"
             ],
             [
              0.8888888888888888,
              "#fdca26"
             ],
             [
              1,
              "#f0f921"
             ]
            ],
            "type": "heatmap"
           }
          ],
          "heatmapgl": [
           {
            "colorbar": {
             "outlinewidth": 0,
             "ticks": ""
            },
            "colorscale": [
             [
              0,
              "#0d0887"
             ],
             [
              0.1111111111111111,
              "#46039f"
             ],
             [
              0.2222222222222222,
              "#7201a8"
             ],
             [
              0.3333333333333333,
              "#9c179e"
             ],
             [
              0.4444444444444444,
              "#bd3786"
             ],
             [
              0.5555555555555556,
              "#d8576b"
             ],
             [
              0.6666666666666666,
              "#ed7953"
             ],
             [
              0.7777777777777778,
              "#fb9f3a"
             ],
             [
              0.8888888888888888,
              "#fdca26"
             ],
             [
              1,
              "#f0f921"
             ]
            ],
            "type": "heatmapgl"
           }
          ],
          "histogram": [
           {
            "marker": {
             "pattern": {
              "fillmode": "overlay",
              "size": 10,
              "solidity": 0.2
             }
            },
            "type": "histogram"
           }
          ],
          "histogram2d": [
           {
            "colorbar": {
             "outlinewidth": 0,
             "ticks": ""
            },
            "colorscale": [
             [
              0,
              "#0d0887"
             ],
             [
              0.1111111111111111,
              "#46039f"
             ],
             [
              0.2222222222222222,
              "#7201a8"
             ],
             [
              0.3333333333333333,
              "#9c179e"
             ],
             [
              0.4444444444444444,
              "#bd3786"
             ],
             [
              0.5555555555555556,
              "#d8576b"
             ],
             [
              0.6666666666666666,
              "#ed7953"
             ],
             [
              0.7777777777777778,
              "#fb9f3a"
             ],
             [
              0.8888888888888888,
              "#fdca26"
             ],
             [
              1,
              "#f0f921"
             ]
            ],
            "type": "histogram2d"
           }
          ],
          "histogram2dcontour": [
           {
            "colorbar": {
             "outlinewidth": 0,
             "ticks": ""
            },
            "colorscale": [
             [
              0,
              "#0d0887"
             ],
             [
              0.1111111111111111,
              "#46039f"
             ],
             [
              0.2222222222222222,
              "#7201a8"
             ],
             [
              0.3333333333333333,
              "#9c179e"
             ],
             [
              0.4444444444444444,
              "#bd3786"
             ],
             [
              0.5555555555555556,
              "#d8576b"
             ],
             [
              0.6666666666666666,
              "#ed7953"
             ],
             [
              0.7777777777777778,
              "#fb9f3a"
             ],
             [
              0.8888888888888888,
              "#fdca26"
             ],
             [
              1,
              "#f0f921"
             ]
            ],
            "type": "histogram2dcontour"
           }
          ],
          "mesh3d": [
           {
            "colorbar": {
             "outlinewidth": 0,
             "ticks": ""
            },
            "type": "mesh3d"
           }
          ],
          "parcoords": [
           {
            "line": {
             "colorbar": {
              "outlinewidth": 0,
              "ticks": ""
             }
            },
            "type": "parcoords"
           }
          ],
          "pie": [
           {
            "automargin": true,
            "type": "pie"
           }
          ],
          "scatter": [
           {
            "fillpattern": {
             "fillmode": "overlay",
             "size": 10,
             "solidity": 0.2
            },
            "type": "scatter"
           }
          ],
          "scatter3d": [
           {
            "line": {
             "colorbar": {
              "outlinewidth": 0,
              "ticks": ""
             }
            },
            "marker": {
             "colorbar": {
              "outlinewidth": 0,
              "ticks": ""
             }
            },
            "type": "scatter3d"
           }
          ],
          "scattercarpet": [
           {
            "marker": {
             "colorbar": {
              "outlinewidth": 0,
              "ticks": ""
             }
            },
            "type": "scattercarpet"
           }
          ],
          "scattergeo": [
           {
            "marker": {
             "colorbar": {
              "outlinewidth": 0,
              "ticks": ""
             }
            },
            "type": "scattergeo"
           }
          ],
          "scattergl": [
           {
            "marker": {
             "colorbar": {
              "outlinewidth": 0,
              "ticks": ""
             }
            },
            "type": "scattergl"
           }
          ],
          "scattermapbox": [
           {
            "marker": {
             "colorbar": {
              "outlinewidth": 0,
              "ticks": ""
             }
            },
            "type": "scattermapbox"
           }
          ],
          "scatterpolar": [
           {
            "marker": {
             "colorbar": {
              "outlinewidth": 0,
              "ticks": ""
             }
            },
            "type": "scatterpolar"
           }
          ],
          "scatterpolargl": [
           {
            "marker": {
             "colorbar": {
              "outlinewidth": 0,
              "ticks": ""
             }
            },
            "type": "scatterpolargl"
           }
          ],
          "scatterternary": [
           {
            "marker": {
             "colorbar": {
              "outlinewidth": 0,
              "ticks": ""
             }
            },
            "type": "scatterternary"
           }
          ],
          "surface": [
           {
            "colorbar": {
             "outlinewidth": 0,
             "ticks": ""
            },
            "colorscale": [
             [
              0,
              "#0d0887"
             ],
             [
              0.1111111111111111,
              "#46039f"
             ],
             [
              0.2222222222222222,
              "#7201a8"
             ],
             [
              0.3333333333333333,
              "#9c179e"
             ],
             [
              0.4444444444444444,
              "#bd3786"
             ],
             [
              0.5555555555555556,
              "#d8576b"
             ],
             [
              0.6666666666666666,
              "#ed7953"
             ],
             [
              0.7777777777777778,
              "#fb9f3a"
             ],
             [
              0.8888888888888888,
              "#fdca26"
             ],
             [
              1,
              "#f0f921"
             ]
            ],
            "type": "surface"
           }
          ],
          "table": [
           {
            "cells": {
             "fill": {
              "color": "#EBF0F8"
             },
             "line": {
              "color": "white"
             }
            },
            "header": {
             "fill": {
              "color": "#C8D4E3"
             },
             "line": {
              "color": "white"
             }
            },
            "type": "table"
           }
          ]
         },
         "layout": {
          "annotationdefaults": {
           "arrowcolor": "#2a3f5f",
           "arrowhead": 0,
           "arrowwidth": 1
          },
          "autotypenumbers": "strict",
          "coloraxis": {
           "colorbar": {
            "outlinewidth": 0,
            "ticks": ""
           }
          },
          "colorscale": {
           "diverging": [
            [
             0,
             "#8e0152"
            ],
            [
             0.1,
             "#c51b7d"
            ],
            [
             0.2,
             "#de77ae"
            ],
            [
             0.3,
             "#f1b6da"
            ],
            [
             0.4,
             "#fde0ef"
            ],
            [
             0.5,
             "#f7f7f7"
            ],
            [
             0.6,
             "#e6f5d0"
            ],
            [
             0.7,
             "#b8e186"
            ],
            [
             0.8,
             "#7fbc41"
            ],
            [
             0.9,
             "#4d9221"
            ],
            [
             1,
             "#276419"
            ]
           ],
           "sequential": [
            [
             0,
             "#0d0887"
            ],
            [
             0.1111111111111111,
             "#46039f"
            ],
            [
             0.2222222222222222,
             "#7201a8"
            ],
            [
             0.3333333333333333,
             "#9c179e"
            ],
            [
             0.4444444444444444,
             "#bd3786"
            ],
            [
             0.5555555555555556,
             "#d8576b"
            ],
            [
             0.6666666666666666,
             "#ed7953"
            ],
            [
             0.7777777777777778,
             "#fb9f3a"
            ],
            [
             0.8888888888888888,
             "#fdca26"
            ],
            [
             1,
             "#f0f921"
            ]
           ],
           "sequentialminus": [
            [
             0,
             "#0d0887"
            ],
            [
             0.1111111111111111,
             "#46039f"
            ],
            [
             0.2222222222222222,
             "#7201a8"
            ],
            [
             0.3333333333333333,
             "#9c179e"
            ],
            [
             0.4444444444444444,
             "#bd3786"
            ],
            [
             0.5555555555555556,
             "#d8576b"
            ],
            [
             0.6666666666666666,
             "#ed7953"
            ],
            [
             0.7777777777777778,
             "#fb9f3a"
            ],
            [
             0.8888888888888888,
             "#fdca26"
            ],
            [
             1,
             "#f0f921"
            ]
           ]
          },
          "colorway": [
           "#636efa",
           "#EF553B",
           "#00cc96",
           "#ab63fa",
           "#FFA15A",
           "#19d3f3",
           "#FF6692",
           "#B6E880",
           "#FF97FF",
           "#FECB52"
          ],
          "font": {
           "color": "#2a3f5f"
          },
          "geo": {
           "bgcolor": "white",
           "lakecolor": "white",
           "landcolor": "#E5ECF6",
           "showlakes": true,
           "showland": true,
           "subunitcolor": "white"
          },
          "hoverlabel": {
           "align": "left"
          },
          "hovermode": "closest",
          "mapbox": {
           "style": "light"
          },
          "paper_bgcolor": "white",
          "plot_bgcolor": "#E5ECF6",
          "polar": {
           "angularaxis": {
            "gridcolor": "white",
            "linecolor": "white",
            "ticks": ""
           },
           "bgcolor": "#E5ECF6",
           "radialaxis": {
            "gridcolor": "white",
            "linecolor": "white",
            "ticks": ""
           }
          },
          "scene": {
           "xaxis": {
            "backgroundcolor": "#E5ECF6",
            "gridcolor": "white",
            "gridwidth": 2,
            "linecolor": "white",
            "showbackground": true,
            "ticks": "",
            "zerolinecolor": "white"
           },
           "yaxis": {
            "backgroundcolor": "#E5ECF6",
            "gridcolor": "white",
            "gridwidth": 2,
            "linecolor": "white",
            "showbackground": true,
            "ticks": "",
            "zerolinecolor": "white"
           },
           "zaxis": {
            "backgroundcolor": "#E5ECF6",
            "gridcolor": "white",
            "gridwidth": 2,
            "linecolor": "white",
            "showbackground": true,
            "ticks": "",
            "zerolinecolor": "white"
           }
          },
          "shapedefaults": {
           "line": {
            "color": "#2a3f5f"
           }
          },
          "ternary": {
           "aaxis": {
            "gridcolor": "white",
            "linecolor": "white",
            "ticks": ""
           },
           "baxis": {
            "gridcolor": "white",
            "linecolor": "white",
            "ticks": ""
           },
           "bgcolor": "#E5ECF6",
           "caxis": {
            "gridcolor": "white",
            "linecolor": "white",
            "ticks": ""
           }
          },
          "title": {
           "x": 0.05
          },
          "xaxis": {
           "automargin": true,
           "gridcolor": "white",
           "linecolor": "white",
           "ticks": "",
           "title": {
            "standoff": 15
           },
           "zerolinecolor": "white",
           "zerolinewidth": 2
          },
          "yaxis": {
           "automargin": true,
           "gridcolor": "white",
           "linecolor": "white",
           "ticks": "",
           "title": {
            "standoff": 15
           },
           "zerolinecolor": "white",
           "zerolinewidth": 2
          }
         }
        }
       }
      },
      "text/html": [
       "<div>                            <div id=\"7c47aee8-30f5-419a-a60f-09f2eb2c470e\" class=\"plotly-graph-div\" style=\"height:525px; width:100%;\"></div>            <script type=\"text/javascript\">                require([\"plotly\"], function(Plotly) {                    window.PLOTLYENV=window.PLOTLYENV || {};                                    if (document.getElementById(\"7c47aee8-30f5-419a-a60f-09f2eb2c470e\")) {                    Plotly.newPlot(                        \"7c47aee8-30f5-419a-a60f-09f2eb2c470e\",                        [{\"name\":\"PCA 0\",\"x\":[0,1,2,3,4,5,6,7,8,9,10,11,12,13,14,15,16,17,18,19,20,21,22,23,24,25,26,27,28,29,30,31,32,33,34,35,36,37,38,39,40,41,42,43,44,45,46,47],\"y\":[-0.07455445728329071,-0.07044541422616525,-0.07564735522376664,-0.08336689903430428,-0.08666021215178697,-0.1060344069764669,-0.13266878869957435,-0.16962591966262267,-0.17567190926471588,-0.1634661717921944,-0.17561731330609734,-0.18654758374377323,-0.19539289171105695,-0.2054911365834631,-0.21838045695835837,-0.2086730933478462,-0.18004230036700009,-0.13694961200451408,-0.13438113116706843,-0.13418272807694384,-0.1258014131857549,-0.08657560472682445,-0.07828287870383778,-0.06335302854352529,-0.06352421699903056,-0.06254763456120732,-0.06703515658902835,-0.0723447058741651,-0.07831525582965296,-0.093479935687167,-0.11447072497471066,-0.14866316460543813,-0.17228564960474746,-0.16794819381321466,-0.17075355427175545,-0.18445546147399644,-0.1993163475457936,-0.19581694464802715,-0.2059179584801573,-0.19451136271887018,-0.17357621978424836,-0.1517743269171027,-0.14476617242666268,-0.1543394730759471,-0.1621405339772254,-0.11208502553219953,-0.08424635105110286,-0.07140588724112404],\"type\":\"scatter\"},{\"name\":\"PCA 1\",\"x\":[0,1,2,3,4,5,6,7,8,9,10,11,12,13,14,15,16,17,18,19,20,21,22,23,24,25,26,27,28,29,30,31,32,33,34,35,36,37,38,39,40,41,42,43,44,45,46,47],\"y\":[-0.22051644868405276,-0.18425803931567855,-0.17463403748555192,-0.18168609856049125,-0.17549024039938596,-0.18270120133748316,-0.19846273542538975,-0.1911890256328297,-0.17061576562981595,-0.12063470367228903,-0.04164182044482387,0.006993069574991007,-0.001655498715307932,0.0035643252490473076,0.022685948782036305,0.019041476438089643,-0.004745894515889674,-0.05380028954751671,-0.0009319039892651818,0.055992824892565095,0.14505231246995934,0.17438903376747475,0.10958807661834605,0.07745922643016023,-0.18069372700429864,-0.1730656986892533,-0.16357886406134614,-0.1630819842998714,-0.1677232198511464,-0.1435186715515192,-0.13407516883240478,-0.1164623395957901,-0.10879387348701437,-0.03244749832745425,0.024256946981615436,0.0952193741069117,0.09611768272599026,0.09332023040652362,0.1120035878207665,0.11037089443369359,0.07410723394953093,0.02108178211585814,0.06476618039676446,0.23305078114104538,0.3671344682590148,0.3100580432445352,0.1541866903500454,0.10659344146447257],\"type\":\"scatter\"},{\"name\":\"PCA 2\",\"x\":[0,1,2,3,4,5,6,7,8,9,10,11,12,13,14,15,16,17,18,19,20,21,22,23,24,25,26,27,28,29,30,31,32,33,34,35,36,37,38,39,40,41,42,43,44,45,46,47],\"y\":[0.14456048967659976,0.12866010362730387,0.11338747578975235,0.10763468403081641,0.10692788101990983,0.10454467028167691,-0.012141097450261353,-0.04326946080542986,-0.05893145285335284,-0.08121123402665888,-0.16068456411656032,-0.20223598075386803,-0.18257149170688083,-0.18176380490821498,-0.15510751304872114,-0.12459211923735494,-0.036427798598627506,0.060642522348236444,0.1299260825119474,0.18997075175924583,0.2278254257661771,0.1790975706797085,0.22285525227678055,0.229821482365447,0.1659646269611091,0.1722440021118543,0.16593056831199976,0.17452431912398944,0.1703225903139857,0.15791963066282538,0.05241545068940054,0.015504930271257376,-0.050196575587039924,-0.05977258906023767,-0.10671138070765071,-0.14630659362261886,-0.14412386465825722,-0.17847949455284184,-0.13040516600710847,-0.07175997322509091,-0.0043474207005742465,0.06860476183400724,0.1402625114753698,0.1921916102126259,0.20491271570847813,0.14866186591610211,0.1939729261423336,0.19413705253657101],\"type\":\"scatter\"},{\"name\":\"PCA 3\",\"x\":[0,1,2,3,4,5,6,7,8,9,10,11,12,13,14,15,16,17,18,19,20,21,22,23,24,25,26,27,28,29,30,31,32,33,34,35,36,37,38,39,40,41,42,43,44,45,46,47],\"y\":[0.02019669639914429,0.0030939341279347726,-0.010278919045991649,-0.05151239662065738,-0.047687212656375995,-0.04336162188980883,-0.016132824557393496,-0.043472001375955145,-0.09178679755891828,-0.1581666005117936,-0.1813749870571472,-0.15627179499406454,-0.09415108520327727,-0.110544129234803,-0.16988418840997652,-0.2475225188523504,-0.21443226224377887,-0.13235862614459373,-0.09463995531087516,-0.05295242998439233,-0.14924449049729774,-0.1331452752403018,-0.2190703533668645,-0.27060330989437903,0.16817929502491782,0.1814069330106018,0.15202062269108488,0.11781208254771758,0.12486700043787913,0.1261235586962935,0.15857678138403405,0.08744400769415403,-0.002930428062759107,-0.033809534225425146,0.07727229026762725,0.17805855263591128,0.276999940577425,0.24568725624958293,0.17588465367005307,0.17474027439914175,0.1978411252635428,0.09623454496279168,0.05854144250203361,0.17578514884910973,0.15575823380897968,0.019685408640143683,-0.14727624053460403,-0.15210482620498134],\"type\":\"scatter\"},{\"name\":\"PCA 4\",\"x\":[0,1,2,3,4,5,6,7,8,9,10,11,12,13,14,15,16,17,18,19,20,21,22,23,24,25,26,27,28,29,30,31,32,33,34,35,36,37,38,39,40,41,42,43,44,45,46,47],\"y\":[0.13578161039782308,0.12506111054923033,0.13156607912991064,0.1205385084671702,0.12612200145632654,0.09286058626581552,-0.1125611596240612,-0.23703281689317407,-0.22486925488070827,-0.09190186269728753,-0.05671297687186155,-0.03178745514899418,0.08074228832915074,0.08279800735414315,0.09042198809017876,0.16425408210515632,0.26084866860915784,0.20127530752192552,0.12862232559155093,0.041047800954247336,-0.04928219778674294,-0.14975061664005626,-0.044691862284307764,-0.036194930976580234,0.03626485139919031,0.035794055145465103,0.02650112287780506,0.02383297165265724,-0.0031608543324683175,0.0198206728144261,-0.2654061260989403,-0.3816764023527352,-0.39380310164378174,-0.13617039092941569,-0.031248870944145298,-0.008677119179848368,0.0272532772041777,0.010131145658407784,0.028836765331882893,0.16580858994904432,0.2750248496613975,0.13165024841067138,0.08212618926187136,-0.017321014998404792,-0.08293315757678443,-0.11804896311195381,-0.024301186246097183,-0.16833265588767685],\"type\":\"scatter\"}],                        {\"template\":{\"data\":{\"histogram2dcontour\":[{\"type\":\"histogram2dcontour\",\"colorbar\":{\"outlinewidth\":0,\"ticks\":\"\"},\"colorscale\":[[0.0,\"#0d0887\"],[0.1111111111111111,\"#46039f\"],[0.2222222222222222,\"#7201a8\"],[0.3333333333333333,\"#9c179e\"],[0.4444444444444444,\"#bd3786\"],[0.5555555555555556,\"#d8576b\"],[0.6666666666666666,\"#ed7953\"],[0.7777777777777778,\"#fb9f3a\"],[0.8888888888888888,\"#fdca26\"],[1.0,\"#f0f921\"]]}],\"choropleth\":[{\"type\":\"choropleth\",\"colorbar\":{\"outlinewidth\":0,\"ticks\":\"\"}}],\"histogram2d\":[{\"type\":\"histogram2d\",\"colorbar\":{\"outlinewidth\":0,\"ticks\":\"\"},\"colorscale\":[[0.0,\"#0d0887\"],[0.1111111111111111,\"#46039f\"],[0.2222222222222222,\"#7201a8\"],[0.3333333333333333,\"#9c179e\"],[0.4444444444444444,\"#bd3786\"],[0.5555555555555556,\"#d8576b\"],[0.6666666666666666,\"#ed7953\"],[0.7777777777777778,\"#fb9f3a\"],[0.8888888888888888,\"#fdca26\"],[1.0,\"#f0f921\"]]}],\"heatmap\":[{\"type\":\"heatmap\",\"colorbar\":{\"outlinewidth\":0,\"ticks\":\"\"},\"colorscale\":[[0.0,\"#0d0887\"],[0.1111111111111111,\"#46039f\"],[0.2222222222222222,\"#7201a8\"],[0.3333333333333333,\"#9c179e\"],[0.4444444444444444,\"#bd3786\"],[0.5555555555555556,\"#d8576b\"],[0.6666666666666666,\"#ed7953\"],[0.7777777777777778,\"#fb9f3a\"],[0.8888888888888888,\"#fdca26\"],[1.0,\"#f0f921\"]]}],\"heatmapgl\":[{\"type\":\"heatmapgl\",\"colorbar\":{\"outlinewidth\":0,\"ticks\":\"\"},\"colorscale\":[[0.0,\"#0d0887\"],[0.1111111111111111,\"#46039f\"],[0.2222222222222222,\"#7201a8\"],[0.3333333333333333,\"#9c179e\"],[0.4444444444444444,\"#bd3786\"],[0.5555555555555556,\"#d8576b\"],[0.6666666666666666,\"#ed7953\"],[0.7777777777777778,\"#fb9f3a\"],[0.8888888888888888,\"#fdca26\"],[1.0,\"#f0f921\"]]}],\"contourcarpet\":[{\"type\":\"contourcarpet\",\"colorbar\":{\"outlinewidth\":0,\"ticks\":\"\"}}],\"contour\":[{\"type\":\"contour\",\"colorbar\":{\"outlinewidth\":0,\"ticks\":\"\"},\"colorscale\":[[0.0,\"#0d0887\"],[0.1111111111111111,\"#46039f\"],[0.2222222222222222,\"#7201a8\"],[0.3333333333333333,\"#9c179e\"],[0.4444444444444444,\"#bd3786\"],[0.5555555555555556,\"#d8576b\"],[0.6666666666666666,\"#ed7953\"],[0.7777777777777778,\"#fb9f3a\"],[0.8888888888888888,\"#fdca26\"],[1.0,\"#f0f921\"]]}],\"surface\":[{\"type\":\"surface\",\"colorbar\":{\"outlinewidth\":0,\"ticks\":\"\"},\"colorscale\":[[0.0,\"#0d0887\"],[0.1111111111111111,\"#46039f\"],[0.2222222222222222,\"#7201a8\"],[0.3333333333333333,\"#9c179e\"],[0.4444444444444444,\"#bd3786\"],[0.5555555555555556,\"#d8576b\"],[0.6666666666666666,\"#ed7953\"],[0.7777777777777778,\"#fb9f3a\"],[0.8888888888888888,\"#fdca26\"],[1.0,\"#f0f921\"]]}],\"mesh3d\":[{\"type\":\"mesh3d\",\"colorbar\":{\"outlinewidth\":0,\"ticks\":\"\"}}],\"scatter\":[{\"fillpattern\":{\"fillmode\":\"overlay\",\"size\":10,\"solidity\":0.2},\"type\":\"scatter\"}],\"parcoords\":[{\"type\":\"parcoords\",\"line\":{\"colorbar\":{\"outlinewidth\":0,\"ticks\":\"\"}}}],\"scatterpolargl\":[{\"type\":\"scatterpolargl\",\"marker\":{\"colorbar\":{\"outlinewidth\":0,\"ticks\":\"\"}}}],\"bar\":[{\"error_x\":{\"color\":\"#2a3f5f\"},\"error_y\":{\"color\":\"#2a3f5f\"},\"marker\":{\"line\":{\"color\":\"#E5ECF6\",\"width\":0.5},\"pattern\":{\"fillmode\":\"overlay\",\"size\":10,\"solidity\":0.2}},\"type\":\"bar\"}],\"scattergeo\":[{\"type\":\"scattergeo\",\"marker\":{\"colorbar\":{\"outlinewidth\":0,\"ticks\":\"\"}}}],\"scatterpolar\":[{\"type\":\"scatterpolar\",\"marker\":{\"colorbar\":{\"outlinewidth\":0,\"ticks\":\"\"}}}],\"histogram\":[{\"marker\":{\"pattern\":{\"fillmode\":\"overlay\",\"size\":10,\"solidity\":0.2}},\"type\":\"histogram\"}],\"scattergl\":[{\"type\":\"scattergl\",\"marker\":{\"colorbar\":{\"outlinewidth\":0,\"ticks\":\"\"}}}],\"scatter3d\":[{\"type\":\"scatter3d\",\"line\":{\"colorbar\":{\"outlinewidth\":0,\"ticks\":\"\"}},\"marker\":{\"colorbar\":{\"outlinewidth\":0,\"ticks\":\"\"}}}],\"scattermapbox\":[{\"type\":\"scattermapbox\",\"marker\":{\"colorbar\":{\"outlinewidth\":0,\"ticks\":\"\"}}}],\"scatterternary\":[{\"type\":\"scatterternary\",\"marker\":{\"colorbar\":{\"outlinewidth\":0,\"ticks\":\"\"}}}],\"scattercarpet\":[{\"type\":\"scattercarpet\",\"marker\":{\"colorbar\":{\"outlinewidth\":0,\"ticks\":\"\"}}}],\"carpet\":[{\"aaxis\":{\"endlinecolor\":\"#2a3f5f\",\"gridcolor\":\"white\",\"linecolor\":\"white\",\"minorgridcolor\":\"white\",\"startlinecolor\":\"#2a3f5f\"},\"baxis\":{\"endlinecolor\":\"#2a3f5f\",\"gridcolor\":\"white\",\"linecolor\":\"white\",\"minorgridcolor\":\"white\",\"startlinecolor\":\"#2a3f5f\"},\"type\":\"carpet\"}],\"table\":[{\"cells\":{\"fill\":{\"color\":\"#EBF0F8\"},\"line\":{\"color\":\"white\"}},\"header\":{\"fill\":{\"color\":\"#C8D4E3\"},\"line\":{\"color\":\"white\"}},\"type\":\"table\"}],\"barpolar\":[{\"marker\":{\"line\":{\"color\":\"#E5ECF6\",\"width\":0.5},\"pattern\":{\"fillmode\":\"overlay\",\"size\":10,\"solidity\":0.2}},\"type\":\"barpolar\"}],\"pie\":[{\"automargin\":true,\"type\":\"pie\"}]},\"layout\":{\"autotypenumbers\":\"strict\",\"colorway\":[\"#636efa\",\"#EF553B\",\"#00cc96\",\"#ab63fa\",\"#FFA15A\",\"#19d3f3\",\"#FF6692\",\"#B6E880\",\"#FF97FF\",\"#FECB52\"],\"font\":{\"color\":\"#2a3f5f\"},\"hovermode\":\"closest\",\"hoverlabel\":{\"align\":\"left\"},\"paper_bgcolor\":\"white\",\"plot_bgcolor\":\"#E5ECF6\",\"polar\":{\"bgcolor\":\"#E5ECF6\",\"angularaxis\":{\"gridcolor\":\"white\",\"linecolor\":\"white\",\"ticks\":\"\"},\"radialaxis\":{\"gridcolor\":\"white\",\"linecolor\":\"white\",\"ticks\":\"\"}},\"ternary\":{\"bgcolor\":\"#E5ECF6\",\"aaxis\":{\"gridcolor\":\"white\",\"linecolor\":\"white\",\"ticks\":\"\"},\"baxis\":{\"gridcolor\":\"white\",\"linecolor\":\"white\",\"ticks\":\"\"},\"caxis\":{\"gridcolor\":\"white\",\"linecolor\":\"white\",\"ticks\":\"\"}},\"coloraxis\":{\"colorbar\":{\"outlinewidth\":0,\"ticks\":\"\"}},\"colorscale\":{\"sequential\":[[0.0,\"#0d0887\"],[0.1111111111111111,\"#46039f\"],[0.2222222222222222,\"#7201a8\"],[0.3333333333333333,\"#9c179e\"],[0.4444444444444444,\"#bd3786\"],[0.5555555555555556,\"#d8576b\"],[0.6666666666666666,\"#ed7953\"],[0.7777777777777778,\"#fb9f3a\"],[0.8888888888888888,\"#fdca26\"],[1.0,\"#f0f921\"]],\"sequentialminus\":[[0.0,\"#0d0887\"],[0.1111111111111111,\"#46039f\"],[0.2222222222222222,\"#7201a8\"],[0.3333333333333333,\"#9c179e\"],[0.4444444444444444,\"#bd3786\"],[0.5555555555555556,\"#d8576b\"],[0.6666666666666666,\"#ed7953\"],[0.7777777777777778,\"#fb9f3a\"],[0.8888888888888888,\"#fdca26\"],[1.0,\"#f0f921\"]],\"diverging\":[[0,\"#8e0152\"],[0.1,\"#c51b7d\"],[0.2,\"#de77ae\"],[0.3,\"#f1b6da\"],[0.4,\"#fde0ef\"],[0.5,\"#f7f7f7\"],[0.6,\"#e6f5d0\"],[0.7,\"#b8e186\"],[0.8,\"#7fbc41\"],[0.9,\"#4d9221\"],[1,\"#276419\"]]},\"xaxis\":{\"gridcolor\":\"white\",\"linecolor\":\"white\",\"ticks\":\"\",\"title\":{\"standoff\":15},\"zerolinecolor\":\"white\",\"automargin\":true,\"zerolinewidth\":2},\"yaxis\":{\"gridcolor\":\"white\",\"linecolor\":\"white\",\"ticks\":\"\",\"title\":{\"standoff\":15},\"zerolinecolor\":\"white\",\"automargin\":true,\"zerolinewidth\":2},\"scene\":{\"xaxis\":{\"backgroundcolor\":\"#E5ECF6\",\"gridcolor\":\"white\",\"linecolor\":\"white\",\"showbackground\":true,\"ticks\":\"\",\"zerolinecolor\":\"white\",\"gridwidth\":2},\"yaxis\":{\"backgroundcolor\":\"#E5ECF6\",\"gridcolor\":\"white\",\"linecolor\":\"white\",\"showbackground\":true,\"ticks\":\"\",\"zerolinecolor\":\"white\",\"gridwidth\":2},\"zaxis\":{\"backgroundcolor\":\"#E5ECF6\",\"gridcolor\":\"white\",\"linecolor\":\"white\",\"showbackground\":true,\"ticks\":\"\",\"zerolinecolor\":\"white\",\"gridwidth\":2}},\"shapedefaults\":{\"line\":{\"color\":\"#2a3f5f\"}},\"annotationdefaults\":{\"arrowcolor\":\"#2a3f5f\",\"arrowhead\":0,\"arrowwidth\":1},\"geo\":{\"bgcolor\":\"white\",\"landcolor\":\"#E5ECF6\",\"subunitcolor\":\"white\",\"showland\":true,\"showlakes\":true,\"lakecolor\":\"white\"},\"title\":{\"x\":0.05},\"mapbox\":{\"style\":\"light\"}}}},                        {\"responsive\": true}                    ).then(function(){\n",
       "                            \n",
       "var gd = document.getElementById('7c47aee8-30f5-419a-a60f-09f2eb2c470e');\n",
       "var x = new MutationObserver(function (mutations, observer) {{\n",
       "        var display = window.getComputedStyle(gd).display;\n",
       "        if (!display || display === 'none') {{\n",
       "            console.log([gd, 'removed!']);\n",
       "            Plotly.purge(gd);\n",
       "            observer.disconnect();\n",
       "        }}\n",
       "}});\n",
       "\n",
       "// Listen for the removal of the full notebook cells\n",
       "var notebookContainer = gd.closest('#notebook-container');\n",
       "if (notebookContainer) {{\n",
       "    x.observe(notebookContainer, {childList: true});\n",
       "}}\n",
       "\n",
       "// Listen for the clearing of the current output cell\n",
       "var outputEl = gd.closest('.output');\n",
       "if (outputEl) {{\n",
       "    x.observe(outputEl, {childList: true});\n",
       "}}\n",
       "\n",
       "                        })                };                });            </script>        </div>"
      ]
     },
     "metadata": {},
     "output_type": "display_data"
    }
   ],
   "source": [
    "traces = []\n",
    "for i in range(pca.components_.shape[0]):\n",
    "    y = pca.components_[i].tolist()\n",
    "    trace = {**template_trace, \"y\": y, \"name\": f\"PCA {i}\"}\n",
    "    traces.append(trace)\n",
    "go.Figure(traces)"
   ]
  }
 ],
 "metadata": {
  "kernelspec": {
   "display_name": "Python 3 (ipykernel)",
   "language": "python",
   "name": "python3"
  },
  "language_info": {
   "codemirror_mode": {
    "name": "ipython",
    "version": 3
   },
   "file_extension": ".py",
   "mimetype": "text/x-python",
   "name": "python",
   "nbconvert_exporter": "python",
   "pygments_lexer": "ipython3",
   "version": "3.10.9"
  }
 },
 "nbformat": 4,
 "nbformat_minor": 5
}
