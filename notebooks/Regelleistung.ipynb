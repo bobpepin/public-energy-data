{
 "cells": [
  {
   "cell_type": "code",
   "execution_count": null,
   "id": "0920f716",
   "metadata": {},
   "outputs": [],
   "source": [
    "import urllib.request\n",
    "import io\n",
    "import openpyxl\n",
    "import sqltables.sqlite3\n",
    "import plotly.graph_objs as go"
   ]
  },
  {
   "cell_type": "code",
   "execution_count": null,
   "id": "a8b59304",
   "metadata": {},
   "outputs": [],
   "source": [
    "db = sqltables.sqlite3.Database()"
   ]
  },
  {
   "cell_type": "code",
   "execution_count": null,
   "id": "57dedfcd",
   "metadata": {},
   "outputs": [],
   "source": [
    "def fetch_date(date):\n",
    "    url = f\"https://www.regelleistung.net/apps/cpp-publisher/api/v1/download/tenders/anonymousresults?date={date}&exportFormat=xlsx&market=CAPACITY&productTypes=FCR\"\n",
    "    with urllib.request.urlopen(url) as fh:\n",
    "        byte_data = fh.read()\n",
    "    buf = io.BytesIO(byte_data)\n",
    "    wb = openpyxl.open(buf)\n",
    "    [header, *data] = wb.active.values\n",
    "    return header, data"
   ]
  },
  {
   "cell_type": "code",
   "execution_count": null,
   "id": "498c6c27",
   "metadata": {},
   "outputs": [],
   "source": [
    "all_dates = [f\"{y}-{m:02d}-01\" for y in [\"2022\", \"2023\"] for m in range(1, 13)]"
   ]
  },
  {
   "cell_type": "code",
   "execution_count": null,
   "id": "574198a9",
   "metadata": {},
   "outputs": [],
   "source": [
    "import calendar\n",
    "cal = calendar.Calendar()\n",
    "all_dates = [w[0].isoformat() for y in [2020, 2021, 2022, 2023] for m in range(1, 13) for w in cal.monthdatescalendar(y, m)]\n",
    "all_dates"
   ]
  },
  {
   "cell_type": "code",
   "execution_count": null,
   "id": "fb01cdf7",
   "metadata": {},
   "outputs": [],
   "source": [
    "dates = [x for x in all_dates if x <= \"2023-06-15\" and x > \"2020-06-15\"]\n",
    "dates"
   ]
  },
  {
   "cell_type": "code",
   "execution_count": null,
   "id": "ef33a90c",
   "metadata": {},
   "outputs": [],
   "source": [
    "from tqdm.notebook import tqdm\n",
    "date_tables = {}\n",
    "for date in tqdm(dates):\n",
    "    if date in date_tables:\n",
    "        continue\n",
    "    header, rows = fetch_date(date)\n",
    "    date_tables[date] = db.create_table(column_names=header, rows=rows)"
   ]
  },
  {
   "cell_type": "code",
   "execution_count": null,
   "id": "ea43ef00",
   "metadata": {},
   "outputs": [],
   "source": [
    "def merge_tables(table1, table2=None):\n",
    "    if table2 is None:\n",
    "        return table1\n",
    "    col1 = iter(table1).column_names\n",
    "    col2 = iter(table2).column_names\n",
    "    columns = [c for c in col1 if c in col2]\n",
    "    column_str = \",\".join(db.quote_name(c) for c in columns)\n",
    "    return table1.table(f\"\"\"select {column_str} from _ union select {column_str} from _2\"\"\", bindings={\"_2\": table2})"
   ]
  },
  {
   "cell_type": "code",
   "execution_count": null,
   "id": "7ab3e7d9",
   "metadata": {},
   "outputs": [],
   "source": [
    "from functools import reduce"
   ]
  },
  {
   "cell_type": "code",
   "execution_count": null,
   "id": "ba23b2c4",
   "metadata": {},
   "outputs": [],
   "source": [
    "offers = reduce(merge_tables, tqdm(date_tables.values()))"
   ]
  },
  {
   "cell_type": "code",
   "execution_count": null,
   "id": "828effab",
   "metadata": {},
   "outputs": [],
   "source": [
    "# offers = merge_tables(date_tables[dates[0]], date_tables[dates[1]])"
   ]
  },
  {
   "cell_type": "code",
   "execution_count": null,
   "id": "19038aed",
   "metadata": {},
   "outputs": [],
   "source": [
    "all_keys = offers.view(\"\"\"select distinct date_from, type_of_reserves, product from _\"\"\")\n",
    "all_keys"
   ]
  },
  {
   "cell_type": "code",
   "execution_count": null,
   "id": "52fc5ace",
   "metadata": {},
   "outputs": [],
   "source": [
    "keys = all_keys.view(\"\"\"select * from _ where product = 'NEGPOS_08_12'\"\"\")"
   ]
  },
  {
   "cell_type": "code",
   "execution_count": null,
   "id": "f234e8dc",
   "metadata": {},
   "outputs": [],
   "source": [
    "marginal_curves = {}\n",
    "for k in keys:\n",
    "    product_offers = offers.table(\"\"\" select * from _ where product = ? and date_from = ?\"\"\", parameters=[k.PRODUCT, k.DATE_FROM])\n",
    "    marginal_curve = product_offers.view(\"\"\"\n",
    "select\n",
    "    sum(\"OFFERED_CAPACITY_[MW]\") over \n",
    "        (order by \"OFFERED_CAPACITY_PRICE_[EUR/MW]\" rows between unbounded preceding and current row) as marginal_capacity,\n",
    "    \"OFFERED_CAPACITY_PRICE_[EUR/MW]\"\n",
    "from _\n",
    "\"\"\")\n",
    "    marginal_curves[k] = marginal_curve"
   ]
  },
  {
   "cell_type": "code",
   "execution_count": null,
   "id": "aedf7fb3",
   "metadata": {},
   "outputs": [],
   "source": [
    "import math\n",
    "import datetime\n",
    "traces = []\n",
    "N = len(marginal_curves)\n",
    "for i, (k, marginal_curve) in enumerate(marginal_curves.items()):\n",
    "    [x, y] = zip(*marginal_curve)\n",
    "    grey = int(255*(1-i/N))\n",
    "    traces.append({\"x\": x, \"y\": y, \"name\": \",\".join(k),\n",
    "#                    \"line\": {\"shape\": \"hv\"}\n",
    "#                    \"line\": {\"color\": f\"rgb({grey}, {grey}, {grey})\"}"
   ]
  },
  {
   "cell_type": "code",
   "execution_count": null,
   "id": "a54cc980",
   "metadata": {},
   "outputs": [],
   "source": [
    "import math\n",
    "import datetime\n",
    "traces = []\n",
    "N = len(marginal_curves)\n",
    "for i, (k, marginal_curve) in enumerate(marginal_curves.items()):\n",
    "    [x, y] = zip(*marginal_curve)\n",
    "    grey = int(255*(1-i/N))\n",
    "    traces.append({\"x\": x, \"y\": y, \"name\": \",\".join(k),\n",
    "#                    \"line\": {\"shape\": \"hv\"}\n",
    "#                    \"line\": {\"color\": f\"rgb({grey}, {grey}, {grey})\"}\n",
    "                  })"
   ]
  },
  {
   "cell_type": "code",
   "execution_count": null,
   "id": "ad1e1a34",
   "metadata": {
    "scrolled": false
   },
   "outputs": [],
   "source": [
    "layout = {\n",
    "    \"updatemenus\": [dict(\n",
    "            type=\"buttons\",\n",
    "            x=-0.15,\n",
    "            buttons=[dict(label=\"Play\",\n",
    "                          method=\"animate\",\n",
    "                          args=[None]),\n",
    "                     dict(label=\"Pause\",\n",
    "                          method=\"animate\",\n",
    "                          args=[None,\n",
    "                               {\"frame\": {\"duration\": 0, \"redraw\": True},\n",
    "                                \"mode\": \"immediate\",\n",
    "                                \"transition\": {\"duration\": 0}}],\n",
    "                         )])],\n",
    "    \"plot_bgcolor\": \"white\",\n",
    "    \"showlegend\": False,\n",
    "    \"yaxis\": {\"range\": [0, 300], \"title\": \"EUR\", \"gridcolor\": \"#f2f2f2\", \"gridwidth\": 1, \"linecolor\": \"#f2f2f2\", \"linewidth\": 1},\n",
    "    \"xaxis\": {\"range\": [0, 1500], \"title\": \"MW\", \"gridcolor\": \"#f2f2f2\", \"gridwidth\": 1, \"linecolor\": \"#f2f2f2\", \"linewidth\": 1},\n",
    "#     \"title\": {\"x\": 0.4, \"y\": 0.4, \"text\": \"\"}\n",
    "    \"title\": {\"x\": 0.5, \"y\": 0.9, \"text\": \"\"}\n",
    "}\n",
    "empty_traces = [{\"x\": [], \"y\": [], \"name\": t[\"name\"]} for t in traces]\n",
    "frames = []\n",
    "for i in range(1, len(traces)+1):\n",
    "    frame_traces = [{**t} for t in traces[:i]]\n",
    "    for k, trace in enumerate(frame_traces):\n",
    "        j = i - k - 1\n",
    "        val = (1-math.exp(-15*j/N))\n",
    "        grey = int(255*(1-math.exp(-8*j/N)))\n",
    "#         trace.setdefault(\"line\", {})[\"color\"] = f\"rgb({grey}, {grey}, {grey})\"\n",
    "        trace.setdefault(\"line\", {})[\"color\"] = f\"#2f3eea\"\n",
    "        trace[\"opacity\"] = max(0.05, 1-val)\n",
    "    frame_dt = datetime.datetime.fromisoformat(frame_traces[-1][\"name\"][:10])\n",
    "    frame_title = frame_dt.strftime(\"%A,\\n%d %B %Y\")\n",
    "    frames.append({\"data\": frame_traces, \"layout\": {\"title\": {\"text\": frame_title}}})\n",
    "layout[\"title\"][\"text\"] = frames[0][\"layout\"][\"title\"][\"text\"]\n",
    "go.Figure(data=empty_traces, layout=layout, frames=frames)"
   ]
  },
  {
   "cell_type": "code",
   "execution_count": null,
   "id": "535f3e08",
   "metadata": {},
   "outputs": [],
   "source": []
  }
 ],
 "metadata": {
  "kernelspec": {
   "display_name": "Python 3 (ipykernel)",
   "language": "python",
   "name": "python3"
  },
  "language_info": {
   "codemirror_mode": {
    "name": "ipython",
    "version": 3
   },
   "file_extension": ".py",
   "mimetype": "text/x-python",
   "name": "python",
   "nbconvert_exporter": "python",
   "pygments_lexer": "ipython3",
   "version": "3.10.9"
  }
 },
 "nbformat": 4,
 "nbformat_minor": 5
}
