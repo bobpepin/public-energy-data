{
 "cells": [
  {
   "cell_type": "code",
   "execution_count": 1,
   "id": "06df8ab9",
   "metadata": {},
   "outputs": [],
   "source": [
    "import sys\n",
    "sys.path.append(\"..\")\n",
    "\n",
    "from itertools import islice\n",
    "\n",
    "import importlib\n",
    "from energydata import energinet\n",
    "energinet = importlib.reload(energinet)"
   ]
  },
  {
   "cell_type": "code",
   "execution_count": 2,
   "id": "2e90da16",
   "metadata": {},
   "outputs": [],
   "source": [
    "descriptor = {\n",
    "    \"dataset\": \"ConsumptionIndustry\",\n",
    "    \"start_datetime\": \"2021-09-01T00:00:00\",\n",
    "    \"end_datetime\": \"2021-10-01T00:00:00\"\n",
    "}"
   ]
  },
  {
   "cell_type": "code",
   "execution_count": 5,
   "id": "13c1d49e",
   "metadata": {},
   "outputs": [],
   "source": [
    "session = energinet.EnergiDataServiceDk(descriptor)"
   ]
  },
  {
   "cell_type": "code",
   "execution_count": 6,
   "id": "f8d5dfa8",
   "metadata": {},
   "outputs": [
    {
     "data": {
      "text/plain": [
       "{'fields': ['HourUTC',\n",
       "  'HourDK',\n",
       "  'MunicipalityNo',\n",
       "  'Branche',\n",
       "  'ConsumptionkWh',\n",
       "  'datetime_start',\n",
       "  'datetime_end',\n",
       "  'region_code',\n",
       "  'consumption'],\n",
       " 'total': 211680}"
      ]
     },
     "execution_count": 6,
     "metadata": {},
     "output_type": "execute_result"
    }
   ],
   "source": [
    "session.fetch_metadata()"
   ]
  },
  {
   "cell_type": "code",
   "execution_count": 7,
   "id": "fb6eea1d",
   "metadata": {},
   "outputs": [],
   "source": [
    "records = list(session.fetch_data())"
   ]
  },
  {
   "cell_type": "code",
   "execution_count": 8,
   "id": "e0b5f2cc",
   "metadata": {},
   "outputs": [
    {
     "data": {
      "text/plain": [
       "[{'HourUTC': '2021-09-30T21:00:00',\n",
       "  'HourDK': '2021-09-30T23:00:00',\n",
       "  'MunicipalityNo': '101',\n",
       "  'Branche': 'Erhverv',\n",
       "  'ConsumptionkWh': 143261.390625,\n",
       "  'datetime_start': '2021-09-30T23:00:00+02:00',\n",
       "  'datetime_end': '2021-10-01T00:00:00+02:00',\n",
       "  'region_code': 'dk_mun_101',\n",
       "  'consumption': 143.261390625},\n",
       " {'HourUTC': '2021-09-30T21:00:00',\n",
       "  'HourDK': '2021-09-30T23:00:00',\n",
       "  'MunicipalityNo': '101',\n",
       "  'Branche': 'Offentligt',\n",
       "  'ConsumptionkWh': 28023.46875,\n",
       "  'datetime_start': '2021-09-30T23:00:00+02:00',\n",
       "  'datetime_end': '2021-10-01T00:00:00+02:00',\n",
       "  'region_code': 'dk_mun_101',\n",
       "  'consumption': 28.02346875},\n",
       " {'HourUTC': '2021-09-30T21:00:00',\n",
       "  'HourDK': '2021-09-30T23:00:00',\n",
       "  'MunicipalityNo': '101',\n",
       "  'Branche': 'Privat',\n",
       "  'ConsumptionkWh': 49147.417969,\n",
       "  'datetime_start': '2021-09-30T23:00:00+02:00',\n",
       "  'datetime_end': '2021-10-01T00:00:00+02:00',\n",
       "  'region_code': 'dk_mun_101',\n",
       "  'consumption': 49.147417969},\n",
       " {'HourUTC': '2021-09-30T21:00:00',\n",
       "  'HourDK': '2021-09-30T23:00:00',\n",
       "  'MunicipalityNo': '147',\n",
       "  'Branche': 'Erhverv',\n",
       "  'ConsumptionkWh': 13474.136719,\n",
       "  'datetime_start': '2021-09-30T23:00:00+02:00',\n",
       "  'datetime_end': '2021-10-01T00:00:00+02:00',\n",
       "  'region_code': 'dk_mun_147',\n",
       "  'consumption': 13.474136719},\n",
       " {'HourUTC': '2021-09-30T21:00:00',\n",
       "  'HourDK': '2021-09-30T23:00:00',\n",
       "  'MunicipalityNo': '147',\n",
       "  'Branche': 'Offentligt',\n",
       "  'ConsumptionkWh': 4019.238037,\n",
       "  'datetime_start': '2021-09-30T23:00:00+02:00',\n",
       "  'datetime_end': '2021-10-01T00:00:00+02:00',\n",
       "  'region_code': 'dk_mun_147',\n",
       "  'consumption': 4.019238037}]"
      ]
     },
     "execution_count": 8,
     "metadata": {},
     "output_type": "execute_result"
    }
   ],
   "source": [
    "records[:5]"
   ]
  },
  {
   "cell_type": "code",
   "execution_count": 9,
   "id": "49b32db4",
   "metadata": {},
   "outputs": [],
   "source": [
    "descriptor = {\n",
    "    \"dataset\": \"CommunityProduction\",\n",
    "    \"start_datetime\": \"2021-09-01\",\n",
    "    \"end_datetime\": \"2021-11-01\"\n",
    "}"
   ]
  },
  {
   "cell_type": "code",
   "execution_count": 10,
   "id": "db32717a",
   "metadata": {},
   "outputs": [],
   "source": [
    "session = energinet.EnergiDataServiceDk(descriptor)"
   ]
  },
  {
   "cell_type": "code",
   "execution_count": 11,
   "id": "e74a4d69",
   "metadata": {},
   "outputs": [
    {
     "data": {
      "text/plain": [
       "{'fields': ['Month',\n",
       "  'MunicipalityNo',\n",
       "  'OnshoreWindPower',\n",
       "  'OffshoreWindPower',\n",
       "  'SolarPower',\n",
       "  'CentralPower',\n",
       "  'DecentralPower',\n",
       "  'region_code',\n",
       "  'production_thermal',\n",
       "  'production_solar',\n",
       "  'production_wind_offshore',\n",
       "  'production_wind_onshore'],\n",
       " 'total': 200}"
      ]
     },
     "execution_count": 11,
     "metadata": {},
     "output_type": "execute_result"
    }
   ],
   "source": [
    "session.fetch_metadata()"
   ]
  },
  {
   "cell_type": "code",
   "execution_count": 12,
   "id": "1cef0bda",
   "metadata": {},
   "outputs": [],
   "source": [
    "records = list(session.fetch_data())"
   ]
  },
  {
   "cell_type": "code",
   "execution_count": 13,
   "id": "45017d11",
   "metadata": {},
   "outputs": [
    {
     "data": {
      "text/plain": [
       "[{'Month': '2021-10-01T00:00:00',\n",
       "  'MunicipalityNo': '101',\n",
       "  'OnshoreWindPower': 1471.908569,\n",
       "  'OffshoreWindPower': 7142.335938,\n",
       "  'SolarPower': 778.58197,\n",
       "  'CentralPower': 0.0,\n",
       "  'DecentralPower': 115045.304688,\n",
       "  'region_code': 'dk_mun_101',\n",
       "  'production_thermal': 115045.304688,\n",
       "  'production_solar': 778.58197,\n",
       "  'production_wind_offshore': 7142.335938,\n",
       "  'production_wind_onshore': 1471.908569},\n",
       " {'Month': '2021-10-01T00:00:00',\n",
       "  'MunicipalityNo': '147',\n",
       "  'OnshoreWindPower': None,\n",
       "  'OffshoreWindPower': None,\n",
       "  'SolarPower': 75.202003,\n",
       "  'CentralPower': 0.0,\n",
       "  'DecentralPower': 0.0,\n",
       "  'region_code': 'dk_mun_147',\n",
       "  'production_thermal': 0.0,\n",
       "  'production_solar': 75.202003,\n",
       "  'production_wind_offshore': None,\n",
       "  'production_wind_onshore': None},\n",
       " {'Month': '2021-10-01T00:00:00',\n",
       "  'MunicipalityNo': '151',\n",
       "  'OnshoreWindPower': None,\n",
       "  'OffshoreWindPower': None,\n",
       "  'SolarPower': 248.393005,\n",
       "  'CentralPower': 0.0,\n",
       "  'DecentralPower': 62.16188,\n",
       "  'region_code': 'dk_mun_151',\n",
       "  'production_thermal': 62.16188,\n",
       "  'production_solar': 248.393005,\n",
       "  'production_wind_offshore': None,\n",
       "  'production_wind_onshore': None},\n",
       " {'Month': '2021-10-01T00:00:00',\n",
       "  'MunicipalityNo': '153',\n",
       "  'OnshoreWindPower': None,\n",
       "  'OffshoreWindPower': None,\n",
       "  'SolarPower': 127.490997,\n",
       "  'CentralPower': 0.0,\n",
       "  'DecentralPower': 0.01585,\n",
       "  'region_code': 'dk_mun_153',\n",
       "  'production_thermal': 0.01585,\n",
       "  'production_solar': 127.490997,\n",
       "  'production_wind_offshore': None,\n",
       "  'production_wind_onshore': None},\n",
       " {'Month': '2021-10-01T00:00:00',\n",
       "  'MunicipalityNo': '155',\n",
       "  'OnshoreWindPower': None,\n",
       "  'OffshoreWindPower': None,\n",
       "  'SolarPower': 49.685001,\n",
       "  'CentralPower': None,\n",
       "  'DecentralPower': None,\n",
       "  'region_code': 'dk_mun_155',\n",
       "  'production_thermal': 0,\n",
       "  'production_solar': 49.685001,\n",
       "  'production_wind_offshore': None,\n",
       "  'production_wind_onshore': None}]"
      ]
     },
     "execution_count": 13,
     "metadata": {},
     "output_type": "execute_result"
    }
   ],
   "source": [
    "records[:5]"
   ]
  }
 ],
 "metadata": {
  "kernelspec": {
   "display_name": "Python 3 (ipykernel)",
   "language": "python",
   "name": "python3"
  },
  "language_info": {
   "codemirror_mode": {
    "name": "ipython",
    "version": 3
   },
   "file_extension": ".py",
   "mimetype": "text/x-python",
   "name": "python",
   "nbconvert_exporter": "python",
   "pygments_lexer": "ipython3",
   "version": "3.9.14"
  }
 },
 "nbformat": 4,
 "nbformat_minor": 5
}
