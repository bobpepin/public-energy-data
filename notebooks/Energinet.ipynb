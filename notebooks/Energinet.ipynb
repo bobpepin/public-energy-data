{
 "cells": [
  {
   "cell_type": "code",
   "execution_count": 1,
   "id": "06df8ab9",
   "metadata": {},
   "outputs": [],
   "source": [
    "import sys\n",
    "sys.path.append(\"..\")\n",
    "\n",
    "from itertools import islice\n",
    "\n",
    "import importlib\n",
    "from energydata import energinet\n",
    "energinet = importlib.reload(energinet)"
   ]
  },
  {
   "cell_type": "code",
   "execution_count": 2,
   "id": "2e90da16",
   "metadata": {},
   "outputs": [],
   "source": [
    "descriptor = {\n",
    "    \"dataset\": \"ConsumptionIndustry\",\n",
    "    \"start_datetime\": \"2021-09-01T00:00:00\",\n",
    "    \"end_datetime\": \"2021-10-01T00:00:00\"\n",
    "}"
   ]
  },
  {
   "cell_type": "code",
   "execution_count": 5,
   "id": "13c1d49e",
   "metadata": {},
   "outputs": [],
   "source": [
    "session = energinet.EnergiDataServiceDk(descriptor)"
   ]
  },
  {
   "cell_type": "code",
   "execution_count": 6,
   "id": "f8d5dfa8",
   "metadata": {},
   "outputs": [
    {
     "data": {
      "text/plain": [
       "{'fields': ['HourUTC',\n",
       "  'HourDK',\n",
       "  'MunicipalityNo',\n",
       "  'Branche',\n",
       "  'ConsumptionkWh',\n",
       "  'datetime_start',\n",
       "  'datetime_end',\n",
       "  'region_code',\n",
       "  'consumption'],\n",
       " 'total': 211680}"
      ]
     },
     "execution_count": 6,
     "metadata": {},
     "output_type": "execute_result"
    }
   ],
   "source": [
    "session.fetch_metadata()"
   ]
  },
  {
   "cell_type": "code",
   "execution_count": 7,
   "id": "fb6eea1d",
   "metadata": {},
   "outputs": [],
   "source": [
    "records = list(session.fetch_data())"
   ]
  },
  {
   "cell_type": "code",
   "execution_count": 8,
   "id": "e0b5f2cc",
   "metadata": {},
   "outputs": [
    {
     "data": {
      "text/plain": [
       "[{'HourUTC': '2021-09-30T21:00:00',\n",
       "  'HourDK': '2021-09-30T23:00:00',\n",
       "  'MunicipalityNo': '101',\n",
       "  'Branche': 'Erhverv',\n",
       "  'ConsumptionkWh': 143261.390625,\n",
       "  'datetime_start': '2021-09-30T23:00:00+02:00',\n",
       "  'datetime_end': '2021-10-01T00:00:00+02:00',\n",
       "  'region_code': 'dk_mun_101',\n",
       "  'consumption': 143.261390625},\n",
       " {'HourUTC': '2021-09-30T21:00:00',\n",
       "  'HourDK': '2021-09-30T23:00:00',\n",
       "  'MunicipalityNo': '101',\n",
       "  'Branche': 'Offentligt',\n",
       "  'ConsumptionkWh': 28023.46875,\n",
       "  'datetime_start': '2021-09-30T23:00:00+02:00',\n",
       "  'datetime_end': '2021-10-01T00:00:00+02:00',\n",
       "  'region_code': 'dk_mun_101',\n",
       "  'consumption': 28.02346875},\n",
       " {'HourUTC': '2021-09-30T21:00:00',\n",
       "  'HourDK': '2021-09-30T23:00:00',\n",
       "  'MunicipalityNo': '101',\n",
       "  'Branche': 'Privat',\n",
       "  'ConsumptionkWh': 49147.417969,\n",
       "  'datetime_start': '2021-09-30T23:00:00+02:00',\n",
       "  'datetime_end': '2021-10-01T00:00:00+02:00',\n",
       "  'region_code': 'dk_mun_101',\n",
       "  'consumption': 49.147417969},\n",
       " {'HourUTC': '2021-09-30T21:00:00',\n",
       "  'HourDK': '2021-09-30T23:00:00',\n",
       "  'MunicipalityNo': '147',\n",
       "  'Branche': 'Erhverv',\n",
       "  'ConsumptionkWh': 13474.136719,\n",
       "  'datetime_start': '2021-09-30T23:00:00+02:00',\n",
       "  'datetime_end': '2021-10-01T00:00:00+02:00',\n",
       "  'region_code': 'dk_mun_147',\n",
       "  'consumption': 13.474136719},\n",
       " {'HourUTC': '2021-09-30T21:00:00',\n",
       "  'HourDK': '2021-09-30T23:00:00',\n",
       "  'MunicipalityNo': '147',\n",
       "  'Branche': 'Offentligt',\n",
       "  'ConsumptionkWh': 4019.238037,\n",
       "  'datetime_start': '2021-09-30T23:00:00+02:00',\n",
       "  'datetime_end': '2021-10-01T00:00:00+02:00',\n",
       "  'region_code': 'dk_mun_147',\n",
       "  'consumption': 4.019238037}]"
      ]
     },
     "execution_count": 8,
     "metadata": {},
     "output_type": "execute_result"
    }
   ],
   "source": [
    "records[:5]"
   ]
  },
  {
   "cell_type": "code",
   "execution_count": 2,
   "id": "49b32db4",
   "metadata": {},
   "outputs": [],
   "source": [
    "descriptor = {\n",
    "    \"dataset\": \"ProductionMunicipalityHour\",\n",
    "    \"start_datetime\": \"2023-05-01\",\n",
    "    \"end_datetime\": \"2023-06-01\"\n",
    "}"
   ]
  },
  {
   "cell_type": "code",
   "execution_count": 3,
   "id": "db32717a",
   "metadata": {},
   "outputs": [],
   "source": [
    "session = energinet.EnergiDataServiceDk(descriptor)"
   ]
  },
  {
   "cell_type": "code",
   "execution_count": 4,
   "id": "e74a4d69",
   "metadata": {},
   "outputs": [
    {
     "data": {
      "text/plain": [
       "{'fields': ['HourUTC',\n",
       "  'HourDK',\n",
       "  'MunicipalityNo',\n",
       "  'SolarMWh',\n",
       "  'OffshoreWindLt100MW_MWh',\n",
       "  'OffshoreWindGe100MW_MWh',\n",
       "  'OnshoreWindMWh',\n",
       "  'ThermalPowerMWh',\n",
       "  'datetime_start',\n",
       "  'datetime_end',\n",
       "  'region_code',\n",
       "  'production_wind_offshore',\n",
       "  'production_solar',\n",
       "  'production_wind_onshore',\n",
       "  'production_thermal'],\n",
       " 'records_total': 68904}"
      ]
     },
     "execution_count": 4,
     "metadata": {},
     "output_type": "execute_result"
    }
   ],
   "source": [
    "meta = session.fetch_metadata()\n",
    "meta"
   ]
  },
  {
   "cell_type": "code",
   "execution_count": 5,
   "id": "e7a9d7d8",
   "metadata": {},
   "outputs": [],
   "source": [
    "from tqdm.notebook import tqdm"
   ]
  },
  {
   "cell_type": "code",
   "execution_count": 6,
   "id": "1cef0bda",
   "metadata": {},
   "outputs": [
    {
     "data": {
      "application/json": {
       "ascii": false,
       "bar_format": null,
       "colour": null,
       "elapsed": 0.021083593368530273,
       "initial": 0,
       "n": 0,
       "ncols": null,
       "nrows": 29,
       "postfix": null,
       "prefix": "",
       "rate": null,
       "total": 68904,
       "unit": "it",
       "unit_divisor": 1000,
       "unit_scale": false
      },
      "application/vnd.jupyter.widget-view+json": {
       "model_id": "73217a387ee743588022670d9e072d40",
       "version_major": 2,
       "version_minor": 0
      },
      "text/plain": [
       "  0%|          | 0/68904 [00:00<?, ?it/s]"
      ]
     },
     "metadata": {},
     "output_type": "display_data"
    }
   ],
   "source": [
    "records = list(tqdm(session.fetch_data(), total=meta[\"records_total\"]))"
   ]
  },
  {
   "cell_type": "code",
   "execution_count": 7,
   "id": "45017d11",
   "metadata": {},
   "outputs": [
    {
     "data": {
      "text/plain": [
       "[{'HourUTC': '2023-05-29T21:00:00',\n",
       "  'HourDK': '2023-05-29T23:00:00',\n",
       "  'MunicipalityNo': '101',\n",
       "  'SolarMWh': 0.39,\n",
       "  'OffshoreWindLt100MW_MWh': 2.2529,\n",
       "  'OffshoreWindGe100MW_MWh': 0.0,\n",
       "  'OnshoreWindMWh': 0.39833,\n",
       "  'ThermalPowerMWh': 45.061111,\n",
       "  'datetime_start': '2023-05-29T23:00:00+02:00',\n",
       "  'datetime_end': '2023-05-30T00:00:00+02:00',\n",
       "  'region_code': 'dk_mun_101',\n",
       "  'production_wind_offshore': 2.2529,\n",
       "  'production_solar': 0.39,\n",
       "  'production_wind_onshore': 0.39833,\n",
       "  'production_thermal': 45.061111},\n",
       " {'HourUTC': '2023-05-29T21:00:00',\n",
       "  'HourDK': '2023-05-29T23:00:00',\n",
       "  'MunicipalityNo': '147',\n",
       "  'SolarMWh': 0.0,\n",
       "  'OffshoreWindLt100MW_MWh': None,\n",
       "  'OffshoreWindGe100MW_MWh': None,\n",
       "  'OnshoreWindMWh': None,\n",
       "  'ThermalPowerMWh': 0.0,\n",
       "  'datetime_start': '2023-05-29T23:00:00+02:00',\n",
       "  'datetime_end': '2023-05-30T00:00:00+02:00',\n",
       "  'region_code': 'dk_mun_147',\n",
       "  'production_wind_offshore': 0,\n",
       "  'production_solar': 0.0,\n",
       "  'production_wind_onshore': 0,\n",
       "  'production_thermal': 0.0},\n",
       " {'HourUTC': '2023-05-29T21:00:00',\n",
       "  'HourDK': '2023-05-29T23:00:00',\n",
       "  'MunicipalityNo': '151',\n",
       "  'SolarMWh': 0.334,\n",
       "  'OffshoreWindLt100MW_MWh': None,\n",
       "  'OffshoreWindGe100MW_MWh': None,\n",
       "  'OnshoreWindMWh': None,\n",
       "  'ThermalPowerMWh': 0.07985,\n",
       "  'datetime_start': '2023-05-29T23:00:00+02:00',\n",
       "  'datetime_end': '2023-05-30T00:00:00+02:00',\n",
       "  'region_code': 'dk_mun_151',\n",
       "  'production_wind_offshore': 0,\n",
       "  'production_solar': 0.334,\n",
       "  'production_wind_onshore': 0,\n",
       "  'production_thermal': 0.07985},\n",
       " {'HourUTC': '2023-05-29T21:00:00',\n",
       "  'HourDK': '2023-05-29T23:00:00',\n",
       "  'MunicipalityNo': '153',\n",
       "  'SolarMWh': 0.108,\n",
       "  'OffshoreWindLt100MW_MWh': None,\n",
       "  'OffshoreWindGe100MW_MWh': None,\n",
       "  'OnshoreWindMWh': None,\n",
       "  'ThermalPowerMWh': 0.0,\n",
       "  'datetime_start': '2023-05-29T23:00:00+02:00',\n",
       "  'datetime_end': '2023-05-30T00:00:00+02:00',\n",
       "  'region_code': 'dk_mun_153',\n",
       "  'production_wind_offshore': 0,\n",
       "  'production_solar': 0.108,\n",
       "  'production_wind_onshore': 0,\n",
       "  'production_thermal': 0.0},\n",
       " {'HourUTC': '2023-05-29T21:00:00',\n",
       "  'HourDK': '2023-05-29T23:00:00',\n",
       "  'MunicipalityNo': '155',\n",
       "  'SolarMWh': 0.0,\n",
       "  'OffshoreWindLt100MW_MWh': None,\n",
       "  'OffshoreWindGe100MW_MWh': None,\n",
       "  'OnshoreWindMWh': None,\n",
       "  'ThermalPowerMWh': None,\n",
       "  'datetime_start': '2023-05-29T23:00:00+02:00',\n",
       "  'datetime_end': '2023-05-30T00:00:00+02:00',\n",
       "  'region_code': 'dk_mun_155',\n",
       "  'production_wind_offshore': 0,\n",
       "  'production_solar': 0.0,\n",
       "  'production_wind_onshore': 0,\n",
       "  'production_thermal': 0}]"
      ]
     },
     "execution_count": 7,
     "metadata": {},
     "output_type": "execute_result"
    }
   ],
   "source": [
    "records[:5]"
   ]
  }
 ],
 "metadata": {
  "kernelspec": {
   "display_name": "Python 3 (ipykernel)",
   "language": "python",
   "name": "python3"
  },
  "language_info": {
   "codemirror_mode": {
    "name": "ipython",
    "version": 3
   },
   "file_extension": ".py",
   "mimetype": "text/x-python",
   "name": "python",
   "nbconvert_exporter": "python",
   "pygments_lexer": "ipython3",
   "version": "3.10.9"
  }
 },
 "nbformat": 4,
 "nbformat_minor": 5
}
