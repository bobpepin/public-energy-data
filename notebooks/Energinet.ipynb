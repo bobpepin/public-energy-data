{
 "cells": [
  {
   "cell_type": "code",
   "execution_count": 28,
   "id": "06df8ab9",
   "metadata": {},
   "outputs": [],
   "source": [
    "import sys\n",
    "sys.path.append(\"..\")\n",
    "\n",
    "from itertools import islice\n",
    "\n",
    "import importlib\n",
    "from energydata import energinet\n",
    "energinet = importlib.reload(energinet)"
   ]
  },
  {
   "cell_type": "code",
   "execution_count": 29,
   "id": "2e90da16",
   "metadata": {},
   "outputs": [],
   "source": [
    "resource_id = \"productionmunicipalityhour\"\n",
    "descriptor = {\n",
    "    \"resource_id\": resource_id\n",
    "}"
   ]
  },
  {
   "cell_type": "code",
   "execution_count": 30,
   "id": "db32717a",
   "metadata": {},
   "outputs": [],
   "source": [
    "session = energinet.EnergiDataServiceDk(descriptor)"
   ]
  },
  {
   "cell_type": "code",
   "execution_count": 31,
   "id": "e74a4d69",
   "metadata": {},
   "outputs": [
    {
     "data": {
      "text/plain": [
       "{'field_names': ['datetime_start',\n",
       "  'datetime_end',\n",
       "  'region_code',\n",
       "  '_id',\n",
       "  'HourUTC',\n",
       "  'HourDK',\n",
       "  'MunicipalityNo',\n",
       "  'SolarMWh',\n",
       "  'OffshoreWindLt100MW_MWh',\n",
       "  'OffshoreWindGe100MW_MWh',\n",
       "  'OnshoreWindMWh',\n",
       "  'ThermalPowerMWh'],\n",
       " 'count': 1380896}"
      ]
     },
     "execution_count": 31,
     "metadata": {},
     "output_type": "execute_result"
    }
   ],
   "source": [
    "session.fetch_metadata()"
   ]
  },
  {
   "cell_type": "code",
   "execution_count": 32,
   "id": "178f3359",
   "metadata": {},
   "outputs": [
    {
     "data": {
      "text/plain": [
       "1024"
      ]
     },
     "execution_count": 32,
     "metadata": {},
     "output_type": "execute_result"
    }
   ],
   "source": [
    "it = iter(energinet.fetch(descriptor))\n",
    "records = list(islice(it, 1024))\n",
    "len(records)"
   ]
  },
  {
   "cell_type": "code",
   "execution_count": 33,
   "id": "45017d11",
   "metadata": {},
   "outputs": [
    {
     "data": {
      "text/plain": [
       "[{'_id': 91283,\n",
       "  'HourUTC': '2021-01-20T23:00:00',\n",
       "  'HourDK': '2021-01-21T00:00:00',\n",
       "  'MunicipalityNo': '751',\n",
       "  'SolarMWh': 0,\n",
       "  'OffshoreWindLt100MW_MWh': 0,\n",
       "  'OffshoreWindGe100MW_MWh': 0,\n",
       "  'OnshoreWindMWh': 5.117332,\n",
       "  'ThermalPowerMWh': 253.389659,\n",
       "  'datetime_start': '2021-01-21T00:00:00+01:00',\n",
       "  'datetime_end': '2021-01-21T01:00:00+01:00',\n",
       "  'region_code': 'dk_mun_751'},\n",
       " {'_id': 67283,\n",
       "  'HourUTC': '2021-01-10T23:00:00',\n",
       "  'HourDK': '2021-01-11T00:00:00',\n",
       "  'MunicipalityNo': '751',\n",
       "  'SolarMWh': 0,\n",
       "  'OffshoreWindLt100MW_MWh': 0,\n",
       "  'OffshoreWindGe100MW_MWh': 0,\n",
       "  'OnshoreWindMWh': 0.823414,\n",
       "  'ThermalPowerMWh': 306.477443,\n",
       "  'datetime_start': '2021-01-11T00:00:00+01:00',\n",
       "  'datetime_end': '2021-01-11T01:00:00+01:00',\n",
       "  'region_code': 'dk_mun_751'},\n",
       " {'_id': 364865,\n",
       "  'HourUTC': '2021-05-12T22:00:00',\n",
       "  'HourDK': '2021-05-13T00:00:00',\n",
       "  'MunicipalityNo': '751',\n",
       "  'SolarMWh': 0,\n",
       "  'OffshoreWindLt100MW_MWh': 0,\n",
       "  'OffshoreWindGe100MW_MWh': 0,\n",
       "  'OnshoreWindMWh': 0.386031,\n",
       "  'ThermalPowerMWh': 337.799077,\n",
       "  'datetime_start': '2021-05-13T00:00:00+02:00',\n",
       "  'datetime_end': '2021-05-13T01:00:00+02:00',\n",
       "  'region_code': 'dk_mun_751'},\n",
       " {'_id': 91201,\n",
       "  'HourUTC': '2021-01-20T23:00:00',\n",
       "  'HourDK': '2021-01-21T00:00:00',\n",
       "  'MunicipalityNo': '101',\n",
       "  'SolarMWh': 0,\n",
       "  'OffshoreWindLt100MW_MWh': 16.2979,\n",
       "  'OffshoreWindGe100MW_MWh': 0,\n",
       "  'OnshoreWindMWh': 4.152401,\n",
       "  'ThermalPowerMWh': 218.208338,\n",
       "  'datetime_start': '2021-01-21T00:00:00+01:00',\n",
       "  'datetime_end': '2021-01-21T01:00:00+01:00',\n",
       "  'region_code': 'dk_mun_101'},\n",
       " {'_id': 91222,\n",
       "  'HourUTC': '2021-01-20T23:00:00',\n",
       "  'HourDK': '2021-01-21T00:00:00',\n",
       "  'MunicipalityNo': '219',\n",
       "  'SolarMWh': 0,\n",
       "  'OffshoreWindLt100MW_MWh': 0,\n",
       "  'OffshoreWindGe100MW_MWh': 0,\n",
       "  'OnshoreWindMWh': 0.776801,\n",
       "  'ThermalPowerMWh': 3.94554,\n",
       "  'datetime_start': '2021-01-21T00:00:00+01:00',\n",
       "  'datetime_end': '2021-01-21T01:00:00+01:00',\n",
       "  'region_code': 'dk_mun_219'}]"
      ]
     },
     "execution_count": 33,
     "metadata": {},
     "output_type": "execute_result"
    }
   ],
   "source": [
    "records[:5]"
   ]
  },
  {
   "cell_type": "code",
   "execution_count": 13,
   "id": "ef712e55",
   "metadata": {},
   "outputs": [],
   "source": [
    "import datetime\n",
    "import pytz"
   ]
  },
  {
   "cell_type": "code",
   "execution_count": 26,
   "id": "cf52d5f0",
   "metadata": {},
   "outputs": [
    {
     "data": {
      "text/plain": [
       "datetime.datetime(2022, 1, 1, 7, 0, tzinfo=datetime.timezone.utc)"
      ]
     },
     "execution_count": 26,
     "metadata": {},
     "output_type": "execute_result"
    }
   ],
   "source": [
    "dt = datetime.datetime.fromisoformat(records[-5][\"HourUTC\"]).replace(tzinfo=datetime.timezone.utc)\n",
    "dt"
   ]
  },
  {
   "cell_type": "code",
   "execution_count": 27,
   "id": "85457f3e",
   "metadata": {},
   "outputs": [
    {
     "data": {
      "text/plain": [
       "datetime.datetime(2022, 1, 1, 8, 0, tzinfo=<DstTzInfo 'Europe/Copenhagen' CET+1:00:00 STD>)"
      ]
     },
     "execution_count": 27,
     "metadata": {},
     "output_type": "execute_result"
    }
   ],
   "source": [
    "tz = pytz.timezone(\"Europe/Copenhagen\")\n",
    "dt.astimezone(tz)"
   ]
  },
  {
   "cell_type": "code",
   "execution_count": null,
   "id": "88c62ca5",
   "metadata": {},
   "outputs": [],
   "source": []
  }
 ],
 "metadata": {
  "kernelspec": {
   "display_name": "Python 3 (ipykernel)",
   "language": "python",
   "name": "python3"
  },
  "language_info": {
   "codemirror_mode": {
    "name": "ipython",
    "version": 3
   },
   "file_extension": ".py",
   "mimetype": "text/x-python",
   "name": "python",
   "nbconvert_exporter": "python",
   "pygments_lexer": "ipython3",
   "version": "3.9.13"
  }
 },
 "nbformat": 4,
 "nbformat_minor": 5
}
